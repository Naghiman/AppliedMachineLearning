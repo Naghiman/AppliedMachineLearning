{
  "nbformat": 4,
  "nbformat_minor": 0,
  "metadata": {
    "kernelspec": {
      "display_name": "Python 3",
      "language": "python",
      "name": "python3"
    },
    "language_info": {
      "codemirror_mode": {
        "name": "ipython",
        "version": 3
      },
      "file_extension": ".py",
      "mimetype": "text/x-python",
      "name": "python",
      "nbconvert_exporter": "python",
      "pygments_lexer": "ipython3",
      "version": "3.7.6-final"
    },
    "colab": {
      "name": "COVIDSTH_Revised.ipynb",
      "provenance": [],
      "toc_visible": true,
      "include_colab_link": true
    }
  },
  "cells": [
    {
      "cell_type": "markdown",
      "metadata": {
        "id": "view-in-github",
        "colab_type": "text"
      },
      "source": [
        "<a href=\"https://colab.research.google.com/github/eliastam/Covid19-Machine-Learning-Project/blob/main/COVIDSTH_Revised.ipynb\" target=\"_parent\"><img src=\"https://colab.research.google.com/assets/colab-badge.svg\" alt=\"Open In Colab\"/></a>"
      ]
    },
    {
      "cell_type": "code",
      "metadata": {
        "id": "FQ4ZrfbAs63i"
      },
      "source": [
        "import pandas as pd\n",
        "import numpy as np\n",
        "import sklearn\n",
        "import time\n",
        "import plotly.express as px\n",
        "from sklearn.cluster import KMeans\n",
        "from sklearn.decomposition import PCA\n",
        "from sklearn.preprocessing import StandardScaler\n",
        "from sklearn.tree import DecisionTreeRegressor\n",
        "from sklearn.neighbors import KNeighborsRegressor\n",
        "from sklearn.linear_model import LinearRegression\n",
        "from datetime import date\n",
        "\n",
        "%matplotlib notebook\n",
        "%matplotlib inline\n",
        "import matplotlib.pyplot as plt\n",
        "from IPython.core.debugger import set_trace\n",
        "import warnings\n",
        "warnings.filterwarnings('ignore')\n",
        "np.random.seed(1234)"
      ],
      "execution_count": 1,
      "outputs": []
    },
    {
      "cell_type": "markdown",
      "metadata": {
        "id": "DT9457uos63p"
      },
      "source": [
        "# Task 1: Acquire, preprocess, and analyze the data"
      ]
    },
    {
      "cell_type": "code",
      "metadata": {
        "tags": [],
        "id": "Qjd7P36Qs63q"
      },
      "source": [
        "# LOAD AND PREPROCESS SYMPTOMS DATAFRAME\n",
        "max_nans_ratio = 0.35\n",
        "symdf = pd.read_csv('data/2020_US_weekly_symptoms_dataset.csv')\n",
        "# drop columns with all \"nan\"s in column\n",
        "symdf = symdf.dropna(1, how='all')\n",
        "# drop columns with too many \"nan\"s\n",
        "symdf = symdf.loc[:, (symdf.isnull().sum(axis=0) / len(symdf.index)) <= max_nans_ratio]"
      ],
      "execution_count": 2,
      "outputs": []
    },
    {
      "cell_type": "code",
      "metadata": {
        "id": "8QMhqQXus63u"
      },
      "source": [
        "# LOAD AND PREPROCESS HOSPITALIZATION DATAFRAME\n",
        "colslist = ['open_covid_region_code', 'region_name', 'date', 'hospitalized_new']\n",
        "ccdf = pd.read_csv('data/aggregated_cc_by.csv', usecols=colslist)\n",
        "# drop columns that don't relate to the US\n",
        "ccdf = ccdf[ccdf.open_covid_region_code.str.contains(\"US-\")]\n",
        "# convert from daily data to weekly\n",
        "ccdf['date'] = ccdf['date'].astype('datetime64[ns]')\n",
        "ccdf = ccdf.groupby(\"open_covid_region_code\").resample('W-Mon', label='right', closed='right', on='date').sum().reset_index()\n",
        "ccdf['date'] = ccdf['date'].astype('str')\n",
        "# sort dataframe\n",
        "ccdf = ccdf.sort_values(['open_covid_region_code','date'], ascending = [False, True])"
      ],
      "execution_count": 3,
      "outputs": []
    },
    {
      "cell_type": "code",
      "metadata": {
        "id": "awRNL4aes63y"
      },
      "source": [
        "# CREATE MERGED DATAFRAME\n",
        "mergeddf = symdf.merge(ccdf, how='inner', left_on=['open_covid_region_code','date'], right_on=['open_covid_region_code','date'])"
      ],
      "execution_count": 4,
      "outputs": []
    },
    {
      "cell_type": "code",
      "metadata": {
        "id": "ULg7bh2xs631",
        "outputId": "35669f0c-0f87-4134-c743-63b0ccbcdcd7",
        "colab": {
          "base_uri": "https://localhost:8080/",
          "height": 34
        }
      },
      "source": [
        "# Fill missing values\n",
        "df = mergeddf\n",
        "print(df.shape)\n",
        "df = df.fillna(df.mean())\n",
        "df.to_csv('cleaned_data.csv')"
      ],
      "execution_count": 5,
      "outputs": [
        {
          "output_type": "stream",
          "name": "stdout",
          "text": [
            "(465, 16)\n"
          ]
        }
      ]
    },
    {
      "cell_type": "markdown",
      "metadata": {
        "id": "DFSiX9wEs637"
      },
      "source": [
        "# Task 2: Visualize and cluster the data"
      ]
    },
    {
      "cell_type": "markdown",
      "metadata": {
        "id": "JEaWvrjks637"
      },
      "source": [
        "# 2.1"
      ]
    },
    {
      "cell_type": "code",
      "metadata": {
        "id": "3drHWQJis638"
      },
      "source": [
        "# FIND POPULAR SYMPTOMS\n",
        "N = 5\n",
        "# get popularity for non-string columns\n",
        "symcols = symdf.select_dtypes(exclude=object).columns\n",
        "popularity = list(zip(symcols, df[symcols].sum()))\n",
        "# sort from most to least popular\n",
        "popularity = sorted(popularity, key=lambda x: x[1], reverse=True)\n",
        "# top N popular columns\n",
        "popularsyms = [p[0] for p in popularity[:N]]\n",
        "\n",
        "#print(popularity[:N])\n",
        "#print(list(df.columns))"
      ],
      "execution_count": 6,
      "outputs": []
    },
    {
      "cell_type": "code",
      "metadata": {
        "id": "ZwpacoAus64D",
        "outputId": "9d2a08a7-95d1-40fb-91d3-902a4ff61d08",
        "colab": {
          "base_uri": "https://localhost:8080/",
          "height": 1000
        }
      },
      "source": [
        "for sym in popularsyms: \n",
        "    fig = px.scatter(df, x=\"date\", y=sym, range_y=[0,90], color=\"open_covid_region_code\", title=sym)\n",
        "    fig.show()"
      ],
      "execution_count": 7,
      "outputs": [
        {
          "output_type": "display_data",
          "data": {
            "application/vnd.plotly.v1+json": {
              "config": {
                "plotlyServerURL": "https://plot.ly"
              },
              "data": [
                {
                  "hovertemplate": "open_covid_region_code=US-AK<br>date=%{x}<br>symptom:Aphonia=%{y}<extra></extra>",
                  "legendgroup": "US-AK",
                  "marker": {
                    "color": "#636efa",
                    "symbol": "circle"
                  },
                  "mode": "markers",
                  "name": "US-AK",
                  "orientation": "v",
                  "showlegend": true,
                  "type": "scatter",
                  "x": [
                    "2020-03-09",
                    "2020-03-16",
                    "2020-03-23",
                    "2020-03-30",
                    "2020-04-06",
                    "2020-04-13",
                    "2020-04-20",
                    "2020-04-27",
                    "2020-05-04",
                    "2020-05-11",
                    "2020-05-18",
                    "2020-05-25",
                    "2020-06-01",
                    "2020-06-08",
                    "2020-06-15",
                    "2020-06-22",
                    "2020-06-29",
                    "2020-07-06",
                    "2020-07-13",
                    "2020-07-20",
                    "2020-07-27",
                    "2020-08-03",
                    "2020-08-10",
                    "2020-08-17",
                    "2020-08-24",
                    "2020-08-31",
                    "2020-09-07",
                    "2020-09-14",
                    "2020-09-21"
                  ],
                  "xaxis": "x",
                  "y": [
                    7.91,
                    7.95,
                    14.549456193353487,
                    14.549456193353487,
                    14.549456193353487,
                    14.549456193353487,
                    14.549456193353487,
                    14.549456193353487,
                    14.549456193353487,
                    14.549456193353487,
                    14.549456193353487,
                    14.549456193353487,
                    14.549456193353487,
                    14.549456193353487,
                    14.549456193353487,
                    7.41,
                    14.549456193353487,
                    14.549456193353487,
                    7.43,
                    14.549456193353487,
                    14.549456193353487,
                    14.549456193353487,
                    14.549456193353487,
                    14.549456193353487,
                    14.549456193353487,
                    6.82,
                    14.549456193353487,
                    14.549456193353487,
                    14.549456193353487
                  ],
                  "yaxis": "y"
                },
                {
                  "hovertemplate": "open_covid_region_code=US-DC<br>date=%{x}<br>symptom:Aphonia=%{y}<extra></extra>",
                  "legendgroup": "US-DC",
                  "marker": {
                    "color": "#EF553B",
                    "symbol": "circle"
                  },
                  "mode": "markers",
                  "name": "US-DC",
                  "orientation": "v",
                  "showlegend": true,
                  "type": "scatter",
                  "x": [
                    "2020-03-09",
                    "2020-03-16",
                    "2020-03-23",
                    "2020-03-30",
                    "2020-04-06",
                    "2020-04-13",
                    "2020-04-20",
                    "2020-04-27",
                    "2020-05-04",
                    "2020-05-11",
                    "2020-05-18",
                    "2020-05-25",
                    "2020-06-01",
                    "2020-06-08",
                    "2020-06-15",
                    "2020-06-22",
                    "2020-06-29",
                    "2020-07-06",
                    "2020-07-13",
                    "2020-07-20",
                    "2020-07-27",
                    "2020-08-03",
                    "2020-08-10",
                    "2020-08-17",
                    "2020-08-24",
                    "2020-08-31",
                    "2020-09-07",
                    "2020-09-14",
                    "2020-09-21"
                  ],
                  "xaxis": "x",
                  "y": [
                    5.99,
                    4.68,
                    3.6,
                    2.53,
                    14.549456193353487,
                    2.38,
                    2.1,
                    14.549456193353487,
                    2.03,
                    14.549456193353487,
                    2.83,
                    14.549456193353487,
                    2.48,
                    14.549456193353487,
                    2.27,
                    2.33,
                    3.25,
                    2.36,
                    3.23,
                    2.19,
                    2.48,
                    14.549456193353487,
                    2.28,
                    14.549456193353487,
                    14.549456193353487,
                    2.37,
                    4.75,
                    2.87,
                    2.33
                  ],
                  "yaxis": "y"
                },
                {
                  "hovertemplate": "open_covid_region_code=US-DE<br>date=%{x}<br>symptom:Aphonia=%{y}<extra></extra>",
                  "legendgroup": "US-DE",
                  "marker": {
                    "color": "#00cc96",
                    "symbol": "circle"
                  },
                  "mode": "markers",
                  "name": "US-DE",
                  "orientation": "v",
                  "showlegend": true,
                  "type": "scatter",
                  "x": [
                    "2020-03-09",
                    "2020-03-16",
                    "2020-03-23",
                    "2020-03-30",
                    "2020-04-06",
                    "2020-04-13",
                    "2020-04-20",
                    "2020-04-27",
                    "2020-05-04",
                    "2020-05-11",
                    "2020-05-18",
                    "2020-05-25",
                    "2020-06-01",
                    "2020-06-08",
                    "2020-06-15",
                    "2020-06-22",
                    "2020-06-29",
                    "2020-07-06",
                    "2020-07-13",
                    "2020-07-20",
                    "2020-07-27",
                    "2020-08-03",
                    "2020-08-10",
                    "2020-08-17",
                    "2020-08-24",
                    "2020-08-31",
                    "2020-09-07",
                    "2020-09-14",
                    "2020-09-21"
                  ],
                  "xaxis": "x",
                  "y": [
                    10.22,
                    8.13,
                    6.47,
                    5.72,
                    4.77,
                    4.21,
                    3.5,
                    4.98,
                    14.549456193353487,
                    3.94,
                    4.51,
                    14.549456193353487,
                    6.69,
                    3.47,
                    4.07,
                    6.1,
                    3.7,
                    4.99,
                    4.59,
                    4.12,
                    4.74,
                    5.01,
                    4.5,
                    4.82,
                    6.29,
                    4,
                    4.9,
                    4.59,
                    3.98
                  ],
                  "yaxis": "y"
                },
                {
                  "hovertemplate": "open_covid_region_code=US-HI<br>date=%{x}<br>symptom:Aphonia=%{y}<extra></extra>",
                  "legendgroup": "US-HI",
                  "marker": {
                    "color": "#ab63fa",
                    "symbol": "circle"
                  },
                  "mode": "markers",
                  "name": "US-HI",
                  "orientation": "v",
                  "showlegend": true,
                  "type": "scatter",
                  "x": [
                    "2020-03-09",
                    "2020-03-16",
                    "2020-03-23",
                    "2020-03-30",
                    "2020-04-06",
                    "2020-04-13",
                    "2020-04-20",
                    "2020-04-27",
                    "2020-05-04",
                    "2020-05-11",
                    "2020-05-18",
                    "2020-05-25",
                    "2020-06-01",
                    "2020-06-08",
                    "2020-06-15",
                    "2020-06-22",
                    "2020-06-29",
                    "2020-07-06",
                    "2020-07-13",
                    "2020-07-20",
                    "2020-07-27",
                    "2020-08-03",
                    "2020-08-10",
                    "2020-08-17",
                    "2020-08-24",
                    "2020-08-31",
                    "2020-09-07",
                    "2020-09-14",
                    "2020-09-21"
                  ],
                  "xaxis": "x",
                  "y": [
                    64.27,
                    50.26,
                    36.37,
                    28.45,
                    23.07,
                    23.21,
                    17.34,
                    22,
                    14.549456193353487,
                    16.99,
                    14.549456193353487,
                    20.45,
                    14.29,
                    13.62,
                    15.82,
                    19.55,
                    20.46,
                    21.55,
                    22.73,
                    24.78,
                    25.8,
                    32.11,
                    16.3,
                    17.4,
                    27.25,
                    23.35,
                    16.07,
                    23.35,
                    22.36
                  ],
                  "yaxis": "y"
                },
                {
                  "hovertemplate": "open_covid_region_code=US-ID<br>date=%{x}<br>symptom:Aphonia=%{y}<extra></extra>",
                  "legendgroup": "US-ID",
                  "marker": {
                    "color": "#FFA15A",
                    "symbol": "circle"
                  },
                  "mode": "markers",
                  "name": "US-ID",
                  "orientation": "v",
                  "showlegend": true,
                  "type": "scatter",
                  "x": [
                    "2020-03-09",
                    "2020-03-16",
                    "2020-03-23",
                    "2020-03-30",
                    "2020-04-06",
                    "2020-04-13",
                    "2020-04-20",
                    "2020-04-27",
                    "2020-05-04",
                    "2020-05-11",
                    "2020-05-18",
                    "2020-05-25",
                    "2020-06-01",
                    "2020-06-08",
                    "2020-06-15",
                    "2020-06-22",
                    "2020-06-29",
                    "2020-07-06",
                    "2020-07-13",
                    "2020-07-20",
                    "2020-07-27",
                    "2020-08-03",
                    "2020-08-10",
                    "2020-08-17",
                    "2020-08-24",
                    "2020-08-31",
                    "2020-09-07",
                    "2020-09-14",
                    "2020-09-21"
                  ],
                  "xaxis": "x",
                  "y": [
                    42.41,
                    35.39,
                    24.71,
                    18.95,
                    17.13,
                    16.04,
                    16.7,
                    12.8,
                    14.23,
                    12.54,
                    15.66,
                    15.32,
                    14.34,
                    14.549456193353487,
                    13.52,
                    22.95,
                    18.34,
                    18.29,
                    13.77,
                    19.13,
                    18.91,
                    21.68,
                    14,
                    14.84,
                    14.79,
                    19.18,
                    18.24,
                    13.7,
                    15.97
                  ],
                  "yaxis": "y"
                },
                {
                  "hovertemplate": "open_covid_region_code=US-ME<br>date=%{x}<br>symptom:Aphonia=%{y}<extra></extra>",
                  "legendgroup": "US-ME",
                  "marker": {
                    "color": "#19d3f3",
                    "symbol": "circle"
                  },
                  "mode": "markers",
                  "name": "US-ME",
                  "orientation": "v",
                  "showlegend": true,
                  "type": "scatter",
                  "x": [
                    "2020-03-09",
                    "2020-03-16",
                    "2020-03-23",
                    "2020-03-30",
                    "2020-04-06",
                    "2020-04-13",
                    "2020-04-20",
                    "2020-04-27",
                    "2020-05-04",
                    "2020-05-11",
                    "2020-05-18",
                    "2020-05-25",
                    "2020-06-01",
                    "2020-06-08",
                    "2020-06-15",
                    "2020-06-22",
                    "2020-06-29",
                    "2020-07-06",
                    "2020-07-13",
                    "2020-07-20",
                    "2020-07-27",
                    "2020-08-03",
                    "2020-08-10",
                    "2020-08-17",
                    "2020-08-24",
                    "2020-08-31",
                    "2020-09-07",
                    "2020-09-14",
                    "2020-09-21"
                  ],
                  "xaxis": "x",
                  "y": [
                    24.01,
                    25.47,
                    18.27,
                    12.49,
                    13.17,
                    13.81,
                    9.99,
                    8.18,
                    13.85,
                    12.05,
                    6.84,
                    11.4,
                    9.93,
                    9.49,
                    9.38,
                    7.32,
                    12.79,
                    10.21,
                    13.45,
                    13.62,
                    16.15,
                    11.57,
                    7.55,
                    13.14,
                    9.26,
                    8.79,
                    7.95,
                    9.16,
                    11.66
                  ],
                  "yaxis": "y"
                },
                {
                  "hovertemplate": "open_covid_region_code=US-MT<br>date=%{x}<br>symptom:Aphonia=%{y}<extra></extra>",
                  "legendgroup": "US-MT",
                  "marker": {
                    "color": "#FF6692",
                    "symbol": "circle"
                  },
                  "mode": "markers",
                  "name": "US-MT",
                  "orientation": "v",
                  "showlegend": true,
                  "type": "scatter",
                  "x": [
                    "2020-03-09",
                    "2020-03-16",
                    "2020-03-23",
                    "2020-03-30",
                    "2020-04-06",
                    "2020-04-13",
                    "2020-04-20",
                    "2020-04-27",
                    "2020-05-04",
                    "2020-05-11",
                    "2020-05-18",
                    "2020-05-25",
                    "2020-06-01",
                    "2020-06-08",
                    "2020-06-15",
                    "2020-06-22",
                    "2020-06-29",
                    "2020-07-06",
                    "2020-07-13",
                    "2020-07-20",
                    "2020-07-27",
                    "2020-08-03",
                    "2020-08-10",
                    "2020-08-17",
                    "2020-08-24",
                    "2020-08-31",
                    "2020-09-07",
                    "2020-09-14",
                    "2020-09-21"
                  ],
                  "xaxis": "x",
                  "y": [
                    13.99,
                    13.23,
                    8.71,
                    5.87,
                    5.82,
                    5.64,
                    14.549456193353487,
                    5.11,
                    5.88,
                    14.549456193353487,
                    14.549456193353487,
                    14.549456193353487,
                    14.549456193353487,
                    8.34,
                    14.549456193353487,
                    14.549456193353487,
                    5.96,
                    5.44,
                    14.549456193353487,
                    6.07,
                    7.74,
                    14.549456193353487,
                    14.549456193353487,
                    5.75,
                    5.53,
                    8.68,
                    6.77,
                    7.9,
                    8.06
                  ],
                  "yaxis": "y"
                },
                {
                  "hovertemplate": "open_covid_region_code=US-ND<br>date=%{x}<br>symptom:Aphonia=%{y}<extra></extra>",
                  "legendgroup": "US-ND",
                  "marker": {
                    "color": "#B6E880",
                    "symbol": "circle"
                  },
                  "mode": "markers",
                  "name": "US-ND",
                  "orientation": "v",
                  "showlegend": true,
                  "type": "scatter",
                  "x": [
                    "2020-03-09",
                    "2020-03-16",
                    "2020-03-23",
                    "2020-03-30",
                    "2020-04-06",
                    "2020-04-13",
                    "2020-04-20",
                    "2020-04-27",
                    "2020-05-04",
                    "2020-05-11",
                    "2020-05-18",
                    "2020-05-25",
                    "2020-06-01",
                    "2020-06-08",
                    "2020-06-15",
                    "2020-06-22",
                    "2020-06-29",
                    "2020-07-06",
                    "2020-07-13",
                    "2020-07-20",
                    "2020-07-27",
                    "2020-08-03",
                    "2020-08-10",
                    "2020-08-17",
                    "2020-08-24",
                    "2020-08-31",
                    "2020-09-07",
                    "2020-09-14",
                    "2020-09-21"
                  ],
                  "xaxis": "x",
                  "y": [
                    7.56,
                    4.38,
                    5.91,
                    3.7,
                    14.549456193353487,
                    14.549456193353487,
                    3.94,
                    14.549456193353487,
                    14.549456193353487,
                    14.549456193353487,
                    14.549456193353487,
                    14.549456193353487,
                    14.549456193353487,
                    14.549456193353487,
                    14.549456193353487,
                    14.549456193353487,
                    14.549456193353487,
                    14.549456193353487,
                    4.13,
                    14.549456193353487,
                    14.549456193353487,
                    14.549456193353487,
                    14.549456193353487,
                    14.549456193353487,
                    14.549456193353487,
                    14.549456193353487,
                    14.549456193353487,
                    14.549456193353487,
                    4.07
                  ],
                  "yaxis": "y"
                },
                {
                  "hovertemplate": "open_covid_region_code=US-NE<br>date=%{x}<br>symptom:Aphonia=%{y}<extra></extra>",
                  "legendgroup": "US-NE",
                  "marker": {
                    "color": "#FF97FF",
                    "symbol": "circle"
                  },
                  "mode": "markers",
                  "name": "US-NE",
                  "orientation": "v",
                  "showlegend": true,
                  "type": "scatter",
                  "x": [
                    "2020-03-09",
                    "2020-03-16",
                    "2020-03-23",
                    "2020-03-30",
                    "2020-04-06",
                    "2020-04-13",
                    "2020-04-20",
                    "2020-04-27",
                    "2020-05-04",
                    "2020-05-11",
                    "2020-05-18",
                    "2020-05-25",
                    "2020-06-01",
                    "2020-06-08",
                    "2020-06-15",
                    "2020-06-22",
                    "2020-06-29",
                    "2020-07-06",
                    "2020-07-13",
                    "2020-07-20",
                    "2020-07-27",
                    "2020-08-03",
                    "2020-08-10",
                    "2020-08-17",
                    "2020-08-24",
                    "2020-08-31",
                    "2020-09-07",
                    "2020-09-14",
                    "2020-09-21"
                  ],
                  "xaxis": "x",
                  "y": [
                    86.85,
                    68.29,
                    40.36,
                    47.43,
                    29.94,
                    29.16,
                    33.62,
                    33.43,
                    36.5,
                    24.28,
                    32.63,
                    27.43,
                    40.49,
                    35.03,
                    33.36,
                    35.72,
                    37.95,
                    38.13,
                    43.16,
                    39.27,
                    46.36,
                    40.07,
                    35.84,
                    30.66,
                    39.98,
                    41.52,
                    33.18,
                    42.21,
                    43.88
                  ],
                  "yaxis": "y"
                },
                {
                  "hovertemplate": "open_covid_region_code=US-NH<br>date=%{x}<br>symptom:Aphonia=%{y}<extra></extra>",
                  "legendgroup": "US-NH",
                  "marker": {
                    "color": "#FECB52",
                    "symbol": "circle"
                  },
                  "mode": "markers",
                  "name": "US-NH",
                  "orientation": "v",
                  "showlegend": true,
                  "type": "scatter",
                  "x": [
                    "2020-03-09",
                    "2020-03-16",
                    "2020-03-23",
                    "2020-03-30",
                    "2020-04-06",
                    "2020-04-13",
                    "2020-04-20",
                    "2020-04-27",
                    "2020-05-04",
                    "2020-05-11",
                    "2020-05-18",
                    "2020-05-25",
                    "2020-06-01",
                    "2020-06-08",
                    "2020-06-15",
                    "2020-06-22",
                    "2020-06-29",
                    "2020-07-06",
                    "2020-07-13",
                    "2020-07-20",
                    "2020-07-27",
                    "2020-08-03",
                    "2020-08-10",
                    "2020-08-17",
                    "2020-08-24",
                    "2020-08-31",
                    "2020-09-07",
                    "2020-09-14",
                    "2020-09-21"
                  ],
                  "xaxis": "x",
                  "y": [
                    26.71,
                    13.65,
                    11.76,
                    11.58,
                    14.549456193353487,
                    8.94,
                    9.72,
                    6.37,
                    10.45,
                    9.63,
                    14.549456193353487,
                    10.16,
                    7.96,
                    9.06,
                    11.86,
                    7.93,
                    8.98,
                    10.57,
                    7.27,
                    12.09,
                    12.84,
                    7.44,
                    10.84,
                    10.46,
                    9.86,
                    15.41,
                    10.14,
                    9.45,
                    13.46
                  ],
                  "yaxis": "y"
                },
                {
                  "hovertemplate": "open_covid_region_code=US-NM<br>date=%{x}<br>symptom:Aphonia=%{y}<extra></extra>",
                  "legendgroup": "US-NM",
                  "marker": {
                    "color": "#636efa",
                    "symbol": "circle"
                  },
                  "mode": "markers",
                  "name": "US-NM",
                  "orientation": "v",
                  "showlegend": true,
                  "type": "scatter",
                  "x": [
                    "2020-03-09",
                    "2020-03-16",
                    "2020-03-23",
                    "2020-03-30",
                    "2020-04-06",
                    "2020-04-13",
                    "2020-04-20",
                    "2020-04-27",
                    "2020-05-04",
                    "2020-05-11",
                    "2020-05-18",
                    "2020-05-25",
                    "2020-06-01",
                    "2020-06-08",
                    "2020-06-15",
                    "2020-06-22",
                    "2020-06-29",
                    "2020-07-06",
                    "2020-07-13",
                    "2020-07-20",
                    "2020-07-27",
                    "2020-08-03",
                    "2020-08-10",
                    "2020-08-17",
                    "2020-08-24",
                    "2020-08-31",
                    "2020-09-07",
                    "2020-09-14",
                    "2020-09-21"
                  ],
                  "xaxis": "x",
                  "y": [
                    48.52,
                    39.8,
                    32.67,
                    27.73,
                    24.65,
                    23.21,
                    18.09,
                    22.26,
                    22.98,
                    15.51,
                    17.68,
                    21.68,
                    18.67,
                    26.05,
                    22.08,
                    14.53,
                    14.86,
                    24.32,
                    16.92,
                    21.27,
                    21.71,
                    19.22,
                    15.3,
                    18.28,
                    18.93,
                    23.36,
                    18.39,
                    20.36,
                    17.27
                  ],
                  "yaxis": "y"
                },
                {
                  "hovertemplate": "open_covid_region_code=US-RI<br>date=%{x}<br>symptom:Aphonia=%{y}<extra></extra>",
                  "legendgroup": "US-RI",
                  "marker": {
                    "color": "#EF553B",
                    "symbol": "circle"
                  },
                  "mode": "markers",
                  "name": "US-RI",
                  "orientation": "v",
                  "showlegend": true,
                  "type": "scatter",
                  "x": [
                    "2020-03-02",
                    "2020-03-09",
                    "2020-03-16",
                    "2020-03-23",
                    "2020-03-30",
                    "2020-04-06",
                    "2020-04-13",
                    "2020-04-20",
                    "2020-04-27",
                    "2020-05-04",
                    "2020-05-11",
                    "2020-05-18",
                    "2020-05-25",
                    "2020-06-01",
                    "2020-06-08",
                    "2020-06-15",
                    "2020-06-22",
                    "2020-06-29",
                    "2020-07-06",
                    "2020-07-13",
                    "2020-07-20",
                    "2020-07-27",
                    "2020-08-03",
                    "2020-08-10",
                    "2020-08-17",
                    "2020-08-24",
                    "2020-08-31",
                    "2020-09-07",
                    "2020-09-14",
                    "2020-09-21"
                  ],
                  "xaxis": "x",
                  "y": [
                    15.69,
                    14.76,
                    12.03,
                    10.92,
                    9.42,
                    8.61,
                    7.44,
                    7.58,
                    5.13,
                    6.79,
                    7.07,
                    10.2,
                    5.31,
                    6.64,
                    14.549456193353487,
                    9.93,
                    8.16,
                    14.549456193353487,
                    10.74,
                    9.22,
                    7.5,
                    8.1,
                    7.63,
                    6.69,
                    5.2,
                    5.81,
                    9.03,
                    8.17,
                    8.45,
                    8.96
                  ],
                  "yaxis": "y"
                },
                {
                  "hovertemplate": "open_covid_region_code=US-SD<br>date=%{x}<br>symptom:Aphonia=%{y}<extra></extra>",
                  "legendgroup": "US-SD",
                  "marker": {
                    "color": "#00cc96",
                    "symbol": "circle"
                  },
                  "mode": "markers",
                  "name": "US-SD",
                  "orientation": "v",
                  "showlegend": true,
                  "type": "scatter",
                  "x": [
                    "2020-03-09",
                    "2020-03-16",
                    "2020-03-23",
                    "2020-03-30",
                    "2020-04-06",
                    "2020-04-13",
                    "2020-04-20",
                    "2020-04-27",
                    "2020-05-04",
                    "2020-05-11",
                    "2020-05-18",
                    "2020-05-25",
                    "2020-06-01",
                    "2020-06-08",
                    "2020-06-15",
                    "2020-06-22",
                    "2020-06-29",
                    "2020-07-06",
                    "2020-07-13",
                    "2020-07-20",
                    "2020-07-27",
                    "2020-08-03",
                    "2020-08-10",
                    "2020-08-17",
                    "2020-08-24",
                    "2020-08-31",
                    "2020-09-07",
                    "2020-09-14",
                    "2020-09-21"
                  ],
                  "xaxis": "x",
                  "y": [
                    15.06,
                    7,
                    10.09,
                    4.94,
                    14.549456193353487,
                    5.37,
                    4.63,
                    14.549456193353487,
                    6.34,
                    14.549456193353487,
                    14.549456193353487,
                    14.549456193353487,
                    14.549456193353487,
                    14.549456193353487,
                    14.549456193353487,
                    14.549456193353487,
                    14.549456193353487,
                    7.03,
                    5.29,
                    14.549456193353487,
                    8.18,
                    14.549456193353487,
                    14.549456193353487,
                    4.82,
                    5.02,
                    6.93,
                    4.67,
                    7.17,
                    6.96
                  ],
                  "yaxis": "y"
                },
                {
                  "hovertemplate": "open_covid_region_code=US-VT<br>date=%{x}<br>symptom:Aphonia=%{y}<extra></extra>",
                  "legendgroup": "US-VT",
                  "marker": {
                    "color": "#ab63fa",
                    "symbol": "circle"
                  },
                  "mode": "markers",
                  "name": "US-VT",
                  "orientation": "v",
                  "showlegend": true,
                  "type": "scatter",
                  "x": [
                    "2020-03-09",
                    "2020-03-16",
                    "2020-03-23",
                    "2020-03-30",
                    "2020-04-06",
                    "2020-04-13",
                    "2020-04-20",
                    "2020-04-27",
                    "2020-05-04",
                    "2020-05-11",
                    "2020-05-18",
                    "2020-05-25",
                    "2020-06-01",
                    "2020-06-08",
                    "2020-06-15",
                    "2020-06-22",
                    "2020-06-29",
                    "2020-07-06",
                    "2020-07-13",
                    "2020-07-20",
                    "2020-07-27",
                    "2020-08-03",
                    "2020-08-10",
                    "2020-08-17",
                    "2020-08-24",
                    "2020-08-31",
                    "2020-09-07",
                    "2020-09-14",
                    "2020-09-21"
                  ],
                  "xaxis": "x",
                  "y": [
                    11.81,
                    6.58,
                    7.72,
                    7,
                    6.94,
                    7.74,
                    14.549456193353487,
                    14.549456193353487,
                    7.88,
                    14.549456193353487,
                    14.549456193353487,
                    14.549456193353487,
                    14.549456193353487,
                    14.549456193353487,
                    14.549456193353487,
                    14.549456193353487,
                    14.549456193353487,
                    6.12,
                    14.549456193353487,
                    14.549456193353487,
                    14.549456193353487,
                    14.549456193353487,
                    14.549456193353487,
                    14.549456193353487,
                    14.549456193353487,
                    14.549456193353487,
                    14.549456193353487,
                    14.549456193353487,
                    14.549456193353487
                  ],
                  "yaxis": "y"
                },
                {
                  "hovertemplate": "open_covid_region_code=US-WV<br>date=%{x}<br>symptom:Aphonia=%{y}<extra></extra>",
                  "legendgroup": "US-WV",
                  "marker": {
                    "color": "#FFA15A",
                    "symbol": "circle"
                  },
                  "mode": "markers",
                  "name": "US-WV",
                  "orientation": "v",
                  "showlegend": true,
                  "type": "scatter",
                  "x": [
                    "2020-03-09",
                    "2020-03-16",
                    "2020-03-23",
                    "2020-03-30",
                    "2020-04-06",
                    "2020-04-13",
                    "2020-04-20",
                    "2020-04-27",
                    "2020-05-04",
                    "2020-05-11",
                    "2020-05-18",
                    "2020-05-25",
                    "2020-06-01",
                    "2020-06-08",
                    "2020-06-15",
                    "2020-06-22",
                    "2020-06-29",
                    "2020-07-06",
                    "2020-07-13",
                    "2020-07-20",
                    "2020-07-27",
                    "2020-08-03",
                    "2020-08-10",
                    "2020-08-17",
                    "2020-08-24",
                    "2020-08-31",
                    "2020-09-07",
                    "2020-09-14",
                    "2020-09-21"
                  ],
                  "xaxis": "x",
                  "y": [
                    29.89,
                    23.57,
                    18.09,
                    17.74,
                    14.85,
                    10.5,
                    9.59,
                    11,
                    9.59,
                    9.54,
                    10.44,
                    7.58,
                    12.93,
                    11.87,
                    10.99,
                    12.11,
                    14.7,
                    11.55,
                    14.549456193353487,
                    11.95,
                    12.79,
                    11.59,
                    10.71,
                    13.22,
                    10.2,
                    9.05,
                    18.06,
                    12.09,
                    16.73
                  ],
                  "yaxis": "y"
                },
                {
                  "hovertemplate": "open_covid_region_code=US-WY<br>date=%{x}<br>symptom:Aphonia=%{y}<extra></extra>",
                  "legendgroup": "US-WY",
                  "marker": {
                    "color": "#19d3f3",
                    "symbol": "circle"
                  },
                  "mode": "markers",
                  "name": "US-WY",
                  "orientation": "v",
                  "showlegend": true,
                  "type": "scatter",
                  "x": [
                    "2020-03-09",
                    "2020-03-16",
                    "2020-03-23",
                    "2020-03-30",
                    "2020-04-06",
                    "2020-04-13",
                    "2020-04-20",
                    "2020-04-27",
                    "2020-05-04",
                    "2020-05-11",
                    "2020-05-18",
                    "2020-05-25",
                    "2020-06-01",
                    "2020-06-08",
                    "2020-06-15",
                    "2020-06-22",
                    "2020-06-29",
                    "2020-07-06",
                    "2020-07-13",
                    "2020-07-20",
                    "2020-07-27",
                    "2020-08-03",
                    "2020-08-10",
                    "2020-08-17",
                    "2020-08-24",
                    "2020-08-31",
                    "2020-09-07",
                    "2020-09-14",
                    "2020-09-21"
                  ],
                  "xaxis": "x",
                  "y": [
                    3.37,
                    3.52,
                    14.549456193353487,
                    2.25,
                    14.549456193353487,
                    14.549456193353487,
                    14.549456193353487,
                    14.549456193353487,
                    14.549456193353487,
                    14.549456193353487,
                    14.549456193353487,
                    14.549456193353487,
                    14.549456193353487,
                    14.549456193353487,
                    14.549456193353487,
                    14.549456193353487,
                    14.549456193353487,
                    14.549456193353487,
                    14.549456193353487,
                    14.549456193353487,
                    14.549456193353487,
                    14.549456193353487,
                    14.549456193353487,
                    14.549456193353487,
                    14.549456193353487,
                    14.549456193353487,
                    14.549456193353487,
                    14.549456193353487,
                    14.549456193353487
                  ],
                  "yaxis": "y"
                }
              ],
              "layout": {
                "legend": {
                  "title": {
                    "text": "open_covid_region_code"
                  },
                  "tracegroupgap": 0
                },
                "template": {
                  "data": {
                    "bar": [
                      {
                        "error_x": {
                          "color": "#2a3f5f"
                        },
                        "error_y": {
                          "color": "#2a3f5f"
                        },
                        "marker": {
                          "line": {
                            "color": "#E5ECF6",
                            "width": 0.5
                          }
                        },
                        "type": "bar"
                      }
                    ],
                    "barpolar": [
                      {
                        "marker": {
                          "line": {
                            "color": "#E5ECF6",
                            "width": 0.5
                          }
                        },
                        "type": "barpolar"
                      }
                    ],
                    "carpet": [
                      {
                        "aaxis": {
                          "endlinecolor": "#2a3f5f",
                          "gridcolor": "white",
                          "linecolor": "white",
                          "minorgridcolor": "white",
                          "startlinecolor": "#2a3f5f"
                        },
                        "baxis": {
                          "endlinecolor": "#2a3f5f",
                          "gridcolor": "white",
                          "linecolor": "white",
                          "minorgridcolor": "white",
                          "startlinecolor": "#2a3f5f"
                        },
                        "type": "carpet"
                      }
                    ],
                    "choropleth": [
                      {
                        "colorbar": {
                          "outlinewidth": 0,
                          "ticks": ""
                        },
                        "type": "choropleth"
                      }
                    ],
                    "contour": [
                      {
                        "colorbar": {
                          "outlinewidth": 0,
                          "ticks": ""
                        },
                        "colorscale": [
                          [
                            0,
                            "#0d0887"
                          ],
                          [
                            0.1111111111111111,
                            "#46039f"
                          ],
                          [
                            0.2222222222222222,
                            "#7201a8"
                          ],
                          [
                            0.3333333333333333,
                            "#9c179e"
                          ],
                          [
                            0.4444444444444444,
                            "#bd3786"
                          ],
                          [
                            0.5555555555555556,
                            "#d8576b"
                          ],
                          [
                            0.6666666666666666,
                            "#ed7953"
                          ],
                          [
                            0.7777777777777778,
                            "#fb9f3a"
                          ],
                          [
                            0.8888888888888888,
                            "#fdca26"
                          ],
                          [
                            1,
                            "#f0f921"
                          ]
                        ],
                        "type": "contour"
                      }
                    ],
                    "contourcarpet": [
                      {
                        "colorbar": {
                          "outlinewidth": 0,
                          "ticks": ""
                        },
                        "type": "contourcarpet"
                      }
                    ],
                    "heatmap": [
                      {
                        "colorbar": {
                          "outlinewidth": 0,
                          "ticks": ""
                        },
                        "colorscale": [
                          [
                            0,
                            "#0d0887"
                          ],
                          [
                            0.1111111111111111,
                            "#46039f"
                          ],
                          [
                            0.2222222222222222,
                            "#7201a8"
                          ],
                          [
                            0.3333333333333333,
                            "#9c179e"
                          ],
                          [
                            0.4444444444444444,
                            "#bd3786"
                          ],
                          [
                            0.5555555555555556,
                            "#d8576b"
                          ],
                          [
                            0.6666666666666666,
                            "#ed7953"
                          ],
                          [
                            0.7777777777777778,
                            "#fb9f3a"
                          ],
                          [
                            0.8888888888888888,
                            "#fdca26"
                          ],
                          [
                            1,
                            "#f0f921"
                          ]
                        ],
                        "type": "heatmap"
                      }
                    ],
                    "heatmapgl": [
                      {
                        "colorbar": {
                          "outlinewidth": 0,
                          "ticks": ""
                        },
                        "colorscale": [
                          [
                            0,
                            "#0d0887"
                          ],
                          [
                            0.1111111111111111,
                            "#46039f"
                          ],
                          [
                            0.2222222222222222,
                            "#7201a8"
                          ],
                          [
                            0.3333333333333333,
                            "#9c179e"
                          ],
                          [
                            0.4444444444444444,
                            "#bd3786"
                          ],
                          [
                            0.5555555555555556,
                            "#d8576b"
                          ],
                          [
                            0.6666666666666666,
                            "#ed7953"
                          ],
                          [
                            0.7777777777777778,
                            "#fb9f3a"
                          ],
                          [
                            0.8888888888888888,
                            "#fdca26"
                          ],
                          [
                            1,
                            "#f0f921"
                          ]
                        ],
                        "type": "heatmapgl"
                      }
                    ],
                    "histogram": [
                      {
                        "marker": {
                          "colorbar": {
                            "outlinewidth": 0,
                            "ticks": ""
                          }
                        },
                        "type": "histogram"
                      }
                    ],
                    "histogram2d": [
                      {
                        "colorbar": {
                          "outlinewidth": 0,
                          "ticks": ""
                        },
                        "colorscale": [
                          [
                            0,
                            "#0d0887"
                          ],
                          [
                            0.1111111111111111,
                            "#46039f"
                          ],
                          [
                            0.2222222222222222,
                            "#7201a8"
                          ],
                          [
                            0.3333333333333333,
                            "#9c179e"
                          ],
                          [
                            0.4444444444444444,
                            "#bd3786"
                          ],
                          [
                            0.5555555555555556,
                            "#d8576b"
                          ],
                          [
                            0.6666666666666666,
                            "#ed7953"
                          ],
                          [
                            0.7777777777777778,
                            "#fb9f3a"
                          ],
                          [
                            0.8888888888888888,
                            "#fdca26"
                          ],
                          [
                            1,
                            "#f0f921"
                          ]
                        ],
                        "type": "histogram2d"
                      }
                    ],
                    "histogram2dcontour": [
                      {
                        "colorbar": {
                          "outlinewidth": 0,
                          "ticks": ""
                        },
                        "colorscale": [
                          [
                            0,
                            "#0d0887"
                          ],
                          [
                            0.1111111111111111,
                            "#46039f"
                          ],
                          [
                            0.2222222222222222,
                            "#7201a8"
                          ],
                          [
                            0.3333333333333333,
                            "#9c179e"
                          ],
                          [
                            0.4444444444444444,
                            "#bd3786"
                          ],
                          [
                            0.5555555555555556,
                            "#d8576b"
                          ],
                          [
                            0.6666666666666666,
                            "#ed7953"
                          ],
                          [
                            0.7777777777777778,
                            "#fb9f3a"
                          ],
                          [
                            0.8888888888888888,
                            "#fdca26"
                          ],
                          [
                            1,
                            "#f0f921"
                          ]
                        ],
                        "type": "histogram2dcontour"
                      }
                    ],
                    "mesh3d": [
                      {
                        "colorbar": {
                          "outlinewidth": 0,
                          "ticks": ""
                        },
                        "type": "mesh3d"
                      }
                    ],
                    "parcoords": [
                      {
                        "line": {
                          "colorbar": {
                            "outlinewidth": 0,
                            "ticks": ""
                          }
                        },
                        "type": "parcoords"
                      }
                    ],
                    "pie": [
                      {
                        "automargin": true,
                        "type": "pie"
                      }
                    ],
                    "scatter": [
                      {
                        "marker": {
                          "colorbar": {
                            "outlinewidth": 0,
                            "ticks": ""
                          }
                        },
                        "type": "scatter"
                      }
                    ],
                    "scatter3d": [
                      {
                        "line": {
                          "colorbar": {
                            "outlinewidth": 0,
                            "ticks": ""
                          }
                        },
                        "marker": {
                          "colorbar": {
                            "outlinewidth": 0,
                            "ticks": ""
                          }
                        },
                        "type": "scatter3d"
                      }
                    ],
                    "scattercarpet": [
                      {
                        "marker": {
                          "colorbar": {
                            "outlinewidth": 0,
                            "ticks": ""
                          }
                        },
                        "type": "scattercarpet"
                      }
                    ],
                    "scattergeo": [
                      {
                        "marker": {
                          "colorbar": {
                            "outlinewidth": 0,
                            "ticks": ""
                          }
                        },
                        "type": "scattergeo"
                      }
                    ],
                    "scattergl": [
                      {
                        "marker": {
                          "colorbar": {
                            "outlinewidth": 0,
                            "ticks": ""
                          }
                        },
                        "type": "scattergl"
                      }
                    ],
                    "scattermapbox": [
                      {
                        "marker": {
                          "colorbar": {
                            "outlinewidth": 0,
                            "ticks": ""
                          }
                        },
                        "type": "scattermapbox"
                      }
                    ],
                    "scatterpolar": [
                      {
                        "marker": {
                          "colorbar": {
                            "outlinewidth": 0,
                            "ticks": ""
                          }
                        },
                        "type": "scatterpolar"
                      }
                    ],
                    "scatterpolargl": [
                      {
                        "marker": {
                          "colorbar": {
                            "outlinewidth": 0,
                            "ticks": ""
                          }
                        },
                        "type": "scatterpolargl"
                      }
                    ],
                    "scatterternary": [
                      {
                        "marker": {
                          "colorbar": {
                            "outlinewidth": 0,
                            "ticks": ""
                          }
                        },
                        "type": "scatterternary"
                      }
                    ],
                    "surface": [
                      {
                        "colorbar": {
                          "outlinewidth": 0,
                          "ticks": ""
                        },
                        "colorscale": [
                          [
                            0,
                            "#0d0887"
                          ],
                          [
                            0.1111111111111111,
                            "#46039f"
                          ],
                          [
                            0.2222222222222222,
                            "#7201a8"
                          ],
                          [
                            0.3333333333333333,
                            "#9c179e"
                          ],
                          [
                            0.4444444444444444,
                            "#bd3786"
                          ],
                          [
                            0.5555555555555556,
                            "#d8576b"
                          ],
                          [
                            0.6666666666666666,
                            "#ed7953"
                          ],
                          [
                            0.7777777777777778,
                            "#fb9f3a"
                          ],
                          [
                            0.8888888888888888,
                            "#fdca26"
                          ],
                          [
                            1,
                            "#f0f921"
                          ]
                        ],
                        "type": "surface"
                      }
                    ],
                    "table": [
                      {
                        "cells": {
                          "fill": {
                            "color": "#EBF0F8"
                          },
                          "line": {
                            "color": "white"
                          }
                        },
                        "header": {
                          "fill": {
                            "color": "#C8D4E3"
                          },
                          "line": {
                            "color": "white"
                          }
                        },
                        "type": "table"
                      }
                    ]
                  },
                  "layout": {
                    "annotationdefaults": {
                      "arrowcolor": "#2a3f5f",
                      "arrowhead": 0,
                      "arrowwidth": 1
                    },
                    "coloraxis": {
                      "colorbar": {
                        "outlinewidth": 0,
                        "ticks": ""
                      }
                    },
                    "colorscale": {
                      "diverging": [
                        [
                          0,
                          "#8e0152"
                        ],
                        [
                          0.1,
                          "#c51b7d"
                        ],
                        [
                          0.2,
                          "#de77ae"
                        ],
                        [
                          0.3,
                          "#f1b6da"
                        ],
                        [
                          0.4,
                          "#fde0ef"
                        ],
                        [
                          0.5,
                          "#f7f7f7"
                        ],
                        [
                          0.6,
                          "#e6f5d0"
                        ],
                        [
                          0.7,
                          "#b8e186"
                        ],
                        [
                          0.8,
                          "#7fbc41"
                        ],
                        [
                          0.9,
                          "#4d9221"
                        ],
                        [
                          1,
                          "#276419"
                        ]
                      ],
                      "sequential": [
                        [
                          0,
                          "#0d0887"
                        ],
                        [
                          0.1111111111111111,
                          "#46039f"
                        ],
                        [
                          0.2222222222222222,
                          "#7201a8"
                        ],
                        [
                          0.3333333333333333,
                          "#9c179e"
                        ],
                        [
                          0.4444444444444444,
                          "#bd3786"
                        ],
                        [
                          0.5555555555555556,
                          "#d8576b"
                        ],
                        [
                          0.6666666666666666,
                          "#ed7953"
                        ],
                        [
                          0.7777777777777778,
                          "#fb9f3a"
                        ],
                        [
                          0.8888888888888888,
                          "#fdca26"
                        ],
                        [
                          1,
                          "#f0f921"
                        ]
                      ],
                      "sequentialminus": [
                        [
                          0,
                          "#0d0887"
                        ],
                        [
                          0.1111111111111111,
                          "#46039f"
                        ],
                        [
                          0.2222222222222222,
                          "#7201a8"
                        ],
                        [
                          0.3333333333333333,
                          "#9c179e"
                        ],
                        [
                          0.4444444444444444,
                          "#bd3786"
                        ],
                        [
                          0.5555555555555556,
                          "#d8576b"
                        ],
                        [
                          0.6666666666666666,
                          "#ed7953"
                        ],
                        [
                          0.7777777777777778,
                          "#fb9f3a"
                        ],
                        [
                          0.8888888888888888,
                          "#fdca26"
                        ],
                        [
                          1,
                          "#f0f921"
                        ]
                      ]
                    },
                    "colorway": [
                      "#636efa",
                      "#EF553B",
                      "#00cc96",
                      "#ab63fa",
                      "#FFA15A",
                      "#19d3f3",
                      "#FF6692",
                      "#B6E880",
                      "#FF97FF",
                      "#FECB52"
                    ],
                    "font": {
                      "color": "#2a3f5f"
                    },
                    "geo": {
                      "bgcolor": "white",
                      "lakecolor": "white",
                      "landcolor": "#E5ECF6",
                      "showlakes": true,
                      "showland": true,
                      "subunitcolor": "white"
                    },
                    "hoverlabel": {
                      "align": "left"
                    },
                    "hovermode": "closest",
                    "mapbox": {
                      "style": "light"
                    },
                    "paper_bgcolor": "white",
                    "plot_bgcolor": "#E5ECF6",
                    "polar": {
                      "angularaxis": {
                        "gridcolor": "white",
                        "linecolor": "white",
                        "ticks": ""
                      },
                      "bgcolor": "#E5ECF6",
                      "radialaxis": {
                        "gridcolor": "white",
                        "linecolor": "white",
                        "ticks": ""
                      }
                    },
                    "scene": {
                      "xaxis": {
                        "backgroundcolor": "#E5ECF6",
                        "gridcolor": "white",
                        "gridwidth": 2,
                        "linecolor": "white",
                        "showbackground": true,
                        "ticks": "",
                        "zerolinecolor": "white"
                      },
                      "yaxis": {
                        "backgroundcolor": "#E5ECF6",
                        "gridcolor": "white",
                        "gridwidth": 2,
                        "linecolor": "white",
                        "showbackground": true,
                        "ticks": "",
                        "zerolinecolor": "white"
                      },
                      "zaxis": {
                        "backgroundcolor": "#E5ECF6",
                        "gridcolor": "white",
                        "gridwidth": 2,
                        "linecolor": "white",
                        "showbackground": true,
                        "ticks": "",
                        "zerolinecolor": "white"
                      }
                    },
                    "shapedefaults": {
                      "line": {
                        "color": "#2a3f5f"
                      }
                    },
                    "ternary": {
                      "aaxis": {
                        "gridcolor": "white",
                        "linecolor": "white",
                        "ticks": ""
                      },
                      "baxis": {
                        "gridcolor": "white",
                        "linecolor": "white",
                        "ticks": ""
                      },
                      "bgcolor": "#E5ECF6",
                      "caxis": {
                        "gridcolor": "white",
                        "linecolor": "white",
                        "ticks": ""
                      }
                    },
                    "title": {
                      "x": 0.05
                    },
                    "xaxis": {
                      "automargin": true,
                      "gridcolor": "white",
                      "linecolor": "white",
                      "ticks": "",
                      "title": {
                        "standoff": 15
                      },
                      "zerolinecolor": "white",
                      "zerolinewidth": 2
                    },
                    "yaxis": {
                      "automargin": true,
                      "gridcolor": "white",
                      "linecolor": "white",
                      "ticks": "",
                      "title": {
                        "standoff": 15
                      },
                      "zerolinecolor": "white",
                      "zerolinewidth": 2
                    }
                  }
                },
                "title": {
                  "text": "symptom:Aphonia"
                },
                "xaxis": {
                  "anchor": "y",
                  "domain": [
                    0,
                    1
                  ],
                  "title": {
                    "text": "date"
                  }
                },
                "yaxis": {
                  "anchor": "x",
                  "domain": [
                    0,
                    1
                  ],
                  "range": [
                    0,
                    90
                  ],
                  "title": {
                    "text": "symptom:Aphonia"
                  }
                }
              }
            }
          },
          "metadata": {}
        },
        {
          "output_type": "display_data",
          "data": {
            "application/vnd.plotly.v1+json": {
              "config": {
                "plotlyServerURL": "https://plot.ly"
              },
              "data": [
                {
                  "hovertemplate": "open_covid_region_code=US-AK<br>date=%{x}<br>symptom:Shallow breathing=%{y}<extra></extra>",
                  "legendgroup": "US-AK",
                  "marker": {
                    "color": "#636efa",
                    "symbol": "circle"
                  },
                  "mode": "markers",
                  "name": "US-AK",
                  "orientation": "v",
                  "showlegend": true,
                  "type": "scatter",
                  "x": [
                    "2020-03-09",
                    "2020-03-16",
                    "2020-03-23",
                    "2020-03-30",
                    "2020-04-06",
                    "2020-04-13",
                    "2020-04-20",
                    "2020-04-27",
                    "2020-05-04",
                    "2020-05-11",
                    "2020-05-18",
                    "2020-05-25",
                    "2020-06-01",
                    "2020-06-08",
                    "2020-06-15",
                    "2020-06-22",
                    "2020-06-29",
                    "2020-07-06",
                    "2020-07-13",
                    "2020-07-20",
                    "2020-07-27",
                    "2020-08-03",
                    "2020-08-10",
                    "2020-08-17",
                    "2020-08-24",
                    "2020-08-31",
                    "2020-09-07",
                    "2020-09-14",
                    "2020-09-21"
                  ],
                  "xaxis": "x",
                  "y": [
                    8.08,
                    10.91,
                    9.24,
                    10.81,
                    7.06,
                    6.81,
                    12.905856697819308,
                    12.905856697819308,
                    12.905856697819308,
                    6.09,
                    12.905856697819308,
                    12.905856697819308,
                    6.38,
                    12.905856697819308,
                    12.905856697819308,
                    12.905856697819308,
                    12.905856697819308,
                    6.33,
                    12.905856697819308,
                    12.905856697819308,
                    12.905856697819308,
                    12.905856697819308,
                    12.905856697819308,
                    12.905856697819308,
                    9.24,
                    8.01,
                    12.905856697819308,
                    12.905856697819308,
                    12.905856697819308
                  ],
                  "yaxis": "y"
                },
                {
                  "hovertemplate": "open_covid_region_code=US-DC<br>date=%{x}<br>symptom:Shallow breathing=%{y}<extra></extra>",
                  "legendgroup": "US-DC",
                  "marker": {
                    "color": "#EF553B",
                    "symbol": "circle"
                  },
                  "mode": "markers",
                  "name": "US-DC",
                  "orientation": "v",
                  "showlegend": true,
                  "type": "scatter",
                  "x": [
                    "2020-03-09",
                    "2020-03-16",
                    "2020-03-23",
                    "2020-03-30",
                    "2020-04-06",
                    "2020-04-13",
                    "2020-04-20",
                    "2020-04-27",
                    "2020-05-04",
                    "2020-05-11",
                    "2020-05-18",
                    "2020-05-25",
                    "2020-06-01",
                    "2020-06-08",
                    "2020-06-15",
                    "2020-06-22",
                    "2020-06-29",
                    "2020-07-06",
                    "2020-07-13",
                    "2020-07-20",
                    "2020-07-27",
                    "2020-08-03",
                    "2020-08-10",
                    "2020-08-17",
                    "2020-08-24",
                    "2020-08-31",
                    "2020-09-07",
                    "2020-09-14",
                    "2020-09-21"
                  ],
                  "xaxis": "x",
                  "y": [
                    11.5,
                    15,
                    10.8,
                    9.29,
                    7.49,
                    5.17,
                    4.34,
                    5.58,
                    5.09,
                    4.83,
                    4.04,
                    6.01,
                    2.25,
                    3.62,
                    3.73,
                    4.48,
                    3.2,
                    4.38,
                    5.46,
                    3.34,
                    3.77,
                    3,
                    4.27,
                    3.24,
                    3.73,
                    2.97,
                    3.32,
                    2.69,
                    3.52
                  ],
                  "yaxis": "y"
                },
                {
                  "hovertemplate": "open_covid_region_code=US-DE<br>date=%{x}<br>symptom:Shallow breathing=%{y}<extra></extra>",
                  "legendgroup": "US-DE",
                  "marker": {
                    "color": "#00cc96",
                    "symbol": "circle"
                  },
                  "mode": "markers",
                  "name": "US-DE",
                  "orientation": "v",
                  "showlegend": true,
                  "type": "scatter",
                  "x": [
                    "2020-03-09",
                    "2020-03-16",
                    "2020-03-23",
                    "2020-03-30",
                    "2020-04-06",
                    "2020-04-13",
                    "2020-04-20",
                    "2020-04-27",
                    "2020-05-04",
                    "2020-05-11",
                    "2020-05-18",
                    "2020-05-25",
                    "2020-06-01",
                    "2020-06-08",
                    "2020-06-15",
                    "2020-06-22",
                    "2020-06-29",
                    "2020-07-06",
                    "2020-07-13",
                    "2020-07-20",
                    "2020-07-27",
                    "2020-08-03",
                    "2020-08-10",
                    "2020-08-17",
                    "2020-08-24",
                    "2020-08-31",
                    "2020-09-07",
                    "2020-09-14",
                    "2020-09-21"
                  ],
                  "xaxis": "x",
                  "y": [
                    11.82,
                    14.56,
                    12.01,
                    13.62,
                    9.24,
                    6.87,
                    10.37,
                    7.66,
                    5.73,
                    6.13,
                    6.25,
                    6.85,
                    4.84,
                    4.93,
                    5.08,
                    6.65,
                    7.87,
                    5.99,
                    6.22,
                    6.22,
                    6.53,
                    5.95,
                    5.51,
                    6.17,
                    4.97,
                    5.85,
                    5.64,
                    7.25,
                    5.53
                  ],
                  "yaxis": "y"
                },
                {
                  "hovertemplate": "open_covid_region_code=US-HI<br>date=%{x}<br>symptom:Shallow breathing=%{y}<extra></extra>",
                  "legendgroup": "US-HI",
                  "marker": {
                    "color": "#ab63fa",
                    "symbol": "circle"
                  },
                  "mode": "markers",
                  "name": "US-HI",
                  "orientation": "v",
                  "showlegend": true,
                  "type": "scatter",
                  "x": [
                    "2020-03-09",
                    "2020-03-16",
                    "2020-03-23",
                    "2020-03-30",
                    "2020-04-06",
                    "2020-04-13",
                    "2020-04-20",
                    "2020-04-27",
                    "2020-05-04",
                    "2020-05-11",
                    "2020-05-18",
                    "2020-05-25",
                    "2020-06-01",
                    "2020-06-08",
                    "2020-06-15",
                    "2020-06-22",
                    "2020-06-29",
                    "2020-07-06",
                    "2020-07-13",
                    "2020-07-20",
                    "2020-07-27",
                    "2020-08-03",
                    "2020-08-10",
                    "2020-08-17",
                    "2020-08-24",
                    "2020-08-31",
                    "2020-09-07",
                    "2020-09-14",
                    "2020-09-21"
                  ],
                  "xaxis": "x",
                  "y": [
                    49.58,
                    83.77,
                    73.87,
                    60.19,
                    44.5,
                    42.11,
                    34.13,
                    30.53,
                    28.25,
                    31.71,
                    22.45,
                    36.16,
                    25.91,
                    29.31,
                    29.56,
                    34.89,
                    31.45,
                    35.62,
                    37.09,
                    41.01,
                    33,
                    34.47,
                    29.69,
                    36.2,
                    20.5,
                    39.92,
                    28.05,
                    33.13,
                    36.26
                  ],
                  "yaxis": "y"
                },
                {
                  "hovertemplate": "open_covid_region_code=US-ID<br>date=%{x}<br>symptom:Shallow breathing=%{y}<extra></extra>",
                  "legendgroup": "US-ID",
                  "marker": {
                    "color": "#FFA15A",
                    "symbol": "circle"
                  },
                  "mode": "markers",
                  "name": "US-ID",
                  "orientation": "v",
                  "showlegend": true,
                  "type": "scatter",
                  "x": [
                    "2020-03-09",
                    "2020-03-16",
                    "2020-03-23",
                    "2020-03-30",
                    "2020-04-06",
                    "2020-04-13",
                    "2020-04-20",
                    "2020-04-27",
                    "2020-05-04",
                    "2020-05-11",
                    "2020-05-18",
                    "2020-05-25",
                    "2020-06-01",
                    "2020-06-08",
                    "2020-06-15",
                    "2020-06-22",
                    "2020-06-29",
                    "2020-07-06",
                    "2020-07-13",
                    "2020-07-20",
                    "2020-07-27",
                    "2020-08-03",
                    "2020-08-10",
                    "2020-08-17",
                    "2020-08-24",
                    "2020-08-31",
                    "2020-09-07",
                    "2020-09-14",
                    "2020-09-21"
                  ],
                  "xaxis": "x",
                  "y": [
                    12.905856697819308,
                    12.905856697819308,
                    12.905856697819308,
                    12.905856697819308,
                    12.905856697819308,
                    12.905856697819308,
                    12.905856697819308,
                    12.905856697819308,
                    12.905856697819308,
                    12.905856697819308,
                    12.905856697819308,
                    12.905856697819308,
                    12.905856697819308,
                    12.905856697819308,
                    12.905856697819308,
                    12.905856697819308,
                    12.905856697819308,
                    12.905856697819308,
                    12.905856697819308,
                    12.905856697819308,
                    12.905856697819308,
                    12.905856697819308,
                    12.905856697819308,
                    12.905856697819308,
                    12.905856697819308,
                    12.905856697819308,
                    12.905856697819308,
                    12.905856697819308,
                    12.905856697819308
                  ],
                  "yaxis": "y"
                },
                {
                  "hovertemplate": "open_covid_region_code=US-ME<br>date=%{x}<br>symptom:Shallow breathing=%{y}<extra></extra>",
                  "legendgroup": "US-ME",
                  "marker": {
                    "color": "#19d3f3",
                    "symbol": "circle"
                  },
                  "mode": "markers",
                  "name": "US-ME",
                  "orientation": "v",
                  "showlegend": true,
                  "type": "scatter",
                  "x": [
                    "2020-03-09",
                    "2020-03-16",
                    "2020-03-23",
                    "2020-03-30",
                    "2020-04-06",
                    "2020-04-13",
                    "2020-04-20",
                    "2020-04-27",
                    "2020-05-04",
                    "2020-05-11",
                    "2020-05-18",
                    "2020-05-25",
                    "2020-06-01",
                    "2020-06-08",
                    "2020-06-15",
                    "2020-06-22",
                    "2020-06-29",
                    "2020-07-06",
                    "2020-07-13",
                    "2020-07-20",
                    "2020-07-27",
                    "2020-08-03",
                    "2020-08-10",
                    "2020-08-17",
                    "2020-08-24",
                    "2020-08-31",
                    "2020-09-07",
                    "2020-09-14",
                    "2020-09-21"
                  ],
                  "xaxis": "x",
                  "y": [
                    26.34,
                    34.47,
                    29.81,
                    30.79,
                    25.17,
                    21.63,
                    20.29,
                    14.21,
                    17.89,
                    17.34,
                    14.6,
                    13.95,
                    12.9,
                    12.8,
                    13.22,
                    15.54,
                    13.82,
                    16.68,
                    15.04,
                    16.52,
                    15.57,
                    15,
                    15.53,
                    15.42,
                    14.74,
                    12.77,
                    12.84,
                    16.51,
                    13.75
                  ],
                  "yaxis": "y"
                },
                {
                  "hovertemplate": "open_covid_region_code=US-MT<br>date=%{x}<br>symptom:Shallow breathing=%{y}<extra></extra>",
                  "legendgroup": "US-MT",
                  "marker": {
                    "color": "#FF6692",
                    "symbol": "circle"
                  },
                  "mode": "markers",
                  "name": "US-MT",
                  "orientation": "v",
                  "showlegend": true,
                  "type": "scatter",
                  "x": [
                    "2020-03-09",
                    "2020-03-16",
                    "2020-03-23",
                    "2020-03-30",
                    "2020-04-06",
                    "2020-04-13",
                    "2020-04-20",
                    "2020-04-27",
                    "2020-05-04",
                    "2020-05-11",
                    "2020-05-18",
                    "2020-05-25",
                    "2020-06-01",
                    "2020-06-08",
                    "2020-06-15",
                    "2020-06-22",
                    "2020-06-29",
                    "2020-07-06",
                    "2020-07-13",
                    "2020-07-20",
                    "2020-07-27",
                    "2020-08-03",
                    "2020-08-10",
                    "2020-08-17",
                    "2020-08-24",
                    "2020-08-31",
                    "2020-09-07",
                    "2020-09-14",
                    "2020-09-21"
                  ],
                  "xaxis": "x",
                  "y": [
                    11.82,
                    18.85,
                    15.67,
                    12.08,
                    7.79,
                    6.77,
                    8.06,
                    6.77,
                    7.07,
                    12.905856697819308,
                    6.25,
                    7.64,
                    12.905856697819308,
                    12.905856697819308,
                    12.905856697819308,
                    7.49,
                    5.96,
                    5.69,
                    9.9,
                    7.89,
                    6.9,
                    6.39,
                    6.99,
                    6.1,
                    4.84,
                    4.79,
                    4.96,
                    4.39,
                    5.82
                  ],
                  "yaxis": "y"
                },
                {
                  "hovertemplate": "open_covid_region_code=US-ND<br>date=%{x}<br>symptom:Shallow breathing=%{y}<extra></extra>",
                  "legendgroup": "US-ND",
                  "marker": {
                    "color": "#B6E880",
                    "symbol": "circle"
                  },
                  "mode": "markers",
                  "name": "US-ND",
                  "orientation": "v",
                  "showlegend": true,
                  "type": "scatter",
                  "x": [
                    "2020-03-09",
                    "2020-03-16",
                    "2020-03-23",
                    "2020-03-30",
                    "2020-04-06",
                    "2020-04-13",
                    "2020-04-20",
                    "2020-04-27",
                    "2020-05-04",
                    "2020-05-11",
                    "2020-05-18",
                    "2020-05-25",
                    "2020-06-01",
                    "2020-06-08",
                    "2020-06-15",
                    "2020-06-22",
                    "2020-06-29",
                    "2020-07-06",
                    "2020-07-13",
                    "2020-07-20",
                    "2020-07-27",
                    "2020-08-03",
                    "2020-08-10",
                    "2020-08-17",
                    "2020-08-24",
                    "2020-08-31",
                    "2020-09-07",
                    "2020-09-14",
                    "2020-09-21"
                  ],
                  "xaxis": "x",
                  "y": [
                    3.78,
                    10.9,
                    11.26,
                    9.6,
                    6.25,
                    6.31,
                    7.23,
                    12.905856697819308,
                    5.81,
                    5.82,
                    5.2,
                    12.905856697819308,
                    5.05,
                    7.75,
                    5.62,
                    12.905856697819308,
                    12.905856697819308,
                    7.62,
                    4.75,
                    12.905856697819308,
                    4.83,
                    4.66,
                    5.15,
                    5.03,
                    5.21,
                    4.16,
                    4.44,
                    4.52,
                    6.42
                  ],
                  "yaxis": "y"
                },
                {
                  "hovertemplate": "open_covid_region_code=US-NE<br>date=%{x}<br>symptom:Shallow breathing=%{y}<extra></extra>",
                  "legendgroup": "US-NE",
                  "marker": {
                    "color": "#FF97FF",
                    "symbol": "circle"
                  },
                  "mode": "markers",
                  "name": "US-NE",
                  "orientation": "v",
                  "showlegend": true,
                  "type": "scatter",
                  "x": [
                    "2020-03-09",
                    "2020-03-16",
                    "2020-03-23",
                    "2020-03-30",
                    "2020-04-06",
                    "2020-04-13",
                    "2020-04-20",
                    "2020-04-27",
                    "2020-05-04",
                    "2020-05-11",
                    "2020-05-18",
                    "2020-05-25",
                    "2020-06-01",
                    "2020-06-08",
                    "2020-06-15",
                    "2020-06-22",
                    "2020-06-29",
                    "2020-07-06",
                    "2020-07-13",
                    "2020-07-20",
                    "2020-07-27",
                    "2020-08-03",
                    "2020-08-10",
                    "2020-08-17",
                    "2020-08-24",
                    "2020-08-31",
                    "2020-09-07",
                    "2020-09-14",
                    "2020-09-21"
                  ],
                  "xaxis": "x",
                  "y": [
                    12.905856697819308,
                    12.905856697819308,
                    12.905856697819308,
                    12.905856697819308,
                    12.905856697819308,
                    12.905856697819308,
                    12.905856697819308,
                    12.905856697819308,
                    12.905856697819308,
                    12.905856697819308,
                    12.905856697819308,
                    12.905856697819308,
                    12.905856697819308,
                    12.905856697819308,
                    12.905856697819308,
                    12.905856697819308,
                    12.905856697819308,
                    12.905856697819308,
                    12.905856697819308,
                    12.905856697819308,
                    12.905856697819308,
                    12.905856697819308,
                    12.905856697819308,
                    12.905856697819308,
                    12.905856697819308,
                    12.905856697819308,
                    12.905856697819308,
                    12.905856697819308,
                    12.905856697819308
                  ],
                  "yaxis": "y"
                },
                {
                  "hovertemplate": "open_covid_region_code=US-NH<br>date=%{x}<br>symptom:Shallow breathing=%{y}<extra></extra>",
                  "legendgroup": "US-NH",
                  "marker": {
                    "color": "#FECB52",
                    "symbol": "circle"
                  },
                  "mode": "markers",
                  "name": "US-NH",
                  "orientation": "v",
                  "showlegend": true,
                  "type": "scatter",
                  "x": [
                    "2020-03-09",
                    "2020-03-16",
                    "2020-03-23",
                    "2020-03-30",
                    "2020-04-06",
                    "2020-04-13",
                    "2020-04-20",
                    "2020-04-27",
                    "2020-05-04",
                    "2020-05-11",
                    "2020-05-18",
                    "2020-05-25",
                    "2020-06-01",
                    "2020-06-08",
                    "2020-06-15",
                    "2020-06-22",
                    "2020-06-29",
                    "2020-07-06",
                    "2020-07-13",
                    "2020-07-20",
                    "2020-07-27",
                    "2020-08-03",
                    "2020-08-10",
                    "2020-08-17",
                    "2020-08-24",
                    "2020-08-31",
                    "2020-09-07",
                    "2020-09-14",
                    "2020-09-21"
                  ],
                  "xaxis": "x",
                  "y": [
                    25.47,
                    40.96,
                    34.67,
                    30.22,
                    21.85,
                    19.46,
                    19.33,
                    15.74,
                    16.84,
                    13.38,
                    19.66,
                    9.77,
                    10.4,
                    13.27,
                    11.59,
                    14.67,
                    11.94,
                    13.32,
                    19.7,
                    14.09,
                    14.56,
                    16.08,
                    13.36,
                    15.36,
                    14.14,
                    14.62,
                    13.18,
                    17.51,
                    12.33
                  ],
                  "yaxis": "y"
                },
                {
                  "hovertemplate": "open_covid_region_code=US-NM<br>date=%{x}<br>symptom:Shallow breathing=%{y}<extra></extra>",
                  "legendgroup": "US-NM",
                  "marker": {
                    "color": "#636efa",
                    "symbol": "circle"
                  },
                  "mode": "markers",
                  "name": "US-NM",
                  "orientation": "v",
                  "showlegend": true,
                  "type": "scatter",
                  "x": [
                    "2020-03-09",
                    "2020-03-16",
                    "2020-03-23",
                    "2020-03-30",
                    "2020-04-06",
                    "2020-04-13",
                    "2020-04-20",
                    "2020-04-27",
                    "2020-05-04",
                    "2020-05-11",
                    "2020-05-18",
                    "2020-05-25",
                    "2020-06-01",
                    "2020-06-08",
                    "2020-06-15",
                    "2020-06-22",
                    "2020-06-29",
                    "2020-07-06",
                    "2020-07-13",
                    "2020-07-20",
                    "2020-07-27",
                    "2020-08-03",
                    "2020-08-10",
                    "2020-08-17",
                    "2020-08-24",
                    "2020-08-31",
                    "2020-09-07",
                    "2020-09-14",
                    "2020-09-21"
                  ],
                  "xaxis": "x",
                  "y": [
                    12.905856697819308,
                    12.905856697819308,
                    12.905856697819308,
                    12.905856697819308,
                    12.905856697819308,
                    12.905856697819308,
                    12.905856697819308,
                    12.905856697819308,
                    12.905856697819308,
                    12.905856697819308,
                    12.905856697819308,
                    12.905856697819308,
                    12.905856697819308,
                    12.905856697819308,
                    12.905856697819308,
                    12.905856697819308,
                    12.905856697819308,
                    12.905856697819308,
                    12.905856697819308,
                    12.905856697819308,
                    12.905856697819308,
                    12.905856697819308,
                    12.905856697819308,
                    12.905856697819308,
                    12.905856697819308,
                    12.905856697819308,
                    12.905856697819308,
                    12.905856697819308,
                    12.905856697819308
                  ],
                  "yaxis": "y"
                },
                {
                  "hovertemplate": "open_covid_region_code=US-RI<br>date=%{x}<br>symptom:Shallow breathing=%{y}<extra></extra>",
                  "legendgroup": "US-RI",
                  "marker": {
                    "color": "#EF553B",
                    "symbol": "circle"
                  },
                  "mode": "markers",
                  "name": "US-RI",
                  "orientation": "v",
                  "showlegend": true,
                  "type": "scatter",
                  "x": [
                    "2020-03-02",
                    "2020-03-09",
                    "2020-03-16",
                    "2020-03-23",
                    "2020-03-30",
                    "2020-04-06",
                    "2020-04-13",
                    "2020-04-20",
                    "2020-04-27",
                    "2020-05-04",
                    "2020-05-11",
                    "2020-05-18",
                    "2020-05-25",
                    "2020-06-01",
                    "2020-06-08",
                    "2020-06-15",
                    "2020-06-22",
                    "2020-06-29",
                    "2020-07-06",
                    "2020-07-13",
                    "2020-07-20",
                    "2020-07-27",
                    "2020-08-03",
                    "2020-08-10",
                    "2020-08-17",
                    "2020-08-24",
                    "2020-08-31",
                    "2020-09-07",
                    "2020-09-14",
                    "2020-09-21"
                  ],
                  "xaxis": "x",
                  "y": [
                    10.75,
                    18.09,
                    30.89,
                    19.91,
                    20.75,
                    18.87,
                    15.86,
                    11.23,
                    12.77,
                    7.39,
                    12.16,
                    11.04,
                    11.04,
                    6.22,
                    9.87,
                    8.03,
                    7.83,
                    9.43,
                    7.01,
                    9,
                    10.7,
                    9.85,
                    10.4,
                    11.52,
                    9.51,
                    9.14,
                    9.57,
                    11.83,
                    7.84,
                    10.67
                  ],
                  "yaxis": "y"
                },
                {
                  "hovertemplate": "open_covid_region_code=US-SD<br>date=%{x}<br>symptom:Shallow breathing=%{y}<extra></extra>",
                  "legendgroup": "US-SD",
                  "marker": {
                    "color": "#00cc96",
                    "symbol": "circle"
                  },
                  "mode": "markers",
                  "name": "US-SD",
                  "orientation": "v",
                  "showlegend": true,
                  "type": "scatter",
                  "x": [
                    "2020-03-09",
                    "2020-03-16",
                    "2020-03-23",
                    "2020-03-30",
                    "2020-04-06",
                    "2020-04-13",
                    "2020-04-20",
                    "2020-04-27",
                    "2020-05-04",
                    "2020-05-11",
                    "2020-05-18",
                    "2020-05-25",
                    "2020-06-01",
                    "2020-06-08",
                    "2020-06-15",
                    "2020-06-22",
                    "2020-06-29",
                    "2020-07-06",
                    "2020-07-13",
                    "2020-07-20",
                    "2020-07-27",
                    "2020-08-03",
                    "2020-08-10",
                    "2020-08-17",
                    "2020-08-24",
                    "2020-08-31",
                    "2020-09-07",
                    "2020-09-14",
                    "2020-09-21"
                  ],
                  "xaxis": "x",
                  "y": [
                    10.36,
                    13.01,
                    13.94,
                    12.8,
                    10.03,
                    6.05,
                    7.64,
                    7.1,
                    5.18,
                    4.93,
                    5.15,
                    5.49,
                    5.7,
                    5.41,
                    12.905856697819308,
                    12.905856697819308,
                    12.905856697819308,
                    7.4,
                    4.93,
                    6.05,
                    5.95,
                    12.905856697819308,
                    12.905856697819308,
                    5.06,
                    6.47,
                    6.25,
                    5.33,
                    7.28,
                    5.42
                  ],
                  "yaxis": "y"
                },
                {
                  "hovertemplate": "open_covid_region_code=US-VT<br>date=%{x}<br>symptom:Shallow breathing=%{y}<extra></extra>",
                  "legendgroup": "US-VT",
                  "marker": {
                    "color": "#ab63fa",
                    "symbol": "circle"
                  },
                  "mode": "markers",
                  "name": "US-VT",
                  "orientation": "v",
                  "showlegend": true,
                  "type": "scatter",
                  "x": [
                    "2020-03-09",
                    "2020-03-16",
                    "2020-03-23",
                    "2020-03-30",
                    "2020-04-06",
                    "2020-04-13",
                    "2020-04-20",
                    "2020-04-27",
                    "2020-05-04",
                    "2020-05-11",
                    "2020-05-18",
                    "2020-05-25",
                    "2020-06-01",
                    "2020-06-08",
                    "2020-06-15",
                    "2020-06-22",
                    "2020-06-29",
                    "2020-07-06",
                    "2020-07-13",
                    "2020-07-20",
                    "2020-07-27",
                    "2020-08-03",
                    "2020-08-10",
                    "2020-08-17",
                    "2020-08-24",
                    "2020-08-31",
                    "2020-09-07",
                    "2020-09-14",
                    "2020-09-21"
                  ],
                  "xaxis": "x",
                  "y": [
                    6.88,
                    19.46,
                    17.26,
                    14.7,
                    6.66,
                    7.74,
                    7.54,
                    8.14,
                    7.74,
                    7.14,
                    8.68,
                    6.26,
                    12.905856697819308,
                    12.905856697819308,
                    6.76,
                    12.905856697819308,
                    12.905856697819308,
                    9.04,
                    6.21,
                    7.42,
                    10.89,
                    7.79,
                    7.24,
                    12.905856697819308,
                    6.95,
                    12.905856697819308,
                    5.96,
                    9.34,
                    7.25
                  ],
                  "yaxis": "y"
                },
                {
                  "hovertemplate": "open_covid_region_code=US-WV<br>date=%{x}<br>symptom:Shallow breathing=%{y}<extra></extra>",
                  "legendgroup": "US-WV",
                  "marker": {
                    "color": "#FFA15A",
                    "symbol": "circle"
                  },
                  "mode": "markers",
                  "name": "US-WV",
                  "orientation": "v",
                  "showlegend": true,
                  "type": "scatter",
                  "x": [
                    "2020-03-09",
                    "2020-03-16",
                    "2020-03-23",
                    "2020-03-30",
                    "2020-04-06",
                    "2020-04-13",
                    "2020-04-20",
                    "2020-04-27",
                    "2020-05-04",
                    "2020-05-11",
                    "2020-05-18",
                    "2020-05-25",
                    "2020-06-01",
                    "2020-06-08",
                    "2020-06-15",
                    "2020-06-22",
                    "2020-06-29",
                    "2020-07-06",
                    "2020-07-13",
                    "2020-07-20",
                    "2020-07-27",
                    "2020-08-03",
                    "2020-08-10",
                    "2020-08-17",
                    "2020-08-24",
                    "2020-08-31",
                    "2020-09-07",
                    "2020-09-14",
                    "2020-09-21"
                  ],
                  "xaxis": "x",
                  "y": [
                    21.33,
                    28.66,
                    28.56,
                    23.8,
                    22.66,
                    18.99,
                    16.57,
                    15.9,
                    11.54,
                    15.69,
                    7.17,
                    12.41,
                    14.71,
                    9.63,
                    14.22,
                    13.56,
                    18.37,
                    15.88,
                    19.69,
                    15.18,
                    14.23,
                    14.97,
                    14.02,
                    12.12,
                    13.09,
                    11.97,
                    15.2,
                    9.11,
                    14.06
                  ],
                  "yaxis": "y"
                },
                {
                  "hovertemplate": "open_covid_region_code=US-WY<br>date=%{x}<br>symptom:Shallow breathing=%{y}<extra></extra>",
                  "legendgroup": "US-WY",
                  "marker": {
                    "color": "#19d3f3",
                    "symbol": "circle"
                  },
                  "mode": "markers",
                  "name": "US-WY",
                  "orientation": "v",
                  "showlegend": true,
                  "type": "scatter",
                  "x": [
                    "2020-03-09",
                    "2020-03-16",
                    "2020-03-23",
                    "2020-03-30",
                    "2020-04-06",
                    "2020-04-13",
                    "2020-04-20",
                    "2020-04-27",
                    "2020-05-04",
                    "2020-05-11",
                    "2020-05-18",
                    "2020-05-25",
                    "2020-06-01",
                    "2020-06-08",
                    "2020-06-15",
                    "2020-06-22",
                    "2020-06-29",
                    "2020-07-06",
                    "2020-07-13",
                    "2020-07-20",
                    "2020-07-27",
                    "2020-08-03",
                    "2020-08-10",
                    "2020-08-17",
                    "2020-08-24",
                    "2020-08-31",
                    "2020-09-07",
                    "2020-09-14",
                    "2020-09-21"
                  ],
                  "xaxis": "x",
                  "y": [
                    3.77,
                    5.05,
                    4.63,
                    3.45,
                    2.95,
                    12.905856697819308,
                    2.19,
                    2.68,
                    12.905856697819308,
                    12.905856697819308,
                    12.905856697819308,
                    12.905856697819308,
                    12.905856697819308,
                    12.905856697819308,
                    12.905856697819308,
                    12.905856697819308,
                    12.905856697819308,
                    12.905856697819308,
                    12.905856697819308,
                    12.905856697819308,
                    12.905856697819308,
                    12.905856697819308,
                    2.97,
                    12.905856697819308,
                    12.905856697819308,
                    2.9,
                    2.2,
                    12.905856697819308,
                    12.905856697819308
                  ],
                  "yaxis": "y"
                }
              ],
              "layout": {
                "legend": {
                  "title": {
                    "text": "open_covid_region_code"
                  },
                  "tracegroupgap": 0
                },
                "template": {
                  "data": {
                    "bar": [
                      {
                        "error_x": {
                          "color": "#2a3f5f"
                        },
                        "error_y": {
                          "color": "#2a3f5f"
                        },
                        "marker": {
                          "line": {
                            "color": "#E5ECF6",
                            "width": 0.5
                          }
                        },
                        "type": "bar"
                      }
                    ],
                    "barpolar": [
                      {
                        "marker": {
                          "line": {
                            "color": "#E5ECF6",
                            "width": 0.5
                          }
                        },
                        "type": "barpolar"
                      }
                    ],
                    "carpet": [
                      {
                        "aaxis": {
                          "endlinecolor": "#2a3f5f",
                          "gridcolor": "white",
                          "linecolor": "white",
                          "minorgridcolor": "white",
                          "startlinecolor": "#2a3f5f"
                        },
                        "baxis": {
                          "endlinecolor": "#2a3f5f",
                          "gridcolor": "white",
                          "linecolor": "white",
                          "minorgridcolor": "white",
                          "startlinecolor": "#2a3f5f"
                        },
                        "type": "carpet"
                      }
                    ],
                    "choropleth": [
                      {
                        "colorbar": {
                          "outlinewidth": 0,
                          "ticks": ""
                        },
                        "type": "choropleth"
                      }
                    ],
                    "contour": [
                      {
                        "colorbar": {
                          "outlinewidth": 0,
                          "ticks": ""
                        },
                        "colorscale": [
                          [
                            0,
                            "#0d0887"
                          ],
                          [
                            0.1111111111111111,
                            "#46039f"
                          ],
                          [
                            0.2222222222222222,
                            "#7201a8"
                          ],
                          [
                            0.3333333333333333,
                            "#9c179e"
                          ],
                          [
                            0.4444444444444444,
                            "#bd3786"
                          ],
                          [
                            0.5555555555555556,
                            "#d8576b"
                          ],
                          [
                            0.6666666666666666,
                            "#ed7953"
                          ],
                          [
                            0.7777777777777778,
                            "#fb9f3a"
                          ],
                          [
                            0.8888888888888888,
                            "#fdca26"
                          ],
                          [
                            1,
                            "#f0f921"
                          ]
                        ],
                        "type": "contour"
                      }
                    ],
                    "contourcarpet": [
                      {
                        "colorbar": {
                          "outlinewidth": 0,
                          "ticks": ""
                        },
                        "type": "contourcarpet"
                      }
                    ],
                    "heatmap": [
                      {
                        "colorbar": {
                          "outlinewidth": 0,
                          "ticks": ""
                        },
                        "colorscale": [
                          [
                            0,
                            "#0d0887"
                          ],
                          [
                            0.1111111111111111,
                            "#46039f"
                          ],
                          [
                            0.2222222222222222,
                            "#7201a8"
                          ],
                          [
                            0.3333333333333333,
                            "#9c179e"
                          ],
                          [
                            0.4444444444444444,
                            "#bd3786"
                          ],
                          [
                            0.5555555555555556,
                            "#d8576b"
                          ],
                          [
                            0.6666666666666666,
                            "#ed7953"
                          ],
                          [
                            0.7777777777777778,
                            "#fb9f3a"
                          ],
                          [
                            0.8888888888888888,
                            "#fdca26"
                          ],
                          [
                            1,
                            "#f0f921"
                          ]
                        ],
                        "type": "heatmap"
                      }
                    ],
                    "heatmapgl": [
                      {
                        "colorbar": {
                          "outlinewidth": 0,
                          "ticks": ""
                        },
                        "colorscale": [
                          [
                            0,
                            "#0d0887"
                          ],
                          [
                            0.1111111111111111,
                            "#46039f"
                          ],
                          [
                            0.2222222222222222,
                            "#7201a8"
                          ],
                          [
                            0.3333333333333333,
                            "#9c179e"
                          ],
                          [
                            0.4444444444444444,
                            "#bd3786"
                          ],
                          [
                            0.5555555555555556,
                            "#d8576b"
                          ],
                          [
                            0.6666666666666666,
                            "#ed7953"
                          ],
                          [
                            0.7777777777777778,
                            "#fb9f3a"
                          ],
                          [
                            0.8888888888888888,
                            "#fdca26"
                          ],
                          [
                            1,
                            "#f0f921"
                          ]
                        ],
                        "type": "heatmapgl"
                      }
                    ],
                    "histogram": [
                      {
                        "marker": {
                          "colorbar": {
                            "outlinewidth": 0,
                            "ticks": ""
                          }
                        },
                        "type": "histogram"
                      }
                    ],
                    "histogram2d": [
                      {
                        "colorbar": {
                          "outlinewidth": 0,
                          "ticks": ""
                        },
                        "colorscale": [
                          [
                            0,
                            "#0d0887"
                          ],
                          [
                            0.1111111111111111,
                            "#46039f"
                          ],
                          [
                            0.2222222222222222,
                            "#7201a8"
                          ],
                          [
                            0.3333333333333333,
                            "#9c179e"
                          ],
                          [
                            0.4444444444444444,
                            "#bd3786"
                          ],
                          [
                            0.5555555555555556,
                            "#d8576b"
                          ],
                          [
                            0.6666666666666666,
                            "#ed7953"
                          ],
                          [
                            0.7777777777777778,
                            "#fb9f3a"
                          ],
                          [
                            0.8888888888888888,
                            "#fdca26"
                          ],
                          [
                            1,
                            "#f0f921"
                          ]
                        ],
                        "type": "histogram2d"
                      }
                    ],
                    "histogram2dcontour": [
                      {
                        "colorbar": {
                          "outlinewidth": 0,
                          "ticks": ""
                        },
                        "colorscale": [
                          [
                            0,
                            "#0d0887"
                          ],
                          [
                            0.1111111111111111,
                            "#46039f"
                          ],
                          [
                            0.2222222222222222,
                            "#7201a8"
                          ],
                          [
                            0.3333333333333333,
                            "#9c179e"
                          ],
                          [
                            0.4444444444444444,
                            "#bd3786"
                          ],
                          [
                            0.5555555555555556,
                            "#d8576b"
                          ],
                          [
                            0.6666666666666666,
                            "#ed7953"
                          ],
                          [
                            0.7777777777777778,
                            "#fb9f3a"
                          ],
                          [
                            0.8888888888888888,
                            "#fdca26"
                          ],
                          [
                            1,
                            "#f0f921"
                          ]
                        ],
                        "type": "histogram2dcontour"
                      }
                    ],
                    "mesh3d": [
                      {
                        "colorbar": {
                          "outlinewidth": 0,
                          "ticks": ""
                        },
                        "type": "mesh3d"
                      }
                    ],
                    "parcoords": [
                      {
                        "line": {
                          "colorbar": {
                            "outlinewidth": 0,
                            "ticks": ""
                          }
                        },
                        "type": "parcoords"
                      }
                    ],
                    "pie": [
                      {
                        "automargin": true,
                        "type": "pie"
                      }
                    ],
                    "scatter": [
                      {
                        "marker": {
                          "colorbar": {
                            "outlinewidth": 0,
                            "ticks": ""
                          }
                        },
                        "type": "scatter"
                      }
                    ],
                    "scatter3d": [
                      {
                        "line": {
                          "colorbar": {
                            "outlinewidth": 0,
                            "ticks": ""
                          }
                        },
                        "marker": {
                          "colorbar": {
                            "outlinewidth": 0,
                            "ticks": ""
                          }
                        },
                        "type": "scatter3d"
                      }
                    ],
                    "scattercarpet": [
                      {
                        "marker": {
                          "colorbar": {
                            "outlinewidth": 0,
                            "ticks": ""
                          }
                        },
                        "type": "scattercarpet"
                      }
                    ],
                    "scattergeo": [
                      {
                        "marker": {
                          "colorbar": {
                            "outlinewidth": 0,
                            "ticks": ""
                          }
                        },
                        "type": "scattergeo"
                      }
                    ],
                    "scattergl": [
                      {
                        "marker": {
                          "colorbar": {
                            "outlinewidth": 0,
                            "ticks": ""
                          }
                        },
                        "type": "scattergl"
                      }
                    ],
                    "scattermapbox": [
                      {
                        "marker": {
                          "colorbar": {
                            "outlinewidth": 0,
                            "ticks": ""
                          }
                        },
                        "type": "scattermapbox"
                      }
                    ],
                    "scatterpolar": [
                      {
                        "marker": {
                          "colorbar": {
                            "outlinewidth": 0,
                            "ticks": ""
                          }
                        },
                        "type": "scatterpolar"
                      }
                    ],
                    "scatterpolargl": [
                      {
                        "marker": {
                          "colorbar": {
                            "outlinewidth": 0,
                            "ticks": ""
                          }
                        },
                        "type": "scatterpolargl"
                      }
                    ],
                    "scatterternary": [
                      {
                        "marker": {
                          "colorbar": {
                            "outlinewidth": 0,
                            "ticks": ""
                          }
                        },
                        "type": "scatterternary"
                      }
                    ],
                    "surface": [
                      {
                        "colorbar": {
                          "outlinewidth": 0,
                          "ticks": ""
                        },
                        "colorscale": [
                          [
                            0,
                            "#0d0887"
                          ],
                          [
                            0.1111111111111111,
                            "#46039f"
                          ],
                          [
                            0.2222222222222222,
                            "#7201a8"
                          ],
                          [
                            0.3333333333333333,
                            "#9c179e"
                          ],
                          [
                            0.4444444444444444,
                            "#bd3786"
                          ],
                          [
                            0.5555555555555556,
                            "#d8576b"
                          ],
                          [
                            0.6666666666666666,
                            "#ed7953"
                          ],
                          [
                            0.7777777777777778,
                            "#fb9f3a"
                          ],
                          [
                            0.8888888888888888,
                            "#fdca26"
                          ],
                          [
                            1,
                            "#f0f921"
                          ]
                        ],
                        "type": "surface"
                      }
                    ],
                    "table": [
                      {
                        "cells": {
                          "fill": {
                            "color": "#EBF0F8"
                          },
                          "line": {
                            "color": "white"
                          }
                        },
                        "header": {
                          "fill": {
                            "color": "#C8D4E3"
                          },
                          "line": {
                            "color": "white"
                          }
                        },
                        "type": "table"
                      }
                    ]
                  },
                  "layout": {
                    "annotationdefaults": {
                      "arrowcolor": "#2a3f5f",
                      "arrowhead": 0,
                      "arrowwidth": 1
                    },
                    "coloraxis": {
                      "colorbar": {
                        "outlinewidth": 0,
                        "ticks": ""
                      }
                    },
                    "colorscale": {
                      "diverging": [
                        [
                          0,
                          "#8e0152"
                        ],
                        [
                          0.1,
                          "#c51b7d"
                        ],
                        [
                          0.2,
                          "#de77ae"
                        ],
                        [
                          0.3,
                          "#f1b6da"
                        ],
                        [
                          0.4,
                          "#fde0ef"
                        ],
                        [
                          0.5,
                          "#f7f7f7"
                        ],
                        [
                          0.6,
                          "#e6f5d0"
                        ],
                        [
                          0.7,
                          "#b8e186"
                        ],
                        [
                          0.8,
                          "#7fbc41"
                        ],
                        [
                          0.9,
                          "#4d9221"
                        ],
                        [
                          1,
                          "#276419"
                        ]
                      ],
                      "sequential": [
                        [
                          0,
                          "#0d0887"
                        ],
                        [
                          0.1111111111111111,
                          "#46039f"
                        ],
                        [
                          0.2222222222222222,
                          "#7201a8"
                        ],
                        [
                          0.3333333333333333,
                          "#9c179e"
                        ],
                        [
                          0.4444444444444444,
                          "#bd3786"
                        ],
                        [
                          0.5555555555555556,
                          "#d8576b"
                        ],
                        [
                          0.6666666666666666,
                          "#ed7953"
                        ],
                        [
                          0.7777777777777778,
                          "#fb9f3a"
                        ],
                        [
                          0.8888888888888888,
                          "#fdca26"
                        ],
                        [
                          1,
                          "#f0f921"
                        ]
                      ],
                      "sequentialminus": [
                        [
                          0,
                          "#0d0887"
                        ],
                        [
                          0.1111111111111111,
                          "#46039f"
                        ],
                        [
                          0.2222222222222222,
                          "#7201a8"
                        ],
                        [
                          0.3333333333333333,
                          "#9c179e"
                        ],
                        [
                          0.4444444444444444,
                          "#bd3786"
                        ],
                        [
                          0.5555555555555556,
                          "#d8576b"
                        ],
                        [
                          0.6666666666666666,
                          "#ed7953"
                        ],
                        [
                          0.7777777777777778,
                          "#fb9f3a"
                        ],
                        [
                          0.8888888888888888,
                          "#fdca26"
                        ],
                        [
                          1,
                          "#f0f921"
                        ]
                      ]
                    },
                    "colorway": [
                      "#636efa",
                      "#EF553B",
                      "#00cc96",
                      "#ab63fa",
                      "#FFA15A",
                      "#19d3f3",
                      "#FF6692",
                      "#B6E880",
                      "#FF97FF",
                      "#FECB52"
                    ],
                    "font": {
                      "color": "#2a3f5f"
                    },
                    "geo": {
                      "bgcolor": "white",
                      "lakecolor": "white",
                      "landcolor": "#E5ECF6",
                      "showlakes": true,
                      "showland": true,
                      "subunitcolor": "white"
                    },
                    "hoverlabel": {
                      "align": "left"
                    },
                    "hovermode": "closest",
                    "mapbox": {
                      "style": "light"
                    },
                    "paper_bgcolor": "white",
                    "plot_bgcolor": "#E5ECF6",
                    "polar": {
                      "angularaxis": {
                        "gridcolor": "white",
                        "linecolor": "white",
                        "ticks": ""
                      },
                      "bgcolor": "#E5ECF6",
                      "radialaxis": {
                        "gridcolor": "white",
                        "linecolor": "white",
                        "ticks": ""
                      }
                    },
                    "scene": {
                      "xaxis": {
                        "backgroundcolor": "#E5ECF6",
                        "gridcolor": "white",
                        "gridwidth": 2,
                        "linecolor": "white",
                        "showbackground": true,
                        "ticks": "",
                        "zerolinecolor": "white"
                      },
                      "yaxis": {
                        "backgroundcolor": "#E5ECF6",
                        "gridcolor": "white",
                        "gridwidth": 2,
                        "linecolor": "white",
                        "showbackground": true,
                        "ticks": "",
                        "zerolinecolor": "white"
                      },
                      "zaxis": {
                        "backgroundcolor": "#E5ECF6",
                        "gridcolor": "white",
                        "gridwidth": 2,
                        "linecolor": "white",
                        "showbackground": true,
                        "ticks": "",
                        "zerolinecolor": "white"
                      }
                    },
                    "shapedefaults": {
                      "line": {
                        "color": "#2a3f5f"
                      }
                    },
                    "ternary": {
                      "aaxis": {
                        "gridcolor": "white",
                        "linecolor": "white",
                        "ticks": ""
                      },
                      "baxis": {
                        "gridcolor": "white",
                        "linecolor": "white",
                        "ticks": ""
                      },
                      "bgcolor": "#E5ECF6",
                      "caxis": {
                        "gridcolor": "white",
                        "linecolor": "white",
                        "ticks": ""
                      }
                    },
                    "title": {
                      "x": 0.05
                    },
                    "xaxis": {
                      "automargin": true,
                      "gridcolor": "white",
                      "linecolor": "white",
                      "ticks": "",
                      "title": {
                        "standoff": 15
                      },
                      "zerolinecolor": "white",
                      "zerolinewidth": 2
                    },
                    "yaxis": {
                      "automargin": true,
                      "gridcolor": "white",
                      "linecolor": "white",
                      "ticks": "",
                      "title": {
                        "standoff": 15
                      },
                      "zerolinecolor": "white",
                      "zerolinewidth": 2
                    }
                  }
                },
                "title": {
                  "text": "symptom:Shallow breathing"
                },
                "xaxis": {
                  "anchor": "y",
                  "domain": [
                    0,
                    1
                  ],
                  "title": {
                    "text": "date"
                  }
                },
                "yaxis": {
                  "anchor": "x",
                  "domain": [
                    0,
                    1
                  ],
                  "range": [
                    0,
                    90
                  ],
                  "title": {
                    "text": "symptom:Shallow breathing"
                  }
                }
              }
            }
          },
          "metadata": {}
        },
        {
          "output_type": "display_data",
          "data": {
            "application/vnd.plotly.v1+json": {
              "config": {
                "plotlyServerURL": "https://plot.ly"
              },
              "data": [
                {
                  "hovertemplate": "open_covid_region_code=US-AK<br>date=%{x}<br>symptom:Angular cheilitis=%{y}<extra></extra>",
                  "legendgroup": "US-AK",
                  "marker": {
                    "color": "#636efa",
                    "symbol": "circle"
                  },
                  "mode": "markers",
                  "name": "US-AK",
                  "orientation": "v",
                  "showlegend": true,
                  "type": "scatter",
                  "x": [
                    "2020-03-09",
                    "2020-03-16",
                    "2020-03-23",
                    "2020-03-30",
                    "2020-04-06",
                    "2020-04-13",
                    "2020-04-20",
                    "2020-04-27",
                    "2020-05-04",
                    "2020-05-11",
                    "2020-05-18",
                    "2020-05-25",
                    "2020-06-01",
                    "2020-06-08",
                    "2020-06-15",
                    "2020-06-22",
                    "2020-06-29",
                    "2020-07-06",
                    "2020-07-13",
                    "2020-07-20",
                    "2020-07-27",
                    "2020-08-03",
                    "2020-08-10",
                    "2020-08-17",
                    "2020-08-24",
                    "2020-08-31",
                    "2020-09-07",
                    "2020-09-14",
                    "2020-09-21"
                  ],
                  "xaxis": "x",
                  "y": [
                    12.470622950819667,
                    12.470622950819667,
                    12.470622950819667,
                    12.470622950819667,
                    7.06,
                    6.52,
                    12.470622950819667,
                    12.470622950819667,
                    12.470622950819667,
                    12.470622950819667,
                    9.08,
                    12.470622950819667,
                    11.05,
                    9.8,
                    6.8,
                    7.11,
                    12.470622950819667,
                    12.470622950819667,
                    6.52,
                    12.470622950819667,
                    12.470622950819667,
                    12.470622950819667,
                    8.75,
                    12.470622950819667,
                    12.470622950819667,
                    12.470622950819667,
                    12.470622950819667,
                    6.32,
                    12.470622950819667
                  ],
                  "yaxis": "y"
                },
                {
                  "hovertemplate": "open_covid_region_code=US-DC<br>date=%{x}<br>symptom:Angular cheilitis=%{y}<extra></extra>",
                  "legendgroup": "US-DC",
                  "marker": {
                    "color": "#EF553B",
                    "symbol": "circle"
                  },
                  "mode": "markers",
                  "name": "US-DC",
                  "orientation": "v",
                  "showlegend": true,
                  "type": "scatter",
                  "x": [
                    "2020-03-09",
                    "2020-03-16",
                    "2020-03-23",
                    "2020-03-30",
                    "2020-04-06",
                    "2020-04-13",
                    "2020-04-20",
                    "2020-04-27",
                    "2020-05-04",
                    "2020-05-11",
                    "2020-05-18",
                    "2020-05-25",
                    "2020-06-01",
                    "2020-06-08",
                    "2020-06-15",
                    "2020-06-22",
                    "2020-06-29",
                    "2020-07-06",
                    "2020-07-13",
                    "2020-07-20",
                    "2020-07-27",
                    "2020-08-03",
                    "2020-08-10",
                    "2020-08-17",
                    "2020-08-24",
                    "2020-08-31",
                    "2020-09-07",
                    "2020-09-14",
                    "2020-09-21"
                  ],
                  "xaxis": "x",
                  "y": [
                    2.69,
                    4.3,
                    3.82,
                    5.62,
                    4.9,
                    4.81,
                    4.82,
                    5.09,
                    6.03,
                    6.74,
                    3.71,
                    3.55,
                    6.32,
                    5.03,
                    5.25,
                    5.24,
                    7.01,
                    4.53,
                    3.94,
                    5.67,
                    4.63,
                    5.22,
                    4.9,
                    5.8,
                    3.87,
                    5.16,
                    4.66,
                    6.22,
                    5.28
                  ],
                  "yaxis": "y"
                },
                {
                  "hovertemplate": "open_covid_region_code=US-DE<br>date=%{x}<br>symptom:Angular cheilitis=%{y}<extra></extra>",
                  "legendgroup": "US-DE",
                  "marker": {
                    "color": "#00cc96",
                    "symbol": "circle"
                  },
                  "mode": "markers",
                  "name": "US-DE",
                  "orientation": "v",
                  "showlegend": true,
                  "type": "scatter",
                  "x": [
                    "2020-03-09",
                    "2020-03-16",
                    "2020-03-23",
                    "2020-03-30",
                    "2020-04-06",
                    "2020-04-13",
                    "2020-04-20",
                    "2020-04-27",
                    "2020-05-04",
                    "2020-05-11",
                    "2020-05-18",
                    "2020-05-25",
                    "2020-06-01",
                    "2020-06-08",
                    "2020-06-15",
                    "2020-06-22",
                    "2020-06-29",
                    "2020-07-06",
                    "2020-07-13",
                    "2020-07-20",
                    "2020-07-27",
                    "2020-08-03",
                    "2020-08-10",
                    "2020-08-17",
                    "2020-08-24",
                    "2020-08-31",
                    "2020-09-07",
                    "2020-09-14",
                    "2020-09-21"
                  ],
                  "xaxis": "x",
                  "y": [
                    4.56,
                    6.26,
                    4.91,
                    8.43,
                    7.27,
                    7.61,
                    7.67,
                    5.8,
                    6.92,
                    6.74,
                    6.25,
                    4.77,
                    7.15,
                    6.01,
                    9.15,
                    5.95,
                    6.14,
                    7.45,
                    7.39,
                    6.38,
                    7,
                    4.54,
                    6.9,
                    7.12,
                    6.52,
                    6.24,
                    7.8,
                    6.29,
                    7.74
                  ],
                  "yaxis": "y"
                },
                {
                  "hovertemplate": "open_covid_region_code=US-HI<br>date=%{x}<br>symptom:Angular cheilitis=%{y}<extra></extra>",
                  "legendgroup": "US-HI",
                  "marker": {
                    "color": "#ab63fa",
                    "symbol": "circle"
                  },
                  "mode": "markers",
                  "name": "US-HI",
                  "orientation": "v",
                  "showlegend": true,
                  "type": "scatter",
                  "x": [
                    "2020-03-09",
                    "2020-03-16",
                    "2020-03-23",
                    "2020-03-30",
                    "2020-04-06",
                    "2020-04-13",
                    "2020-04-20",
                    "2020-04-27",
                    "2020-05-04",
                    "2020-05-11",
                    "2020-05-18",
                    "2020-05-25",
                    "2020-06-01",
                    "2020-06-08",
                    "2020-06-15",
                    "2020-06-22",
                    "2020-06-29",
                    "2020-07-06",
                    "2020-07-13",
                    "2020-07-20",
                    "2020-07-27",
                    "2020-08-03",
                    "2020-08-10",
                    "2020-08-17",
                    "2020-08-24",
                    "2020-08-31",
                    "2020-09-07",
                    "2020-09-14",
                    "2020-09-21"
                  ],
                  "xaxis": "x",
                  "y": [
                    32.41,
                    28.68,
                    31.62,
                    39.39,
                    36.26,
                    47.51,
                    31.97,
                    37.96,
                    38.03,
                    37.09,
                    27.92,
                    46.53,
                    27.99,
                    34.94,
                    37.62,
                    30.68,
                    26.87,
                    22.45,
                    36.8,
                    30.39,
                    28.5,
                    40.95,
                    29.11,
                    36.2,
                    29.67,
                    33.4,
                    31.86,
                    30.14,
                    34.62
                  ],
                  "yaxis": "y"
                },
                {
                  "hovertemplate": "open_covid_region_code=US-ID<br>date=%{x}<br>symptom:Angular cheilitis=%{y}<extra></extra>",
                  "legendgroup": "US-ID",
                  "marker": {
                    "color": "#FFA15A",
                    "symbol": "circle"
                  },
                  "mode": "markers",
                  "name": "US-ID",
                  "orientation": "v",
                  "showlegend": true,
                  "type": "scatter",
                  "x": [
                    "2020-03-09",
                    "2020-03-16",
                    "2020-03-23",
                    "2020-03-30",
                    "2020-04-06",
                    "2020-04-13",
                    "2020-04-20",
                    "2020-04-27",
                    "2020-05-04",
                    "2020-05-11",
                    "2020-05-18",
                    "2020-05-25",
                    "2020-06-01",
                    "2020-06-08",
                    "2020-06-15",
                    "2020-06-22",
                    "2020-06-29",
                    "2020-07-06",
                    "2020-07-13",
                    "2020-07-20",
                    "2020-07-27",
                    "2020-08-03",
                    "2020-08-10",
                    "2020-08-17",
                    "2020-08-24",
                    "2020-08-31",
                    "2020-09-07",
                    "2020-09-14",
                    "2020-09-21"
                  ],
                  "xaxis": "x",
                  "y": [
                    12.470622950819667,
                    12.470622950819667,
                    12.470622950819667,
                    12.470622950819667,
                    12.470622950819667,
                    12.470622950819667,
                    12.470622950819667,
                    12.470622950819667,
                    12.470622950819667,
                    12.470622950819667,
                    12.470622950819667,
                    12.470622950819667,
                    12.470622950819667,
                    12.470622950819667,
                    12.470622950819667,
                    12.470622950819667,
                    12.470622950819667,
                    12.470622950819667,
                    12.470622950819667,
                    12.470622950819667,
                    12.470622950819667,
                    12.470622950819667,
                    12.470622950819667,
                    12.470622950819667,
                    12.470622950819667,
                    12.470622950819667,
                    12.470622950819667,
                    12.470622950819667,
                    12.470622950819667
                  ],
                  "yaxis": "y"
                },
                {
                  "hovertemplate": "open_covid_region_code=US-ME<br>date=%{x}<br>symptom:Angular cheilitis=%{y}<extra></extra>",
                  "legendgroup": "US-ME",
                  "marker": {
                    "color": "#19d3f3",
                    "symbol": "circle"
                  },
                  "mode": "markers",
                  "name": "US-ME",
                  "orientation": "v",
                  "showlegend": true,
                  "type": "scatter",
                  "x": [
                    "2020-03-09",
                    "2020-03-16",
                    "2020-03-23",
                    "2020-03-30",
                    "2020-04-06",
                    "2020-04-13",
                    "2020-04-20",
                    "2020-04-27",
                    "2020-05-04",
                    "2020-05-11",
                    "2020-05-18",
                    "2020-05-25",
                    "2020-06-01",
                    "2020-06-08",
                    "2020-06-15",
                    "2020-06-22",
                    "2020-06-29",
                    "2020-07-06",
                    "2020-07-13",
                    "2020-07-20",
                    "2020-07-27",
                    "2020-08-03",
                    "2020-08-10",
                    "2020-08-17",
                    "2020-08-24",
                    "2020-08-31",
                    "2020-09-07",
                    "2020-09-14",
                    "2020-09-21"
                  ],
                  "xaxis": "x",
                  "y": [
                    12.78,
                    15.25,
                    14.03,
                    11.92,
                    13.76,
                    19.78,
                    18.08,
                    16.65,
                    17.89,
                    17.78,
                    15.82,
                    14.24,
                    15.12,
                    13.55,
                    14.3,
                    6.58,
                    17.2,
                    19.84,
                    16.05,
                    20.58,
                    23.29,
                    9.86,
                    19.09,
                    19.85,
                    22.17,
                    20,
                    20.93,
                    24.98,
                    20.27
                  ],
                  "yaxis": "y"
                },
                {
                  "hovertemplate": "open_covid_region_code=US-MT<br>date=%{x}<br>symptom:Angular cheilitis=%{y}<extra></extra>",
                  "legendgroup": "US-MT",
                  "marker": {
                    "color": "#FF6692",
                    "symbol": "circle"
                  },
                  "mode": "markers",
                  "name": "US-MT",
                  "orientation": "v",
                  "showlegend": true,
                  "type": "scatter",
                  "x": [
                    "2020-03-09",
                    "2020-03-16",
                    "2020-03-23",
                    "2020-03-30",
                    "2020-04-06",
                    "2020-04-13",
                    "2020-04-20",
                    "2020-04-27",
                    "2020-05-04",
                    "2020-05-11",
                    "2020-05-18",
                    "2020-05-25",
                    "2020-06-01",
                    "2020-06-08",
                    "2020-06-15",
                    "2020-06-22",
                    "2020-06-29",
                    "2020-07-06",
                    "2020-07-13",
                    "2020-07-20",
                    "2020-07-27",
                    "2020-08-03",
                    "2020-08-10",
                    "2020-08-17",
                    "2020-08-24",
                    "2020-08-31",
                    "2020-09-07",
                    "2020-09-14",
                    "2020-09-21"
                  ],
                  "xaxis": "x",
                  "y": [
                    8.68,
                    6.74,
                    12.470622950819667,
                    6.89,
                    7.21,
                    5.08,
                    8.76,
                    8.55,
                    12.470622950819667,
                    5.74,
                    7.47,
                    9.43,
                    5.72,
                    7.47,
                    7.62,
                    8.49,
                    6.72,
                    10.77,
                    7,
                    8.74,
                    7.5,
                    7.84,
                    7.71,
                    9.39,
                    5.76,
                    7.88,
                    8.35,
                    7.68,
                    9.4
                  ],
                  "yaxis": "y"
                },
                {
                  "hovertemplate": "open_covid_region_code=US-ND<br>date=%{x}<br>symptom:Angular cheilitis=%{y}<extra></extra>",
                  "legendgroup": "US-ND",
                  "marker": {
                    "color": "#B6E880",
                    "symbol": "circle"
                  },
                  "mode": "markers",
                  "name": "US-ND",
                  "orientation": "v",
                  "showlegend": true,
                  "type": "scatter",
                  "x": [
                    "2020-03-09",
                    "2020-03-16",
                    "2020-03-23",
                    "2020-03-30",
                    "2020-04-06",
                    "2020-04-13",
                    "2020-04-20",
                    "2020-04-27",
                    "2020-05-04",
                    "2020-05-11",
                    "2020-05-18",
                    "2020-05-25",
                    "2020-06-01",
                    "2020-06-08",
                    "2020-06-15",
                    "2020-06-22",
                    "2020-06-29",
                    "2020-07-06",
                    "2020-07-13",
                    "2020-07-20",
                    "2020-07-27",
                    "2020-08-03",
                    "2020-08-10",
                    "2020-08-17",
                    "2020-08-24",
                    "2020-08-31",
                    "2020-09-07",
                    "2020-09-14",
                    "2020-09-21"
                  ],
                  "xaxis": "x",
                  "y": [
                    12.470622950819667,
                    4.38,
                    4.8,
                    12.470622950819667,
                    3.98,
                    3.91,
                    12.470622950819667,
                    4.5,
                    12.470622950819667,
                    12.470622950819667,
                    4.89,
                    4.2,
                    5.56,
                    5.1,
                    5.21,
                    4.72,
                    12.470622950819667,
                    4.17,
                    5.37,
                    12.470622950819667,
                    5.78,
                    5.59,
                    12.470622950819667,
                    4.53,
                    12.470622950819667,
                    5.39,
                    5.18,
                    12.470622950819667,
                    5.6
                  ],
                  "yaxis": "y"
                },
                {
                  "hovertemplate": "open_covid_region_code=US-NE<br>date=%{x}<br>symptom:Angular cheilitis=%{y}<extra></extra>",
                  "legendgroup": "US-NE",
                  "marker": {
                    "color": "#FF97FF",
                    "symbol": "circle"
                  },
                  "mode": "markers",
                  "name": "US-NE",
                  "orientation": "v",
                  "showlegend": true,
                  "type": "scatter",
                  "x": [
                    "2020-03-09",
                    "2020-03-16",
                    "2020-03-23",
                    "2020-03-30",
                    "2020-04-06",
                    "2020-04-13",
                    "2020-04-20",
                    "2020-04-27",
                    "2020-05-04",
                    "2020-05-11",
                    "2020-05-18",
                    "2020-05-25",
                    "2020-06-01",
                    "2020-06-08",
                    "2020-06-15",
                    "2020-06-22",
                    "2020-06-29",
                    "2020-07-06",
                    "2020-07-13",
                    "2020-07-20",
                    "2020-07-27",
                    "2020-08-03",
                    "2020-08-10",
                    "2020-08-17",
                    "2020-08-24",
                    "2020-08-31",
                    "2020-09-07",
                    "2020-09-14",
                    "2020-09-21"
                  ],
                  "xaxis": "x",
                  "y": [
                    12.470622950819667,
                    12.470622950819667,
                    12.470622950819667,
                    12.470622950819667,
                    12.470622950819667,
                    12.470622950819667,
                    12.470622950819667,
                    12.470622950819667,
                    12.470622950819667,
                    12.470622950819667,
                    12.470622950819667,
                    12.470622950819667,
                    12.470622950819667,
                    12.470622950819667,
                    12.470622950819667,
                    12.470622950819667,
                    12.470622950819667,
                    12.470622950819667,
                    12.470622950819667,
                    12.470622950819667,
                    12.470622950819667,
                    12.470622950819667,
                    12.470622950819667,
                    12.470622950819667,
                    12.470622950819667,
                    12.470622950819667,
                    12.470622950819667,
                    12.470622950819667,
                    12.470622950819667
                  ],
                  "yaxis": "y"
                },
                {
                  "hovertemplate": "open_covid_region_code=US-NH<br>date=%{x}<br>symptom:Angular cheilitis=%{y}<extra></extra>",
                  "legendgroup": "US-NH",
                  "marker": {
                    "color": "#FECB52",
                    "symbol": "circle"
                  },
                  "mode": "markers",
                  "name": "US-NH",
                  "orientation": "v",
                  "showlegend": true,
                  "type": "scatter",
                  "x": [
                    "2020-03-09",
                    "2020-03-16",
                    "2020-03-23",
                    "2020-03-30",
                    "2020-04-06",
                    "2020-04-13",
                    "2020-04-20",
                    "2020-04-27",
                    "2020-05-04",
                    "2020-05-11",
                    "2020-05-18",
                    "2020-05-25",
                    "2020-06-01",
                    "2020-06-08",
                    "2020-06-15",
                    "2020-06-22",
                    "2020-06-29",
                    "2020-07-06",
                    "2020-07-13",
                    "2020-07-20",
                    "2020-07-27",
                    "2020-08-03",
                    "2020-08-10",
                    "2020-08-17",
                    "2020-08-24",
                    "2020-08-31",
                    "2020-09-07",
                    "2020-09-14",
                    "2020-09-21"
                  ],
                  "xaxis": "x",
                  "y": [
                    14.52,
                    17.2,
                    17.58,
                    11.94,
                    17.4,
                    16.07,
                    20.42,
                    17.37,
                    17.95,
                    12.88,
                    15.4,
                    15.3,
                    16.57,
                    16.02,
                    13.08,
                    18.9,
                    14.08,
                    16.58,
                    19.18,
                    14.35,
                    16.41,
                    17.94,
                    16.13,
                    20.66,
                    16.74,
                    15.93,
                    16.35,
                    19.53,
                    15.22
                  ],
                  "yaxis": "y"
                },
                {
                  "hovertemplate": "open_covid_region_code=US-NM<br>date=%{x}<br>symptom:Angular cheilitis=%{y}<extra></extra>",
                  "legendgroup": "US-NM",
                  "marker": {
                    "color": "#636efa",
                    "symbol": "circle"
                  },
                  "mode": "markers",
                  "name": "US-NM",
                  "orientation": "v",
                  "showlegend": true,
                  "type": "scatter",
                  "x": [
                    "2020-03-09",
                    "2020-03-16",
                    "2020-03-23",
                    "2020-03-30",
                    "2020-04-06",
                    "2020-04-13",
                    "2020-04-20",
                    "2020-04-27",
                    "2020-05-04",
                    "2020-05-11",
                    "2020-05-18",
                    "2020-05-25",
                    "2020-06-01",
                    "2020-06-08",
                    "2020-06-15",
                    "2020-06-22",
                    "2020-06-29",
                    "2020-07-06",
                    "2020-07-13",
                    "2020-07-20",
                    "2020-07-27",
                    "2020-08-03",
                    "2020-08-10",
                    "2020-08-17",
                    "2020-08-24",
                    "2020-08-31",
                    "2020-09-07",
                    "2020-09-14",
                    "2020-09-21"
                  ],
                  "xaxis": "x",
                  "y": [
                    12.470622950819667,
                    12.470622950819667,
                    12.470622950819667,
                    12.470622950819667,
                    12.470622950819667,
                    12.470622950819667,
                    12.470622950819667,
                    12.470622950819667,
                    12.470622950819667,
                    12.470622950819667,
                    12.470622950819667,
                    12.470622950819667,
                    12.470622950819667,
                    12.470622950819667,
                    12.470622950819667,
                    12.470622950819667,
                    12.470622950819667,
                    12.470622950819667,
                    12.470622950819667,
                    12.470622950819667,
                    12.470622950819667,
                    12.470622950819667,
                    12.470622950819667,
                    12.470622950819667,
                    12.470622950819667,
                    12.470622950819667,
                    12.470622950819667,
                    12.470622950819667,
                    12.470622950819667
                  ],
                  "yaxis": "y"
                },
                {
                  "hovertemplate": "open_covid_region_code=US-RI<br>date=%{x}<br>symptom:Angular cheilitis=%{y}<extra></extra>",
                  "legendgroup": "US-RI",
                  "marker": {
                    "color": "#EF553B",
                    "symbol": "circle"
                  },
                  "mode": "markers",
                  "name": "US-RI",
                  "orientation": "v",
                  "showlegend": true,
                  "type": "scatter",
                  "x": [
                    "2020-03-02",
                    "2020-03-09",
                    "2020-03-16",
                    "2020-03-23",
                    "2020-03-30",
                    "2020-04-06",
                    "2020-04-13",
                    "2020-04-20",
                    "2020-04-27",
                    "2020-05-04",
                    "2020-05-11",
                    "2020-05-18",
                    "2020-05-25",
                    "2020-06-01",
                    "2020-06-08",
                    "2020-06-15",
                    "2020-06-22",
                    "2020-06-29",
                    "2020-07-06",
                    "2020-07-13",
                    "2020-07-20",
                    "2020-07-27",
                    "2020-08-03",
                    "2020-08-10",
                    "2020-08-17",
                    "2020-08-24",
                    "2020-08-31",
                    "2020-09-07",
                    "2020-09-14",
                    "2020-09-21"
                  ],
                  "xaxis": "x",
                  "y": [
                    13.94,
                    8.88,
                    10.7,
                    10.41,
                    12.43,
                    12.31,
                    10.81,
                    10.73,
                    15.49,
                    10.94,
                    12.47,
                    11.68,
                    6.37,
                    10.75,
                    10.29,
                    6.8,
                    10.14,
                    11.56,
                    12.05,
                    12.4,
                    12.58,
                    12.26,
                    10.29,
                    11.08,
                    10.17,
                    10.43,
                    14.2,
                    12.78,
                    12.87,
                    10.57
                  ],
                  "yaxis": "y"
                },
                {
                  "hovertemplate": "open_covid_region_code=US-SD<br>date=%{x}<br>symptom:Angular cheilitis=%{y}<extra></extra>",
                  "legendgroup": "US-SD",
                  "marker": {
                    "color": "#00cc96",
                    "symbol": "circle"
                  },
                  "mode": "markers",
                  "name": "US-SD",
                  "orientation": "v",
                  "showlegend": true,
                  "type": "scatter",
                  "x": [
                    "2020-03-09",
                    "2020-03-16",
                    "2020-03-23",
                    "2020-03-30",
                    "2020-04-06",
                    "2020-04-13",
                    "2020-04-20",
                    "2020-04-27",
                    "2020-05-04",
                    "2020-05-11",
                    "2020-05-18",
                    "2020-05-25",
                    "2020-06-01",
                    "2020-06-08",
                    "2020-06-15",
                    "2020-06-22",
                    "2020-06-29",
                    "2020-07-06",
                    "2020-07-13",
                    "2020-07-20",
                    "2020-07-27",
                    "2020-08-03",
                    "2020-08-10",
                    "2020-08-17",
                    "2020-08-24",
                    "2020-08-31",
                    "2020-09-07",
                    "2020-09-14",
                    "2020-09-21"
                  ],
                  "xaxis": "x",
                  "y": [
                    6.02,
                    8.1,
                    4.76,
                    4.94,
                    4.73,
                    4.81,
                    4.75,
                    5.8,
                    12.470622950819667,
                    12.470622950819667,
                    12.470622950819667,
                    6.9,
                    5.19,
                    12.470622950819667,
                    12.470622950819667,
                    6.67,
                    12.470622950819667,
                    12.470622950819667,
                    12.470622950819667,
                    6.55,
                    7.93,
                    5.97,
                    12.470622950819667,
                    12.470622950819667,
                    6.03,
                    6.82,
                    6.56,
                    4.41,
                    12.470622950819667
                  ],
                  "yaxis": "y"
                },
                {
                  "hovertemplate": "open_covid_region_code=US-VT<br>date=%{x}<br>symptom:Angular cheilitis=%{y}<extra></extra>",
                  "legendgroup": "US-VT",
                  "marker": {
                    "color": "#ab63fa",
                    "symbol": "circle"
                  },
                  "mode": "markers",
                  "name": "US-VT",
                  "orientation": "v",
                  "showlegend": true,
                  "type": "scatter",
                  "x": [
                    "2020-03-09",
                    "2020-03-16",
                    "2020-03-23",
                    "2020-03-30",
                    "2020-04-06",
                    "2020-04-13",
                    "2020-04-20",
                    "2020-04-27",
                    "2020-05-04",
                    "2020-05-11",
                    "2020-05-18",
                    "2020-05-25",
                    "2020-06-01",
                    "2020-06-08",
                    "2020-06-15",
                    "2020-06-22",
                    "2020-06-29",
                    "2020-07-06",
                    "2020-07-13",
                    "2020-07-20",
                    "2020-07-27",
                    "2020-08-03",
                    "2020-08-10",
                    "2020-08-17",
                    "2020-08-24",
                    "2020-08-31",
                    "2020-09-07",
                    "2020-09-14",
                    "2020-09-21"
                  ],
                  "xaxis": "x",
                  "y": [
                    6.73,
                    6.88,
                    12.470622950819667,
                    6.86,
                    12.470622950819667,
                    7.6,
                    7.54,
                    12.470622950819667,
                    6.59,
                    10.63,
                    10.81,
                    12.470622950819667,
                    9.19,
                    7.7,
                    10.6,
                    6.72,
                    6.48,
                    12.470622950819667,
                    7.69,
                    8.31,
                    6.18,
                    9.4,
                    7.38,
                    10.37,
                    8.23,
                    12.470622950819667,
                    8.46,
                    9.2,
                    8.48
                  ],
                  "yaxis": "y"
                },
                {
                  "hovertemplate": "open_covid_region_code=US-WV<br>date=%{x}<br>symptom:Angular cheilitis=%{y}<extra></extra>",
                  "legendgroup": "US-WV",
                  "marker": {
                    "color": "#FFA15A",
                    "symbol": "circle"
                  },
                  "mode": "markers",
                  "name": "US-WV",
                  "orientation": "v",
                  "showlegend": true,
                  "type": "scatter",
                  "x": [
                    "2020-03-09",
                    "2020-03-16",
                    "2020-03-23",
                    "2020-03-30",
                    "2020-04-06",
                    "2020-04-13",
                    "2020-04-20",
                    "2020-04-27",
                    "2020-05-04",
                    "2020-05-11",
                    "2020-05-18",
                    "2020-05-25",
                    "2020-06-01",
                    "2020-06-08",
                    "2020-06-15",
                    "2020-06-22",
                    "2020-06-29",
                    "2020-07-06",
                    "2020-07-13",
                    "2020-07-20",
                    "2020-07-27",
                    "2020-08-03",
                    "2020-08-10",
                    "2020-08-17",
                    "2020-08-24",
                    "2020-08-31",
                    "2020-09-07",
                    "2020-09-14",
                    "2020-09-21"
                  ],
                  "xaxis": "x",
                  "y": [
                    15.73,
                    13.4,
                    11.66,
                    16.11,
                    16.05,
                    18.56,
                    17.73,
                    17.39,
                    21.43,
                    13.07,
                    15.89,
                    15.15,
                    18.43,
                    16.2,
                    19.23,
                    14.53,
                    19.21,
                    16.36,
                    16.3,
                    17.76,
                    20.31,
                    20.6,
                    21.74,
                    19.21,
                    15.98,
                    17.03,
                    15.65,
                    16.87,
                    15.84
                  ],
                  "yaxis": "y"
                },
                {
                  "hovertemplate": "open_covid_region_code=US-WY<br>date=%{x}<br>symptom:Angular cheilitis=%{y}<extra></extra>",
                  "legendgroup": "US-WY",
                  "marker": {
                    "color": "#19d3f3",
                    "symbol": "circle"
                  },
                  "mode": "markers",
                  "name": "US-WY",
                  "orientation": "v",
                  "showlegend": true,
                  "type": "scatter",
                  "x": [
                    "2020-03-09",
                    "2020-03-16",
                    "2020-03-23",
                    "2020-03-30",
                    "2020-04-06",
                    "2020-04-13",
                    "2020-04-20",
                    "2020-04-27",
                    "2020-05-04",
                    "2020-05-11",
                    "2020-05-18",
                    "2020-05-25",
                    "2020-06-01",
                    "2020-06-08",
                    "2020-06-15",
                    "2020-06-22",
                    "2020-06-29",
                    "2020-07-06",
                    "2020-07-13",
                    "2020-07-20",
                    "2020-07-27",
                    "2020-08-03",
                    "2020-08-10",
                    "2020-08-17",
                    "2020-08-24",
                    "2020-08-31",
                    "2020-09-07",
                    "2020-09-14",
                    "2020-09-21"
                  ],
                  "xaxis": "x",
                  "y": [
                    12.470622950819667,
                    12.470622950819667,
                    12.470622950819667,
                    12.470622950819667,
                    12.470622950819667,
                    12.470622950819667,
                    12.470622950819667,
                    12.470622950819667,
                    3.45,
                    12.470622950819667,
                    12.470622950819667,
                    12.470622950819667,
                    12.470622950819667,
                    12.470622950819667,
                    2.73,
                    12.470622950819667,
                    12.470622950819667,
                    12.470622950819667,
                    12.470622950819667,
                    12.470622950819667,
                    3.21,
                    12.470622950819667,
                    12.470622950819667,
                    12.470622950819667,
                    12.470622950819667,
                    12.470622950819667,
                    2.25,
                    12.470622950819667,
                    12.470622950819667
                  ],
                  "yaxis": "y"
                }
              ],
              "layout": {
                "legend": {
                  "title": {
                    "text": "open_covid_region_code"
                  },
                  "tracegroupgap": 0
                },
                "template": {
                  "data": {
                    "bar": [
                      {
                        "error_x": {
                          "color": "#2a3f5f"
                        },
                        "error_y": {
                          "color": "#2a3f5f"
                        },
                        "marker": {
                          "line": {
                            "color": "#E5ECF6",
                            "width": 0.5
                          }
                        },
                        "type": "bar"
                      }
                    ],
                    "barpolar": [
                      {
                        "marker": {
                          "line": {
                            "color": "#E5ECF6",
                            "width": 0.5
                          }
                        },
                        "type": "barpolar"
                      }
                    ],
                    "carpet": [
                      {
                        "aaxis": {
                          "endlinecolor": "#2a3f5f",
                          "gridcolor": "white",
                          "linecolor": "white",
                          "minorgridcolor": "white",
                          "startlinecolor": "#2a3f5f"
                        },
                        "baxis": {
                          "endlinecolor": "#2a3f5f",
                          "gridcolor": "white",
                          "linecolor": "white",
                          "minorgridcolor": "white",
                          "startlinecolor": "#2a3f5f"
                        },
                        "type": "carpet"
                      }
                    ],
                    "choropleth": [
                      {
                        "colorbar": {
                          "outlinewidth": 0,
                          "ticks": ""
                        },
                        "type": "choropleth"
                      }
                    ],
                    "contour": [
                      {
                        "colorbar": {
                          "outlinewidth": 0,
                          "ticks": ""
                        },
                        "colorscale": [
                          [
                            0,
                            "#0d0887"
                          ],
                          [
                            0.1111111111111111,
                            "#46039f"
                          ],
                          [
                            0.2222222222222222,
                            "#7201a8"
                          ],
                          [
                            0.3333333333333333,
                            "#9c179e"
                          ],
                          [
                            0.4444444444444444,
                            "#bd3786"
                          ],
                          [
                            0.5555555555555556,
                            "#d8576b"
                          ],
                          [
                            0.6666666666666666,
                            "#ed7953"
                          ],
                          [
                            0.7777777777777778,
                            "#fb9f3a"
                          ],
                          [
                            0.8888888888888888,
                            "#fdca26"
                          ],
                          [
                            1,
                            "#f0f921"
                          ]
                        ],
                        "type": "contour"
                      }
                    ],
                    "contourcarpet": [
                      {
                        "colorbar": {
                          "outlinewidth": 0,
                          "ticks": ""
                        },
                        "type": "contourcarpet"
                      }
                    ],
                    "heatmap": [
                      {
                        "colorbar": {
                          "outlinewidth": 0,
                          "ticks": ""
                        },
                        "colorscale": [
                          [
                            0,
                            "#0d0887"
                          ],
                          [
                            0.1111111111111111,
                            "#46039f"
                          ],
                          [
                            0.2222222222222222,
                            "#7201a8"
                          ],
                          [
                            0.3333333333333333,
                            "#9c179e"
                          ],
                          [
                            0.4444444444444444,
                            "#bd3786"
                          ],
                          [
                            0.5555555555555556,
                            "#d8576b"
                          ],
                          [
                            0.6666666666666666,
                            "#ed7953"
                          ],
                          [
                            0.7777777777777778,
                            "#fb9f3a"
                          ],
                          [
                            0.8888888888888888,
                            "#fdca26"
                          ],
                          [
                            1,
                            "#f0f921"
                          ]
                        ],
                        "type": "heatmap"
                      }
                    ],
                    "heatmapgl": [
                      {
                        "colorbar": {
                          "outlinewidth": 0,
                          "ticks": ""
                        },
                        "colorscale": [
                          [
                            0,
                            "#0d0887"
                          ],
                          [
                            0.1111111111111111,
                            "#46039f"
                          ],
                          [
                            0.2222222222222222,
                            "#7201a8"
                          ],
                          [
                            0.3333333333333333,
                            "#9c179e"
                          ],
                          [
                            0.4444444444444444,
                            "#bd3786"
                          ],
                          [
                            0.5555555555555556,
                            "#d8576b"
                          ],
                          [
                            0.6666666666666666,
                            "#ed7953"
                          ],
                          [
                            0.7777777777777778,
                            "#fb9f3a"
                          ],
                          [
                            0.8888888888888888,
                            "#fdca26"
                          ],
                          [
                            1,
                            "#f0f921"
                          ]
                        ],
                        "type": "heatmapgl"
                      }
                    ],
                    "histogram": [
                      {
                        "marker": {
                          "colorbar": {
                            "outlinewidth": 0,
                            "ticks": ""
                          }
                        },
                        "type": "histogram"
                      }
                    ],
                    "histogram2d": [
                      {
                        "colorbar": {
                          "outlinewidth": 0,
                          "ticks": ""
                        },
                        "colorscale": [
                          [
                            0,
                            "#0d0887"
                          ],
                          [
                            0.1111111111111111,
                            "#46039f"
                          ],
                          [
                            0.2222222222222222,
                            "#7201a8"
                          ],
                          [
                            0.3333333333333333,
                            "#9c179e"
                          ],
                          [
                            0.4444444444444444,
                            "#bd3786"
                          ],
                          [
                            0.5555555555555556,
                            "#d8576b"
                          ],
                          [
                            0.6666666666666666,
                            "#ed7953"
                          ],
                          [
                            0.7777777777777778,
                            "#fb9f3a"
                          ],
                          [
                            0.8888888888888888,
                            "#fdca26"
                          ],
                          [
                            1,
                            "#f0f921"
                          ]
                        ],
                        "type": "histogram2d"
                      }
                    ],
                    "histogram2dcontour": [
                      {
                        "colorbar": {
                          "outlinewidth": 0,
                          "ticks": ""
                        },
                        "colorscale": [
                          [
                            0,
                            "#0d0887"
                          ],
                          [
                            0.1111111111111111,
                            "#46039f"
                          ],
                          [
                            0.2222222222222222,
                            "#7201a8"
                          ],
                          [
                            0.3333333333333333,
                            "#9c179e"
                          ],
                          [
                            0.4444444444444444,
                            "#bd3786"
                          ],
                          [
                            0.5555555555555556,
                            "#d8576b"
                          ],
                          [
                            0.6666666666666666,
                            "#ed7953"
                          ],
                          [
                            0.7777777777777778,
                            "#fb9f3a"
                          ],
                          [
                            0.8888888888888888,
                            "#fdca26"
                          ],
                          [
                            1,
                            "#f0f921"
                          ]
                        ],
                        "type": "histogram2dcontour"
                      }
                    ],
                    "mesh3d": [
                      {
                        "colorbar": {
                          "outlinewidth": 0,
                          "ticks": ""
                        },
                        "type": "mesh3d"
                      }
                    ],
                    "parcoords": [
                      {
                        "line": {
                          "colorbar": {
                            "outlinewidth": 0,
                            "ticks": ""
                          }
                        },
                        "type": "parcoords"
                      }
                    ],
                    "pie": [
                      {
                        "automargin": true,
                        "type": "pie"
                      }
                    ],
                    "scatter": [
                      {
                        "marker": {
                          "colorbar": {
                            "outlinewidth": 0,
                            "ticks": ""
                          }
                        },
                        "type": "scatter"
                      }
                    ],
                    "scatter3d": [
                      {
                        "line": {
                          "colorbar": {
                            "outlinewidth": 0,
                            "ticks": ""
                          }
                        },
                        "marker": {
                          "colorbar": {
                            "outlinewidth": 0,
                            "ticks": ""
                          }
                        },
                        "type": "scatter3d"
                      }
                    ],
                    "scattercarpet": [
                      {
                        "marker": {
                          "colorbar": {
                            "outlinewidth": 0,
                            "ticks": ""
                          }
                        },
                        "type": "scattercarpet"
                      }
                    ],
                    "scattergeo": [
                      {
                        "marker": {
                          "colorbar": {
                            "outlinewidth": 0,
                            "ticks": ""
                          }
                        },
                        "type": "scattergeo"
                      }
                    ],
                    "scattergl": [
                      {
                        "marker": {
                          "colorbar": {
                            "outlinewidth": 0,
                            "ticks": ""
                          }
                        },
                        "type": "scattergl"
                      }
                    ],
                    "scattermapbox": [
                      {
                        "marker": {
                          "colorbar": {
                            "outlinewidth": 0,
                            "ticks": ""
                          }
                        },
                        "type": "scattermapbox"
                      }
                    ],
                    "scatterpolar": [
                      {
                        "marker": {
                          "colorbar": {
                            "outlinewidth": 0,
                            "ticks": ""
                          }
                        },
                        "type": "scatterpolar"
                      }
                    ],
                    "scatterpolargl": [
                      {
                        "marker": {
                          "colorbar": {
                            "outlinewidth": 0,
                            "ticks": ""
                          }
                        },
                        "type": "scatterpolargl"
                      }
                    ],
                    "scatterternary": [
                      {
                        "marker": {
                          "colorbar": {
                            "outlinewidth": 0,
                            "ticks": ""
                          }
                        },
                        "type": "scatterternary"
                      }
                    ],
                    "surface": [
                      {
                        "colorbar": {
                          "outlinewidth": 0,
                          "ticks": ""
                        },
                        "colorscale": [
                          [
                            0,
                            "#0d0887"
                          ],
                          [
                            0.1111111111111111,
                            "#46039f"
                          ],
                          [
                            0.2222222222222222,
                            "#7201a8"
                          ],
                          [
                            0.3333333333333333,
                            "#9c179e"
                          ],
                          [
                            0.4444444444444444,
                            "#bd3786"
                          ],
                          [
                            0.5555555555555556,
                            "#d8576b"
                          ],
                          [
                            0.6666666666666666,
                            "#ed7953"
                          ],
                          [
                            0.7777777777777778,
                            "#fb9f3a"
                          ],
                          [
                            0.8888888888888888,
                            "#fdca26"
                          ],
                          [
                            1,
                            "#f0f921"
                          ]
                        ],
                        "type": "surface"
                      }
                    ],
                    "table": [
                      {
                        "cells": {
                          "fill": {
                            "color": "#EBF0F8"
                          },
                          "line": {
                            "color": "white"
                          }
                        },
                        "header": {
                          "fill": {
                            "color": "#C8D4E3"
                          },
                          "line": {
                            "color": "white"
                          }
                        },
                        "type": "table"
                      }
                    ]
                  },
                  "layout": {
                    "annotationdefaults": {
                      "arrowcolor": "#2a3f5f",
                      "arrowhead": 0,
                      "arrowwidth": 1
                    },
                    "coloraxis": {
                      "colorbar": {
                        "outlinewidth": 0,
                        "ticks": ""
                      }
                    },
                    "colorscale": {
                      "diverging": [
                        [
                          0,
                          "#8e0152"
                        ],
                        [
                          0.1,
                          "#c51b7d"
                        ],
                        [
                          0.2,
                          "#de77ae"
                        ],
                        [
                          0.3,
                          "#f1b6da"
                        ],
                        [
                          0.4,
                          "#fde0ef"
                        ],
                        [
                          0.5,
                          "#f7f7f7"
                        ],
                        [
                          0.6,
                          "#e6f5d0"
                        ],
                        [
                          0.7,
                          "#b8e186"
                        ],
                        [
                          0.8,
                          "#7fbc41"
                        ],
                        [
                          0.9,
                          "#4d9221"
                        ],
                        [
                          1,
                          "#276419"
                        ]
                      ],
                      "sequential": [
                        [
                          0,
                          "#0d0887"
                        ],
                        [
                          0.1111111111111111,
                          "#46039f"
                        ],
                        [
                          0.2222222222222222,
                          "#7201a8"
                        ],
                        [
                          0.3333333333333333,
                          "#9c179e"
                        ],
                        [
                          0.4444444444444444,
                          "#bd3786"
                        ],
                        [
                          0.5555555555555556,
                          "#d8576b"
                        ],
                        [
                          0.6666666666666666,
                          "#ed7953"
                        ],
                        [
                          0.7777777777777778,
                          "#fb9f3a"
                        ],
                        [
                          0.8888888888888888,
                          "#fdca26"
                        ],
                        [
                          1,
                          "#f0f921"
                        ]
                      ],
                      "sequentialminus": [
                        [
                          0,
                          "#0d0887"
                        ],
                        [
                          0.1111111111111111,
                          "#46039f"
                        ],
                        [
                          0.2222222222222222,
                          "#7201a8"
                        ],
                        [
                          0.3333333333333333,
                          "#9c179e"
                        ],
                        [
                          0.4444444444444444,
                          "#bd3786"
                        ],
                        [
                          0.5555555555555556,
                          "#d8576b"
                        ],
                        [
                          0.6666666666666666,
                          "#ed7953"
                        ],
                        [
                          0.7777777777777778,
                          "#fb9f3a"
                        ],
                        [
                          0.8888888888888888,
                          "#fdca26"
                        ],
                        [
                          1,
                          "#f0f921"
                        ]
                      ]
                    },
                    "colorway": [
                      "#636efa",
                      "#EF553B",
                      "#00cc96",
                      "#ab63fa",
                      "#FFA15A",
                      "#19d3f3",
                      "#FF6692",
                      "#B6E880",
                      "#FF97FF",
                      "#FECB52"
                    ],
                    "font": {
                      "color": "#2a3f5f"
                    },
                    "geo": {
                      "bgcolor": "white",
                      "lakecolor": "white",
                      "landcolor": "#E5ECF6",
                      "showlakes": true,
                      "showland": true,
                      "subunitcolor": "white"
                    },
                    "hoverlabel": {
                      "align": "left"
                    },
                    "hovermode": "closest",
                    "mapbox": {
                      "style": "light"
                    },
                    "paper_bgcolor": "white",
                    "plot_bgcolor": "#E5ECF6",
                    "polar": {
                      "angularaxis": {
                        "gridcolor": "white",
                        "linecolor": "white",
                        "ticks": ""
                      },
                      "bgcolor": "#E5ECF6",
                      "radialaxis": {
                        "gridcolor": "white",
                        "linecolor": "white",
                        "ticks": ""
                      }
                    },
                    "scene": {
                      "xaxis": {
                        "backgroundcolor": "#E5ECF6",
                        "gridcolor": "white",
                        "gridwidth": 2,
                        "linecolor": "white",
                        "showbackground": true,
                        "ticks": "",
                        "zerolinecolor": "white"
                      },
                      "yaxis": {
                        "backgroundcolor": "#E5ECF6",
                        "gridcolor": "white",
                        "gridwidth": 2,
                        "linecolor": "white",
                        "showbackground": true,
                        "ticks": "",
                        "zerolinecolor": "white"
                      },
                      "zaxis": {
                        "backgroundcolor": "#E5ECF6",
                        "gridcolor": "white",
                        "gridwidth": 2,
                        "linecolor": "white",
                        "showbackground": true,
                        "ticks": "",
                        "zerolinecolor": "white"
                      }
                    },
                    "shapedefaults": {
                      "line": {
                        "color": "#2a3f5f"
                      }
                    },
                    "ternary": {
                      "aaxis": {
                        "gridcolor": "white",
                        "linecolor": "white",
                        "ticks": ""
                      },
                      "baxis": {
                        "gridcolor": "white",
                        "linecolor": "white",
                        "ticks": ""
                      },
                      "bgcolor": "#E5ECF6",
                      "caxis": {
                        "gridcolor": "white",
                        "linecolor": "white",
                        "ticks": ""
                      }
                    },
                    "title": {
                      "x": 0.05
                    },
                    "xaxis": {
                      "automargin": true,
                      "gridcolor": "white",
                      "linecolor": "white",
                      "ticks": "",
                      "title": {
                        "standoff": 15
                      },
                      "zerolinecolor": "white",
                      "zerolinewidth": 2
                    },
                    "yaxis": {
                      "automargin": true,
                      "gridcolor": "white",
                      "linecolor": "white",
                      "ticks": "",
                      "title": {
                        "standoff": 15
                      },
                      "zerolinecolor": "white",
                      "zerolinewidth": 2
                    }
                  }
                },
                "title": {
                  "text": "symptom:Angular cheilitis"
                },
                "xaxis": {
                  "anchor": "y",
                  "domain": [
                    0,
                    1
                  ],
                  "title": {
                    "text": "date"
                  }
                },
                "yaxis": {
                  "anchor": "x",
                  "domain": [
                    0,
                    1
                  ],
                  "range": [
                    0,
                    90
                  ],
                  "title": {
                    "text": "symptom:Angular cheilitis"
                  }
                }
              }
            }
          },
          "metadata": {}
        },
        {
          "output_type": "display_data",
          "data": {
            "application/vnd.plotly.v1+json": {
              "config": {
                "plotlyServerURL": "https://plot.ly"
              },
              "data": [
                {
                  "hovertemplate": "open_covid_region_code=US-AK<br>date=%{x}<br>symptom:Dysautonomia=%{y}<extra></extra>",
                  "legendgroup": "US-AK",
                  "marker": {
                    "color": "#636efa",
                    "symbol": "circle"
                  },
                  "mode": "markers",
                  "name": "US-AK",
                  "orientation": "v",
                  "showlegend": true,
                  "type": "scatter",
                  "x": [
                    "2020-03-09",
                    "2020-03-16",
                    "2020-03-23",
                    "2020-03-30",
                    "2020-04-06",
                    "2020-04-13",
                    "2020-04-20",
                    "2020-04-27",
                    "2020-05-04",
                    "2020-05-11",
                    "2020-05-18",
                    "2020-05-25",
                    "2020-06-01",
                    "2020-06-08",
                    "2020-06-15",
                    "2020-06-22",
                    "2020-06-29",
                    "2020-07-06",
                    "2020-07-13",
                    "2020-07-20",
                    "2020-07-27",
                    "2020-08-03",
                    "2020-08-10",
                    "2020-08-17",
                    "2020-08-24",
                    "2020-08-31",
                    "2020-09-07",
                    "2020-09-14",
                    "2020-09-21"
                  ],
                  "xaxis": "x",
                  "y": [
                    9.76,
                    8.73,
                    7.19,
                    11.881746031746038,
                    11.881746031746038,
                    11.881746031746038,
                    11.881746031746038,
                    6.41,
                    8.57,
                    11.881746031746038,
                    11.881746031746038,
                    11.881746031746038,
                    11.881746031746038,
                    10.73,
                    11.881746031746038,
                    11.881746031746038,
                    6.44,
                    11.881746031746038,
                    7.73,
                    6.78,
                    7.07,
                    7.81,
                    11.37,
                    7.59,
                    6.93,
                    8.45,
                    7.94,
                    9.11,
                    9.48
                  ],
                  "yaxis": "y"
                },
                {
                  "hovertemplate": "open_covid_region_code=US-DC<br>date=%{x}<br>symptom:Dysautonomia=%{y}<extra></extra>",
                  "legendgroup": "US-DC",
                  "marker": {
                    "color": "#EF553B",
                    "symbol": "circle"
                  },
                  "mode": "markers",
                  "name": "US-DC",
                  "orientation": "v",
                  "showlegend": true,
                  "type": "scatter",
                  "x": [
                    "2020-03-09",
                    "2020-03-16",
                    "2020-03-23",
                    "2020-03-30",
                    "2020-04-06",
                    "2020-04-13",
                    "2020-04-20",
                    "2020-04-27",
                    "2020-05-04",
                    "2020-05-11",
                    "2020-05-18",
                    "2020-05-25",
                    "2020-06-01",
                    "2020-06-08",
                    "2020-06-15",
                    "2020-06-22",
                    "2020-06-29",
                    "2020-07-06",
                    "2020-07-13",
                    "2020-07-20",
                    "2020-07-27",
                    "2020-08-03",
                    "2020-08-10",
                    "2020-08-17",
                    "2020-08-24",
                    "2020-08-31",
                    "2020-09-07",
                    "2020-09-14",
                    "2020-09-21"
                  ],
                  "xaxis": "x",
                  "y": [
                    4.72,
                    3.2,
                    3.73,
                    2.53,
                    3.3,
                    2.43,
                    3.07,
                    3.5,
                    2.52,
                    2.64,
                    3.53,
                    2.18,
                    3.13,
                    3.62,
                    4.96,
                    4.67,
                    4.83,
                    5.49,
                    5.27,
                    4.53,
                    5.02,
                    7.54,
                    5.63,
                    4.64,
                    4.56,
                    5.2,
                    4.34,
                    5.6,
                    4.75
                  ],
                  "yaxis": "y"
                },
                {
                  "hovertemplate": "open_covid_region_code=US-DE<br>date=%{x}<br>symptom:Dysautonomia=%{y}<extra></extra>",
                  "legendgroup": "US-DE",
                  "marker": {
                    "color": "#00cc96",
                    "symbol": "circle"
                  },
                  "mode": "markers",
                  "name": "US-DE",
                  "orientation": "v",
                  "showlegend": true,
                  "type": "scatter",
                  "x": [
                    "2020-03-09",
                    "2020-03-16",
                    "2020-03-23",
                    "2020-03-30",
                    "2020-04-06",
                    "2020-04-13",
                    "2020-04-20",
                    "2020-04-27",
                    "2020-05-04",
                    "2020-05-11",
                    "2020-05-18",
                    "2020-05-25",
                    "2020-06-01",
                    "2020-06-08",
                    "2020-06-15",
                    "2020-06-22",
                    "2020-06-29",
                    "2020-07-06",
                    "2020-07-13",
                    "2020-07-20",
                    "2020-07-27",
                    "2020-08-03",
                    "2020-08-10",
                    "2020-08-17",
                    "2020-08-24",
                    "2020-08-31",
                    "2020-09-07",
                    "2020-09-14",
                    "2020-09-21"
                  ],
                  "xaxis": "x",
                  "y": [
                    9.8,
                    5.29,
                    6.4,
                    7.9,
                    4.47,
                    7.17,
                    5.62,
                    5.5,
                    4.09,
                    5.98,
                    7.15,
                    5.23,
                    7.15,
                    5.55,
                    7.74,
                    4.69,
                    9.36,
                    7.45,
                    8.55,
                    6.92,
                    6.61,
                    9.24,
                    8.84,
                    10.12,
                    8.46,
                    8.7,
                    8.77,
                    7.47,
                    9.8
                  ],
                  "yaxis": "y"
                },
                {
                  "hovertemplate": "open_covid_region_code=US-HI<br>date=%{x}<br>symptom:Dysautonomia=%{y}<extra></extra>",
                  "legendgroup": "US-HI",
                  "marker": {
                    "color": "#ab63fa",
                    "symbol": "circle"
                  },
                  "mode": "markers",
                  "name": "US-HI",
                  "orientation": "v",
                  "showlegend": true,
                  "type": "scatter",
                  "x": [
                    "2020-03-09",
                    "2020-03-16",
                    "2020-03-23",
                    "2020-03-30",
                    "2020-04-06",
                    "2020-04-13",
                    "2020-04-20",
                    "2020-04-27",
                    "2020-05-04",
                    "2020-05-11",
                    "2020-05-18",
                    "2020-05-25",
                    "2020-06-01",
                    "2020-06-08",
                    "2020-06-15",
                    "2020-06-22",
                    "2020-06-29",
                    "2020-07-06",
                    "2020-07-13",
                    "2020-07-20",
                    "2020-07-27",
                    "2020-08-03",
                    "2020-08-10",
                    "2020-08-17",
                    "2020-08-24",
                    "2020-08-31",
                    "2020-09-07",
                    "2020-09-14",
                    "2020-09-21"
                  ],
                  "xaxis": "x",
                  "y": [
                    11.881746031746038,
                    11.881746031746038,
                    11.881746031746038,
                    11.881746031746038,
                    11.881746031746038,
                    11.881746031746038,
                    11.881746031746038,
                    11.881746031746038,
                    11.881746031746038,
                    11.881746031746038,
                    11.881746031746038,
                    11.881746031746038,
                    11.881746031746038,
                    11.881746031746038,
                    11.881746031746038,
                    11.881746031746038,
                    11.881746031746038,
                    11.881746031746038,
                    11.881746031746038,
                    11.881746031746038,
                    11.881746031746038,
                    11.881746031746038,
                    11.881746031746038,
                    11.881746031746038,
                    11.881746031746038,
                    11.881746031746038,
                    11.881746031746038,
                    11.881746031746038,
                    11.881746031746038
                  ],
                  "yaxis": "y"
                },
                {
                  "hovertemplate": "open_covid_region_code=US-ID<br>date=%{x}<br>symptom:Dysautonomia=%{y}<extra></extra>",
                  "legendgroup": "US-ID",
                  "marker": {
                    "color": "#FFA15A",
                    "symbol": "circle"
                  },
                  "mode": "markers",
                  "name": "US-ID",
                  "orientation": "v",
                  "showlegend": true,
                  "type": "scatter",
                  "x": [
                    "2020-03-09",
                    "2020-03-16",
                    "2020-03-23",
                    "2020-03-30",
                    "2020-04-06",
                    "2020-04-13",
                    "2020-04-20",
                    "2020-04-27",
                    "2020-05-04",
                    "2020-05-11",
                    "2020-05-18",
                    "2020-05-25",
                    "2020-06-01",
                    "2020-06-08",
                    "2020-06-15",
                    "2020-06-22",
                    "2020-06-29",
                    "2020-07-06",
                    "2020-07-13",
                    "2020-07-20",
                    "2020-07-27",
                    "2020-08-03",
                    "2020-08-10",
                    "2020-08-17",
                    "2020-08-24",
                    "2020-08-31",
                    "2020-09-07",
                    "2020-09-14",
                    "2020-09-21"
                  ],
                  "xaxis": "x",
                  "y": [
                    11.881746031746038,
                    11.881746031746038,
                    11.881746031746038,
                    11.881746031746038,
                    11.881746031746038,
                    11.881746031746038,
                    11.881746031746038,
                    11.881746031746038,
                    11.881746031746038,
                    11.881746031746038,
                    11.881746031746038,
                    11.881746031746038,
                    11.881746031746038,
                    11.881746031746038,
                    11.881746031746038,
                    11.881746031746038,
                    11.881746031746038,
                    11.881746031746038,
                    11.881746031746038,
                    11.881746031746038,
                    11.881746031746038,
                    11.881746031746038,
                    11.881746031746038,
                    11.881746031746038,
                    11.881746031746038,
                    11.881746031746038,
                    11.881746031746038,
                    11.881746031746038,
                    11.881746031746038
                  ],
                  "yaxis": "y"
                },
                {
                  "hovertemplate": "open_covid_region_code=US-ME<br>date=%{x}<br>symptom:Dysautonomia=%{y}<extra></extra>",
                  "legendgroup": "US-ME",
                  "marker": {
                    "color": "#19d3f3",
                    "symbol": "circle"
                  },
                  "mode": "markers",
                  "name": "US-ME",
                  "orientation": "v",
                  "showlegend": true,
                  "type": "scatter",
                  "x": [
                    "2020-03-09",
                    "2020-03-16",
                    "2020-03-23",
                    "2020-03-30",
                    "2020-04-06",
                    "2020-04-13",
                    "2020-04-20",
                    "2020-04-27",
                    "2020-05-04",
                    "2020-05-11",
                    "2020-05-18",
                    "2020-05-25",
                    "2020-06-01",
                    "2020-06-08",
                    "2020-06-15",
                    "2020-06-22",
                    "2020-06-29",
                    "2020-07-06",
                    "2020-07-13",
                    "2020-07-20",
                    "2020-07-27",
                    "2020-08-03",
                    "2020-08-10",
                    "2020-08-17",
                    "2020-08-24",
                    "2020-08-31",
                    "2020-09-07",
                    "2020-09-14",
                    "2020-09-21"
                  ],
                  "xaxis": "x",
                  "y": [
                    24.16,
                    23.64,
                    20.9,
                    15.47,
                    13.03,
                    16.94,
                    18.23,
                    18.23,
                    19.33,
                    18.22,
                    20.53,
                    20.69,
                    20.31,
                    26.05,
                    25.52,
                    11.51,
                    26.76,
                    22.43,
                    27.19,
                    31.01,
                    31.43,
                    30.57,
                    31.63,
                    24.99,
                    27.09,
                    23.69,
                    28.32,
                    18.59,
                    30.68
                  ],
                  "yaxis": "y"
                },
                {
                  "hovertemplate": "open_covid_region_code=US-MT<br>date=%{x}<br>symptom:Dysautonomia=%{y}<extra></extra>",
                  "legendgroup": "US-MT",
                  "marker": {
                    "color": "#FF6692",
                    "symbol": "circle"
                  },
                  "mode": "markers",
                  "name": "US-MT",
                  "orientation": "v",
                  "showlegend": true,
                  "type": "scatter",
                  "x": [
                    "2020-03-09",
                    "2020-03-16",
                    "2020-03-23",
                    "2020-03-30",
                    "2020-04-06",
                    "2020-04-13",
                    "2020-04-20",
                    "2020-04-27",
                    "2020-05-04",
                    "2020-05-11",
                    "2020-05-18",
                    "2020-05-25",
                    "2020-06-01",
                    "2020-06-08",
                    "2020-06-15",
                    "2020-06-22",
                    "2020-06-29",
                    "2020-07-06",
                    "2020-07-13",
                    "2020-07-20",
                    "2020-07-27",
                    "2020-08-03",
                    "2020-08-10",
                    "2020-08-17",
                    "2020-08-24",
                    "2020-08-31",
                    "2020-09-07",
                    "2020-09-14",
                    "2020-09-21"
                  ],
                  "xaxis": "x",
                  "y": [
                    12.06,
                    8.49,
                    8.82,
                    8.13,
                    8.49,
                    10.94,
                    8.53,
                    7.37,
                    12.95,
                    8.49,
                    10.91,
                    12.74,
                    9.7,
                    10.7,
                    9.24,
                    11.23,
                    10.01,
                    12.1,
                    8.45,
                    11.04,
                    12.1,
                    10.13,
                    14.95,
                    11.85,
                    11.41,
                    10.85,
                    12.18,
                    9.77,
                    11.41
                  ],
                  "yaxis": "y"
                },
                {
                  "hovertemplate": "open_covid_region_code=US-ND<br>date=%{x}<br>symptom:Dysautonomia=%{y}<extra></extra>",
                  "legendgroup": "US-ND",
                  "marker": {
                    "color": "#B6E880",
                    "symbol": "circle"
                  },
                  "mode": "markers",
                  "name": "US-ND",
                  "orientation": "v",
                  "showlegend": true,
                  "type": "scatter",
                  "x": [
                    "2020-03-09",
                    "2020-03-16",
                    "2020-03-23",
                    "2020-03-30",
                    "2020-04-06",
                    "2020-04-13",
                    "2020-04-20",
                    "2020-04-27",
                    "2020-05-04",
                    "2020-05-11",
                    "2020-05-18",
                    "2020-05-25",
                    "2020-06-01",
                    "2020-06-08",
                    "2020-06-15",
                    "2020-06-22",
                    "2020-06-29",
                    "2020-07-06",
                    "2020-07-13",
                    "2020-07-20",
                    "2020-07-27",
                    "2020-08-03",
                    "2020-08-10",
                    "2020-08-17",
                    "2020-08-24",
                    "2020-08-31",
                    "2020-09-07",
                    "2020-09-14",
                    "2020-09-21"
                  ],
                  "xaxis": "x",
                  "y": [
                    5.95,
                    6.13,
                    6,
                    3.96,
                    11.881746031746038,
                    5.96,
                    11.881746031746038,
                    5.81,
                    11.881746031746038,
                    4.29,
                    5.81,
                    4.62,
                    11.881746031746038,
                    5.81,
                    5.21,
                    11.881746031746038,
                    11.881746031746038,
                    4.91,
                    4.13,
                    5.82,
                    8.3,
                    5.9,
                    8.55,
                    5.63,
                    7.58,
                    5.2,
                    7.68,
                    7.95,
                    5.96
                  ],
                  "yaxis": "y"
                },
                {
                  "hovertemplate": "open_covid_region_code=US-NE<br>date=%{x}<br>symptom:Dysautonomia=%{y}<extra></extra>",
                  "legendgroup": "US-NE",
                  "marker": {
                    "color": "#FF97FF",
                    "symbol": "circle"
                  },
                  "mode": "markers",
                  "name": "US-NE",
                  "orientation": "v",
                  "showlegend": true,
                  "type": "scatter",
                  "x": [
                    "2020-03-09",
                    "2020-03-16",
                    "2020-03-23",
                    "2020-03-30",
                    "2020-04-06",
                    "2020-04-13",
                    "2020-04-20",
                    "2020-04-27",
                    "2020-05-04",
                    "2020-05-11",
                    "2020-05-18",
                    "2020-05-25",
                    "2020-06-01",
                    "2020-06-08",
                    "2020-06-15",
                    "2020-06-22",
                    "2020-06-29",
                    "2020-07-06",
                    "2020-07-13",
                    "2020-07-20",
                    "2020-07-27",
                    "2020-08-03",
                    "2020-08-10",
                    "2020-08-17",
                    "2020-08-24",
                    "2020-08-31",
                    "2020-09-07",
                    "2020-09-14",
                    "2020-09-21"
                  ],
                  "xaxis": "x",
                  "y": [
                    11.881746031746038,
                    11.881746031746038,
                    11.881746031746038,
                    11.881746031746038,
                    11.881746031746038,
                    11.881746031746038,
                    11.881746031746038,
                    11.881746031746038,
                    11.881746031746038,
                    11.881746031746038,
                    11.881746031746038,
                    11.881746031746038,
                    11.881746031746038,
                    11.881746031746038,
                    11.881746031746038,
                    11.881746031746038,
                    11.881746031746038,
                    11.881746031746038,
                    11.881746031746038,
                    11.881746031746038,
                    11.881746031746038,
                    11.881746031746038,
                    11.881746031746038,
                    11.881746031746038,
                    11.881746031746038,
                    11.881746031746038,
                    11.881746031746038,
                    11.881746031746038,
                    11.881746031746038
                  ],
                  "yaxis": "y"
                },
                {
                  "hovertemplate": "open_covid_region_code=US-NH<br>date=%{x}<br>symptom:Dysautonomia=%{y}<extra></extra>",
                  "legendgroup": "US-NH",
                  "marker": {
                    "color": "#FECB52",
                    "symbol": "circle"
                  },
                  "mode": "markers",
                  "name": "US-NH",
                  "orientation": "v",
                  "showlegend": true,
                  "type": "scatter",
                  "x": [
                    "2020-03-09",
                    "2020-03-16",
                    "2020-03-23",
                    "2020-03-30",
                    "2020-04-06",
                    "2020-04-13",
                    "2020-04-20",
                    "2020-04-27",
                    "2020-05-04",
                    "2020-05-11",
                    "2020-05-18",
                    "2020-05-25",
                    "2020-06-01",
                    "2020-06-08",
                    "2020-06-15",
                    "2020-06-22",
                    "2020-06-29",
                    "2020-07-06",
                    "2020-07-13",
                    "2020-07-20",
                    "2020-07-27",
                    "2020-08-03",
                    "2020-08-10",
                    "2020-08-17",
                    "2020-08-24",
                    "2020-08-31",
                    "2020-09-07",
                    "2020-09-14",
                    "2020-09-21"
                  ],
                  "xaxis": "x",
                  "y": [
                    25.88,
                    19.82,
                    20.68,
                    15.84,
                    18.27,
                    15.23,
                    20.42,
                    11.87,
                    20.16,
                    21.13,
                    15.01,
                    17.61,
                    17.6,
                    25.87,
                    22.51,
                    18.77,
                    20.65,
                    19.19,
                    24.33,
                    28.04,
                    29.25,
                    28.83,
                    28.43,
                    26.36,
                    29.58,
                    21.8,
                    23.2,
                    23.94,
                    27.43
                  ],
                  "yaxis": "y"
                },
                {
                  "hovertemplate": "open_covid_region_code=US-NM<br>date=%{x}<br>symptom:Dysautonomia=%{y}<extra></extra>",
                  "legendgroup": "US-NM",
                  "marker": {
                    "color": "#636efa",
                    "symbol": "circle"
                  },
                  "mode": "markers",
                  "name": "US-NM",
                  "orientation": "v",
                  "showlegend": true,
                  "type": "scatter",
                  "x": [
                    "2020-03-09",
                    "2020-03-16",
                    "2020-03-23",
                    "2020-03-30",
                    "2020-04-06",
                    "2020-04-13",
                    "2020-04-20",
                    "2020-04-27",
                    "2020-05-04",
                    "2020-05-11",
                    "2020-05-18",
                    "2020-05-25",
                    "2020-06-01",
                    "2020-06-08",
                    "2020-06-15",
                    "2020-06-22",
                    "2020-06-29",
                    "2020-07-06",
                    "2020-07-13",
                    "2020-07-20",
                    "2020-07-27",
                    "2020-08-03",
                    "2020-08-10",
                    "2020-08-17",
                    "2020-08-24",
                    "2020-08-31",
                    "2020-09-07",
                    "2020-09-14",
                    "2020-09-21"
                  ],
                  "xaxis": "x",
                  "y": [
                    11.881746031746038,
                    11.881746031746038,
                    11.881746031746038,
                    11.881746031746038,
                    11.881746031746038,
                    11.881746031746038,
                    11.881746031746038,
                    11.881746031746038,
                    11.881746031746038,
                    11.881746031746038,
                    11.881746031746038,
                    11.881746031746038,
                    11.881746031746038,
                    11.881746031746038,
                    11.881746031746038,
                    11.881746031746038,
                    11.881746031746038,
                    11.881746031746038,
                    11.881746031746038,
                    11.881746031746038,
                    11.881746031746038,
                    11.881746031746038,
                    11.881746031746038,
                    11.881746031746038,
                    11.881746031746038,
                    11.881746031746038,
                    11.881746031746038,
                    11.881746031746038,
                    11.881746031746038
                  ],
                  "yaxis": "y"
                },
                {
                  "hovertemplate": "open_covid_region_code=US-RI<br>date=%{x}<br>symptom:Dysautonomia=%{y}<extra></extra>",
                  "legendgroup": "US-RI",
                  "marker": {
                    "color": "#EF553B",
                    "symbol": "circle"
                  },
                  "mode": "markers",
                  "name": "US-RI",
                  "orientation": "v",
                  "showlegend": true,
                  "type": "scatter",
                  "x": [
                    "2020-03-02",
                    "2020-03-09",
                    "2020-03-16",
                    "2020-03-23",
                    "2020-03-30",
                    "2020-04-06",
                    "2020-04-13",
                    "2020-04-20",
                    "2020-04-27",
                    "2020-05-04",
                    "2020-05-11",
                    "2020-05-18",
                    "2020-05-25",
                    "2020-06-01",
                    "2020-06-08",
                    "2020-06-15",
                    "2020-06-22",
                    "2020-06-29",
                    "2020-07-06",
                    "2020-07-13",
                    "2020-07-20",
                    "2020-07-27",
                    "2020-08-03",
                    "2020-08-10",
                    "2020-08-17",
                    "2020-08-24",
                    "2020-08-31",
                    "2020-09-07",
                    "2020-09-14",
                    "2020-09-21"
                  ],
                  "xaxis": "x",
                  "y": [
                    12.84,
                    15.98,
                    9.71,
                    6.87,
                    7.72,
                    9.44,
                    9.32,
                    8.67,
                    9.55,
                    7.19,
                    10.29,
                    10.94,
                    12.42,
                    8.12,
                    13.83,
                    10.48,
                    15.32,
                    16.28,
                    15.56,
                    13.72,
                    13.13,
                    10.94,
                    16.7,
                    15.8,
                    16.25,
                    14.95,
                    12.8,
                    13.4,
                    13.07,
                    17.42
                  ],
                  "yaxis": "y"
                },
                {
                  "hovertemplate": "open_covid_region_code=US-SD<br>date=%{x}<br>symptom:Dysautonomia=%{y}<extra></extra>",
                  "legendgroup": "US-SD",
                  "marker": {
                    "color": "#00cc96",
                    "symbol": "circle"
                  },
                  "mode": "markers",
                  "name": "US-SD",
                  "orientation": "v",
                  "showlegend": true,
                  "type": "scatter",
                  "x": [
                    "2020-03-09",
                    "2020-03-16",
                    "2020-03-23",
                    "2020-03-30",
                    "2020-04-06",
                    "2020-04-13",
                    "2020-04-20",
                    "2020-04-27",
                    "2020-05-04",
                    "2020-05-11",
                    "2020-05-18",
                    "2020-05-25",
                    "2020-06-01",
                    "2020-06-08",
                    "2020-06-15",
                    "2020-06-22",
                    "2020-06-29",
                    "2020-07-06",
                    "2020-07-13",
                    "2020-07-20",
                    "2020-07-27",
                    "2020-08-03",
                    "2020-08-10",
                    "2020-08-17",
                    "2020-08-24",
                    "2020-08-31",
                    "2020-09-07",
                    "2020-09-14",
                    "2020-09-21"
                  ],
                  "xaxis": "x",
                  "y": [
                    7.47,
                    11.881746031746038,
                    8.61,
                    11.881746031746038,
                    11.881746031746038,
                    11.881746031746038,
                    6.95,
                    5.56,
                    11.881746031746038,
                    11.881746031746038,
                    6.91,
                    5.75,
                    6.46,
                    8.56,
                    7.41,
                    9.06,
                    7.13,
                    7.03,
                    9.48,
                    8.65,
                    9.91,
                    9.75,
                    5.81,
                    6.35,
                    8.7,
                    6.47,
                    10.11,
                    5.4,
                    8.51
                  ],
                  "yaxis": "y"
                },
                {
                  "hovertemplate": "open_covid_region_code=US-VT<br>date=%{x}<br>symptom:Dysautonomia=%{y}<extra></extra>",
                  "legendgroup": "US-VT",
                  "marker": {
                    "color": "#ab63fa",
                    "symbol": "circle"
                  },
                  "mode": "markers",
                  "name": "US-VT",
                  "orientation": "v",
                  "showlegend": true,
                  "type": "scatter",
                  "x": [
                    "2020-03-09",
                    "2020-03-16",
                    "2020-03-23",
                    "2020-03-30",
                    "2020-04-06",
                    "2020-04-13",
                    "2020-04-20",
                    "2020-04-27",
                    "2020-05-04",
                    "2020-05-11",
                    "2020-05-18",
                    "2020-05-25",
                    "2020-06-01",
                    "2020-06-08",
                    "2020-06-15",
                    "2020-06-22",
                    "2020-06-29",
                    "2020-07-06",
                    "2020-07-13",
                    "2020-07-20",
                    "2020-07-27",
                    "2020-08-03",
                    "2020-08-10",
                    "2020-08-17",
                    "2020-08-24",
                    "2020-08-31",
                    "2020-09-07",
                    "2020-09-14",
                    "2020-09-21"
                  ],
                  "xaxis": "x",
                  "y": [
                    6.73,
                    12,
                    7.44,
                    8.82,
                    5.81,
                    8.72,
                    7.98,
                    9.3,
                    6.88,
                    8.01,
                    8.22,
                    10.28,
                    9.48,
                    10.65,
                    8.91,
                    10.31,
                    10.25,
                    12.98,
                    13.16,
                    9.65,
                    13.83,
                    14.25,
                    7.24,
                    14.89,
                    12.77,
                    11.49,
                    12.07,
                    11.54,
                    12.86
                  ],
                  "yaxis": "y"
                },
                {
                  "hovertemplate": "open_covid_region_code=US-WV<br>date=%{x}<br>symptom:Dysautonomia=%{y}<extra></extra>",
                  "legendgroup": "US-WV",
                  "marker": {
                    "color": "#FFA15A",
                    "symbol": "circle"
                  },
                  "mode": "markers",
                  "name": "US-WV",
                  "orientation": "v",
                  "showlegend": true,
                  "type": "scatter",
                  "x": [
                    "2020-03-09",
                    "2020-03-16",
                    "2020-03-23",
                    "2020-03-30",
                    "2020-04-06",
                    "2020-04-13",
                    "2020-04-20",
                    "2020-04-27",
                    "2020-05-04",
                    "2020-05-11",
                    "2020-05-18",
                    "2020-05-25",
                    "2020-06-01",
                    "2020-06-08",
                    "2020-06-15",
                    "2020-06-22",
                    "2020-06-29",
                    "2020-07-06",
                    "2020-07-13",
                    "2020-07-20",
                    "2020-07-27",
                    "2020-08-03",
                    "2020-08-10",
                    "2020-08-17",
                    "2020-08-24",
                    "2020-08-31",
                    "2020-09-07",
                    "2020-09-14",
                    "2020-09-21"
                  ],
                  "xaxis": "x",
                  "y": [
                    21.02,
                    22.65,
                    12.11,
                    15.67,
                    18.3,
                    17.55,
                    17.01,
                    18.43,
                    19.48,
                    21.07,
                    18.39,
                    15.63,
                    21.01,
                    24.39,
                    19.56,
                    22.77,
                    22.38,
                    22.14,
                    23.88,
                    22.44,
                    25.43,
                    26.4,
                    28.05,
                    22.51,
                    26.19,
                    25.93,
                    23.03,
                    22.54,
                    27.09
                  ],
                  "yaxis": "y"
                },
                {
                  "hovertemplate": "open_covid_region_code=US-WY<br>date=%{x}<br>symptom:Dysautonomia=%{y}<extra></extra>",
                  "legendgroup": "US-WY",
                  "marker": {
                    "color": "#19d3f3",
                    "symbol": "circle"
                  },
                  "mode": "markers",
                  "name": "US-WY",
                  "orientation": "v",
                  "showlegend": true,
                  "type": "scatter",
                  "x": [
                    "2020-03-09",
                    "2020-03-16",
                    "2020-03-23",
                    "2020-03-30",
                    "2020-04-06",
                    "2020-04-13",
                    "2020-04-20",
                    "2020-04-27",
                    "2020-05-04",
                    "2020-05-11",
                    "2020-05-18",
                    "2020-05-25",
                    "2020-06-01",
                    "2020-06-08",
                    "2020-06-15",
                    "2020-06-22",
                    "2020-06-29",
                    "2020-07-06",
                    "2020-07-13",
                    "2020-07-20",
                    "2020-07-27",
                    "2020-08-03",
                    "2020-08-10",
                    "2020-08-17",
                    "2020-08-24",
                    "2020-08-31",
                    "2020-09-07",
                    "2020-09-14",
                    "2020-09-21"
                  ],
                  "xaxis": "x",
                  "y": [
                    2.45,
                    11.881746031746038,
                    11.881746031746038,
                    11.881746031746038,
                    11.881746031746038,
                    2.17,
                    11.881746031746038,
                    3.41,
                    2.6,
                    11.881746031746038,
                    11.881746031746038,
                    2.42,
                    2.63,
                    2.63,
                    11.881746031746038,
                    11.881746031746038,
                    11.881746031746038,
                    3.39,
                    2.4,
                    11.881746031746038,
                    2.81,
                    2.8,
                    3.99,
                    2.75,
                    3.37,
                    2.68,
                    2.92,
                    3.17,
                    3.56
                  ],
                  "yaxis": "y"
                }
              ],
              "layout": {
                "legend": {
                  "title": {
                    "text": "open_covid_region_code"
                  },
                  "tracegroupgap": 0
                },
                "template": {
                  "data": {
                    "bar": [
                      {
                        "error_x": {
                          "color": "#2a3f5f"
                        },
                        "error_y": {
                          "color": "#2a3f5f"
                        },
                        "marker": {
                          "line": {
                            "color": "#E5ECF6",
                            "width": 0.5
                          }
                        },
                        "type": "bar"
                      }
                    ],
                    "barpolar": [
                      {
                        "marker": {
                          "line": {
                            "color": "#E5ECF6",
                            "width": 0.5
                          }
                        },
                        "type": "barpolar"
                      }
                    ],
                    "carpet": [
                      {
                        "aaxis": {
                          "endlinecolor": "#2a3f5f",
                          "gridcolor": "white",
                          "linecolor": "white",
                          "minorgridcolor": "white",
                          "startlinecolor": "#2a3f5f"
                        },
                        "baxis": {
                          "endlinecolor": "#2a3f5f",
                          "gridcolor": "white",
                          "linecolor": "white",
                          "minorgridcolor": "white",
                          "startlinecolor": "#2a3f5f"
                        },
                        "type": "carpet"
                      }
                    ],
                    "choropleth": [
                      {
                        "colorbar": {
                          "outlinewidth": 0,
                          "ticks": ""
                        },
                        "type": "choropleth"
                      }
                    ],
                    "contour": [
                      {
                        "colorbar": {
                          "outlinewidth": 0,
                          "ticks": ""
                        },
                        "colorscale": [
                          [
                            0,
                            "#0d0887"
                          ],
                          [
                            0.1111111111111111,
                            "#46039f"
                          ],
                          [
                            0.2222222222222222,
                            "#7201a8"
                          ],
                          [
                            0.3333333333333333,
                            "#9c179e"
                          ],
                          [
                            0.4444444444444444,
                            "#bd3786"
                          ],
                          [
                            0.5555555555555556,
                            "#d8576b"
                          ],
                          [
                            0.6666666666666666,
                            "#ed7953"
                          ],
                          [
                            0.7777777777777778,
                            "#fb9f3a"
                          ],
                          [
                            0.8888888888888888,
                            "#fdca26"
                          ],
                          [
                            1,
                            "#f0f921"
                          ]
                        ],
                        "type": "contour"
                      }
                    ],
                    "contourcarpet": [
                      {
                        "colorbar": {
                          "outlinewidth": 0,
                          "ticks": ""
                        },
                        "type": "contourcarpet"
                      }
                    ],
                    "heatmap": [
                      {
                        "colorbar": {
                          "outlinewidth": 0,
                          "ticks": ""
                        },
                        "colorscale": [
                          [
                            0,
                            "#0d0887"
                          ],
                          [
                            0.1111111111111111,
                            "#46039f"
                          ],
                          [
                            0.2222222222222222,
                            "#7201a8"
                          ],
                          [
                            0.3333333333333333,
                            "#9c179e"
                          ],
                          [
                            0.4444444444444444,
                            "#bd3786"
                          ],
                          [
                            0.5555555555555556,
                            "#d8576b"
                          ],
                          [
                            0.6666666666666666,
                            "#ed7953"
                          ],
                          [
                            0.7777777777777778,
                            "#fb9f3a"
                          ],
                          [
                            0.8888888888888888,
                            "#fdca26"
                          ],
                          [
                            1,
                            "#f0f921"
                          ]
                        ],
                        "type": "heatmap"
                      }
                    ],
                    "heatmapgl": [
                      {
                        "colorbar": {
                          "outlinewidth": 0,
                          "ticks": ""
                        },
                        "colorscale": [
                          [
                            0,
                            "#0d0887"
                          ],
                          [
                            0.1111111111111111,
                            "#46039f"
                          ],
                          [
                            0.2222222222222222,
                            "#7201a8"
                          ],
                          [
                            0.3333333333333333,
                            "#9c179e"
                          ],
                          [
                            0.4444444444444444,
                            "#bd3786"
                          ],
                          [
                            0.5555555555555556,
                            "#d8576b"
                          ],
                          [
                            0.6666666666666666,
                            "#ed7953"
                          ],
                          [
                            0.7777777777777778,
                            "#fb9f3a"
                          ],
                          [
                            0.8888888888888888,
                            "#fdca26"
                          ],
                          [
                            1,
                            "#f0f921"
                          ]
                        ],
                        "type": "heatmapgl"
                      }
                    ],
                    "histogram": [
                      {
                        "marker": {
                          "colorbar": {
                            "outlinewidth": 0,
                            "ticks": ""
                          }
                        },
                        "type": "histogram"
                      }
                    ],
                    "histogram2d": [
                      {
                        "colorbar": {
                          "outlinewidth": 0,
                          "ticks": ""
                        },
                        "colorscale": [
                          [
                            0,
                            "#0d0887"
                          ],
                          [
                            0.1111111111111111,
                            "#46039f"
                          ],
                          [
                            0.2222222222222222,
                            "#7201a8"
                          ],
                          [
                            0.3333333333333333,
                            "#9c179e"
                          ],
                          [
                            0.4444444444444444,
                            "#bd3786"
                          ],
                          [
                            0.5555555555555556,
                            "#d8576b"
                          ],
                          [
                            0.6666666666666666,
                            "#ed7953"
                          ],
                          [
                            0.7777777777777778,
                            "#fb9f3a"
                          ],
                          [
                            0.8888888888888888,
                            "#fdca26"
                          ],
                          [
                            1,
                            "#f0f921"
                          ]
                        ],
                        "type": "histogram2d"
                      }
                    ],
                    "histogram2dcontour": [
                      {
                        "colorbar": {
                          "outlinewidth": 0,
                          "ticks": ""
                        },
                        "colorscale": [
                          [
                            0,
                            "#0d0887"
                          ],
                          [
                            0.1111111111111111,
                            "#46039f"
                          ],
                          [
                            0.2222222222222222,
                            "#7201a8"
                          ],
                          [
                            0.3333333333333333,
                            "#9c179e"
                          ],
                          [
                            0.4444444444444444,
                            "#bd3786"
                          ],
                          [
                            0.5555555555555556,
                            "#d8576b"
                          ],
                          [
                            0.6666666666666666,
                            "#ed7953"
                          ],
                          [
                            0.7777777777777778,
                            "#fb9f3a"
                          ],
                          [
                            0.8888888888888888,
                            "#fdca26"
                          ],
                          [
                            1,
                            "#f0f921"
                          ]
                        ],
                        "type": "histogram2dcontour"
                      }
                    ],
                    "mesh3d": [
                      {
                        "colorbar": {
                          "outlinewidth": 0,
                          "ticks": ""
                        },
                        "type": "mesh3d"
                      }
                    ],
                    "parcoords": [
                      {
                        "line": {
                          "colorbar": {
                            "outlinewidth": 0,
                            "ticks": ""
                          }
                        },
                        "type": "parcoords"
                      }
                    ],
                    "pie": [
                      {
                        "automargin": true,
                        "type": "pie"
                      }
                    ],
                    "scatter": [
                      {
                        "marker": {
                          "colorbar": {
                            "outlinewidth": 0,
                            "ticks": ""
                          }
                        },
                        "type": "scatter"
                      }
                    ],
                    "scatter3d": [
                      {
                        "line": {
                          "colorbar": {
                            "outlinewidth": 0,
                            "ticks": ""
                          }
                        },
                        "marker": {
                          "colorbar": {
                            "outlinewidth": 0,
                            "ticks": ""
                          }
                        },
                        "type": "scatter3d"
                      }
                    ],
                    "scattercarpet": [
                      {
                        "marker": {
                          "colorbar": {
                            "outlinewidth": 0,
                            "ticks": ""
                          }
                        },
                        "type": "scattercarpet"
                      }
                    ],
                    "scattergeo": [
                      {
                        "marker": {
                          "colorbar": {
                            "outlinewidth": 0,
                            "ticks": ""
                          }
                        },
                        "type": "scattergeo"
                      }
                    ],
                    "scattergl": [
                      {
                        "marker": {
                          "colorbar": {
                            "outlinewidth": 0,
                            "ticks": ""
                          }
                        },
                        "type": "scattergl"
                      }
                    ],
                    "scattermapbox": [
                      {
                        "marker": {
                          "colorbar": {
                            "outlinewidth": 0,
                            "ticks": ""
                          }
                        },
                        "type": "scattermapbox"
                      }
                    ],
                    "scatterpolar": [
                      {
                        "marker": {
                          "colorbar": {
                            "outlinewidth": 0,
                            "ticks": ""
                          }
                        },
                        "type": "scatterpolar"
                      }
                    ],
                    "scatterpolargl": [
                      {
                        "marker": {
                          "colorbar": {
                            "outlinewidth": 0,
                            "ticks": ""
                          }
                        },
                        "type": "scatterpolargl"
                      }
                    ],
                    "scatterternary": [
                      {
                        "marker": {
                          "colorbar": {
                            "outlinewidth": 0,
                            "ticks": ""
                          }
                        },
                        "type": "scatterternary"
                      }
                    ],
                    "surface": [
                      {
                        "colorbar": {
                          "outlinewidth": 0,
                          "ticks": ""
                        },
                        "colorscale": [
                          [
                            0,
                            "#0d0887"
                          ],
                          [
                            0.1111111111111111,
                            "#46039f"
                          ],
                          [
                            0.2222222222222222,
                            "#7201a8"
                          ],
                          [
                            0.3333333333333333,
                            "#9c179e"
                          ],
                          [
                            0.4444444444444444,
                            "#bd3786"
                          ],
                          [
                            0.5555555555555556,
                            "#d8576b"
                          ],
                          [
                            0.6666666666666666,
                            "#ed7953"
                          ],
                          [
                            0.7777777777777778,
                            "#fb9f3a"
                          ],
                          [
                            0.8888888888888888,
                            "#fdca26"
                          ],
                          [
                            1,
                            "#f0f921"
                          ]
                        ],
                        "type": "surface"
                      }
                    ],
                    "table": [
                      {
                        "cells": {
                          "fill": {
                            "color": "#EBF0F8"
                          },
                          "line": {
                            "color": "white"
                          }
                        },
                        "header": {
                          "fill": {
                            "color": "#C8D4E3"
                          },
                          "line": {
                            "color": "white"
                          }
                        },
                        "type": "table"
                      }
                    ]
                  },
                  "layout": {
                    "annotationdefaults": {
                      "arrowcolor": "#2a3f5f",
                      "arrowhead": 0,
                      "arrowwidth": 1
                    },
                    "coloraxis": {
                      "colorbar": {
                        "outlinewidth": 0,
                        "ticks": ""
                      }
                    },
                    "colorscale": {
                      "diverging": [
                        [
                          0,
                          "#8e0152"
                        ],
                        [
                          0.1,
                          "#c51b7d"
                        ],
                        [
                          0.2,
                          "#de77ae"
                        ],
                        [
                          0.3,
                          "#f1b6da"
                        ],
                        [
                          0.4,
                          "#fde0ef"
                        ],
                        [
                          0.5,
                          "#f7f7f7"
                        ],
                        [
                          0.6,
                          "#e6f5d0"
                        ],
                        [
                          0.7,
                          "#b8e186"
                        ],
                        [
                          0.8,
                          "#7fbc41"
                        ],
                        [
                          0.9,
                          "#4d9221"
                        ],
                        [
                          1,
                          "#276419"
                        ]
                      ],
                      "sequential": [
                        [
                          0,
                          "#0d0887"
                        ],
                        [
                          0.1111111111111111,
                          "#46039f"
                        ],
                        [
                          0.2222222222222222,
                          "#7201a8"
                        ],
                        [
                          0.3333333333333333,
                          "#9c179e"
                        ],
                        [
                          0.4444444444444444,
                          "#bd3786"
                        ],
                        [
                          0.5555555555555556,
                          "#d8576b"
                        ],
                        [
                          0.6666666666666666,
                          "#ed7953"
                        ],
                        [
                          0.7777777777777778,
                          "#fb9f3a"
                        ],
                        [
                          0.8888888888888888,
                          "#fdca26"
                        ],
                        [
                          1,
                          "#f0f921"
                        ]
                      ],
                      "sequentialminus": [
                        [
                          0,
                          "#0d0887"
                        ],
                        [
                          0.1111111111111111,
                          "#46039f"
                        ],
                        [
                          0.2222222222222222,
                          "#7201a8"
                        ],
                        [
                          0.3333333333333333,
                          "#9c179e"
                        ],
                        [
                          0.4444444444444444,
                          "#bd3786"
                        ],
                        [
                          0.5555555555555556,
                          "#d8576b"
                        ],
                        [
                          0.6666666666666666,
                          "#ed7953"
                        ],
                        [
                          0.7777777777777778,
                          "#fb9f3a"
                        ],
                        [
                          0.8888888888888888,
                          "#fdca26"
                        ],
                        [
                          1,
                          "#f0f921"
                        ]
                      ]
                    },
                    "colorway": [
                      "#636efa",
                      "#EF553B",
                      "#00cc96",
                      "#ab63fa",
                      "#FFA15A",
                      "#19d3f3",
                      "#FF6692",
                      "#B6E880",
                      "#FF97FF",
                      "#FECB52"
                    ],
                    "font": {
                      "color": "#2a3f5f"
                    },
                    "geo": {
                      "bgcolor": "white",
                      "lakecolor": "white",
                      "landcolor": "#E5ECF6",
                      "showlakes": true,
                      "showland": true,
                      "subunitcolor": "white"
                    },
                    "hoverlabel": {
                      "align": "left"
                    },
                    "hovermode": "closest",
                    "mapbox": {
                      "style": "light"
                    },
                    "paper_bgcolor": "white",
                    "plot_bgcolor": "#E5ECF6",
                    "polar": {
                      "angularaxis": {
                        "gridcolor": "white",
                        "linecolor": "white",
                        "ticks": ""
                      },
                      "bgcolor": "#E5ECF6",
                      "radialaxis": {
                        "gridcolor": "white",
                        "linecolor": "white",
                        "ticks": ""
                      }
                    },
                    "scene": {
                      "xaxis": {
                        "backgroundcolor": "#E5ECF6",
                        "gridcolor": "white",
                        "gridwidth": 2,
                        "linecolor": "white",
                        "showbackground": true,
                        "ticks": "",
                        "zerolinecolor": "white"
                      },
                      "yaxis": {
                        "backgroundcolor": "#E5ECF6",
                        "gridcolor": "white",
                        "gridwidth": 2,
                        "linecolor": "white",
                        "showbackground": true,
                        "ticks": "",
                        "zerolinecolor": "white"
                      },
                      "zaxis": {
                        "backgroundcolor": "#E5ECF6",
                        "gridcolor": "white",
                        "gridwidth": 2,
                        "linecolor": "white",
                        "showbackground": true,
                        "ticks": "",
                        "zerolinecolor": "white"
                      }
                    },
                    "shapedefaults": {
                      "line": {
                        "color": "#2a3f5f"
                      }
                    },
                    "ternary": {
                      "aaxis": {
                        "gridcolor": "white",
                        "linecolor": "white",
                        "ticks": ""
                      },
                      "baxis": {
                        "gridcolor": "white",
                        "linecolor": "white",
                        "ticks": ""
                      },
                      "bgcolor": "#E5ECF6",
                      "caxis": {
                        "gridcolor": "white",
                        "linecolor": "white",
                        "ticks": ""
                      }
                    },
                    "title": {
                      "x": 0.05
                    },
                    "xaxis": {
                      "automargin": true,
                      "gridcolor": "white",
                      "linecolor": "white",
                      "ticks": "",
                      "title": {
                        "standoff": 15
                      },
                      "zerolinecolor": "white",
                      "zerolinewidth": 2
                    },
                    "yaxis": {
                      "automargin": true,
                      "gridcolor": "white",
                      "linecolor": "white",
                      "ticks": "",
                      "title": {
                        "standoff": 15
                      },
                      "zerolinecolor": "white",
                      "zerolinewidth": 2
                    }
                  }
                },
                "title": {
                  "text": "symptom:Dysautonomia"
                },
                "xaxis": {
                  "anchor": "y",
                  "domain": [
                    0,
                    1
                  ],
                  "title": {
                    "text": "date"
                  }
                },
                "yaxis": {
                  "anchor": "x",
                  "domain": [
                    0,
                    1
                  ],
                  "range": [
                    0,
                    90
                  ],
                  "title": {
                    "text": "symptom:Dysautonomia"
                  }
                }
              }
            }
          },
          "metadata": {}
        },
        {
          "output_type": "display_data",
          "data": {
            "application/vnd.plotly.v1+json": {
              "config": {
                "plotlyServerURL": "https://plot.ly"
              },
              "data": [
                {
                  "hovertemplate": "open_covid_region_code=US-AK<br>date=%{x}<br>symptom:Laryngitis=%{y}<extra></extra>",
                  "legendgroup": "US-AK",
                  "marker": {
                    "color": "#636efa",
                    "symbol": "circle"
                  },
                  "mode": "markers",
                  "name": "US-AK",
                  "orientation": "v",
                  "showlegend": true,
                  "type": "scatter",
                  "x": [
                    "2020-03-09",
                    "2020-03-16",
                    "2020-03-23",
                    "2020-03-30",
                    "2020-04-06",
                    "2020-04-13",
                    "2020-04-20",
                    "2020-04-27",
                    "2020-05-04",
                    "2020-05-11",
                    "2020-05-18",
                    "2020-05-25",
                    "2020-06-01",
                    "2020-06-08",
                    "2020-06-15",
                    "2020-06-22",
                    "2020-06-29",
                    "2020-07-06",
                    "2020-07-13",
                    "2020-07-20",
                    "2020-07-27",
                    "2020-08-03",
                    "2020-08-10",
                    "2020-08-17",
                    "2020-08-24",
                    "2020-08-31",
                    "2020-09-07",
                    "2020-09-14",
                    "2020-09-21"
                  ],
                  "xaxis": "x",
                  "y": [
                    12.45,
                    15.9,
                    7.04,
                    11.726466666666665,
                    5.76,
                    11.726466666666665,
                    11.726466666666665,
                    11.726466666666665,
                    11.726466666666665,
                    11.726466666666665,
                    11.726466666666665,
                    11.726466666666665,
                    11.726466666666665,
                    11.726466666666665,
                    11.726466666666665,
                    11.726466666666665,
                    11.726466666666665,
                    11.726466666666665,
                    11.726466666666665,
                    11.726466666666665,
                    11.726466666666665,
                    11.726466666666665,
                    11.726466666666665,
                    11.726466666666665,
                    11.726466666666665,
                    11.726466666666665,
                    11.726466666666665,
                    6.76,
                    6.71
                  ],
                  "yaxis": "y"
                },
                {
                  "hovertemplate": "open_covid_region_code=US-DC<br>date=%{x}<br>symptom:Laryngitis=%{y}<extra></extra>",
                  "legendgroup": "US-DC",
                  "marker": {
                    "color": "#EF553B",
                    "symbol": "circle"
                  },
                  "mode": "markers",
                  "name": "US-DC",
                  "orientation": "v",
                  "showlegend": true,
                  "type": "scatter",
                  "x": [
                    "2020-03-09",
                    "2020-03-16",
                    "2020-03-23",
                    "2020-03-30",
                    "2020-04-06",
                    "2020-04-13",
                    "2020-04-20",
                    "2020-04-27",
                    "2020-05-04",
                    "2020-05-11",
                    "2020-05-18",
                    "2020-05-25",
                    "2020-06-01",
                    "2020-06-08",
                    "2020-06-15",
                    "2020-06-22",
                    "2020-06-29",
                    "2020-07-06",
                    "2020-07-13",
                    "2020-07-20",
                    "2020-07-27",
                    "2020-08-03",
                    "2020-08-10",
                    "2020-08-17",
                    "2020-08-24",
                    "2020-08-31",
                    "2020-09-07",
                    "2020-09-14",
                    "2020-09-21"
                  ],
                  "xaxis": "x",
                  "y": [
                    8.67,
                    6.53,
                    4.95,
                    4.4,
                    2.23,
                    3.09,
                    3.07,
                    2.79,
                    2.57,
                    2.73,
                    3.39,
                    3.41,
                    2.81,
                    2.07,
                    2.55,
                    3.1,
                    3.66,
                    2.7,
                    3.18,
                    3.05,
                    2.87,
                    3.53,
                    3.64,
                    2.03,
                    2.58,
                    2.93,
                    2.77,
                    3.27,
                    2.64
                  ],
                  "yaxis": "y"
                },
                {
                  "hovertemplate": "open_covid_region_code=US-DE<br>date=%{x}<br>symptom:Laryngitis=%{y}<extra></extra>",
                  "legendgroup": "US-DE",
                  "marker": {
                    "color": "#00cc96",
                    "symbol": "circle"
                  },
                  "mode": "markers",
                  "name": "US-DE",
                  "orientation": "v",
                  "showlegend": true,
                  "type": "scatter",
                  "x": [
                    "2020-03-09",
                    "2020-03-16",
                    "2020-03-23",
                    "2020-03-30",
                    "2020-04-06",
                    "2020-04-13",
                    "2020-04-20",
                    "2020-04-27",
                    "2020-05-04",
                    "2020-05-11",
                    "2020-05-18",
                    "2020-05-25",
                    "2020-06-01",
                    "2020-06-08",
                    "2020-06-15",
                    "2020-06-22",
                    "2020-06-29",
                    "2020-07-06",
                    "2020-07-13",
                    "2020-07-20",
                    "2020-07-27",
                    "2020-08-03",
                    "2020-08-10",
                    "2020-08-17",
                    "2020-08-24",
                    "2020-08-31",
                    "2020-09-07",
                    "2020-09-14",
                    "2020-09-21"
                  ],
                  "xaxis": "x",
                  "y": [
                    18.33,
                    10.17,
                    9.67,
                    6.7,
                    3.86,
                    6.13,
                    5.99,
                    4.98,
                    4.02,
                    4.09,
                    3.84,
                    4.23,
                    5,
                    4.47,
                    6.33,
                    3.68,
                    5.51,
                    5.6,
                    5.68,
                    4.82,
                    5.99,
                    6.11,
                    8.3,
                    5.3,
                    4.89,
                    3.39,
                    7.21,
                    5.92,
                    5.46
                  ],
                  "yaxis": "y"
                },
                {
                  "hovertemplate": "open_covid_region_code=US-HI<br>date=%{x}<br>symptom:Laryngitis=%{y}<extra></extra>",
                  "legendgroup": "US-HI",
                  "marker": {
                    "color": "#ab63fa",
                    "symbol": "circle"
                  },
                  "mode": "markers",
                  "name": "US-HI",
                  "orientation": "v",
                  "showlegend": true,
                  "type": "scatter",
                  "x": [
                    "2020-03-09",
                    "2020-03-16",
                    "2020-03-23",
                    "2020-03-30",
                    "2020-04-06",
                    "2020-04-13",
                    "2020-04-20",
                    "2020-04-27",
                    "2020-05-04",
                    "2020-05-11",
                    "2020-05-18",
                    "2020-05-25",
                    "2020-06-01",
                    "2020-06-08",
                    "2020-06-15",
                    "2020-06-22",
                    "2020-06-29",
                    "2020-07-06",
                    "2020-07-13",
                    "2020-07-20",
                    "2020-07-27",
                    "2020-08-03",
                    "2020-08-10",
                    "2020-08-17",
                    "2020-08-24",
                    "2020-08-31",
                    "2020-09-07",
                    "2020-09-14",
                    "2020-09-21"
                  ],
                  "xaxis": "x",
                  "y": [
                    79.22,
                    84.34,
                    57.92,
                    39.67,
                    26.92,
                    28.07,
                    16.25,
                    30.81,
                    17.34,
                    24.07,
                    24.47,
                    17.78,
                    19.36,
                    21.91,
                    13.73,
                    22.86,
                    24.73,
                    28.74,
                    25.13,
                    19.18,
                    16.5,
                    35.06,
                    23.58,
                    19.36,
                    17.53,
                    23.62,
                    14.16,
                    21.99,
                    28.08
                  ],
                  "yaxis": "y"
                },
                {
                  "hovertemplate": "open_covid_region_code=US-ID<br>date=%{x}<br>symptom:Laryngitis=%{y}<extra></extra>",
                  "legendgroup": "US-ID",
                  "marker": {
                    "color": "#FFA15A",
                    "symbol": "circle"
                  },
                  "mode": "markers",
                  "name": "US-ID",
                  "orientation": "v",
                  "showlegend": true,
                  "type": "scatter",
                  "x": [
                    "2020-03-09",
                    "2020-03-16",
                    "2020-03-23",
                    "2020-03-30",
                    "2020-04-06",
                    "2020-04-13",
                    "2020-04-20",
                    "2020-04-27",
                    "2020-05-04",
                    "2020-05-11",
                    "2020-05-18",
                    "2020-05-25",
                    "2020-06-01",
                    "2020-06-08",
                    "2020-06-15",
                    "2020-06-22",
                    "2020-06-29",
                    "2020-07-06",
                    "2020-07-13",
                    "2020-07-20",
                    "2020-07-27",
                    "2020-08-03",
                    "2020-08-10",
                    "2020-08-17",
                    "2020-08-24",
                    "2020-08-31",
                    "2020-09-07",
                    "2020-09-14",
                    "2020-09-21"
                  ],
                  "xaxis": "x",
                  "y": [
                    11.726466666666665,
                    11.726466666666665,
                    11.726466666666665,
                    11.726466666666665,
                    11.726466666666665,
                    11.726466666666665,
                    11.726466666666665,
                    11.726466666666665,
                    11.726466666666665,
                    11.726466666666665,
                    11.726466666666665,
                    11.726466666666665,
                    11.726466666666665,
                    11.726466666666665,
                    11.726466666666665,
                    11.726466666666665,
                    11.726466666666665,
                    11.726466666666665,
                    11.726466666666665,
                    11.726466666666665,
                    11.726466666666665,
                    11.726466666666665,
                    11.726466666666665,
                    11.726466666666665,
                    11.726466666666665,
                    11.726466666666665,
                    11.726466666666665,
                    11.726466666666665,
                    11.726466666666665
                  ],
                  "yaxis": "y"
                },
                {
                  "hovertemplate": "open_covid_region_code=US-ME<br>date=%{x}<br>symptom:Laryngitis=%{y}<extra></extra>",
                  "legendgroup": "US-ME",
                  "marker": {
                    "color": "#19d3f3",
                    "symbol": "circle"
                  },
                  "mode": "markers",
                  "name": "US-ME",
                  "orientation": "v",
                  "showlegend": true,
                  "type": "scatter",
                  "x": [
                    "2020-03-09",
                    "2020-03-16",
                    "2020-03-23",
                    "2020-03-30",
                    "2020-04-06",
                    "2020-04-13",
                    "2020-04-20",
                    "2020-04-27",
                    "2020-05-04",
                    "2020-05-11",
                    "2020-05-18",
                    "2020-05-25",
                    "2020-06-01",
                    "2020-06-08",
                    "2020-06-15",
                    "2020-06-22",
                    "2020-06-29",
                    "2020-07-06",
                    "2020-07-13",
                    "2020-07-20",
                    "2020-07-27",
                    "2020-08-03",
                    "2020-08-10",
                    "2020-08-17",
                    "2020-08-24",
                    "2020-08-31",
                    "2020-09-07",
                    "2020-09-14",
                    "2020-09-21"
                  ],
                  "xaxis": "x",
                  "y": [
                    41.62,
                    36.91,
                    27.18,
                    18.73,
                    19.76,
                    12.24,
                    17.05,
                    13.49,
                    15.15,
                    8.82,
                    8.82,
                    6.6,
                    12.75,
                    10.84,
                    14.61,
                    12.85,
                    10,
                    17.97,
                    12.15,
                    15.51,
                    13.86,
                    14,
                    13.53,
                    16.99,
                    15.86,
                    12.91,
                    12.97,
                    19.7,
                    12.08
                  ],
                  "yaxis": "y"
                },
                {
                  "hovertemplate": "open_covid_region_code=US-MT<br>date=%{x}<br>symptom:Laryngitis=%{y}<extra></extra>",
                  "legendgroup": "US-MT",
                  "marker": {
                    "color": "#FF6692",
                    "symbol": "circle"
                  },
                  "mode": "markers",
                  "name": "US-MT",
                  "orientation": "v",
                  "showlegend": true,
                  "type": "scatter",
                  "x": [
                    "2020-03-09",
                    "2020-03-16",
                    "2020-03-23",
                    "2020-03-30",
                    "2020-04-06",
                    "2020-04-13",
                    "2020-04-20",
                    "2020-04-27",
                    "2020-05-04",
                    "2020-05-11",
                    "2020-05-18",
                    "2020-05-25",
                    "2020-06-01",
                    "2020-06-08",
                    "2020-06-15",
                    "2020-06-22",
                    "2020-06-29",
                    "2020-07-06",
                    "2020-07-13",
                    "2020-07-20",
                    "2020-07-27",
                    "2020-08-03",
                    "2020-08-10",
                    "2020-08-17",
                    "2020-08-24",
                    "2020-08-31",
                    "2020-09-07",
                    "2020-09-14",
                    "2020-09-21"
                  ],
                  "xaxis": "x",
                  "y": [
                    20.62,
                    20.47,
                    12.77,
                    9.71,
                    11.52,
                    8.91,
                    8.29,
                    6.54,
                    7.55,
                    5.38,
                    5.64,
                    5.35,
                    7.71,
                    5.72,
                    5.99,
                    5.24,
                    7.6,
                    7.62,
                    9.66,
                    11.726466666666665,
                    7.02,
                    7.12,
                    7.11,
                    5.98,
                    6.22,
                    4.79,
                    7.33,
                    7.02,
                    4.92
                  ],
                  "yaxis": "y"
                },
                {
                  "hovertemplate": "open_covid_region_code=US-ND<br>date=%{x}<br>symptom:Laryngitis=%{y}<extra></extra>",
                  "legendgroup": "US-ND",
                  "marker": {
                    "color": "#B6E880",
                    "symbol": "circle"
                  },
                  "mode": "markers",
                  "name": "US-ND",
                  "orientation": "v",
                  "showlegend": true,
                  "type": "scatter",
                  "x": [
                    "2020-03-09",
                    "2020-03-16",
                    "2020-03-23",
                    "2020-03-30",
                    "2020-04-06",
                    "2020-04-13",
                    "2020-04-20",
                    "2020-04-27",
                    "2020-05-04",
                    "2020-05-11",
                    "2020-05-18",
                    "2020-05-25",
                    "2020-06-01",
                    "2020-06-08",
                    "2020-06-15",
                    "2020-06-22",
                    "2020-06-29",
                    "2020-07-06",
                    "2020-07-13",
                    "2020-07-20",
                    "2020-07-27",
                    "2020-08-03",
                    "2020-08-10",
                    "2020-08-17",
                    "2020-08-24",
                    "2020-08-31",
                    "2020-09-07",
                    "2020-09-14",
                    "2020-09-21"
                  ],
                  "xaxis": "x",
                  "y": [
                    14.45,
                    12.84,
                    10.52,
                    7.48,
                    11.726466666666665,
                    11.726466666666665,
                    11.726466666666665,
                    11.726466666666665,
                    11.726466666666665,
                    6.39,
                    4.89,
                    11.726466666666665,
                    11.726466666666665,
                    5.3,
                    4.48,
                    4.3,
                    11.726466666666665,
                    4.7,
                    5.68,
                    5.09,
                    5.25,
                    11.726466666666665,
                    5.46,
                    5.23,
                    4.74,
                    11.726466666666665,
                    7.86,
                    4.06,
                    4.88
                  ],
                  "yaxis": "y"
                },
                {
                  "hovertemplate": "open_covid_region_code=US-NE<br>date=%{x}<br>symptom:Laryngitis=%{y}<extra></extra>",
                  "legendgroup": "US-NE",
                  "marker": {
                    "color": "#FF97FF",
                    "symbol": "circle"
                  },
                  "mode": "markers",
                  "name": "US-NE",
                  "orientation": "v",
                  "showlegend": true,
                  "type": "scatter",
                  "x": [
                    "2020-03-09",
                    "2020-03-16",
                    "2020-03-23",
                    "2020-03-30",
                    "2020-04-06",
                    "2020-04-13",
                    "2020-04-20",
                    "2020-04-27",
                    "2020-05-04",
                    "2020-05-11",
                    "2020-05-18",
                    "2020-05-25",
                    "2020-06-01",
                    "2020-06-08",
                    "2020-06-15",
                    "2020-06-22",
                    "2020-06-29",
                    "2020-07-06",
                    "2020-07-13",
                    "2020-07-20",
                    "2020-07-27",
                    "2020-08-03",
                    "2020-08-10",
                    "2020-08-17",
                    "2020-08-24",
                    "2020-08-31",
                    "2020-09-07",
                    "2020-09-14",
                    "2020-09-21"
                  ],
                  "xaxis": "x",
                  "y": [
                    11.726466666666665,
                    11.726466666666665,
                    11.726466666666665,
                    11.726466666666665,
                    11.726466666666665,
                    11.726466666666665,
                    11.726466666666665,
                    11.726466666666665,
                    11.726466666666665,
                    11.726466666666665,
                    11.726466666666665,
                    11.726466666666665,
                    11.726466666666665,
                    11.726466666666665,
                    11.726466666666665,
                    11.726466666666665,
                    11.726466666666665,
                    11.726466666666665,
                    11.726466666666665,
                    11.726466666666665,
                    11.726466666666665,
                    11.726466666666665,
                    11.726466666666665,
                    11.726466666666665,
                    11.726466666666665,
                    11.726466666666665,
                    11.726466666666665,
                    11.726466666666665,
                    11.726466666666665
                  ],
                  "yaxis": "y"
                },
                {
                  "hovertemplate": "open_covid_region_code=US-NH<br>date=%{x}<br>symptom:Laryngitis=%{y}<extra></extra>",
                  "legendgroup": "US-NH",
                  "marker": {
                    "color": "#FECB52",
                    "symbol": "circle"
                  },
                  "mode": "markers",
                  "name": "US-NH",
                  "orientation": "v",
                  "showlegend": true,
                  "type": "scatter",
                  "x": [
                    "2020-03-09",
                    "2020-03-16",
                    "2020-03-23",
                    "2020-03-30",
                    "2020-04-06",
                    "2020-04-13",
                    "2020-04-20",
                    "2020-04-27",
                    "2020-05-04",
                    "2020-05-11",
                    "2020-05-18",
                    "2020-05-25",
                    "2020-06-01",
                    "2020-06-08",
                    "2020-06-15",
                    "2020-06-22",
                    "2020-06-29",
                    "2020-07-06",
                    "2020-07-13",
                    "2020-07-20",
                    "2020-07-27",
                    "2020-08-03",
                    "2020-08-10",
                    "2020-08-17",
                    "2020-08-24",
                    "2020-08-31",
                    "2020-09-07",
                    "2020-09-14",
                    "2020-09-21"
                  ],
                  "xaxis": "x",
                  "y": [
                    40.54,
                    30.98,
                    22.66,
                    17.67,
                    14.07,
                    13.42,
                    12.15,
                    10.5,
                    10.94,
                    9.88,
                    11.26,
                    8.74,
                    12.33,
                    10.51,
                    8.09,
                    11.726466666666665,
                    11,
                    11.75,
                    11.64,
                    13.29,
                    15.35,
                    11.56,
                    15.61,
                    15.1,
                    12.58,
                    13.06,
                    13.31,
                    13.86,
                    16.86
                  ],
                  "yaxis": "y"
                },
                {
                  "hovertemplate": "open_covid_region_code=US-NM<br>date=%{x}<br>symptom:Laryngitis=%{y}<extra></extra>",
                  "legendgroup": "US-NM",
                  "marker": {
                    "color": "#636efa",
                    "symbol": "circle"
                  },
                  "mode": "markers",
                  "name": "US-NM",
                  "orientation": "v",
                  "showlegend": true,
                  "type": "scatter",
                  "x": [
                    "2020-03-09",
                    "2020-03-16",
                    "2020-03-23",
                    "2020-03-30",
                    "2020-04-06",
                    "2020-04-13",
                    "2020-04-20",
                    "2020-04-27",
                    "2020-05-04",
                    "2020-05-11",
                    "2020-05-18",
                    "2020-05-25",
                    "2020-06-01",
                    "2020-06-08",
                    "2020-06-15",
                    "2020-06-22",
                    "2020-06-29",
                    "2020-07-06",
                    "2020-07-13",
                    "2020-07-20",
                    "2020-07-27",
                    "2020-08-03",
                    "2020-08-10",
                    "2020-08-17",
                    "2020-08-24",
                    "2020-08-31",
                    "2020-09-07",
                    "2020-09-14",
                    "2020-09-21"
                  ],
                  "xaxis": "x",
                  "y": [
                    11.726466666666665,
                    11.726466666666665,
                    11.726466666666665,
                    11.726466666666665,
                    11.726466666666665,
                    11.726466666666665,
                    11.726466666666665,
                    11.726466666666665,
                    11.726466666666665,
                    11.726466666666665,
                    11.726466666666665,
                    11.726466666666665,
                    11.726466666666665,
                    11.726466666666665,
                    11.726466666666665,
                    11.726466666666665,
                    11.726466666666665,
                    11.726466666666665,
                    11.726466666666665,
                    11.726466666666665,
                    11.726466666666665,
                    11.726466666666665,
                    11.726466666666665,
                    11.726466666666665,
                    11.726466666666665,
                    11.726466666666665,
                    11.726466666666665,
                    11.726466666666665,
                    11.726466666666665
                  ],
                  "yaxis": "y"
                },
                {
                  "hovertemplate": "open_covid_region_code=US-RI<br>date=%{x}<br>symptom:Laryngitis=%{y}<extra></extra>",
                  "legendgroup": "US-RI",
                  "marker": {
                    "color": "#EF553B",
                    "symbol": "circle"
                  },
                  "mode": "markers",
                  "name": "US-RI",
                  "orientation": "v",
                  "showlegend": true,
                  "type": "scatter",
                  "x": [
                    "2020-03-02",
                    "2020-03-09",
                    "2020-03-16",
                    "2020-03-23",
                    "2020-03-30",
                    "2020-04-06",
                    "2020-04-13",
                    "2020-04-20",
                    "2020-04-27",
                    "2020-05-04",
                    "2020-05-11",
                    "2020-05-18",
                    "2020-05-25",
                    "2020-06-01",
                    "2020-06-08",
                    "2020-06-15",
                    "2020-06-22",
                    "2020-06-29",
                    "2020-07-06",
                    "2020-07-13",
                    "2020-07-20",
                    "2020-07-27",
                    "2020-08-03",
                    "2020-08-10",
                    "2020-08-17",
                    "2020-08-24",
                    "2020-08-31",
                    "2020-09-07",
                    "2020-09-14",
                    "2020-09-21"
                  ],
                  "xaxis": "x",
                  "y": [
                    24.91,
                    24.3,
                    20.3,
                    15.16,
                    11.22,
                    8,
                    10.31,
                    11.52,
                    6.84,
                    7.49,
                    7.69,
                    6.84,
                    7.11,
                    7.91,
                    8.15,
                    8.59,
                    10.14,
                    8.2,
                    10.3,
                    7.24,
                    10.48,
                    8.1,
                    5.64,
                    7.35,
                    10.95,
                    8.28,
                    7.85,
                    11.2,
                    9.55,
                    10.27
                  ],
                  "yaxis": "y"
                },
                {
                  "hovertemplate": "open_covid_region_code=US-SD<br>date=%{x}<br>symptom:Laryngitis=%{y}<extra></extra>",
                  "legendgroup": "US-SD",
                  "marker": {
                    "color": "#00cc96",
                    "symbol": "circle"
                  },
                  "mode": "markers",
                  "name": "US-SD",
                  "orientation": "v",
                  "showlegend": true,
                  "type": "scatter",
                  "x": [
                    "2020-03-09",
                    "2020-03-16",
                    "2020-03-23",
                    "2020-03-30",
                    "2020-04-06",
                    "2020-04-13",
                    "2020-04-20",
                    "2020-04-27",
                    "2020-05-04",
                    "2020-05-11",
                    "2020-05-18",
                    "2020-05-25",
                    "2020-06-01",
                    "2020-06-08",
                    "2020-06-15",
                    "2020-06-22",
                    "2020-06-29",
                    "2020-07-06",
                    "2020-07-13",
                    "2020-07-20",
                    "2020-07-27",
                    "2020-08-03",
                    "2020-08-10",
                    "2020-08-17",
                    "2020-08-24",
                    "2020-08-31",
                    "2020-09-07",
                    "2020-09-14",
                    "2020-09-21"
                  ],
                  "xaxis": "x",
                  "y": [
                    19.39,
                    16.2,
                    9.86,
                    8.87,
                    5.42,
                    6.94,
                    5.21,
                    11.726466666666665,
                    5.42,
                    5.4,
                    11.726466666666665,
                    5.37,
                    7.09,
                    5.04,
                    11.726466666666665,
                    7.04,
                    11.726466666666665,
                    5.18,
                    11.726466666666665,
                    6.92,
                    6.69,
                    7.8,
                    7.02,
                    8.82,
                    4.8,
                    5.57,
                    11.726466666666665,
                    8.38,
                    11.726466666666665
                  ],
                  "yaxis": "y"
                },
                {
                  "hovertemplate": "open_covid_region_code=US-VT<br>date=%{x}<br>symptom:Laryngitis=%{y}<extra></extra>",
                  "legendgroup": "US-VT",
                  "marker": {
                    "color": "#ab63fa",
                    "symbol": "circle"
                  },
                  "mode": "markers",
                  "name": "US-VT",
                  "orientation": "v",
                  "showlegend": true,
                  "type": "scatter",
                  "x": [
                    "2020-03-09",
                    "2020-03-16",
                    "2020-03-23",
                    "2020-03-30",
                    "2020-04-06",
                    "2020-04-13",
                    "2020-04-20",
                    "2020-04-27",
                    "2020-05-04",
                    "2020-05-11",
                    "2020-05-18",
                    "2020-05-25",
                    "2020-06-01",
                    "2020-06-08",
                    "2020-06-15",
                    "2020-06-22",
                    "2020-06-29",
                    "2020-07-06",
                    "2020-07-13",
                    "2020-07-20",
                    "2020-07-27",
                    "2020-08-03",
                    "2020-08-10",
                    "2020-08-17",
                    "2020-08-24",
                    "2020-08-31",
                    "2020-09-07",
                    "2020-09-14",
                    "2020-09-21"
                  ],
                  "xaxis": "x",
                  "y": [
                    22.13,
                    16.24,
                    9.68,
                    6.16,
                    11.726466666666665,
                    11.726466666666665,
                    7.54,
                    8.87,
                    6.16,
                    7.57,
                    11.726466666666665,
                    11.726466666666665,
                    7.26,
                    11.726466666666665,
                    11.726466666666665,
                    11.726466666666665,
                    11.726466666666665,
                    11.726466666666665,
                    11.726466666666665,
                    11.726466666666665,
                    6.77,
                    7.05,
                    10.04,
                    5.99,
                    11.726466666666665,
                    8.79,
                    11.726466666666665,
                    11.726466666666665,
                    6.16
                  ],
                  "yaxis": "y"
                },
                {
                  "hovertemplate": "open_covid_region_code=US-WV<br>date=%{x}<br>symptom:Laryngitis=%{y}<extra></extra>",
                  "legendgroup": "US-WV",
                  "marker": {
                    "color": "#FFA15A",
                    "symbol": "circle"
                  },
                  "mode": "markers",
                  "name": "US-WV",
                  "orientation": "v",
                  "showlegend": true,
                  "type": "scatter",
                  "x": [
                    "2020-03-09",
                    "2020-03-16",
                    "2020-03-23",
                    "2020-03-30",
                    "2020-04-06",
                    "2020-04-13",
                    "2020-04-20",
                    "2020-04-27",
                    "2020-05-04",
                    "2020-05-11",
                    "2020-05-18",
                    "2020-05-25",
                    "2020-06-01",
                    "2020-06-08",
                    "2020-06-15",
                    "2020-06-22",
                    "2020-06-29",
                    "2020-07-06",
                    "2020-07-13",
                    "2020-07-20",
                    "2020-07-27",
                    "2020-08-03",
                    "2020-08-10",
                    "2020-08-17",
                    "2020-08-24",
                    "2020-08-31",
                    "2020-09-07",
                    "2020-09-14",
                    "2020-09-21"
                  ],
                  "xaxis": "x",
                  "y": [
                    44.69,
                    39.91,
                    31.85,
                    23.65,
                    15.9,
                    16.26,
                    14.1,
                    14.56,
                    12.89,
                    11.23,
                    9.82,
                    18.05,
                    12.61,
                    15.56,
                    13.09,
                    11.3,
                    15.2,
                    11.71,
                    14.36,
                    8.72,
                    13.75,
                    13.68,
                    17.33,
                    15.43,
                    11.42,
                    18.26,
                    18.97,
                    21.64,
                    14.8
                  ],
                  "yaxis": "y"
                },
                {
                  "hovertemplate": "open_covid_region_code=US-WY<br>date=%{x}<br>symptom:Laryngitis=%{y}<extra></extra>",
                  "legendgroup": "US-WY",
                  "marker": {
                    "color": "#19d3f3",
                    "symbol": "circle"
                  },
                  "mode": "markers",
                  "name": "US-WY",
                  "orientation": "v",
                  "showlegend": true,
                  "type": "scatter",
                  "x": [
                    "2020-03-09",
                    "2020-03-16",
                    "2020-03-23",
                    "2020-03-30",
                    "2020-04-06",
                    "2020-04-13",
                    "2020-04-20",
                    "2020-04-27",
                    "2020-05-04",
                    "2020-05-11",
                    "2020-05-18",
                    "2020-05-25",
                    "2020-06-01",
                    "2020-06-08",
                    "2020-06-15",
                    "2020-06-22",
                    "2020-06-29",
                    "2020-07-06",
                    "2020-07-13",
                    "2020-07-20",
                    "2020-07-27",
                    "2020-08-03",
                    "2020-08-10",
                    "2020-08-17",
                    "2020-08-24",
                    "2020-08-31",
                    "2020-09-07",
                    "2020-09-14",
                    "2020-09-21"
                  ],
                  "xaxis": "x",
                  "y": [
                    5.82,
                    4.29,
                    3.05,
                    3.18,
                    11.726466666666665,
                    2.59,
                    2.41,
                    11.726466666666665,
                    11.726466666666665,
                    11.726466666666665,
                    11.726466666666665,
                    11.726466666666665,
                    11.726466666666665,
                    11.726466666666665,
                    11.726466666666665,
                    11.726466666666665,
                    11.726466666666665,
                    11.726466666666665,
                    11.726466666666665,
                    11.726466666666665,
                    11.726466666666665,
                    11.726466666666665,
                    11.726466666666665,
                    11.726466666666665,
                    11.726466666666665,
                    11.726466666666665,
                    11.726466666666665,
                    2.19,
                    11.726466666666665
                  ],
                  "yaxis": "y"
                }
              ],
              "layout": {
                "legend": {
                  "title": {
                    "text": "open_covid_region_code"
                  },
                  "tracegroupgap": 0
                },
                "template": {
                  "data": {
                    "bar": [
                      {
                        "error_x": {
                          "color": "#2a3f5f"
                        },
                        "error_y": {
                          "color": "#2a3f5f"
                        },
                        "marker": {
                          "line": {
                            "color": "#E5ECF6",
                            "width": 0.5
                          }
                        },
                        "type": "bar"
                      }
                    ],
                    "barpolar": [
                      {
                        "marker": {
                          "line": {
                            "color": "#E5ECF6",
                            "width": 0.5
                          }
                        },
                        "type": "barpolar"
                      }
                    ],
                    "carpet": [
                      {
                        "aaxis": {
                          "endlinecolor": "#2a3f5f",
                          "gridcolor": "white",
                          "linecolor": "white",
                          "minorgridcolor": "white",
                          "startlinecolor": "#2a3f5f"
                        },
                        "baxis": {
                          "endlinecolor": "#2a3f5f",
                          "gridcolor": "white",
                          "linecolor": "white",
                          "minorgridcolor": "white",
                          "startlinecolor": "#2a3f5f"
                        },
                        "type": "carpet"
                      }
                    ],
                    "choropleth": [
                      {
                        "colorbar": {
                          "outlinewidth": 0,
                          "ticks": ""
                        },
                        "type": "choropleth"
                      }
                    ],
                    "contour": [
                      {
                        "colorbar": {
                          "outlinewidth": 0,
                          "ticks": ""
                        },
                        "colorscale": [
                          [
                            0,
                            "#0d0887"
                          ],
                          [
                            0.1111111111111111,
                            "#46039f"
                          ],
                          [
                            0.2222222222222222,
                            "#7201a8"
                          ],
                          [
                            0.3333333333333333,
                            "#9c179e"
                          ],
                          [
                            0.4444444444444444,
                            "#bd3786"
                          ],
                          [
                            0.5555555555555556,
                            "#d8576b"
                          ],
                          [
                            0.6666666666666666,
                            "#ed7953"
                          ],
                          [
                            0.7777777777777778,
                            "#fb9f3a"
                          ],
                          [
                            0.8888888888888888,
                            "#fdca26"
                          ],
                          [
                            1,
                            "#f0f921"
                          ]
                        ],
                        "type": "contour"
                      }
                    ],
                    "contourcarpet": [
                      {
                        "colorbar": {
                          "outlinewidth": 0,
                          "ticks": ""
                        },
                        "type": "contourcarpet"
                      }
                    ],
                    "heatmap": [
                      {
                        "colorbar": {
                          "outlinewidth": 0,
                          "ticks": ""
                        },
                        "colorscale": [
                          [
                            0,
                            "#0d0887"
                          ],
                          [
                            0.1111111111111111,
                            "#46039f"
                          ],
                          [
                            0.2222222222222222,
                            "#7201a8"
                          ],
                          [
                            0.3333333333333333,
                            "#9c179e"
                          ],
                          [
                            0.4444444444444444,
                            "#bd3786"
                          ],
                          [
                            0.5555555555555556,
                            "#d8576b"
                          ],
                          [
                            0.6666666666666666,
                            "#ed7953"
                          ],
                          [
                            0.7777777777777778,
                            "#fb9f3a"
                          ],
                          [
                            0.8888888888888888,
                            "#fdca26"
                          ],
                          [
                            1,
                            "#f0f921"
                          ]
                        ],
                        "type": "heatmap"
                      }
                    ],
                    "heatmapgl": [
                      {
                        "colorbar": {
                          "outlinewidth": 0,
                          "ticks": ""
                        },
                        "colorscale": [
                          [
                            0,
                            "#0d0887"
                          ],
                          [
                            0.1111111111111111,
                            "#46039f"
                          ],
                          [
                            0.2222222222222222,
                            "#7201a8"
                          ],
                          [
                            0.3333333333333333,
                            "#9c179e"
                          ],
                          [
                            0.4444444444444444,
                            "#bd3786"
                          ],
                          [
                            0.5555555555555556,
                            "#d8576b"
                          ],
                          [
                            0.6666666666666666,
                            "#ed7953"
                          ],
                          [
                            0.7777777777777778,
                            "#fb9f3a"
                          ],
                          [
                            0.8888888888888888,
                            "#fdca26"
                          ],
                          [
                            1,
                            "#f0f921"
                          ]
                        ],
                        "type": "heatmapgl"
                      }
                    ],
                    "histogram": [
                      {
                        "marker": {
                          "colorbar": {
                            "outlinewidth": 0,
                            "ticks": ""
                          }
                        },
                        "type": "histogram"
                      }
                    ],
                    "histogram2d": [
                      {
                        "colorbar": {
                          "outlinewidth": 0,
                          "ticks": ""
                        },
                        "colorscale": [
                          [
                            0,
                            "#0d0887"
                          ],
                          [
                            0.1111111111111111,
                            "#46039f"
                          ],
                          [
                            0.2222222222222222,
                            "#7201a8"
                          ],
                          [
                            0.3333333333333333,
                            "#9c179e"
                          ],
                          [
                            0.4444444444444444,
                            "#bd3786"
                          ],
                          [
                            0.5555555555555556,
                            "#d8576b"
                          ],
                          [
                            0.6666666666666666,
                            "#ed7953"
                          ],
                          [
                            0.7777777777777778,
                            "#fb9f3a"
                          ],
                          [
                            0.8888888888888888,
                            "#fdca26"
                          ],
                          [
                            1,
                            "#f0f921"
                          ]
                        ],
                        "type": "histogram2d"
                      }
                    ],
                    "histogram2dcontour": [
                      {
                        "colorbar": {
                          "outlinewidth": 0,
                          "ticks": ""
                        },
                        "colorscale": [
                          [
                            0,
                            "#0d0887"
                          ],
                          [
                            0.1111111111111111,
                            "#46039f"
                          ],
                          [
                            0.2222222222222222,
                            "#7201a8"
                          ],
                          [
                            0.3333333333333333,
                            "#9c179e"
                          ],
                          [
                            0.4444444444444444,
                            "#bd3786"
                          ],
                          [
                            0.5555555555555556,
                            "#d8576b"
                          ],
                          [
                            0.6666666666666666,
                            "#ed7953"
                          ],
                          [
                            0.7777777777777778,
                            "#fb9f3a"
                          ],
                          [
                            0.8888888888888888,
                            "#fdca26"
                          ],
                          [
                            1,
                            "#f0f921"
                          ]
                        ],
                        "type": "histogram2dcontour"
                      }
                    ],
                    "mesh3d": [
                      {
                        "colorbar": {
                          "outlinewidth": 0,
                          "ticks": ""
                        },
                        "type": "mesh3d"
                      }
                    ],
                    "parcoords": [
                      {
                        "line": {
                          "colorbar": {
                            "outlinewidth": 0,
                            "ticks": ""
                          }
                        },
                        "type": "parcoords"
                      }
                    ],
                    "pie": [
                      {
                        "automargin": true,
                        "type": "pie"
                      }
                    ],
                    "scatter": [
                      {
                        "marker": {
                          "colorbar": {
                            "outlinewidth": 0,
                            "ticks": ""
                          }
                        },
                        "type": "scatter"
                      }
                    ],
                    "scatter3d": [
                      {
                        "line": {
                          "colorbar": {
                            "outlinewidth": 0,
                            "ticks": ""
                          }
                        },
                        "marker": {
                          "colorbar": {
                            "outlinewidth": 0,
                            "ticks": ""
                          }
                        },
                        "type": "scatter3d"
                      }
                    ],
                    "scattercarpet": [
                      {
                        "marker": {
                          "colorbar": {
                            "outlinewidth": 0,
                            "ticks": ""
                          }
                        },
                        "type": "scattercarpet"
                      }
                    ],
                    "scattergeo": [
                      {
                        "marker": {
                          "colorbar": {
                            "outlinewidth": 0,
                            "ticks": ""
                          }
                        },
                        "type": "scattergeo"
                      }
                    ],
                    "scattergl": [
                      {
                        "marker": {
                          "colorbar": {
                            "outlinewidth": 0,
                            "ticks": ""
                          }
                        },
                        "type": "scattergl"
                      }
                    ],
                    "scattermapbox": [
                      {
                        "marker": {
                          "colorbar": {
                            "outlinewidth": 0,
                            "ticks": ""
                          }
                        },
                        "type": "scattermapbox"
                      }
                    ],
                    "scatterpolar": [
                      {
                        "marker": {
                          "colorbar": {
                            "outlinewidth": 0,
                            "ticks": ""
                          }
                        },
                        "type": "scatterpolar"
                      }
                    ],
                    "scatterpolargl": [
                      {
                        "marker": {
                          "colorbar": {
                            "outlinewidth": 0,
                            "ticks": ""
                          }
                        },
                        "type": "scatterpolargl"
                      }
                    ],
                    "scatterternary": [
                      {
                        "marker": {
                          "colorbar": {
                            "outlinewidth": 0,
                            "ticks": ""
                          }
                        },
                        "type": "scatterternary"
                      }
                    ],
                    "surface": [
                      {
                        "colorbar": {
                          "outlinewidth": 0,
                          "ticks": ""
                        },
                        "colorscale": [
                          [
                            0,
                            "#0d0887"
                          ],
                          [
                            0.1111111111111111,
                            "#46039f"
                          ],
                          [
                            0.2222222222222222,
                            "#7201a8"
                          ],
                          [
                            0.3333333333333333,
                            "#9c179e"
                          ],
                          [
                            0.4444444444444444,
                            "#bd3786"
                          ],
                          [
                            0.5555555555555556,
                            "#d8576b"
                          ],
                          [
                            0.6666666666666666,
                            "#ed7953"
                          ],
                          [
                            0.7777777777777778,
                            "#fb9f3a"
                          ],
                          [
                            0.8888888888888888,
                            "#fdca26"
                          ],
                          [
                            1,
                            "#f0f921"
                          ]
                        ],
                        "type": "surface"
                      }
                    ],
                    "table": [
                      {
                        "cells": {
                          "fill": {
                            "color": "#EBF0F8"
                          },
                          "line": {
                            "color": "white"
                          }
                        },
                        "header": {
                          "fill": {
                            "color": "#C8D4E3"
                          },
                          "line": {
                            "color": "white"
                          }
                        },
                        "type": "table"
                      }
                    ]
                  },
                  "layout": {
                    "annotationdefaults": {
                      "arrowcolor": "#2a3f5f",
                      "arrowhead": 0,
                      "arrowwidth": 1
                    },
                    "coloraxis": {
                      "colorbar": {
                        "outlinewidth": 0,
                        "ticks": ""
                      }
                    },
                    "colorscale": {
                      "diverging": [
                        [
                          0,
                          "#8e0152"
                        ],
                        [
                          0.1,
                          "#c51b7d"
                        ],
                        [
                          0.2,
                          "#de77ae"
                        ],
                        [
                          0.3,
                          "#f1b6da"
                        ],
                        [
                          0.4,
                          "#fde0ef"
                        ],
                        [
                          0.5,
                          "#f7f7f7"
                        ],
                        [
                          0.6,
                          "#e6f5d0"
                        ],
                        [
                          0.7,
                          "#b8e186"
                        ],
                        [
                          0.8,
                          "#7fbc41"
                        ],
                        [
                          0.9,
                          "#4d9221"
                        ],
                        [
                          1,
                          "#276419"
                        ]
                      ],
                      "sequential": [
                        [
                          0,
                          "#0d0887"
                        ],
                        [
                          0.1111111111111111,
                          "#46039f"
                        ],
                        [
                          0.2222222222222222,
                          "#7201a8"
                        ],
                        [
                          0.3333333333333333,
                          "#9c179e"
                        ],
                        [
                          0.4444444444444444,
                          "#bd3786"
                        ],
                        [
                          0.5555555555555556,
                          "#d8576b"
                        ],
                        [
                          0.6666666666666666,
                          "#ed7953"
                        ],
                        [
                          0.7777777777777778,
                          "#fb9f3a"
                        ],
                        [
                          0.8888888888888888,
                          "#fdca26"
                        ],
                        [
                          1,
                          "#f0f921"
                        ]
                      ],
                      "sequentialminus": [
                        [
                          0,
                          "#0d0887"
                        ],
                        [
                          0.1111111111111111,
                          "#46039f"
                        ],
                        [
                          0.2222222222222222,
                          "#7201a8"
                        ],
                        [
                          0.3333333333333333,
                          "#9c179e"
                        ],
                        [
                          0.4444444444444444,
                          "#bd3786"
                        ],
                        [
                          0.5555555555555556,
                          "#d8576b"
                        ],
                        [
                          0.6666666666666666,
                          "#ed7953"
                        ],
                        [
                          0.7777777777777778,
                          "#fb9f3a"
                        ],
                        [
                          0.8888888888888888,
                          "#fdca26"
                        ],
                        [
                          1,
                          "#f0f921"
                        ]
                      ]
                    },
                    "colorway": [
                      "#636efa",
                      "#EF553B",
                      "#00cc96",
                      "#ab63fa",
                      "#FFA15A",
                      "#19d3f3",
                      "#FF6692",
                      "#B6E880",
                      "#FF97FF",
                      "#FECB52"
                    ],
                    "font": {
                      "color": "#2a3f5f"
                    },
                    "geo": {
                      "bgcolor": "white",
                      "lakecolor": "white",
                      "landcolor": "#E5ECF6",
                      "showlakes": true,
                      "showland": true,
                      "subunitcolor": "white"
                    },
                    "hoverlabel": {
                      "align": "left"
                    },
                    "hovermode": "closest",
                    "mapbox": {
                      "style": "light"
                    },
                    "paper_bgcolor": "white",
                    "plot_bgcolor": "#E5ECF6",
                    "polar": {
                      "angularaxis": {
                        "gridcolor": "white",
                        "linecolor": "white",
                        "ticks": ""
                      },
                      "bgcolor": "#E5ECF6",
                      "radialaxis": {
                        "gridcolor": "white",
                        "linecolor": "white",
                        "ticks": ""
                      }
                    },
                    "scene": {
                      "xaxis": {
                        "backgroundcolor": "#E5ECF6",
                        "gridcolor": "white",
                        "gridwidth": 2,
                        "linecolor": "white",
                        "showbackground": true,
                        "ticks": "",
                        "zerolinecolor": "white"
                      },
                      "yaxis": {
                        "backgroundcolor": "#E5ECF6",
                        "gridcolor": "white",
                        "gridwidth": 2,
                        "linecolor": "white",
                        "showbackground": true,
                        "ticks": "",
                        "zerolinecolor": "white"
                      },
                      "zaxis": {
                        "backgroundcolor": "#E5ECF6",
                        "gridcolor": "white",
                        "gridwidth": 2,
                        "linecolor": "white",
                        "showbackground": true,
                        "ticks": "",
                        "zerolinecolor": "white"
                      }
                    },
                    "shapedefaults": {
                      "line": {
                        "color": "#2a3f5f"
                      }
                    },
                    "ternary": {
                      "aaxis": {
                        "gridcolor": "white",
                        "linecolor": "white",
                        "ticks": ""
                      },
                      "baxis": {
                        "gridcolor": "white",
                        "linecolor": "white",
                        "ticks": ""
                      },
                      "bgcolor": "#E5ECF6",
                      "caxis": {
                        "gridcolor": "white",
                        "linecolor": "white",
                        "ticks": ""
                      }
                    },
                    "title": {
                      "x": 0.05
                    },
                    "xaxis": {
                      "automargin": true,
                      "gridcolor": "white",
                      "linecolor": "white",
                      "ticks": "",
                      "title": {
                        "standoff": 15
                      },
                      "zerolinecolor": "white",
                      "zerolinewidth": 2
                    },
                    "yaxis": {
                      "automargin": true,
                      "gridcolor": "white",
                      "linecolor": "white",
                      "ticks": "",
                      "title": {
                        "standoff": 15
                      },
                      "zerolinecolor": "white",
                      "zerolinewidth": 2
                    }
                  }
                },
                "title": {
                  "text": "symptom:Laryngitis"
                },
                "xaxis": {
                  "anchor": "y",
                  "domain": [
                    0,
                    1
                  ],
                  "title": {
                    "text": "date"
                  }
                },
                "yaxis": {
                  "anchor": "x",
                  "domain": [
                    0,
                    1
                  ],
                  "range": [
                    0,
                    90
                  ],
                  "title": {
                    "text": "symptom:Laryngitis"
                  }
                }
              }
            }
          },
          "metadata": {}
        }
      ]
    },
    {
      "cell_type": "markdown",
      "metadata": {
        "id": "imLadUGas64J"
      },
      "source": [
        "# 2.2"
      ]
    },
    {
      "cell_type": "code",
      "metadata": {
        "id": "80qgF4ots64K",
        "tags": [],
        "outputId": "b375bfa6-190e-4d8f-8e4f-ebe503ac7d41",
        "colab": {
          "base_uri": "https://localhost:8080/",
          "height": 105
        }
      },
      "source": [
        "# Convert to numpy\n",
        "searchdf = df.select_dtypes(exclude=object).drop(\"hospitalized_new\", 1)\n",
        "X = searchdf.to_numpy()\n",
        "print(X.shape)\n",
        "print(X[0])\n",
        "print(list(searchdf.columns))"
      ],
      "execution_count": 8,
      "outputs": [
        {
          "output_type": "stream",
          "name": "stdout",
          "text": [
            "(465, 9)\n[12.47062295  7.91       11.48954693  9.76       11.67782178 12.45\n  7.07        8.08       10.97639498]\n['symptom:Angular cheilitis', 'symptom:Aphonia', 'symptom:Crackles', 'symptom:Dysautonomia', 'symptom:Hemolysis', 'symptom:Laryngitis', 'symptom:Rectal pain', 'symptom:Shallow breathing', 'symptom:Ventricular fibrillation']\n"
          ]
        }
      ]
    },
    {
      "cell_type": "code",
      "metadata": {
        "id": "E0_QDiPKs64O"
      },
      "source": [
        "# Standardize inputs\n",
        "scaler = StandardScaler()\n",
        "scaler.fit(X)\n",
        "X_scaled = scaler.transform(X)\n",
        "\n",
        "# PCA\n",
        "pca = PCA(n_components=2)\n",
        "pca.fit(X_scaled)\n",
        "X_pca = pca.transform(X_scaled)"
      ],
      "execution_count": 9,
      "outputs": []
    },
    {
      "cell_type": "code",
      "metadata": {
        "id": "xbwKE4CZs64T",
        "outputId": "aaea2e39-f6f9-423a-fb70-36919e368b9f",
        "colab": {
          "base_uri": "https://localhost:8080/",
          "height": 542
        }
      },
      "source": [
        "fig = px.scatter(x=X_pca[:,0], y=X_pca[:,1], color=df[\"sub_region_1\"], labels={'x':'PC1', 'y':'PC2'})\n",
        "fig.show()"
      ],
      "execution_count": 10,
      "outputs": [
        {
          "output_type": "display_data",
          "data": {
            "application/vnd.plotly.v1+json": {
              "config": {
                "plotlyServerURL": "https://plot.ly"
              },
              "data": [
                {
                  "hovertemplate": "color=Alaska<br>PC1=%{x}<br>PC2=%{y}<extra></extra>",
                  "legendgroup": "Alaska",
                  "marker": {
                    "color": "#636efa",
                    "symbol": "circle"
                  },
                  "mode": "markers",
                  "name": "Alaska",
                  "orientation": "v",
                  "showlegend": true,
                  "type": "scatter",
                  "x": [
                    -0.6588135463367167,
                    -0.8141576158221716,
                    -1.1774062375218486,
                    -0.5241203772540493,
                    -1.2427438431700075,
                    -0.96279092912471,
                    -0.6299969293538458,
                    -1.2517641090440332,
                    -0.22243055511862136,
                    -0.7352793783887916,
                    -0.6393758292720403,
                    -0.8529305226296763,
                    -0.5750533162513145,
                    -0.7691683527909936,
                    -0.5300470339786653,
                    -1.10052786106186,
                    -0.23850477366217232,
                    -0.9009587459241227,
                    -1.0748870645859294,
                    -0.8111827418913731,
                    -0.9818301345017955,
                    -1.0109645897253947,
                    -0.7187474611955951,
                    -0.8661974191992072,
                    -0.5756575676731107,
                    -0.85063330325524,
                    -0.9098152070191242,
                    -1.4595488434007415,
                    -0.757136515276196
                  ],
                  "xaxis": "x",
                  "y": [
                    0.008302982542334556,
                    0.3717181000005927,
                    0.3102104773515091,
                    0.3443095057111575,
                    -0.647166124478096,
                    -0.4809105925244045,
                    0.10533563342058799,
                    0.7793817193487889,
                    0.25001795060228454,
                    -0.2181949426456879,
                    0.42741177696893423,
                    0.8861277260840502,
                    -0.13338401339350264,
                    0.5449161217447303,
                    0.1071459375785738,
                    -0.18776971582218746,
                    0.2651000230689427,
                    0.34465239753672683,
                    0.2930802420124922,
                    0.9182247245233424,
                    0.6108903179767009,
                    0.6304505872570015,
                    0.3980590187695799,
                    0.7434108758860555,
                    0.32786762976253175,
                    0.09021894195279698,
                    0.5162969797284339,
                    0.05111348771219535,
                    0.32962385153082874
                  ],
                  "yaxis": "y"
                },
                {
                  "hovertemplate": "color=District of Columbia<br>PC1=%{x}<br>PC2=%{y}<extra></extra>",
                  "legendgroup": "District of Columbia",
                  "marker": {
                    "color": "#EF553B",
                    "symbol": "circle"
                  },
                  "mode": "markers",
                  "name": "District of Columbia",
                  "orientation": "v",
                  "showlegend": true,
                  "type": "scatter",
                  "x": [
                    -2.93086743354727,
                    -3.0146598595016645,
                    -3.099460616351041,
                    -3.1252212713615717,
                    -3.338722257552018,
                    -3.607268555393826,
                    -3.6449224514125893,
                    -3.454904841721397,
                    -2.983036067707713,
                    -3.403992626549626,
                    -3.76152799088006,
                    -2.9195896665829086,
                    -3.6399406709943527,
                    -3.4279040150599664,
                    -3.428804414145287,
                    -3.4244413337122315,
                    -3.4300705196179355,
                    -3.506443828141725,
                    -3.46032520786715,
                    -2.9519105343072902,
                    -2.827715081460938,
                    -3.2278848784319325,
                    -2.7031711302483563,
                    -3.3350696383053795,
                    -3.451493980387151,
                    -2.809116461917915,
                    -3.501697264536792,
                    -2.7463847411327835,
                    -3.4352352469521903
                  ],
                  "xaxis": "x",
                  "y": [
                    0.6204722654112093,
                    0.8920055816536105,
                    0.465966716035227,
                    0.5892540576090334,
                    0.6824194994401495,
                    0.17245254891099332,
                    0.15722731054126535,
                    0.6879917711103392,
                    0.4463664288745904,
                    0.7541230772625276,
                    0.17173870950057257,
                    1.0051228520507047,
                    0.002174700753508442,
                    0.40122411017741105,
                    -0.23140405297753572,
                    0.0004890156529904692,
                    0.07872230851734525,
                    -0.06644195783941804,
                    0.023135881407369444,
                    0.2609810662122236,
                    0.12352537780324822,
                    0.34489932994842143,
                    0.09727675414849253,
                    0.4451864007645913,
                    0.35993377895374085,
                    0.08224819311233636,
                    -0.003521199491416057,
                    0.13801981639482555,
                    -0.09342262610551737
                  ],
                  "yaxis": "y"
                },
                {
                  "hovertemplate": "color=Delaware<br>PC1=%{x}<br>PC2=%{y}<extra></extra>",
                  "legendgroup": "Delaware",
                  "marker": {
                    "color": "#00cc96",
                    "symbol": "circle"
                  },
                  "mode": "markers",
                  "name": "Delaware",
                  "orientation": "v",
                  "showlegend": true,
                  "type": "scatter",
                  "x": [
                    -1.578951579249695,
                    -1.4763284798744933,
                    -1.0714519261875328,
                    -1.4552395191316363,
                    -1.8751926289887673,
                    -2.054527070129984,
                    -1.9664582898991505,
                    -1.9840109828938859,
                    -2.187741171409366,
                    -2.5795783072187133,
                    -2.4857229778213576,
                    -2.6254032574958672,
                    -2.4792207362272465,
                    -2.505334807729098,
                    -2.037003140424862,
                    -2.404591294262103,
                    -2.1228958587113174,
                    -2.3707811393366702,
                    -2.171290786533417,
                    -2.359682516138728,
                    -2.521320544743971,
                    -2.3600295766091253,
                    -2.425287622036895,
                    -2.5058578639202906,
                    -2.2824280211569987,
                    -2.3599139301553915,
                    -1.581617302600977,
                    -1.7557081630301714,
                    -1.4223505752611478
                  ],
                  "xaxis": "x",
                  "y": [
                    0.6938882175919926,
                    0.6908708221391184,
                    -0.05555543105471882,
                    0.22801680348511352,
                    -0.3524579190470834,
                    -0.3538768283317177,
                    -0.1015415331617835,
                    -0.4271531896420794,
                    0.008454158055748125,
                    -0.12129761857846649,
                    -0.3246786239939027,
                    0.3419057539628984,
                    -0.27287166977842886,
                    -0.4797446036846238,
                    -0.11871854989942973,
                    -0.33943541971378727,
                    -0.4670308341165689,
                    -0.12866380326478347,
                    -0.38015029507002,
                    -0.4497546072199996,
                    -0.14572147783262715,
                    -0.5043416075521969,
                    -0.12776748939197843,
                    -0.3469207383096848,
                    -0.30265529940511954,
                    -0.6096672985460734,
                    -0.8059239589276382,
                    -0.5211794893033663,
                    -0.7001771110800259
                  ],
                  "yaxis": "y"
                },
                {
                  "hovertemplate": "color=Hawaii<br>PC1=%{x}<br>PC2=%{y}<extra></extra>",
                  "legendgroup": "Hawaii",
                  "marker": {
                    "color": "#ab63fa",
                    "symbol": "circle"
                  },
                  "mode": "markers",
                  "name": "Hawaii",
                  "orientation": "v",
                  "showlegend": true,
                  "type": "scatter",
                  "x": [
                    7.545528112260168,
                    9.117338348955476,
                    7.819789018393886,
                    6.291835212287333,
                    4.241781998906292,
                    4.4959087324604585,
                    2.6027604639854225,
                    3.6357346722225694,
                    2.5845161539295107,
                    3.3988038431168826,
                    2.6935808257546157,
                    3.5693059880094866,
                    2.372275514822097,
                    3.1787623926219313,
                    3.0157104154826433,
                    2.6600759391331503,
                    2.3464183544380504,
                    2.980611828710131,
                    3.771113695052146,
                    2.9501257683581263,
                    3.113222634270773,
                    3.872784391045327,
                    2.7227887470976837,
                    3.2268340806825195,
                    2.340425022925208,
                    3.9206467156051255,
                    3.0244162941525885,
                    3.004921322137322,
                    3.805425501637179
                  ],
                  "xaxis": "x",
                  "y": [
                    7.612157841493464,
                    8.872284547012612,
                    7.0667355846182005,
                    5.426512466606403,
                    3.5899802799415155,
                    3.7624676592382342,
                    2.1093974456248095,
                    3.0156288267433484,
                    1.9423485764752455,
                    2.6355545584996105,
                    1.9405818313301275,
                    2.861254329167453,
                    1.7488255228160894,
                    2.3124054189081438,
                    2.153163675499791,
                    2.3452434281300567,
                    2.1460932344497454,
                    2.6481484212814226,
                    3.136801037066228,
                    2.7119946305182014,
                    2.5718948781304887,
                    3.628030102870211,
                    2.1650378160954724,
                    2.5648221048889615,
                    1.9603779321616706,
                    3.2443566825508543,
                    2.10130959525068,
                    2.5691255159097532,
                    3.1692016150375273
                  ],
                  "yaxis": "y"
                },
                {
                  "hovertemplate": "color=Idaho<br>PC1=%{x}<br>PC2=%{y}<extra></extra>",
                  "legendgroup": "Idaho",
                  "marker": {
                    "color": "#FFA15A",
                    "symbol": "circle"
                  },
                  "mode": "markers",
                  "name": "Idaho",
                  "orientation": "v",
                  "showlegend": true,
                  "type": "scatter",
                  "x": [
                    0.4621313840321832,
                    0.3456884912293519,
                    0.16853605602504435,
                    0.07299316962272116,
                    0.042804271488653796,
                    0.0247241072215475,
                    0.035671729621813704,
                    -0.029018766379759257,
                    -0.005298917845849166,
                    -0.033331466113197476,
                    0.018420930688060923,
                    0.012781246421257126,
                    -0.0034743141124714775,
                    -7.562909699678211e-17,
                    -0.017075905579468878,
                    0.13934239629100115,
                    0.06287491255580847,
                    0.062045547222455,
                    -0.012929078912701378,
                    0.07597888482279376,
                    0.07232967735603837,
                    0.11827651682382226,
                    -0.009113998379275274,
                    0.004819339221063521,
                    0.00398997388771001,
                    0.07680825015614727,
                    0.06121618188910148,
                    -0.014090190379396282,
                    0.023562995754852625
                  ],
                  "xaxis": "x",
                  "y": [
                    1.0499025779789652,
                    0.7853594251761099,
                    0.38289206450168,
                    0.16583101604805492,
                    0.09724575421027756,
                    0.05616996552721309,
                    0.08104154399585764,
                    -0.06592687422795093,
                    -0.012038454212554445,
                    -0.0757247687762049,
                    0.04184996580284203,
                    0.029037334470510018,
                    -0.007893191134447045,
                    -3.1353912280402544e-16,
                    -0.038794243171247855,
                    0.31656785525196124,
                    0.14284364806945923,
                    0.14095943757941037,
                    -0.029373190721003698,
                    0.1726141738122307,
                    0.1643236476560159,
                    0.268708908804721,
                    -0.020705822466779072,
                    0.010948913766041242,
                    0.009064703275992387,
                    0.17449838430227954,
                    0.13907522708936154,
                    -0.03201108540707208,
                    0.05353207084114479
                  ],
                  "yaxis": "y"
                },
                {
                  "hovertemplate": "color=Maine<br>PC1=%{x}<br>PC2=%{y}<extra></extra>",
                  "legendgroup": "Maine",
                  "marker": {
                    "color": "#19d3f3",
                    "symbol": "circle"
                  },
                  "mode": "markers",
                  "name": "Maine",
                  "orientation": "v",
                  "showlegend": true,
                  "type": "scatter",
                  "x": [
                    4.8207013071006095,
                    4.563490321734809,
                    6.19435230117183,
                    2.862793609785884,
                    2.850475990675757,
                    2.4095390269877535,
                    2.6129677122299757,
                    1.993779000983395,
                    3.08340107923032,
                    1.239191121295447,
                    1.3018805218299727,
                    1.297234766439985,
                    1.2043293271514242,
                    2.504440881264446,
                    2.8268447296299493,
                    1.2488717903735604,
                    1.983632038683542,
                    2.493683045466569,
                    2.248965678083445,
                    3.1594119132876903,
                    2.3320921668221763,
                    1.9741406639842258,
                    2.8120122989079834,
                    2.2530226724290165,
                    2.7140113094635763,
                    2.1376949771691116,
                    3.5610784091294927,
                    4.290140343599803,
                    3.557004940986258
                  ],
                  "xaxis": "x",
                  "y": [
                    0.43565336829570533,
                    1.627616582363236,
                    -0.5917839727610082,
                    0.3311387557181071,
                    -0.11434837139032834,
                    -0.5587099856951478,
                    -0.4776015631614519,
                    -1.2859841810691441,
                    -0.8536908124287149,
                    -0.8359871561051008,
                    -1.5718664515946954,
                    -1.9432944767700415,
                    -1.4116285582800199,
                    -2.6806575173708205,
                    -2.817409092830357,
                    -1.6216808086725045,
                    -2.0204504129458103,
                    -1.1827579369864611,
                    -2.0717436208890985,
                    -2.098339021128939,
                    -1.0434642310388151,
                    -2.4436295269565265,
                    -1.9434109820977998,
                    -1.0953028332668528,
                    -1.5654803785357885,
                    -1.6064457707453244,
                    -2.546917761697229,
                    -1.723012581757084,
                    -2.5409938335137734
                  ],
                  "yaxis": "y"
                },
                {
                  "hovertemplate": "color=Montana<br>PC1=%{x}<br>PC2=%{y}<extra></extra>",
                  "legendgroup": "Montana",
                  "marker": {
                    "color": "#FF6692",
                    "symbol": "circle"
                  },
                  "mode": "markers",
                  "name": "Montana",
                  "orientation": "v",
                  "showlegend": true,
                  "type": "scatter",
                  "x": [
                    -0.05278120933087123,
                    0.18439922206016268,
                    0.4687112328851837,
                    -1.1676983121094462,
                    -1.5342646249226701,
                    -1.2732840038301565,
                    -1.28611408027274,
                    -1.7697403926579862,
                    -1.1704032776660762,
                    -1.265795306393579,
                    -1.5982667017364907,
                    -1.2506033121984217,
                    -1.4378052793776104,
                    -0.8828353162681738,
                    -1.08356545902225,
                    -1.4291336007539515,
                    -1.7732289667529586,
                    -1.4765456729914932,
                    -1.5824126298280086,
                    -1.4729817180215998,
                    -1.67666037277721,
                    -2.006984618168909,
                    -1.3725995453875244,
                    -1.6994218923199573,
                    -1.7282126766234875,
                    -1.7338654751797846,
                    -1.0930542253699722,
                    -1.4835016590993497,
                    -0.7140120893415943
                  ],
                  "xaxis": "x",
                  "y": [
                    0.5440820573241252,
                    0.7385970070169555,
                    0.3251718865934058,
                    0.14786150984596808,
                    0.08204897866500241,
                    -0.8081894284584796,
                    -0.06740019473648537,
                    -0.2595821644081488,
                    -0.5258684599458165,
                    -0.24005428870747234,
                    -0.29140987211121405,
                    -0.4499162314640392,
                    0.14535836199771485,
                    -0.3263278540480579,
                    -0.2673643958713635,
                    -0.4879827446288756,
                    -0.560609409672472,
                    -0.5549234096903729,
                    0.2594213237086976,
                    -0.25581724915765996,
                    -0.596648309785223,
                    0.0497219804233301,
                    -0.5353988190154986,
                    -0.08773132166335162,
                    -0.941496508073879,
                    -0.8310572607267326,
                    -0.6181993343076363,
                    -0.6056285114764033,
                    -1.1344894274305697
                  ],
                  "yaxis": "y"
                },
                {
                  "hovertemplate": "color=North Dakota<br>PC1=%{x}<br>PC2=%{y}<extra></extra>",
                  "legendgroup": "North Dakota",
                  "marker": {
                    "color": "#B6E880",
                    "symbol": "circle"
                  },
                  "mode": "markers",
                  "name": "North Dakota",
                  "orientation": "v",
                  "showlegend": true,
                  "type": "scatter",
                  "x": [
                    -1.8329485058989519,
                    -1.6885878101520482,
                    -1.3265111575648623,
                    -1.8315056330027524,
                    -1.7705089390870465,
                    -2.2822611134135915,
                    -1.5059249551503007,
                    -2.027676535540548,
                    -1.6414991118918438,
                    -2.272562173037892,
                    -2.5022317378144168,
                    -1.87900988738367,
                    -1.5606501992754263,
                    -2.5668632780948544,
                    -2.4779882305335863,
                    -1.693474827834777,
                    -0.29521784691697234,
                    -2.0182209411460166,
                    -2.5695641176520376,
                    -2.0096870918380416,
                    -2.3477817502264373,
                    -2.34411254361459,
                    -2.1238957438407025,
                    -2.5863389314432235,
                    -2.403120344208068,
                    -2.1713702879352725,
                    -1.7886604358316052,
                    -1.5937991159426437,
                    -2.374188363869189
                  ],
                  "xaxis": "x",
                  "y": [
                    0.6457115864115782,
                    0.27040666683672,
                    0.17183759607484456,
                    0.5932403249180838,
                    0.19493227329535057,
                    0.6632758874105293,
                    0.20332257548246072,
                    0.7790754134815402,
                    0.43620523880625806,
                    0.7021990371584061,
                    -0.036426061448923935,
                    0.8754337643947904,
                    -0.16233001819829496,
                    0.4883616697473062,
                    0.373924678810041,
                    0.453218877136409,
                    0.3401927433878978,
                    0.4468585599205086,
                    0.3214361847454289,
                    0.869674460456475,
                    0.023474195357948303,
                    0.6960296908262107,
                    0.4463780782539559,
                    0.1343487401315064,
                    0.5670359024127566,
                    0.5565413570151019,
                    -0.22830647028891435,
                    0.032505999754476364,
                    -0.29026794680700013
                  ],
                  "yaxis": "y"
                },
                {
                  "hovertemplate": "color=Nebraska<br>PC1=%{x}<br>PC2=%{y}<extra></extra>",
                  "legendgroup": "Nebraska",
                  "marker": {
                    "color": "#FF97FF",
                    "symbol": "circle"
                  },
                  "mode": "markers",
                  "name": "Nebraska",
                  "orientation": "v",
                  "showlegend": true,
                  "type": "scatter",
                  "x": [
                    1.1992712923167739,
                    0.891410880575955,
                    0.42812740536468974,
                    0.5453996635008747,
                    0.25528766989382046,
                    0.24234957069350582,
                    0.31632895842863795,
                    0.3131773701618947,
                    0.3641004016297996,
                    0.16140351415820428,
                    0.29990752482823874,
                    0.21365353015947472,
                    0.4302837552314089,
                    0.3397170608292068,
                    0.3120162586951998,
                    0.35116230242948504,
                    0.38815199629705116,
                    0.3911377114971238,
                    0.4745718640324857,
                    0.41004724109758356,
                    0.5276512453671097,
                    0.4233170864312395,
                    0.3531527792295335,
                    0.2672305306941109,
                    0.4218242288312032,
                    0.44736868109849104,
                    0.3090305434951272,
                    0.4588139226987693,
                    0.4865147248327762
                  ],
                  "xaxis": "x",
                  "y": [
                    2.724588861534364,
                    2.025169927628239,
                    0.9726499478869634,
                    1.2390773111798676,
                    0.5799804817607876,
                    0.5505867981160258,
                    0.7186583738283812,
                    0.7114983739661958,
                    0.8271888980551939,
                    0.36668785428726014,
                    0.6813510061254145,
                    0.4853931151603363,
                    0.9775488951610904,
                    0.7717931096477585,
                    0.7088604792801274,
                    0.7977952144104322,
                    0.88183100226661,
                    0.8886141600307859,
                    1.0781657353296976,
                    0.9315741592038992,
                    1.1987552066928229,
                    0.9617215270446803,
                    0.8023173195865495,
                    0.6071131128174908,
                    0.9583299481625923,
                    1.0163636312560964,
                    0.7020773215159516,
                    1.0423657360187701,
                    1.1052983663864009
                  ],
                  "yaxis": "y"
                },
                {
                  "hovertemplate": "color=New Hampshire<br>PC1=%{x}<br>PC2=%{y}<extra></extra>",
                  "legendgroup": "New Hampshire",
                  "marker": {
                    "color": "#FECB52",
                    "symbol": "circle"
                  },
                  "mode": "markers",
                  "name": "New Hampshire",
                  "orientation": "v",
                  "showlegend": true,
                  "type": "scatter",
                  "x": [
                    4.885659545882447,
                    3.821766772778271,
                    5.110074550318133,
                    2.413177937374945,
                    2.7958751100536756,
                    2.162888957455347,
                    2.358974711168971,
                    2.0121052494123433,
                    2.0933389131077633,
                    1.0909053634280048,
                    1.8774733326455422,
                    0.8624058097519528,
                    1.1877182130819959,
                    1.5839453236173822,
                    1.3766901919536596,
                    1.8461327554826683,
                    1.1107128388954155,
                    1.6141997949918985,
                    2.277096597769271,
                    2.326708871158047,
                    2.0931511948436987,
                    2.1877671843784343,
                    2.027112708678695,
                    2.299152970453336,
                    2.108826339776883,
                    1.9591010528142856,
                    2.6070116021709864,
                    3.8465240023121434,
                    3.6385204871666126
                  ],
                  "xaxis": "x",
                  "y": [
                    0.6146343831250681,
                    1.852728641088405,
                    -0.6246299759369175,
                    0.45727952172553343,
                    -0.4879832993997582,
                    -0.9908434727062106,
                    -1.1915954665935389,
                    -1.4810996432408938,
                    -1.6150766022171719,
                    -1.6444241352735305,
                    -0.9324613607577811,
                    -1.4668165805794986,
                    -1.7197605573513177,
                    -1.993881747719304,
                    -1.7487832772999106,
                    -1.5538321670904882,
                    -1.8551203262468945,
                    -1.3223935112745184,
                    -1.5692956759122363,
                    -2.2618555884577467,
                    -1.5930064220204665,
                    -2.299404056565942,
                    -1.8328160875108523,
                    -1.6606645452422562,
                    -1.8533574813639593,
                    -1.3498022491885657,
                    -2.457321890988774,
                    -2.2875114847475193,
                    -2.7356437805167126
                  ],
                  "yaxis": "y"
                },
                {
                  "hovertemplate": "color=New Mexico<br>PC1=%{x}<br>PC2=%{y}<extra></extra>",
                  "legendgroup": "New Mexico",
                  "marker": {
                    "color": "#636efa",
                    "symbol": "circle"
                  },
                  "mode": "markers",
                  "name": "New Mexico",
                  "orientation": "v",
                  "showlegend": true,
                  "type": "scatter",
                  "x": [
                    0.563479827767981,
                    0.41883851363113056,
                    0.3005710170949215,
                    0.21862972215959572,
                    0.1675408176250201,
                    0.14365509602443938,
                    0.05872808588904101,
                    0.1278971546907229,
                    0.13984001549101327,
                    0.015932834688000417,
                    0.05192729015554231,
                    0.11827651682382226,
                    0.0683487237559416,
                    0.19076304695891816,
                    0.12491143949065024,
                    -0.00032272584572818675,
                    0.005151085354404914,
                    0.16206700642488706,
                    0.03932093708856914,
                    0.11147572109032357,
                    0.11877413602383438,
                    0.07747174242283006,
                    0.012449500287915733,
                    0.06187967415578433,
                    0.07266142348937978,
                    0.14614319202449985,
                    0.06370427788916198,
                    0.09638127202328986,
                    0.04512649442204361
                  ],
                  "xaxis": "x",
                  "y": [
                    1.2801530998629322,
                    0.9515467903984166,
                    0.6828583745174537,
                    0.4966983781006292,
                    0.3806310119136213,
                    0.3263657498002152,
                    0.1334225956192151,
                    0.2905657504892875,
                    0.31769838154599056,
                    0.036197334332695535,
                    0.1179720696008147,
                    0.268708908804721,
                    0.15527943730378158,
                    0.43338890563498866,
                    0.2837825927251116,
                    -0.0007331912722615139,
                    0.011702597962060756,
                    0.36819522267929916,
                    0.08933207015207258,
                    0.2532583827863206,
                    0.26983943509875036,
                    0.1760057526943186,
                    0.028283650274490504,
                    0.1405825954814007,
                    0.1650773318520354,
                    0.3320183812703616,
                    0.1447278585595081,
                    0.21896575186743192,
                    0.10252154358241432
                  ],
                  "yaxis": "y"
                },
                {
                  "hovertemplate": "color=Rhode Island<br>PC1=%{x}<br>PC2=%{y}<extra></extra>",
                  "legendgroup": "Rhode Island",
                  "marker": {
                    "color": "#EF553B",
                    "symbol": "circle"
                  },
                  "mode": "markers",
                  "name": "Rhode Island",
                  "orientation": "v",
                  "showlegend": true,
                  "type": "scatter",
                  "x": [
                    1.6045350951499093,
                    0.8140541112363243,
                    1.4239084305415097,
                    1.2292479260300628,
                    0.11374806848200698,
                    0.4342923744229033,
                    -0.4000167777962321,
                    -0.2186306800057838,
                    -0.11978333406032302,
                    -0.9932227446331795,
                    -0.5754836615114487,
                    -0.8846813952949566,
                    -1.1443475181100786,
                    -1.0044322161731976,
                    -0.05911940709860247,
                    -0.7985273524900249,
                    -0.27012124196804216,
                    -0.6269023438908256,
                    -0.06386383173798577,
                    -0.7154898980527932,
                    -0.49212163613083715,
                    -0.47440963851348555,
                    -0.5241467535250927,
                    -0.009437111810131371,
                    -0.048018939693138106,
                    -0.2831390922698999,
                    -0.09091647884485234,
                    0.34072448576215103,
                    0.28663003291402,
                    0.9899075147954721
                  ],
                  "xaxis": "x",
                  "y": [
                    -0.08185578764412352,
                    0.4766226989253338,
                    1.4502416412916843,
                    0.1565736498522155,
                    0.46850477670672597,
                    -0.3452718680155505,
                    -0.29594303693541923,
                    -0.6375250894755761,
                    -0.5548235302494823,
                    -0.5643594501967633,
                    -0.3488624394026824,
                    -0.5762300026669809,
                    -1.0976030807955872,
                    -1.0600646537575502,
                    -0.8983637322585507,
                    -0.8456225204061513,
                    -1.186580067725135,
                    -0.5443069394726346,
                    -1.0643237332869904,
                    -0.6598011944053217,
                    -0.5231530555386557,
                    -0.6930913839141549,
                    -1.0025179644805178,
                    -1.1734434570492216,
                    -1.5661959518060256,
                    -1.1283631259337699,
                    -0.7993594992953068,
                    -0.760709309713292,
                    -1.1593328700059493,
                    -1.7711754444326688
                  ],
                  "yaxis": "y"
                },
                {
                  "hovertemplate": "color=South Dakota<br>PC1=%{x}<br>PC2=%{y}<extra></extra>",
                  "legendgroup": "South Dakota",
                  "marker": {
                    "color": "#00cc96",
                    "symbol": "circle"
                  },
                  "mode": "markers",
                  "name": "South Dakota",
                  "orientation": "v",
                  "showlegend": true,
                  "type": "scatter",
                  "x": [
                    -0.8500013518809733,
                    -0.40667814972083666,
                    -0.8269162918982802,
                    -1.2682019877494446,
                    -1.4447595938023763,
                    -2.0650316621832396,
                    -2.0833396523378056,
                    -1.4812674693155137,
                    -1.748039728712506,
                    -1.6824822707917158,
                    -1.22516508523054,
                    -2.335686000032498,
                    -1.4603477932183186,
                    -1.3493618099493658,
                    -0.9549619734113193,
                    -1.5021334032073925,
                    -1.4730847593884682,
                    -1.7356956671676673,
                    -1.2206897598937736,
                    -1.3996851552032854,
                    -1.3289625906048086,
                    -1.158402441827169,
                    -1.0395157800236874,
                    -1.2654389747305386,
                    -1.8297585888290602,
                    -1.8457975833192732,
                    -1.2573270767365432,
                    -1.3636061565391489,
                    -0.6466234643593138
                  ],
                  "xaxis": "x",
                  "y": [
                    0.6280039598929728,
                    0.05254628803556916,
                    0.110758882459346,
                    -0.22630241299820203,
                    -0.045258770004739955,
                    -0.6870980268759189,
                    -0.6396032530173531,
                    0.5610231535121577,
                    -0.55398937939685,
                    -0.08702316244444121,
                    0.5935883735732151,
                    0.19871230328591244,
                    -0.05232341240018332,
                    0.16088308097185966,
                    0.9864316776630692,
                    0.6636606876828878,
                    0.9222579665158869,
                    -0.09526135948860015,
                    -0.4369479745178455,
                    0.01746013938271017,
                    -0.33005825937443656,
                    0.31892130309783867,
                    0.6340281717651851,
                    -0.15539922626401453,
                    -0.6815460656966725,
                    -0.28126147438185195,
                    -0.7536402143577919,
                    -0.36410674737089715,
                    -0.6473948036811219
                  ],
                  "yaxis": "y"
                },
                {
                  "hovertemplate": "color=Vermont<br>PC1=%{x}<br>PC2=%{y}<extra></extra>",
                  "legendgroup": "Vermont",
                  "marker": {
                    "color": "#ab63fa",
                    "symbol": "circle"
                  },
                  "mode": "markers",
                  "name": "Vermont",
                  "orientation": "v",
                  "showlegend": true,
                  "type": "scatter",
                  "x": [
                    -0.4795191336516834,
                    -0.5499667566199696,
                    -0.41384292489736463,
                    -1.1876074641270533,
                    -1.0960404284259149,
                    -1.7849843595007169,
                    -1.0437416218174203,
                    -0.6904950010279912,
                    -1.4084629665997204,
                    -1.3297299271351743,
                    -1.02003456824489,
                    -0.8894074811748163,
                    -0.9163197220797155,
                    -0.923990686863407,
                    -0.9134550283957618,
                    -1.2846023658198311,
                    -0.8521570566736341,
                    -0.8873899671511569,
                    -1.2091183221316777,
                    -0.9619547166505213,
                    -1.3225867965539098,
                    -0.7867181365395916,
                    -0.6032570007031646,
                    -0.4286893557488792,
                    -1.1580021750286396,
                    -1.082031941308019,
                    -0.38366005765656325,
                    -0.891049609977311,
                    -0.5425930765482034
                  ],
                  "xaxis": "x",
                  "y": [
                    0.6115647359733986,
                    0.6049934142305486,
                    0.42627637402924534,
                    -0.06792738869427983,
                    0.3108543481923698,
                    0.19053436032280927,
                    -0.1122510286648849,
                    0.054416303431860054,
                    -0.2950232629726096,
                    0.105034175911626,
                    0.20183755289609806,
                    0.39001180946489555,
                    0.3155553527756165,
                    0.10391080651846539,
                    0.2819709766284069,
                    0.31375135473097965,
                    0.3857861891766148,
                    -0.4262373067229982,
                    -0.11727768786213168,
                    0.14888494483335699,
                    -0.350686053514793,
                    -0.3246905153574137,
                    -0.5027275120857684,
                    -0.2237178850668835,
                    -0.08047458343334205,
                    0.3478087673763887,
                    -0.7038115924152387,
                    0.391161003210206,
                    -0.8975759441080414
                  ],
                  "yaxis": "y"
                },
                {
                  "hovertemplate": "color=West Virginia<br>PC1=%{x}<br>PC2=%{y}<extra></extra>",
                  "legendgroup": "West Virginia",
                  "marker": {
                    "color": "#FFA15A",
                    "symbol": "circle"
                  },
                  "mode": "markers",
                  "name": "West Virginia",
                  "orientation": "v",
                  "showlegend": true,
                  "type": "scatter",
                  "x": [
                    5.853249992360892,
                    5.879931606076229,
                    6.964798480014947,
                    4.6879552852397754,
                    3.799753597120587,
                    3.654113061195697,
                    3.159858704244305,
                    3.7962262929713866,
                    2.874324297914583,
                    2.2518017140157354,
                    1.7681820437370068,
                    2.765532207691445,
                    2.637795155977052,
                    2.9632914702097173,
                    3.3346553161140515,
                    3.3727148084659553,
                    3.3423294974098283,
                    3.163198865369594,
                    3.4664871340269925,
                    4.417422306480141,
                    3.320195115713697,
                    4.188396774982087,
                    4.079638442550925,
                    3.4170176760236397,
                    4.699915711916968,
                    4.0491745418508325,
                    4.6117206348258835,
                    4.493648090750118,
                    4.2814752188390175
                  ],
                  "xaxis": "x",
                  "y": [
                    -0.021254780917569858,
                    0.4610728435010373,
                    -1.7801982238834357,
                    -1.0045372506376888,
                    -1.4752916290318412,
                    -1.3589455025661892,
                    -1.9422345960977845,
                    -2.7139348950755524,
                    -2.0699221963912025,
                    -1.8510907257540692,
                    -2.186420555669278,
                    -2.1443670497038885,
                    -1.8417050250169629,
                    -2.7088886054539434,
                    -2.6560873097907387,
                    -3.4647336765541095,
                    -1.7506650157844168,
                    -2.8212874239668153,
                    -2.883766833892733,
                    -3.901957348512337,
                    -2.413462067585762,
                    -3.0453680933819554,
                    -2.9872051086803735,
                    -2.163230641998786,
                    -4.312331834074418,
                    -3.3558213567529886,
                    -2.491750867185,
                    -2.9320512583348757,
                    -2.549795369058309
                  ],
                  "yaxis": "y"
                },
                {
                  "hovertemplate": "color=Wyoming<br>PC1=%{x}<br>PC2=%{y}<extra></extra>",
                  "legendgroup": "Wyoming",
                  "marker": {
                    "color": "#19d3f3",
                    "symbol": "circle"
                  },
                  "mode": "markers",
                  "name": "Wyoming",
                  "orientation": "v",
                  "showlegend": true,
                  "type": "scatter",
                  "x": [
                    -2.8306309721204213,
                    -1.756240622701416,
                    -1.9507838490637786,
                    -1.5671499982854098,
                    -1.3627925242324046,
                    -1.8597961903939058,
                    -2.6742525978852334,
                    -1.3300705020401022,
                    -1.9829012906584385,
                    -0.9572564317531869,
                    -1.0429163341443408,
                    -0.514818409011321,
                    -2.210017055435468,
                    -1.0250180851071076,
                    -1.0557307190913197,
                    -1.0701940789743802,
                    -7.562909699678211e-17,
                    -1.454224048699448,
                    -1.0097293597910173,
                    -0.5320634344360731,
                    -1.5234489986720243,
                    -1.049471396430332,
                    -1.9133207268803485,
                    -0.49686294134143,
                    -0.9871736507672079,
                    -2.047572259592371,
                    -2.4780488029851906,
                    -1.4807875375786452,
                    -1.9065406031370549
                  ],
                  "xaxis": "x",
                  "y": [
                    0.184929930763058,
                    -0.9404945971220591,
                    -0.27570810813711016,
                    -1.5451163266910923,
                    0.5204569003075359,
                    1.1263205162956587,
                    0.41506037973042925,
                    0.4395608727149929,
                    0.32826380932640725,
                    0.941523541339638,
                    1.1882438064778473,
                    0.5763135495921899,
                    1.537369917967828,
                    1.1514421056643693,
                    0.33698597888842047,
                    0.26306145745045445,
                    -3.1353912280402544e-16,
                    1.48331476993783,
                    1.1465858015682295,
                    0.6131205186524533,
                    -0.02816064940734644,
                    1.1790738751728116,
                    1.2909775468435807,
                    0.5562132984622907,
                    1.1223299665395285,
                    0.4897600025829365,
                    -0.15314833256301416,
                    0.7939093519150733,
                    1.0608319608846715
                  ],
                  "yaxis": "y"
                }
              ],
              "layout": {
                "legend": {
                  "title": {
                    "text": "color"
                  },
                  "tracegroupgap": 0
                },
                "margin": {
                  "t": 60
                },
                "template": {
                  "data": {
                    "bar": [
                      {
                        "error_x": {
                          "color": "#2a3f5f"
                        },
                        "error_y": {
                          "color": "#2a3f5f"
                        },
                        "marker": {
                          "line": {
                            "color": "#E5ECF6",
                            "width": 0.5
                          }
                        },
                        "type": "bar"
                      }
                    ],
                    "barpolar": [
                      {
                        "marker": {
                          "line": {
                            "color": "#E5ECF6",
                            "width": 0.5
                          }
                        },
                        "type": "barpolar"
                      }
                    ],
                    "carpet": [
                      {
                        "aaxis": {
                          "endlinecolor": "#2a3f5f",
                          "gridcolor": "white",
                          "linecolor": "white",
                          "minorgridcolor": "white",
                          "startlinecolor": "#2a3f5f"
                        },
                        "baxis": {
                          "endlinecolor": "#2a3f5f",
                          "gridcolor": "white",
                          "linecolor": "white",
                          "minorgridcolor": "white",
                          "startlinecolor": "#2a3f5f"
                        },
                        "type": "carpet"
                      }
                    ],
                    "choropleth": [
                      {
                        "colorbar": {
                          "outlinewidth": 0,
                          "ticks": ""
                        },
                        "type": "choropleth"
                      }
                    ],
                    "contour": [
                      {
                        "colorbar": {
                          "outlinewidth": 0,
                          "ticks": ""
                        },
                        "colorscale": [
                          [
                            0,
                            "#0d0887"
                          ],
                          [
                            0.1111111111111111,
                            "#46039f"
                          ],
                          [
                            0.2222222222222222,
                            "#7201a8"
                          ],
                          [
                            0.3333333333333333,
                            "#9c179e"
                          ],
                          [
                            0.4444444444444444,
                            "#bd3786"
                          ],
                          [
                            0.5555555555555556,
                            "#d8576b"
                          ],
                          [
                            0.6666666666666666,
                            "#ed7953"
                          ],
                          [
                            0.7777777777777778,
                            "#fb9f3a"
                          ],
                          [
                            0.8888888888888888,
                            "#fdca26"
                          ],
                          [
                            1,
                            "#f0f921"
                          ]
                        ],
                        "type": "contour"
                      }
                    ],
                    "contourcarpet": [
                      {
                        "colorbar": {
                          "outlinewidth": 0,
                          "ticks": ""
                        },
                        "type": "contourcarpet"
                      }
                    ],
                    "heatmap": [
                      {
                        "colorbar": {
                          "outlinewidth": 0,
                          "ticks": ""
                        },
                        "colorscale": [
                          [
                            0,
                            "#0d0887"
                          ],
                          [
                            0.1111111111111111,
                            "#46039f"
                          ],
                          [
                            0.2222222222222222,
                            "#7201a8"
                          ],
                          [
                            0.3333333333333333,
                            "#9c179e"
                          ],
                          [
                            0.4444444444444444,
                            "#bd3786"
                          ],
                          [
                            0.5555555555555556,
                            "#d8576b"
                          ],
                          [
                            0.6666666666666666,
                            "#ed7953"
                          ],
                          [
                            0.7777777777777778,
                            "#fb9f3a"
                          ],
                          [
                            0.8888888888888888,
                            "#fdca26"
                          ],
                          [
                            1,
                            "#f0f921"
                          ]
                        ],
                        "type": "heatmap"
                      }
                    ],
                    "heatmapgl": [
                      {
                        "colorbar": {
                          "outlinewidth": 0,
                          "ticks": ""
                        },
                        "colorscale": [
                          [
                            0,
                            "#0d0887"
                          ],
                          [
                            0.1111111111111111,
                            "#46039f"
                          ],
                          [
                            0.2222222222222222,
                            "#7201a8"
                          ],
                          [
                            0.3333333333333333,
                            "#9c179e"
                          ],
                          [
                            0.4444444444444444,
                            "#bd3786"
                          ],
                          [
                            0.5555555555555556,
                            "#d8576b"
                          ],
                          [
                            0.6666666666666666,
                            "#ed7953"
                          ],
                          [
                            0.7777777777777778,
                            "#fb9f3a"
                          ],
                          [
                            0.8888888888888888,
                            "#fdca26"
                          ],
                          [
                            1,
                            "#f0f921"
                          ]
                        ],
                        "type": "heatmapgl"
                      }
                    ],
                    "histogram": [
                      {
                        "marker": {
                          "colorbar": {
                            "outlinewidth": 0,
                            "ticks": ""
                          }
                        },
                        "type": "histogram"
                      }
                    ],
                    "histogram2d": [
                      {
                        "colorbar": {
                          "outlinewidth": 0,
                          "ticks": ""
                        },
                        "colorscale": [
                          [
                            0,
                            "#0d0887"
                          ],
                          [
                            0.1111111111111111,
                            "#46039f"
                          ],
                          [
                            0.2222222222222222,
                            "#7201a8"
                          ],
                          [
                            0.3333333333333333,
                            "#9c179e"
                          ],
                          [
                            0.4444444444444444,
                            "#bd3786"
                          ],
                          [
                            0.5555555555555556,
                            "#d8576b"
                          ],
                          [
                            0.6666666666666666,
                            "#ed7953"
                          ],
                          [
                            0.7777777777777778,
                            "#fb9f3a"
                          ],
                          [
                            0.8888888888888888,
                            "#fdca26"
                          ],
                          [
                            1,
                            "#f0f921"
                          ]
                        ],
                        "type": "histogram2d"
                      }
                    ],
                    "histogram2dcontour": [
                      {
                        "colorbar": {
                          "outlinewidth": 0,
                          "ticks": ""
                        },
                        "colorscale": [
                          [
                            0,
                            "#0d0887"
                          ],
                          [
                            0.1111111111111111,
                            "#46039f"
                          ],
                          [
                            0.2222222222222222,
                            "#7201a8"
                          ],
                          [
                            0.3333333333333333,
                            "#9c179e"
                          ],
                          [
                            0.4444444444444444,
                            "#bd3786"
                          ],
                          [
                            0.5555555555555556,
                            "#d8576b"
                          ],
                          [
                            0.6666666666666666,
                            "#ed7953"
                          ],
                          [
                            0.7777777777777778,
                            "#fb9f3a"
                          ],
                          [
                            0.8888888888888888,
                            "#fdca26"
                          ],
                          [
                            1,
                            "#f0f921"
                          ]
                        ],
                        "type": "histogram2dcontour"
                      }
                    ],
                    "mesh3d": [
                      {
                        "colorbar": {
                          "outlinewidth": 0,
                          "ticks": ""
                        },
                        "type": "mesh3d"
                      }
                    ],
                    "parcoords": [
                      {
                        "line": {
                          "colorbar": {
                            "outlinewidth": 0,
                            "ticks": ""
                          }
                        },
                        "type": "parcoords"
                      }
                    ],
                    "pie": [
                      {
                        "automargin": true,
                        "type": "pie"
                      }
                    ],
                    "scatter": [
                      {
                        "marker": {
                          "colorbar": {
                            "outlinewidth": 0,
                            "ticks": ""
                          }
                        },
                        "type": "scatter"
                      }
                    ],
                    "scatter3d": [
                      {
                        "line": {
                          "colorbar": {
                            "outlinewidth": 0,
                            "ticks": ""
                          }
                        },
                        "marker": {
                          "colorbar": {
                            "outlinewidth": 0,
                            "ticks": ""
                          }
                        },
                        "type": "scatter3d"
                      }
                    ],
                    "scattercarpet": [
                      {
                        "marker": {
                          "colorbar": {
                            "outlinewidth": 0,
                            "ticks": ""
                          }
                        },
                        "type": "scattercarpet"
                      }
                    ],
                    "scattergeo": [
                      {
                        "marker": {
                          "colorbar": {
                            "outlinewidth": 0,
                            "ticks": ""
                          }
                        },
                        "type": "scattergeo"
                      }
                    ],
                    "scattergl": [
                      {
                        "marker": {
                          "colorbar": {
                            "outlinewidth": 0,
                            "ticks": ""
                          }
                        },
                        "type": "scattergl"
                      }
                    ],
                    "scattermapbox": [
                      {
                        "marker": {
                          "colorbar": {
                            "outlinewidth": 0,
                            "ticks": ""
                          }
                        },
                        "type": "scattermapbox"
                      }
                    ],
                    "scatterpolar": [
                      {
                        "marker": {
                          "colorbar": {
                            "outlinewidth": 0,
                            "ticks": ""
                          }
                        },
                        "type": "scatterpolar"
                      }
                    ],
                    "scatterpolargl": [
                      {
                        "marker": {
                          "colorbar": {
                            "outlinewidth": 0,
                            "ticks": ""
                          }
                        },
                        "type": "scatterpolargl"
                      }
                    ],
                    "scatterternary": [
                      {
                        "marker": {
                          "colorbar": {
                            "outlinewidth": 0,
                            "ticks": ""
                          }
                        },
                        "type": "scatterternary"
                      }
                    ],
                    "surface": [
                      {
                        "colorbar": {
                          "outlinewidth": 0,
                          "ticks": ""
                        },
                        "colorscale": [
                          [
                            0,
                            "#0d0887"
                          ],
                          [
                            0.1111111111111111,
                            "#46039f"
                          ],
                          [
                            0.2222222222222222,
                            "#7201a8"
                          ],
                          [
                            0.3333333333333333,
                            "#9c179e"
                          ],
                          [
                            0.4444444444444444,
                            "#bd3786"
                          ],
                          [
                            0.5555555555555556,
                            "#d8576b"
                          ],
                          [
                            0.6666666666666666,
                            "#ed7953"
                          ],
                          [
                            0.7777777777777778,
                            "#fb9f3a"
                          ],
                          [
                            0.8888888888888888,
                            "#fdca26"
                          ],
                          [
                            1,
                            "#f0f921"
                          ]
                        ],
                        "type": "surface"
                      }
                    ],
                    "table": [
                      {
                        "cells": {
                          "fill": {
                            "color": "#EBF0F8"
                          },
                          "line": {
                            "color": "white"
                          }
                        },
                        "header": {
                          "fill": {
                            "color": "#C8D4E3"
                          },
                          "line": {
                            "color": "white"
                          }
                        },
                        "type": "table"
                      }
                    ]
                  },
                  "layout": {
                    "annotationdefaults": {
                      "arrowcolor": "#2a3f5f",
                      "arrowhead": 0,
                      "arrowwidth": 1
                    },
                    "coloraxis": {
                      "colorbar": {
                        "outlinewidth": 0,
                        "ticks": ""
                      }
                    },
                    "colorscale": {
                      "diverging": [
                        [
                          0,
                          "#8e0152"
                        ],
                        [
                          0.1,
                          "#c51b7d"
                        ],
                        [
                          0.2,
                          "#de77ae"
                        ],
                        [
                          0.3,
                          "#f1b6da"
                        ],
                        [
                          0.4,
                          "#fde0ef"
                        ],
                        [
                          0.5,
                          "#f7f7f7"
                        ],
                        [
                          0.6,
                          "#e6f5d0"
                        ],
                        [
                          0.7,
                          "#b8e186"
                        ],
                        [
                          0.8,
                          "#7fbc41"
                        ],
                        [
                          0.9,
                          "#4d9221"
                        ],
                        [
                          1,
                          "#276419"
                        ]
                      ],
                      "sequential": [
                        [
                          0,
                          "#0d0887"
                        ],
                        [
                          0.1111111111111111,
                          "#46039f"
                        ],
                        [
                          0.2222222222222222,
                          "#7201a8"
                        ],
                        [
                          0.3333333333333333,
                          "#9c179e"
                        ],
                        [
                          0.4444444444444444,
                          "#bd3786"
                        ],
                        [
                          0.5555555555555556,
                          "#d8576b"
                        ],
                        [
                          0.6666666666666666,
                          "#ed7953"
                        ],
                        [
                          0.7777777777777778,
                          "#fb9f3a"
                        ],
                        [
                          0.8888888888888888,
                          "#fdca26"
                        ],
                        [
                          1,
                          "#f0f921"
                        ]
                      ],
                      "sequentialminus": [
                        [
                          0,
                          "#0d0887"
                        ],
                        [
                          0.1111111111111111,
                          "#46039f"
                        ],
                        [
                          0.2222222222222222,
                          "#7201a8"
                        ],
                        [
                          0.3333333333333333,
                          "#9c179e"
                        ],
                        [
                          0.4444444444444444,
                          "#bd3786"
                        ],
                        [
                          0.5555555555555556,
                          "#d8576b"
                        ],
                        [
                          0.6666666666666666,
                          "#ed7953"
                        ],
                        [
                          0.7777777777777778,
                          "#fb9f3a"
                        ],
                        [
                          0.8888888888888888,
                          "#fdca26"
                        ],
                        [
                          1,
                          "#f0f921"
                        ]
                      ]
                    },
                    "colorway": [
                      "#636efa",
                      "#EF553B",
                      "#00cc96",
                      "#ab63fa",
                      "#FFA15A",
                      "#19d3f3",
                      "#FF6692",
                      "#B6E880",
                      "#FF97FF",
                      "#FECB52"
                    ],
                    "font": {
                      "color": "#2a3f5f"
                    },
                    "geo": {
                      "bgcolor": "white",
                      "lakecolor": "white",
                      "landcolor": "#E5ECF6",
                      "showlakes": true,
                      "showland": true,
                      "subunitcolor": "white"
                    },
                    "hoverlabel": {
                      "align": "left"
                    },
                    "hovermode": "closest",
                    "mapbox": {
                      "style": "light"
                    },
                    "paper_bgcolor": "white",
                    "plot_bgcolor": "#E5ECF6",
                    "polar": {
                      "angularaxis": {
                        "gridcolor": "white",
                        "linecolor": "white",
                        "ticks": ""
                      },
                      "bgcolor": "#E5ECF6",
                      "radialaxis": {
                        "gridcolor": "white",
                        "linecolor": "white",
                        "ticks": ""
                      }
                    },
                    "scene": {
                      "xaxis": {
                        "backgroundcolor": "#E5ECF6",
                        "gridcolor": "white",
                        "gridwidth": 2,
                        "linecolor": "white",
                        "showbackground": true,
                        "ticks": "",
                        "zerolinecolor": "white"
                      },
                      "yaxis": {
                        "backgroundcolor": "#E5ECF6",
                        "gridcolor": "white",
                        "gridwidth": 2,
                        "linecolor": "white",
                        "showbackground": true,
                        "ticks": "",
                        "zerolinecolor": "white"
                      },
                      "zaxis": {
                        "backgroundcolor": "#E5ECF6",
                        "gridcolor": "white",
                        "gridwidth": 2,
                        "linecolor": "white",
                        "showbackground": true,
                        "ticks": "",
                        "zerolinecolor": "white"
                      }
                    },
                    "shapedefaults": {
                      "line": {
                        "color": "#2a3f5f"
                      }
                    },
                    "ternary": {
                      "aaxis": {
                        "gridcolor": "white",
                        "linecolor": "white",
                        "ticks": ""
                      },
                      "baxis": {
                        "gridcolor": "white",
                        "linecolor": "white",
                        "ticks": ""
                      },
                      "bgcolor": "#E5ECF6",
                      "caxis": {
                        "gridcolor": "white",
                        "linecolor": "white",
                        "ticks": ""
                      }
                    },
                    "title": {
                      "x": 0.05
                    },
                    "xaxis": {
                      "automargin": true,
                      "gridcolor": "white",
                      "linecolor": "white",
                      "ticks": "",
                      "title": {
                        "standoff": 15
                      },
                      "zerolinecolor": "white",
                      "zerolinewidth": 2
                    },
                    "yaxis": {
                      "automargin": true,
                      "gridcolor": "white",
                      "linecolor": "white",
                      "ticks": "",
                      "title": {
                        "standoff": 15
                      },
                      "zerolinecolor": "white",
                      "zerolinewidth": 2
                    }
                  }
                },
                "xaxis": {
                  "anchor": "y",
                  "domain": [
                    0,
                    1
                  ],
                  "title": {
                    "text": "PC1"
                  }
                },
                "yaxis": {
                  "anchor": "x",
                  "domain": [
                    0,
                    1
                  ],
                  "title": {
                    "text": "PC2"
                  }
                }
              }
            }
          },
          "metadata": {}
        }
      ]
    },
    {
      "cell_type": "markdown",
      "metadata": {
        "id": "Impqop_Fs64Z"
      },
      "source": [
        "# 2.3"
      ]
    },
    {
      "cell_type": "code",
      "metadata": {
        "id": "grCFUSCms64a",
        "outputId": "f47d733b-6811-4039-9cbe-8045293fcaa7",
        "colab": {
          "base_uri": "https://localhost:8080/",
          "height": 542
        }
      },
      "source": [
        "kmeans = KMeans(n_clusters=15, random_state=0).fit(X_scaled)\n",
        "y = kmeans.predict(X_scaled)\n",
        "title = {'text': \"kmeans on original data\", 'y':0.95, 'x':0.5, 'xanchor': 'center', 'yanchor': 'top'}\n",
        "fig = px.scatter(x=X_pca[:,0], y=X_pca[:,1], color=y, labels={'x':'PC1', 'y':'PC2'})\n",
        "fig.update_layout(title=title)\n",
        "fig.show()"
      ],
      "execution_count": 11,
      "outputs": [
        {
          "output_type": "display_data",
          "data": {
            "application/vnd.plotly.v1+json": {
              "config": {
                "plotlyServerURL": "https://plot.ly"
              },
              "data": [
                {
                  "hovertemplate": "PC1=%{x}<br>PC2=%{y}<br>color=%{marker.color}<extra></extra>",
                  "legendgroup": "",
                  "marker": {
                    "color": [
                      7,
                      7,
                      9,
                      7,
                      1,
                      1,
                      1,
                      7,
                      13,
                      1,
                      9,
                      7,
                      1,
                      7,
                      13,
                      1,
                      13,
                      7,
                      9,
                      7,
                      7,
                      9,
                      7,
                      7,
                      7,
                      9,
                      7,
                      9,
                      7,
                      5,
                      5,
                      5,
                      5,
                      5,
                      5,
                      5,
                      5,
                      5,
                      5,
                      5,
                      5,
                      5,
                      5,
                      5,
                      5,
                      5,
                      5,
                      5,
                      5,
                      5,
                      5,
                      5,
                      5,
                      5,
                      5,
                      5,
                      5,
                      5,
                      7,
                      9,
                      9,
                      9,
                      14,
                      14,
                      14,
                      14,
                      9,
                      14,
                      14,
                      5,
                      14,
                      14,
                      14,
                      14,
                      14,
                      14,
                      14,
                      14,
                      14,
                      14,
                      14,
                      14,
                      14,
                      14,
                      14,
                      14,
                      14,
                      2,
                      2,
                      2,
                      3,
                      3,
                      3,
                      3,
                      3,
                      3,
                      3,
                      3,
                      3,
                      3,
                      3,
                      3,
                      3,
                      3,
                      3,
                      3,
                      3,
                      3,
                      3,
                      3,
                      3,
                      3,
                      3,
                      3,
                      3,
                      3,
                      0,
                      0,
                      13,
                      13,
                      13,
                      13,
                      13,
                      13,
                      13,
                      13,
                      13,
                      13,
                      13,
                      13,
                      13,
                      13,
                      13,
                      13,
                      13,
                      13,
                      13,
                      13,
                      13,
                      13,
                      13,
                      13,
                      13,
                      13,
                      13,
                      8,
                      8,
                      12,
                      10,
                      10,
                      10,
                      10,
                      10,
                      10,
                      6,
                      6,
                      6,
                      6,
                      4,
                      4,
                      6,
                      6,
                      6,
                      6,
                      6,
                      6,
                      6,
                      6,
                      6,
                      6,
                      6,
                      4,
                      4,
                      4,
                      13,
                      13,
                      10,
                      9,
                      14,
                      1,
                      9,
                      14,
                      1,
                      1,
                      1,
                      1,
                      9,
                      1,
                      1,
                      1,
                      14,
                      14,
                      7,
                      14,
                      1,
                      14,
                      1,
                      14,
                      14,
                      14,
                      1,
                      14,
                      1,
                      7,
                      14,
                      9,
                      9,
                      9,
                      9,
                      14,
                      9,
                      9,
                      5,
                      14,
                      9,
                      9,
                      5,
                      9,
                      9,
                      13,
                      9,
                      5,
                      9,
                      9,
                      5,
                      14,
                      9,
                      5,
                      9,
                      14,
                      9,
                      14,
                      11,
                      11,
                      0,
                      0,
                      0,
                      0,
                      0,
                      0,
                      0,
                      13,
                      0,
                      0,
                      0,
                      0,
                      0,
                      0,
                      0,
                      0,
                      0,
                      0,
                      0,
                      0,
                      0,
                      0,
                      0,
                      0,
                      0,
                      0,
                      0,
                      8,
                      8,
                      12,
                      10,
                      10,
                      10,
                      6,
                      10,
                      6,
                      6,
                      6,
                      6,
                      6,
                      6,
                      6,
                      6,
                      6,
                      6,
                      6,
                      6,
                      6,
                      6,
                      6,
                      6,
                      6,
                      6,
                      4,
                      4,
                      4,
                      0,
                      0,
                      0,
                      0,
                      13,
                      13,
                      13,
                      13,
                      13,
                      13,
                      13,
                      13,
                      13,
                      13,
                      13,
                      13,
                      13,
                      13,
                      13,
                      13,
                      13,
                      13,
                      13,
                      13,
                      13,
                      13,
                      13,
                      13,
                      13,
                      10,
                      13,
                      10,
                      10,
                      13,
                      13,
                      1,
                      1,
                      13,
                      1,
                      1,
                      1,
                      1,
                      1,
                      13,
                      1,
                      1,
                      1,
                      1,
                      1,
                      1,
                      1,
                      1,
                      1,
                      1,
                      1,
                      1,
                      13,
                      13,
                      6,
                      7,
                      7,
                      9,
                      14,
                      9,
                      14,
                      14,
                      9,
                      14,
                      1,
                      7,
                      14,
                      9,
                      7,
                      7,
                      9,
                      7,
                      14,
                      1,
                      9,
                      9,
                      9,
                      7,
                      14,
                      14,
                      14,
                      9,
                      9,
                      1,
                      7,
                      7,
                      9,
                      1,
                      7,
                      14,
                      9,
                      7,
                      14,
                      9,
                      7,
                      7,
                      7,
                      9,
                      7,
                      7,
                      7,
                      1,
                      1,
                      7,
                      1,
                      1,
                      1,
                      13,
                      1,
                      7,
                      9,
                      7,
                      1,
                      8,
                      8,
                      12,
                      4,
                      4,
                      4,
                      4,
                      4,
                      4,
                      6,
                      6,
                      4,
                      6,
                      4,
                      4,
                      4,
                      4,
                      4,
                      4,
                      4,
                      4,
                      4,
                      4,
                      4,
                      4,
                      4,
                      4,
                      4,
                      4,
                      5,
                      1,
                      14,
                      1,
                      7,
                      9,
                      5,
                      7,
                      14,
                      7,
                      9,
                      7,
                      9,
                      9,
                      9,
                      1,
                      13,
                      7,
                      7,
                      7,
                      9,
                      9,
                      9,
                      7,
                      7,
                      9,
                      14,
                      9,
                      7
                    ],
                    "coloraxis": "coloraxis",
                    "symbol": "circle"
                  },
                  "mode": "markers",
                  "name": "",
                  "orientation": "v",
                  "showlegend": false,
                  "type": "scatter",
                  "x": [
                    -0.6588135463367167,
                    -0.8141576158221716,
                    -1.1774062375218486,
                    -0.5241203772540493,
                    -1.2427438431700075,
                    -0.96279092912471,
                    -0.6299969293538458,
                    -1.2517641090440332,
                    -0.22243055511862136,
                    -0.7352793783887916,
                    -0.6393758292720403,
                    -0.8529305226296763,
                    -0.5750533162513145,
                    -0.7691683527909936,
                    -0.5300470339786653,
                    -1.10052786106186,
                    -0.23850477366217232,
                    -0.9009587459241227,
                    -1.0748870645859294,
                    -0.8111827418913731,
                    -0.9818301345017955,
                    -1.0109645897253947,
                    -0.7187474611955951,
                    -0.8661974191992072,
                    -0.5756575676731107,
                    -0.85063330325524,
                    -0.9098152070191242,
                    -1.4595488434007415,
                    -0.757136515276196,
                    -2.93086743354727,
                    -3.0146598595016645,
                    -3.099460616351041,
                    -3.1252212713615717,
                    -3.338722257552018,
                    -3.607268555393826,
                    -3.6449224514125893,
                    -3.454904841721397,
                    -2.983036067707713,
                    -3.403992626549626,
                    -3.76152799088006,
                    -2.9195896665829086,
                    -3.6399406709943527,
                    -3.4279040150599664,
                    -3.428804414145287,
                    -3.4244413337122315,
                    -3.4300705196179355,
                    -3.506443828141725,
                    -3.46032520786715,
                    -2.9519105343072902,
                    -2.827715081460938,
                    -3.2278848784319325,
                    -2.7031711302483563,
                    -3.3350696383053795,
                    -3.451493980387151,
                    -2.809116461917915,
                    -3.501697264536792,
                    -2.7463847411327835,
                    -3.4352352469521903,
                    -1.578951579249695,
                    -1.4763284798744933,
                    -1.0714519261875328,
                    -1.4552395191316363,
                    -1.8751926289887673,
                    -2.054527070129984,
                    -1.9664582898991505,
                    -1.9840109828938859,
                    -2.187741171409366,
                    -2.5795783072187133,
                    -2.4857229778213576,
                    -2.6254032574958672,
                    -2.4792207362272465,
                    -2.505334807729098,
                    -2.037003140424862,
                    -2.404591294262103,
                    -2.1228958587113174,
                    -2.3707811393366702,
                    -2.171290786533417,
                    -2.359682516138728,
                    -2.521320544743971,
                    -2.3600295766091253,
                    -2.425287622036895,
                    -2.5058578639202906,
                    -2.2824280211569987,
                    -2.3599139301553915,
                    -1.581617302600977,
                    -1.7557081630301714,
                    -1.4223505752611478,
                    7.545528112260168,
                    9.117338348955476,
                    7.819789018393886,
                    6.291835212287333,
                    4.241781998906292,
                    4.4959087324604585,
                    2.6027604639854225,
                    3.6357346722225694,
                    2.5845161539295107,
                    3.3988038431168826,
                    2.6935808257546157,
                    3.5693059880094866,
                    2.372275514822097,
                    3.1787623926219313,
                    3.0157104154826433,
                    2.6600759391331503,
                    2.3464183544380504,
                    2.980611828710131,
                    3.771113695052146,
                    2.9501257683581263,
                    3.113222634270773,
                    3.872784391045327,
                    2.7227887470976837,
                    3.2268340806825195,
                    2.340425022925208,
                    3.9206467156051255,
                    3.0244162941525885,
                    3.004921322137322,
                    3.805425501637179,
                    0.4621313840321832,
                    0.3456884912293519,
                    0.16853605602504435,
                    0.07299316962272116,
                    0.042804271488653796,
                    0.0247241072215475,
                    0.035671729621813704,
                    -0.029018766379759257,
                    -0.005298917845849166,
                    -0.033331466113197476,
                    0.018420930688060923,
                    0.012781246421257126,
                    -0.0034743141124714775,
                    -7.562909699678211e-17,
                    -0.017075905579468878,
                    0.13934239629100115,
                    0.06287491255580847,
                    0.062045547222455,
                    -0.012929078912701378,
                    0.07597888482279376,
                    0.07232967735603837,
                    0.11827651682382226,
                    -0.009113998379275274,
                    0.004819339221063521,
                    0.00398997388771001,
                    0.07680825015614727,
                    0.06121618188910148,
                    -0.014090190379396282,
                    0.023562995754852625,
                    4.8207013071006095,
                    4.563490321734809,
                    6.19435230117183,
                    2.862793609785884,
                    2.850475990675757,
                    2.4095390269877535,
                    2.6129677122299757,
                    1.993779000983395,
                    3.08340107923032,
                    1.239191121295447,
                    1.3018805218299727,
                    1.297234766439985,
                    1.2043293271514242,
                    2.504440881264446,
                    2.8268447296299493,
                    1.2488717903735604,
                    1.983632038683542,
                    2.493683045466569,
                    2.248965678083445,
                    3.1594119132876903,
                    2.3320921668221763,
                    1.9741406639842258,
                    2.8120122989079834,
                    2.2530226724290165,
                    2.7140113094635763,
                    2.1376949771691116,
                    3.5610784091294927,
                    4.290140343599803,
                    3.557004940986258,
                    -0.05278120933087123,
                    0.18439922206016268,
                    0.4687112328851837,
                    -1.1676983121094462,
                    -1.5342646249226701,
                    -1.2732840038301565,
                    -1.28611408027274,
                    -1.7697403926579862,
                    -1.1704032776660762,
                    -1.265795306393579,
                    -1.5982667017364907,
                    -1.2506033121984217,
                    -1.4378052793776104,
                    -0.8828353162681738,
                    -1.08356545902225,
                    -1.4291336007539515,
                    -1.7732289667529586,
                    -1.4765456729914932,
                    -1.5824126298280086,
                    -1.4729817180215998,
                    -1.67666037277721,
                    -2.006984618168909,
                    -1.3725995453875244,
                    -1.6994218923199573,
                    -1.7282126766234875,
                    -1.7338654751797846,
                    -1.0930542253699722,
                    -1.4835016590993497,
                    -0.7140120893415943,
                    -1.8329485058989519,
                    -1.6885878101520482,
                    -1.3265111575648623,
                    -1.8315056330027524,
                    -1.7705089390870465,
                    -2.2822611134135915,
                    -1.5059249551503007,
                    -2.027676535540548,
                    -1.6414991118918438,
                    -2.272562173037892,
                    -2.5022317378144168,
                    -1.87900988738367,
                    -1.5606501992754263,
                    -2.5668632780948544,
                    -2.4779882305335863,
                    -1.693474827834777,
                    -0.29521784691697234,
                    -2.0182209411460166,
                    -2.5695641176520376,
                    -2.0096870918380416,
                    -2.3477817502264373,
                    -2.34411254361459,
                    -2.1238957438407025,
                    -2.5863389314432235,
                    -2.403120344208068,
                    -2.1713702879352725,
                    -1.7886604358316052,
                    -1.5937991159426437,
                    -2.374188363869189,
                    1.1992712923167739,
                    0.891410880575955,
                    0.42812740536468974,
                    0.5453996635008747,
                    0.25528766989382046,
                    0.24234957069350582,
                    0.31632895842863795,
                    0.3131773701618947,
                    0.3641004016297996,
                    0.16140351415820428,
                    0.29990752482823874,
                    0.21365353015947472,
                    0.4302837552314089,
                    0.3397170608292068,
                    0.3120162586951998,
                    0.35116230242948504,
                    0.38815199629705116,
                    0.3911377114971238,
                    0.4745718640324857,
                    0.41004724109758356,
                    0.5276512453671097,
                    0.4233170864312395,
                    0.3531527792295335,
                    0.2672305306941109,
                    0.4218242288312032,
                    0.44736868109849104,
                    0.3090305434951272,
                    0.4588139226987693,
                    0.4865147248327762,
                    4.885659545882447,
                    3.821766772778271,
                    5.110074550318133,
                    2.413177937374945,
                    2.7958751100536756,
                    2.162888957455347,
                    2.358974711168971,
                    2.0121052494123433,
                    2.0933389131077633,
                    1.0909053634280048,
                    1.8774733326455422,
                    0.8624058097519528,
                    1.1877182130819959,
                    1.5839453236173822,
                    1.3766901919536596,
                    1.8461327554826683,
                    1.1107128388954155,
                    1.6141997949918985,
                    2.277096597769271,
                    2.326708871158047,
                    2.0931511948436987,
                    2.1877671843784343,
                    2.027112708678695,
                    2.299152970453336,
                    2.108826339776883,
                    1.9591010528142856,
                    2.6070116021709864,
                    3.8465240023121434,
                    3.6385204871666126,
                    0.563479827767981,
                    0.41883851363113056,
                    0.3005710170949215,
                    0.21862972215959572,
                    0.1675408176250201,
                    0.14365509602443938,
                    0.05872808588904101,
                    0.1278971546907229,
                    0.13984001549101327,
                    0.015932834688000417,
                    0.05192729015554231,
                    0.11827651682382226,
                    0.0683487237559416,
                    0.19076304695891816,
                    0.12491143949065024,
                    -0.00032272584572818675,
                    0.005151085354404914,
                    0.16206700642488706,
                    0.03932093708856914,
                    0.11147572109032357,
                    0.11877413602383438,
                    0.07747174242283006,
                    0.012449500287915733,
                    0.06187967415578433,
                    0.07266142348937978,
                    0.14614319202449985,
                    0.06370427788916198,
                    0.09638127202328986,
                    0.04512649442204361,
                    1.6045350951499093,
                    0.8140541112363243,
                    1.4239084305415097,
                    1.2292479260300628,
                    0.11374806848200698,
                    0.4342923744229033,
                    -0.4000167777962321,
                    -0.2186306800057838,
                    -0.11978333406032302,
                    -0.9932227446331795,
                    -0.5754836615114487,
                    -0.8846813952949566,
                    -1.1443475181100786,
                    -1.0044322161731976,
                    -0.05911940709860247,
                    -0.7985273524900249,
                    -0.27012124196804216,
                    -0.6269023438908256,
                    -0.06386383173798577,
                    -0.7154898980527932,
                    -0.49212163613083715,
                    -0.47440963851348555,
                    -0.5241467535250927,
                    -0.009437111810131371,
                    -0.048018939693138106,
                    -0.2831390922698999,
                    -0.09091647884485234,
                    0.34072448576215103,
                    0.28663003291402,
                    0.9899075147954721,
                    -0.8500013518809733,
                    -0.40667814972083666,
                    -0.8269162918982802,
                    -1.2682019877494446,
                    -1.4447595938023763,
                    -2.0650316621832396,
                    -2.0833396523378056,
                    -1.4812674693155137,
                    -1.748039728712506,
                    -1.6824822707917158,
                    -1.22516508523054,
                    -2.335686000032498,
                    -1.4603477932183186,
                    -1.3493618099493658,
                    -0.9549619734113193,
                    -1.5021334032073925,
                    -1.4730847593884682,
                    -1.7356956671676673,
                    -1.2206897598937736,
                    -1.3996851552032854,
                    -1.3289625906048086,
                    -1.158402441827169,
                    -1.0395157800236874,
                    -1.2654389747305386,
                    -1.8297585888290602,
                    -1.8457975833192732,
                    -1.2573270767365432,
                    -1.3636061565391489,
                    -0.6466234643593138,
                    -0.4795191336516834,
                    -0.5499667566199696,
                    -0.41384292489736463,
                    -1.1876074641270533,
                    -1.0960404284259149,
                    -1.7849843595007169,
                    -1.0437416218174203,
                    -0.6904950010279912,
                    -1.4084629665997204,
                    -1.3297299271351743,
                    -1.02003456824489,
                    -0.8894074811748163,
                    -0.9163197220797155,
                    -0.923990686863407,
                    -0.9134550283957618,
                    -1.2846023658198311,
                    -0.8521570566736341,
                    -0.8873899671511569,
                    -1.2091183221316777,
                    -0.9619547166505213,
                    -1.3225867965539098,
                    -0.7867181365395916,
                    -0.6032570007031646,
                    -0.4286893557488792,
                    -1.1580021750286396,
                    -1.082031941308019,
                    -0.38366005765656325,
                    -0.891049609977311,
                    -0.5425930765482034,
                    5.853249992360892,
                    5.879931606076229,
                    6.964798480014947,
                    4.6879552852397754,
                    3.799753597120587,
                    3.654113061195697,
                    3.159858704244305,
                    3.7962262929713866,
                    2.874324297914583,
                    2.2518017140157354,
                    1.7681820437370068,
                    2.765532207691445,
                    2.637795155977052,
                    2.9632914702097173,
                    3.3346553161140515,
                    3.3727148084659553,
                    3.3423294974098283,
                    3.163198865369594,
                    3.4664871340269925,
                    4.417422306480141,
                    3.320195115713697,
                    4.188396774982087,
                    4.079638442550925,
                    3.4170176760236397,
                    4.699915711916968,
                    4.0491745418508325,
                    4.6117206348258835,
                    4.493648090750118,
                    4.2814752188390175,
                    -2.8306309721204213,
                    -1.756240622701416,
                    -1.9507838490637786,
                    -1.5671499982854098,
                    -1.3627925242324046,
                    -1.8597961903939058,
                    -2.6742525978852334,
                    -1.3300705020401022,
                    -1.9829012906584385,
                    -0.9572564317531869,
                    -1.0429163341443408,
                    -0.514818409011321,
                    -2.210017055435468,
                    -1.0250180851071076,
                    -1.0557307190913197,
                    -1.0701940789743802,
                    -7.562909699678211e-17,
                    -1.454224048699448,
                    -1.0097293597910173,
                    -0.5320634344360731,
                    -1.5234489986720243,
                    -1.049471396430332,
                    -1.9133207268803485,
                    -0.49686294134143,
                    -0.9871736507672079,
                    -2.047572259592371,
                    -2.4780488029851906,
                    -1.4807875375786452,
                    -1.9065406031370549
                  ],
                  "xaxis": "x",
                  "y": [
                    0.008302982542334556,
                    0.3717181000005927,
                    0.3102104773515091,
                    0.3443095057111575,
                    -0.647166124478096,
                    -0.4809105925244045,
                    0.10533563342058799,
                    0.7793817193487889,
                    0.25001795060228454,
                    -0.2181949426456879,
                    0.42741177696893423,
                    0.8861277260840502,
                    -0.13338401339350264,
                    0.5449161217447303,
                    0.1071459375785738,
                    -0.18776971582218746,
                    0.2651000230689427,
                    0.34465239753672683,
                    0.2930802420124922,
                    0.9182247245233424,
                    0.6108903179767009,
                    0.6304505872570015,
                    0.3980590187695799,
                    0.7434108758860555,
                    0.32786762976253175,
                    0.09021894195279698,
                    0.5162969797284339,
                    0.05111348771219535,
                    0.32962385153082874,
                    0.6204722654112093,
                    0.8920055816536105,
                    0.465966716035227,
                    0.5892540576090334,
                    0.6824194994401495,
                    0.17245254891099332,
                    0.15722731054126535,
                    0.6879917711103392,
                    0.4463664288745904,
                    0.7541230772625276,
                    0.17173870950057257,
                    1.0051228520507047,
                    0.002174700753508442,
                    0.40122411017741105,
                    -0.23140405297753572,
                    0.0004890156529904692,
                    0.07872230851734525,
                    -0.06644195783941804,
                    0.023135881407369444,
                    0.2609810662122236,
                    0.12352537780324822,
                    0.34489932994842143,
                    0.09727675414849253,
                    0.4451864007645913,
                    0.35993377895374085,
                    0.08224819311233636,
                    -0.003521199491416057,
                    0.13801981639482555,
                    -0.09342262610551737,
                    0.6938882175919926,
                    0.6908708221391184,
                    -0.05555543105471882,
                    0.22801680348511352,
                    -0.3524579190470834,
                    -0.3538768283317177,
                    -0.1015415331617835,
                    -0.4271531896420794,
                    0.008454158055748125,
                    -0.12129761857846649,
                    -0.3246786239939027,
                    0.3419057539628984,
                    -0.27287166977842886,
                    -0.4797446036846238,
                    -0.11871854989942973,
                    -0.33943541971378727,
                    -0.4670308341165689,
                    -0.12866380326478347,
                    -0.38015029507002,
                    -0.4497546072199996,
                    -0.14572147783262715,
                    -0.5043416075521969,
                    -0.12776748939197843,
                    -0.3469207383096848,
                    -0.30265529940511954,
                    -0.6096672985460734,
                    -0.8059239589276382,
                    -0.5211794893033663,
                    -0.7001771110800259,
                    7.612157841493464,
                    8.872284547012612,
                    7.0667355846182005,
                    5.426512466606403,
                    3.5899802799415155,
                    3.7624676592382342,
                    2.1093974456248095,
                    3.0156288267433484,
                    1.9423485764752455,
                    2.6355545584996105,
                    1.9405818313301275,
                    2.861254329167453,
                    1.7488255228160894,
                    2.3124054189081438,
                    2.153163675499791,
                    2.3452434281300567,
                    2.1460932344497454,
                    2.6481484212814226,
                    3.136801037066228,
                    2.7119946305182014,
                    2.5718948781304887,
                    3.628030102870211,
                    2.1650378160954724,
                    2.5648221048889615,
                    1.9603779321616706,
                    3.2443566825508543,
                    2.10130959525068,
                    2.5691255159097532,
                    3.1692016150375273,
                    1.0499025779789652,
                    0.7853594251761099,
                    0.38289206450168,
                    0.16583101604805492,
                    0.09724575421027756,
                    0.05616996552721309,
                    0.08104154399585764,
                    -0.06592687422795093,
                    -0.012038454212554445,
                    -0.0757247687762049,
                    0.04184996580284203,
                    0.029037334470510018,
                    -0.007893191134447045,
                    -3.1353912280402544e-16,
                    -0.038794243171247855,
                    0.31656785525196124,
                    0.14284364806945923,
                    0.14095943757941037,
                    -0.029373190721003698,
                    0.1726141738122307,
                    0.1643236476560159,
                    0.268708908804721,
                    -0.020705822466779072,
                    0.010948913766041242,
                    0.009064703275992387,
                    0.17449838430227954,
                    0.13907522708936154,
                    -0.03201108540707208,
                    0.05353207084114479,
                    0.43565336829570533,
                    1.627616582363236,
                    -0.5917839727610082,
                    0.3311387557181071,
                    -0.11434837139032834,
                    -0.5587099856951478,
                    -0.4776015631614519,
                    -1.2859841810691441,
                    -0.8536908124287149,
                    -0.8359871561051008,
                    -1.5718664515946954,
                    -1.9432944767700415,
                    -1.4116285582800199,
                    -2.6806575173708205,
                    -2.817409092830357,
                    -1.6216808086725045,
                    -2.0204504129458103,
                    -1.1827579369864611,
                    -2.0717436208890985,
                    -2.098339021128939,
                    -1.0434642310388151,
                    -2.4436295269565265,
                    -1.9434109820977998,
                    -1.0953028332668528,
                    -1.5654803785357885,
                    -1.6064457707453244,
                    -2.546917761697229,
                    -1.723012581757084,
                    -2.5409938335137734,
                    0.5440820573241252,
                    0.7385970070169555,
                    0.3251718865934058,
                    0.14786150984596808,
                    0.08204897866500241,
                    -0.8081894284584796,
                    -0.06740019473648537,
                    -0.2595821644081488,
                    -0.5258684599458165,
                    -0.24005428870747234,
                    -0.29140987211121405,
                    -0.4499162314640392,
                    0.14535836199771485,
                    -0.3263278540480579,
                    -0.2673643958713635,
                    -0.4879827446288756,
                    -0.560609409672472,
                    -0.5549234096903729,
                    0.2594213237086976,
                    -0.25581724915765996,
                    -0.596648309785223,
                    0.0497219804233301,
                    -0.5353988190154986,
                    -0.08773132166335162,
                    -0.941496508073879,
                    -0.8310572607267326,
                    -0.6181993343076363,
                    -0.6056285114764033,
                    -1.1344894274305697,
                    0.6457115864115782,
                    0.27040666683672,
                    0.17183759607484456,
                    0.5932403249180838,
                    0.19493227329535057,
                    0.6632758874105293,
                    0.20332257548246072,
                    0.7790754134815402,
                    0.43620523880625806,
                    0.7021990371584061,
                    -0.036426061448923935,
                    0.8754337643947904,
                    -0.16233001819829496,
                    0.4883616697473062,
                    0.373924678810041,
                    0.453218877136409,
                    0.3401927433878978,
                    0.4468585599205086,
                    0.3214361847454289,
                    0.869674460456475,
                    0.023474195357948303,
                    0.6960296908262107,
                    0.4463780782539559,
                    0.1343487401315064,
                    0.5670359024127566,
                    0.5565413570151019,
                    -0.22830647028891435,
                    0.032505999754476364,
                    -0.29026794680700013,
                    2.724588861534364,
                    2.025169927628239,
                    0.9726499478869634,
                    1.2390773111798676,
                    0.5799804817607876,
                    0.5505867981160258,
                    0.7186583738283812,
                    0.7114983739661958,
                    0.8271888980551939,
                    0.36668785428726014,
                    0.6813510061254145,
                    0.4853931151603363,
                    0.9775488951610904,
                    0.7717931096477585,
                    0.7088604792801274,
                    0.7977952144104322,
                    0.88183100226661,
                    0.8886141600307859,
                    1.0781657353296976,
                    0.9315741592038992,
                    1.1987552066928229,
                    0.9617215270446803,
                    0.8023173195865495,
                    0.6071131128174908,
                    0.9583299481625923,
                    1.0163636312560964,
                    0.7020773215159516,
                    1.0423657360187701,
                    1.1052983663864009,
                    0.6146343831250681,
                    1.852728641088405,
                    -0.6246299759369175,
                    0.45727952172553343,
                    -0.4879832993997582,
                    -0.9908434727062106,
                    -1.1915954665935389,
                    -1.4810996432408938,
                    -1.6150766022171719,
                    -1.6444241352735305,
                    -0.9324613607577811,
                    -1.4668165805794986,
                    -1.7197605573513177,
                    -1.993881747719304,
                    -1.7487832772999106,
                    -1.5538321670904882,
                    -1.8551203262468945,
                    -1.3223935112745184,
                    -1.5692956759122363,
                    -2.2618555884577467,
                    -1.5930064220204665,
                    -2.299404056565942,
                    -1.8328160875108523,
                    -1.6606645452422562,
                    -1.8533574813639593,
                    -1.3498022491885657,
                    -2.457321890988774,
                    -2.2875114847475193,
                    -2.7356437805167126,
                    1.2801530998629322,
                    0.9515467903984166,
                    0.6828583745174537,
                    0.4966983781006292,
                    0.3806310119136213,
                    0.3263657498002152,
                    0.1334225956192151,
                    0.2905657504892875,
                    0.31769838154599056,
                    0.036197334332695535,
                    0.1179720696008147,
                    0.268708908804721,
                    0.15527943730378158,
                    0.43338890563498866,
                    0.2837825927251116,
                    -0.0007331912722615139,
                    0.011702597962060756,
                    0.36819522267929916,
                    0.08933207015207258,
                    0.2532583827863206,
                    0.26983943509875036,
                    0.1760057526943186,
                    0.028283650274490504,
                    0.1405825954814007,
                    0.1650773318520354,
                    0.3320183812703616,
                    0.1447278585595081,
                    0.21896575186743192,
                    0.10252154358241432,
                    -0.08185578764412352,
                    0.4766226989253338,
                    1.4502416412916843,
                    0.1565736498522155,
                    0.46850477670672597,
                    -0.3452718680155505,
                    -0.29594303693541923,
                    -0.6375250894755761,
                    -0.5548235302494823,
                    -0.5643594501967633,
                    -0.3488624394026824,
                    -0.5762300026669809,
                    -1.0976030807955872,
                    -1.0600646537575502,
                    -0.8983637322585507,
                    -0.8456225204061513,
                    -1.186580067725135,
                    -0.5443069394726346,
                    -1.0643237332869904,
                    -0.6598011944053217,
                    -0.5231530555386557,
                    -0.6930913839141549,
                    -1.0025179644805178,
                    -1.1734434570492216,
                    -1.5661959518060256,
                    -1.1283631259337699,
                    -0.7993594992953068,
                    -0.760709309713292,
                    -1.1593328700059493,
                    -1.7711754444326688,
                    0.6280039598929728,
                    0.05254628803556916,
                    0.110758882459346,
                    -0.22630241299820203,
                    -0.045258770004739955,
                    -0.6870980268759189,
                    -0.6396032530173531,
                    0.5610231535121577,
                    -0.55398937939685,
                    -0.08702316244444121,
                    0.5935883735732151,
                    0.19871230328591244,
                    -0.05232341240018332,
                    0.16088308097185966,
                    0.9864316776630692,
                    0.6636606876828878,
                    0.9222579665158869,
                    -0.09526135948860015,
                    -0.4369479745178455,
                    0.01746013938271017,
                    -0.33005825937443656,
                    0.31892130309783867,
                    0.6340281717651851,
                    -0.15539922626401453,
                    -0.6815460656966725,
                    -0.28126147438185195,
                    -0.7536402143577919,
                    -0.36410674737089715,
                    -0.6473948036811219,
                    0.6115647359733986,
                    0.6049934142305486,
                    0.42627637402924534,
                    -0.06792738869427983,
                    0.3108543481923698,
                    0.19053436032280927,
                    -0.1122510286648849,
                    0.054416303431860054,
                    -0.2950232629726096,
                    0.105034175911626,
                    0.20183755289609806,
                    0.39001180946489555,
                    0.3155553527756165,
                    0.10391080651846539,
                    0.2819709766284069,
                    0.31375135473097965,
                    0.3857861891766148,
                    -0.4262373067229982,
                    -0.11727768786213168,
                    0.14888494483335699,
                    -0.350686053514793,
                    -0.3246905153574137,
                    -0.5027275120857684,
                    -0.2237178850668835,
                    -0.08047458343334205,
                    0.3478087673763887,
                    -0.7038115924152387,
                    0.391161003210206,
                    -0.8975759441080414,
                    -0.021254780917569858,
                    0.4610728435010373,
                    -1.7801982238834357,
                    -1.0045372506376888,
                    -1.4752916290318412,
                    -1.3589455025661892,
                    -1.9422345960977845,
                    -2.7139348950755524,
                    -2.0699221963912025,
                    -1.8510907257540692,
                    -2.186420555669278,
                    -2.1443670497038885,
                    -1.8417050250169629,
                    -2.7088886054539434,
                    -2.6560873097907387,
                    -3.4647336765541095,
                    -1.7506650157844168,
                    -2.8212874239668153,
                    -2.883766833892733,
                    -3.901957348512337,
                    -2.413462067585762,
                    -3.0453680933819554,
                    -2.9872051086803735,
                    -2.163230641998786,
                    -4.312331834074418,
                    -3.3558213567529886,
                    -2.491750867185,
                    -2.9320512583348757,
                    -2.549795369058309,
                    0.184929930763058,
                    -0.9404945971220591,
                    -0.27570810813711016,
                    -1.5451163266910923,
                    0.5204569003075359,
                    1.1263205162956587,
                    0.41506037973042925,
                    0.4395608727149929,
                    0.32826380932640725,
                    0.941523541339638,
                    1.1882438064778473,
                    0.5763135495921899,
                    1.537369917967828,
                    1.1514421056643693,
                    0.33698597888842047,
                    0.26306145745045445,
                    -3.1353912280402544e-16,
                    1.48331476993783,
                    1.1465858015682295,
                    0.6131205186524533,
                    -0.02816064940734644,
                    1.1790738751728116,
                    1.2909775468435807,
                    0.5562132984622907,
                    1.1223299665395285,
                    0.4897600025829365,
                    -0.15314833256301416,
                    0.7939093519150733,
                    1.0608319608846715
                  ],
                  "yaxis": "y"
                }
              ],
              "layout": {
                "coloraxis": {
                  "colorbar": {
                    "title": {
                      "text": "color"
                    }
                  },
                  "colorscale": [
                    [
                      0,
                      "#0d0887"
                    ],
                    [
                      0.1111111111111111,
                      "#46039f"
                    ],
                    [
                      0.2222222222222222,
                      "#7201a8"
                    ],
                    [
                      0.3333333333333333,
                      "#9c179e"
                    ],
                    [
                      0.4444444444444444,
                      "#bd3786"
                    ],
                    [
                      0.5555555555555556,
                      "#d8576b"
                    ],
                    [
                      0.6666666666666666,
                      "#ed7953"
                    ],
                    [
                      0.7777777777777778,
                      "#fb9f3a"
                    ],
                    [
                      0.8888888888888888,
                      "#fdca26"
                    ],
                    [
                      1,
                      "#f0f921"
                    ]
                  ]
                },
                "legend": {
                  "tracegroupgap": 0
                },
                "margin": {
                  "t": 60
                },
                "template": {
                  "data": {
                    "bar": [
                      {
                        "error_x": {
                          "color": "#2a3f5f"
                        },
                        "error_y": {
                          "color": "#2a3f5f"
                        },
                        "marker": {
                          "line": {
                            "color": "#E5ECF6",
                            "width": 0.5
                          }
                        },
                        "type": "bar"
                      }
                    ],
                    "barpolar": [
                      {
                        "marker": {
                          "line": {
                            "color": "#E5ECF6",
                            "width": 0.5
                          }
                        },
                        "type": "barpolar"
                      }
                    ],
                    "carpet": [
                      {
                        "aaxis": {
                          "endlinecolor": "#2a3f5f",
                          "gridcolor": "white",
                          "linecolor": "white",
                          "minorgridcolor": "white",
                          "startlinecolor": "#2a3f5f"
                        },
                        "baxis": {
                          "endlinecolor": "#2a3f5f",
                          "gridcolor": "white",
                          "linecolor": "white",
                          "minorgridcolor": "white",
                          "startlinecolor": "#2a3f5f"
                        },
                        "type": "carpet"
                      }
                    ],
                    "choropleth": [
                      {
                        "colorbar": {
                          "outlinewidth": 0,
                          "ticks": ""
                        },
                        "type": "choropleth"
                      }
                    ],
                    "contour": [
                      {
                        "colorbar": {
                          "outlinewidth": 0,
                          "ticks": ""
                        },
                        "colorscale": [
                          [
                            0,
                            "#0d0887"
                          ],
                          [
                            0.1111111111111111,
                            "#46039f"
                          ],
                          [
                            0.2222222222222222,
                            "#7201a8"
                          ],
                          [
                            0.3333333333333333,
                            "#9c179e"
                          ],
                          [
                            0.4444444444444444,
                            "#bd3786"
                          ],
                          [
                            0.5555555555555556,
                            "#d8576b"
                          ],
                          [
                            0.6666666666666666,
                            "#ed7953"
                          ],
                          [
                            0.7777777777777778,
                            "#fb9f3a"
                          ],
                          [
                            0.8888888888888888,
                            "#fdca26"
                          ],
                          [
                            1,
                            "#f0f921"
                          ]
                        ],
                        "type": "contour"
                      }
                    ],
                    "contourcarpet": [
                      {
                        "colorbar": {
                          "outlinewidth": 0,
                          "ticks": ""
                        },
                        "type": "contourcarpet"
                      }
                    ],
                    "heatmap": [
                      {
                        "colorbar": {
                          "outlinewidth": 0,
                          "ticks": ""
                        },
                        "colorscale": [
                          [
                            0,
                            "#0d0887"
                          ],
                          [
                            0.1111111111111111,
                            "#46039f"
                          ],
                          [
                            0.2222222222222222,
                            "#7201a8"
                          ],
                          [
                            0.3333333333333333,
                            "#9c179e"
                          ],
                          [
                            0.4444444444444444,
                            "#bd3786"
                          ],
                          [
                            0.5555555555555556,
                            "#d8576b"
                          ],
                          [
                            0.6666666666666666,
                            "#ed7953"
                          ],
                          [
                            0.7777777777777778,
                            "#fb9f3a"
                          ],
                          [
                            0.8888888888888888,
                            "#fdca26"
                          ],
                          [
                            1,
                            "#f0f921"
                          ]
                        ],
                        "type": "heatmap"
                      }
                    ],
                    "heatmapgl": [
                      {
                        "colorbar": {
                          "outlinewidth": 0,
                          "ticks": ""
                        },
                        "colorscale": [
                          [
                            0,
                            "#0d0887"
                          ],
                          [
                            0.1111111111111111,
                            "#46039f"
                          ],
                          [
                            0.2222222222222222,
                            "#7201a8"
                          ],
                          [
                            0.3333333333333333,
                            "#9c179e"
                          ],
                          [
                            0.4444444444444444,
                            "#bd3786"
                          ],
                          [
                            0.5555555555555556,
                            "#d8576b"
                          ],
                          [
                            0.6666666666666666,
                            "#ed7953"
                          ],
                          [
                            0.7777777777777778,
                            "#fb9f3a"
                          ],
                          [
                            0.8888888888888888,
                            "#fdca26"
                          ],
                          [
                            1,
                            "#f0f921"
                          ]
                        ],
                        "type": "heatmapgl"
                      }
                    ],
                    "histogram": [
                      {
                        "marker": {
                          "colorbar": {
                            "outlinewidth": 0,
                            "ticks": ""
                          }
                        },
                        "type": "histogram"
                      }
                    ],
                    "histogram2d": [
                      {
                        "colorbar": {
                          "outlinewidth": 0,
                          "ticks": ""
                        },
                        "colorscale": [
                          [
                            0,
                            "#0d0887"
                          ],
                          [
                            0.1111111111111111,
                            "#46039f"
                          ],
                          [
                            0.2222222222222222,
                            "#7201a8"
                          ],
                          [
                            0.3333333333333333,
                            "#9c179e"
                          ],
                          [
                            0.4444444444444444,
                            "#bd3786"
                          ],
                          [
                            0.5555555555555556,
                            "#d8576b"
                          ],
                          [
                            0.6666666666666666,
                            "#ed7953"
                          ],
                          [
                            0.7777777777777778,
                            "#fb9f3a"
                          ],
                          [
                            0.8888888888888888,
                            "#fdca26"
                          ],
                          [
                            1,
                            "#f0f921"
                          ]
                        ],
                        "type": "histogram2d"
                      }
                    ],
                    "histogram2dcontour": [
                      {
                        "colorbar": {
                          "outlinewidth": 0,
                          "ticks": ""
                        },
                        "colorscale": [
                          [
                            0,
                            "#0d0887"
                          ],
                          [
                            0.1111111111111111,
                            "#46039f"
                          ],
                          [
                            0.2222222222222222,
                            "#7201a8"
                          ],
                          [
                            0.3333333333333333,
                            "#9c179e"
                          ],
                          [
                            0.4444444444444444,
                            "#bd3786"
                          ],
                          [
                            0.5555555555555556,
                            "#d8576b"
                          ],
                          [
                            0.6666666666666666,
                            "#ed7953"
                          ],
                          [
                            0.7777777777777778,
                            "#fb9f3a"
                          ],
                          [
                            0.8888888888888888,
                            "#fdca26"
                          ],
                          [
                            1,
                            "#f0f921"
                          ]
                        ],
                        "type": "histogram2dcontour"
                      }
                    ],
                    "mesh3d": [
                      {
                        "colorbar": {
                          "outlinewidth": 0,
                          "ticks": ""
                        },
                        "type": "mesh3d"
                      }
                    ],
                    "parcoords": [
                      {
                        "line": {
                          "colorbar": {
                            "outlinewidth": 0,
                            "ticks": ""
                          }
                        },
                        "type": "parcoords"
                      }
                    ],
                    "pie": [
                      {
                        "automargin": true,
                        "type": "pie"
                      }
                    ],
                    "scatter": [
                      {
                        "marker": {
                          "colorbar": {
                            "outlinewidth": 0,
                            "ticks": ""
                          }
                        },
                        "type": "scatter"
                      }
                    ],
                    "scatter3d": [
                      {
                        "line": {
                          "colorbar": {
                            "outlinewidth": 0,
                            "ticks": ""
                          }
                        },
                        "marker": {
                          "colorbar": {
                            "outlinewidth": 0,
                            "ticks": ""
                          }
                        },
                        "type": "scatter3d"
                      }
                    ],
                    "scattercarpet": [
                      {
                        "marker": {
                          "colorbar": {
                            "outlinewidth": 0,
                            "ticks": ""
                          }
                        },
                        "type": "scattercarpet"
                      }
                    ],
                    "scattergeo": [
                      {
                        "marker": {
                          "colorbar": {
                            "outlinewidth": 0,
                            "ticks": ""
                          }
                        },
                        "type": "scattergeo"
                      }
                    ],
                    "scattergl": [
                      {
                        "marker": {
                          "colorbar": {
                            "outlinewidth": 0,
                            "ticks": ""
                          }
                        },
                        "type": "scattergl"
                      }
                    ],
                    "scattermapbox": [
                      {
                        "marker": {
                          "colorbar": {
                            "outlinewidth": 0,
                            "ticks": ""
                          }
                        },
                        "type": "scattermapbox"
                      }
                    ],
                    "scatterpolar": [
                      {
                        "marker": {
                          "colorbar": {
                            "outlinewidth": 0,
                            "ticks": ""
                          }
                        },
                        "type": "scatterpolar"
                      }
                    ],
                    "scatterpolargl": [
                      {
                        "marker": {
                          "colorbar": {
                            "outlinewidth": 0,
                            "ticks": ""
                          }
                        },
                        "type": "scatterpolargl"
                      }
                    ],
                    "scatterternary": [
                      {
                        "marker": {
                          "colorbar": {
                            "outlinewidth": 0,
                            "ticks": ""
                          }
                        },
                        "type": "scatterternary"
                      }
                    ],
                    "surface": [
                      {
                        "colorbar": {
                          "outlinewidth": 0,
                          "ticks": ""
                        },
                        "colorscale": [
                          [
                            0,
                            "#0d0887"
                          ],
                          [
                            0.1111111111111111,
                            "#46039f"
                          ],
                          [
                            0.2222222222222222,
                            "#7201a8"
                          ],
                          [
                            0.3333333333333333,
                            "#9c179e"
                          ],
                          [
                            0.4444444444444444,
                            "#bd3786"
                          ],
                          [
                            0.5555555555555556,
                            "#d8576b"
                          ],
                          [
                            0.6666666666666666,
                            "#ed7953"
                          ],
                          [
                            0.7777777777777778,
                            "#fb9f3a"
                          ],
                          [
                            0.8888888888888888,
                            "#fdca26"
                          ],
                          [
                            1,
                            "#f0f921"
                          ]
                        ],
                        "type": "surface"
                      }
                    ],
                    "table": [
                      {
                        "cells": {
                          "fill": {
                            "color": "#EBF0F8"
                          },
                          "line": {
                            "color": "white"
                          }
                        },
                        "header": {
                          "fill": {
                            "color": "#C8D4E3"
                          },
                          "line": {
                            "color": "white"
                          }
                        },
                        "type": "table"
                      }
                    ]
                  },
                  "layout": {
                    "annotationdefaults": {
                      "arrowcolor": "#2a3f5f",
                      "arrowhead": 0,
                      "arrowwidth": 1
                    },
                    "coloraxis": {
                      "colorbar": {
                        "outlinewidth": 0,
                        "ticks": ""
                      }
                    },
                    "colorscale": {
                      "diverging": [
                        [
                          0,
                          "#8e0152"
                        ],
                        [
                          0.1,
                          "#c51b7d"
                        ],
                        [
                          0.2,
                          "#de77ae"
                        ],
                        [
                          0.3,
                          "#f1b6da"
                        ],
                        [
                          0.4,
                          "#fde0ef"
                        ],
                        [
                          0.5,
                          "#f7f7f7"
                        ],
                        [
                          0.6,
                          "#e6f5d0"
                        ],
                        [
                          0.7,
                          "#b8e186"
                        ],
                        [
                          0.8,
                          "#7fbc41"
                        ],
                        [
                          0.9,
                          "#4d9221"
                        ],
                        [
                          1,
                          "#276419"
                        ]
                      ],
                      "sequential": [
                        [
                          0,
                          "#0d0887"
                        ],
                        [
                          0.1111111111111111,
                          "#46039f"
                        ],
                        [
                          0.2222222222222222,
                          "#7201a8"
                        ],
                        [
                          0.3333333333333333,
                          "#9c179e"
                        ],
                        [
                          0.4444444444444444,
                          "#bd3786"
                        ],
                        [
                          0.5555555555555556,
                          "#d8576b"
                        ],
                        [
                          0.6666666666666666,
                          "#ed7953"
                        ],
                        [
                          0.7777777777777778,
                          "#fb9f3a"
                        ],
                        [
                          0.8888888888888888,
                          "#fdca26"
                        ],
                        [
                          1,
                          "#f0f921"
                        ]
                      ],
                      "sequentialminus": [
                        [
                          0,
                          "#0d0887"
                        ],
                        [
                          0.1111111111111111,
                          "#46039f"
                        ],
                        [
                          0.2222222222222222,
                          "#7201a8"
                        ],
                        [
                          0.3333333333333333,
                          "#9c179e"
                        ],
                        [
                          0.4444444444444444,
                          "#bd3786"
                        ],
                        [
                          0.5555555555555556,
                          "#d8576b"
                        ],
                        [
                          0.6666666666666666,
                          "#ed7953"
                        ],
                        [
                          0.7777777777777778,
                          "#fb9f3a"
                        ],
                        [
                          0.8888888888888888,
                          "#fdca26"
                        ],
                        [
                          1,
                          "#f0f921"
                        ]
                      ]
                    },
                    "colorway": [
                      "#636efa",
                      "#EF553B",
                      "#00cc96",
                      "#ab63fa",
                      "#FFA15A",
                      "#19d3f3",
                      "#FF6692",
                      "#B6E880",
                      "#FF97FF",
                      "#FECB52"
                    ],
                    "font": {
                      "color": "#2a3f5f"
                    },
                    "geo": {
                      "bgcolor": "white",
                      "lakecolor": "white",
                      "landcolor": "#E5ECF6",
                      "showlakes": true,
                      "showland": true,
                      "subunitcolor": "white"
                    },
                    "hoverlabel": {
                      "align": "left"
                    },
                    "hovermode": "closest",
                    "mapbox": {
                      "style": "light"
                    },
                    "paper_bgcolor": "white",
                    "plot_bgcolor": "#E5ECF6",
                    "polar": {
                      "angularaxis": {
                        "gridcolor": "white",
                        "linecolor": "white",
                        "ticks": ""
                      },
                      "bgcolor": "#E5ECF6",
                      "radialaxis": {
                        "gridcolor": "white",
                        "linecolor": "white",
                        "ticks": ""
                      }
                    },
                    "scene": {
                      "xaxis": {
                        "backgroundcolor": "#E5ECF6",
                        "gridcolor": "white",
                        "gridwidth": 2,
                        "linecolor": "white",
                        "showbackground": true,
                        "ticks": "",
                        "zerolinecolor": "white"
                      },
                      "yaxis": {
                        "backgroundcolor": "#E5ECF6",
                        "gridcolor": "white",
                        "gridwidth": 2,
                        "linecolor": "white",
                        "showbackground": true,
                        "ticks": "",
                        "zerolinecolor": "white"
                      },
                      "zaxis": {
                        "backgroundcolor": "#E5ECF6",
                        "gridcolor": "white",
                        "gridwidth": 2,
                        "linecolor": "white",
                        "showbackground": true,
                        "ticks": "",
                        "zerolinecolor": "white"
                      }
                    },
                    "shapedefaults": {
                      "line": {
                        "color": "#2a3f5f"
                      }
                    },
                    "ternary": {
                      "aaxis": {
                        "gridcolor": "white",
                        "linecolor": "white",
                        "ticks": ""
                      },
                      "baxis": {
                        "gridcolor": "white",
                        "linecolor": "white",
                        "ticks": ""
                      },
                      "bgcolor": "#E5ECF6",
                      "caxis": {
                        "gridcolor": "white",
                        "linecolor": "white",
                        "ticks": ""
                      }
                    },
                    "title": {
                      "x": 0.05
                    },
                    "xaxis": {
                      "automargin": true,
                      "gridcolor": "white",
                      "linecolor": "white",
                      "ticks": "",
                      "title": {
                        "standoff": 15
                      },
                      "zerolinecolor": "white",
                      "zerolinewidth": 2
                    },
                    "yaxis": {
                      "automargin": true,
                      "gridcolor": "white",
                      "linecolor": "white",
                      "ticks": "",
                      "title": {
                        "standoff": 15
                      },
                      "zerolinecolor": "white",
                      "zerolinewidth": 2
                    }
                  }
                },
                "title": {
                  "text": "kmeans on original data",
                  "x": 0.5,
                  "xanchor": "center",
                  "y": 0.95,
                  "yanchor": "top"
                },
                "xaxis": {
                  "anchor": "y",
                  "domain": [
                    0,
                    1
                  ],
                  "title": {
                    "text": "PC1"
                  }
                },
                "yaxis": {
                  "anchor": "x",
                  "domain": [
                    0,
                    1
                  ],
                  "title": {
                    "text": "PC2"
                  }
                }
              }
            }
          },
          "metadata": {}
        }
      ]
    },
    {
      "cell_type": "code",
      "metadata": {
        "id": "eMgUG32Ms64f",
        "outputId": "a3251987-f3dc-4ec2-ba55-c7601b712be1",
        "colab": {
          "base_uri": "https://localhost:8080/",
          "height": 542
        }
      },
      "source": [
        "kmeans_pca = KMeans(n_clusters=15, random_state=0).fit(X_pca)\n",
        "y = kmeans_pca.predict(X_pca)\n",
        "title = {'text': \"kmeans on lower dimensional data\", 'y':0.95, 'x':0.5, 'xanchor': 'center', 'yanchor': 'top'}\n",
        "fig = px.scatter(x=X_pca[:,0], y=X_pca[:,1], color=y, labels={'x':'PC1', 'y':'PC2'})\n",
        "fig.update_layout(title=title)\n",
        "fig.show()"
      ],
      "execution_count": 12,
      "outputs": [
        {
          "output_type": "display_data",
          "data": {
            "application/vnd.plotly.v1+json": {
              "config": {
                "plotlyServerURL": "https://plot.ly"
              },
              "data": [
                {
                  "hovertemplate": "PC1=%{x}<br>PC2=%{y}<br>color=%{marker.color}<extra></extra>",
                  "legendgroup": "",
                  "marker": {
                    "color": [
                      7,
                      1,
                      1,
                      7,
                      11,
                      13,
                      7,
                      1,
                      7,
                      13,
                      1,
                      1,
                      13,
                      1,
                      7,
                      11,
                      7,
                      1,
                      1,
                      1,
                      1,
                      1,
                      1,
                      1,
                      7,
                      1,
                      1,
                      11,
                      1,
                      14,
                      14,
                      14,
                      14,
                      14,
                      14,
                      14,
                      14,
                      14,
                      14,
                      14,
                      14,
                      14,
                      14,
                      14,
                      14,
                      14,
                      14,
                      14,
                      14,
                      4,
                      14,
                      4,
                      14,
                      14,
                      4,
                      14,
                      4,
                      14,
                      1,
                      1,
                      11,
                      1,
                      11,
                      4,
                      4,
                      11,
                      4,
                      4,
                      4,
                      4,
                      4,
                      4,
                      4,
                      4,
                      4,
                      4,
                      4,
                      4,
                      4,
                      4,
                      4,
                      4,
                      4,
                      4,
                      11,
                      11,
                      11,
                      5,
                      5,
                      5,
                      5,
                      3,
                      3,
                      12,
                      3,
                      12,
                      3,
                      12,
                      3,
                      12,
                      12,
                      12,
                      12,
                      12,
                      12,
                      3,
                      12,
                      12,
                      3,
                      12,
                      12,
                      12,
                      3,
                      12,
                      12,
                      3,
                      0,
                      0,
                      7,
                      7,
                      7,
                      7,
                      7,
                      7,
                      7,
                      7,
                      7,
                      7,
                      7,
                      7,
                      7,
                      7,
                      7,
                      7,
                      7,
                      7,
                      7,
                      7,
                      7,
                      7,
                      7,
                      7,
                      7,
                      7,
                      7,
                      8,
                      3,
                      8,
                      6,
                      6,
                      6,
                      6,
                      10,
                      6,
                      10,
                      10,
                      10,
                      10,
                      2,
                      2,
                      10,
                      10,
                      6,
                      10,
                      2,
                      6,
                      10,
                      2,
                      6,
                      2,
                      10,
                      2,
                      2,
                      2,
                      7,
                      0,
                      7,
                      1,
                      11,
                      11,
                      11,
                      11,
                      11,
                      11,
                      11,
                      11,
                      1,
                      13,
                      11,
                      11,
                      11,
                      11,
                      1,
                      11,
                      11,
                      4,
                      11,
                      11,
                      11,
                      11,
                      11,
                      11,
                      13,
                      1,
                      1,
                      1,
                      1,
                      4,
                      4,
                      1,
                      4,
                      1,
                      4,
                      4,
                      1,
                      11,
                      4,
                      4,
                      1,
                      7,
                      4,
                      4,
                      1,
                      4,
                      4,
                      4,
                      4,
                      4,
                      4,
                      11,
                      11,
                      4,
                      12,
                      0,
                      0,
                      0,
                      0,
                      0,
                      0,
                      0,
                      0,
                      7,
                      0,
                      7,
                      0,
                      0,
                      0,
                      0,
                      0,
                      0,
                      0,
                      0,
                      0,
                      0,
                      0,
                      0,
                      0,
                      0,
                      0,
                      0,
                      0,
                      8,
                      3,
                      8,
                      6,
                      6,
                      6,
                      6,
                      10,
                      10,
                      10,
                      6,
                      10,
                      10,
                      10,
                      10,
                      10,
                      10,
                      10,
                      10,
                      10,
                      10,
                      10,
                      10,
                      10,
                      10,
                      10,
                      2,
                      2,
                      2,
                      0,
                      0,
                      0,
                      7,
                      7,
                      7,
                      7,
                      7,
                      7,
                      7,
                      7,
                      7,
                      7,
                      7,
                      7,
                      7,
                      7,
                      7,
                      7,
                      7,
                      7,
                      7,
                      7,
                      7,
                      7,
                      7,
                      7,
                      7,
                      7,
                      6,
                      0,
                      0,
                      0,
                      7,
                      7,
                      13,
                      13,
                      13,
                      13,
                      13,
                      13,
                      13,
                      13,
                      13,
                      13,
                      13,
                      13,
                      13,
                      13,
                      13,
                      13,
                      13,
                      13,
                      13,
                      13,
                      13,
                      13,
                      13,
                      10,
                      1,
                      7,
                      1,
                      11,
                      11,
                      11,
                      11,
                      1,
                      11,
                      11,
                      1,
                      4,
                      11,
                      1,
                      1,
                      1,
                      1,
                      11,
                      11,
                      11,
                      11,
                      1,
                      1,
                      11,
                      11,
                      11,
                      11,
                      11,
                      13,
                      7,
                      7,
                      7,
                      11,
                      1,
                      4,
                      11,
                      7,
                      11,
                      1,
                      1,
                      1,
                      1,
                      1,
                      1,
                      1,
                      1,
                      13,
                      11,
                      1,
                      11,
                      13,
                      13,
                      13,
                      11,
                      1,
                      13,
                      1,
                      13,
                      8,
                      8,
                      8,
                      8,
                      2,
                      2,
                      2,
                      9,
                      2,
                      10,
                      10,
                      2,
                      2,
                      2,
                      2,
                      9,
                      2,
                      2,
                      2,
                      9,
                      2,
                      9,
                      9,
                      2,
                      9,
                      9,
                      9,
                      9,
                      9,
                      4,
                      11,
                      11,
                      11,
                      1,
                      1,
                      4,
                      1,
                      4,
                      1,
                      1,
                      7,
                      1,
                      1,
                      1,
                      1,
                      7,
                      1,
                      1,
                      7,
                      11,
                      1,
                      1,
                      7,
                      1,
                      4,
                      4,
                      1,
                      1
                    ],
                    "coloraxis": "coloraxis",
                    "symbol": "circle"
                  },
                  "mode": "markers",
                  "name": "",
                  "orientation": "v",
                  "showlegend": false,
                  "type": "scatter",
                  "x": [
                    -0.6588135463367167,
                    -0.8141576158221716,
                    -1.1774062375218486,
                    -0.5241203772540493,
                    -1.2427438431700075,
                    -0.96279092912471,
                    -0.6299969293538458,
                    -1.2517641090440332,
                    -0.22243055511862136,
                    -0.7352793783887916,
                    -0.6393758292720403,
                    -0.8529305226296763,
                    -0.5750533162513145,
                    -0.7691683527909936,
                    -0.5300470339786653,
                    -1.10052786106186,
                    -0.23850477366217232,
                    -0.9009587459241227,
                    -1.0748870645859294,
                    -0.8111827418913731,
                    -0.9818301345017955,
                    -1.0109645897253947,
                    -0.7187474611955951,
                    -0.8661974191992072,
                    -0.5756575676731107,
                    -0.85063330325524,
                    -0.9098152070191242,
                    -1.4595488434007415,
                    -0.757136515276196,
                    -2.93086743354727,
                    -3.0146598595016645,
                    -3.099460616351041,
                    -3.1252212713615717,
                    -3.338722257552018,
                    -3.607268555393826,
                    -3.6449224514125893,
                    -3.454904841721397,
                    -2.983036067707713,
                    -3.403992626549626,
                    -3.76152799088006,
                    -2.9195896665829086,
                    -3.6399406709943527,
                    -3.4279040150599664,
                    -3.428804414145287,
                    -3.4244413337122315,
                    -3.4300705196179355,
                    -3.506443828141725,
                    -3.46032520786715,
                    -2.9519105343072902,
                    -2.827715081460938,
                    -3.2278848784319325,
                    -2.7031711302483563,
                    -3.3350696383053795,
                    -3.451493980387151,
                    -2.809116461917915,
                    -3.501697264536792,
                    -2.7463847411327835,
                    -3.4352352469521903,
                    -1.578951579249695,
                    -1.4763284798744933,
                    -1.0714519261875328,
                    -1.4552395191316363,
                    -1.8751926289887673,
                    -2.054527070129984,
                    -1.9664582898991505,
                    -1.9840109828938859,
                    -2.187741171409366,
                    -2.5795783072187133,
                    -2.4857229778213576,
                    -2.6254032574958672,
                    -2.4792207362272465,
                    -2.505334807729098,
                    -2.037003140424862,
                    -2.404591294262103,
                    -2.1228958587113174,
                    -2.3707811393366702,
                    -2.171290786533417,
                    -2.359682516138728,
                    -2.521320544743971,
                    -2.3600295766091253,
                    -2.425287622036895,
                    -2.5058578639202906,
                    -2.2824280211569987,
                    -2.3599139301553915,
                    -1.581617302600977,
                    -1.7557081630301714,
                    -1.4223505752611478,
                    7.545528112260168,
                    9.117338348955476,
                    7.819789018393886,
                    6.291835212287333,
                    4.241781998906292,
                    4.4959087324604585,
                    2.6027604639854225,
                    3.6357346722225694,
                    2.5845161539295107,
                    3.3988038431168826,
                    2.6935808257546157,
                    3.5693059880094866,
                    2.372275514822097,
                    3.1787623926219313,
                    3.0157104154826433,
                    2.6600759391331503,
                    2.3464183544380504,
                    2.980611828710131,
                    3.771113695052146,
                    2.9501257683581263,
                    3.113222634270773,
                    3.872784391045327,
                    2.7227887470976837,
                    3.2268340806825195,
                    2.340425022925208,
                    3.9206467156051255,
                    3.0244162941525885,
                    3.004921322137322,
                    3.805425501637179,
                    0.4621313840321832,
                    0.3456884912293519,
                    0.16853605602504435,
                    0.07299316962272116,
                    0.042804271488653796,
                    0.0247241072215475,
                    0.035671729621813704,
                    -0.029018766379759257,
                    -0.005298917845849166,
                    -0.033331466113197476,
                    0.018420930688060923,
                    0.012781246421257126,
                    -0.0034743141124714775,
                    -7.562909699678211e-17,
                    -0.017075905579468878,
                    0.13934239629100115,
                    0.06287491255580847,
                    0.062045547222455,
                    -0.012929078912701378,
                    0.07597888482279376,
                    0.07232967735603837,
                    0.11827651682382226,
                    -0.009113998379275274,
                    0.004819339221063521,
                    0.00398997388771001,
                    0.07680825015614727,
                    0.06121618188910148,
                    -0.014090190379396282,
                    0.023562995754852625,
                    4.8207013071006095,
                    4.563490321734809,
                    6.19435230117183,
                    2.862793609785884,
                    2.850475990675757,
                    2.4095390269877535,
                    2.6129677122299757,
                    1.993779000983395,
                    3.08340107923032,
                    1.239191121295447,
                    1.3018805218299727,
                    1.297234766439985,
                    1.2043293271514242,
                    2.504440881264446,
                    2.8268447296299493,
                    1.2488717903735604,
                    1.983632038683542,
                    2.493683045466569,
                    2.248965678083445,
                    3.1594119132876903,
                    2.3320921668221763,
                    1.9741406639842258,
                    2.8120122989079834,
                    2.2530226724290165,
                    2.7140113094635763,
                    2.1376949771691116,
                    3.5610784091294927,
                    4.290140343599803,
                    3.557004940986258,
                    -0.05278120933087123,
                    0.18439922206016268,
                    0.4687112328851837,
                    -1.1676983121094462,
                    -1.5342646249226701,
                    -1.2732840038301565,
                    -1.28611408027274,
                    -1.7697403926579862,
                    -1.1704032776660762,
                    -1.265795306393579,
                    -1.5982667017364907,
                    -1.2506033121984217,
                    -1.4378052793776104,
                    -0.8828353162681738,
                    -1.08356545902225,
                    -1.4291336007539515,
                    -1.7732289667529586,
                    -1.4765456729914932,
                    -1.5824126298280086,
                    -1.4729817180215998,
                    -1.67666037277721,
                    -2.006984618168909,
                    -1.3725995453875244,
                    -1.6994218923199573,
                    -1.7282126766234875,
                    -1.7338654751797846,
                    -1.0930542253699722,
                    -1.4835016590993497,
                    -0.7140120893415943,
                    -1.8329485058989519,
                    -1.6885878101520482,
                    -1.3265111575648623,
                    -1.8315056330027524,
                    -1.7705089390870465,
                    -2.2822611134135915,
                    -1.5059249551503007,
                    -2.027676535540548,
                    -1.6414991118918438,
                    -2.272562173037892,
                    -2.5022317378144168,
                    -1.87900988738367,
                    -1.5606501992754263,
                    -2.5668632780948544,
                    -2.4779882305335863,
                    -1.693474827834777,
                    -0.29521784691697234,
                    -2.0182209411460166,
                    -2.5695641176520376,
                    -2.0096870918380416,
                    -2.3477817502264373,
                    -2.34411254361459,
                    -2.1238957438407025,
                    -2.5863389314432235,
                    -2.403120344208068,
                    -2.1713702879352725,
                    -1.7886604358316052,
                    -1.5937991159426437,
                    -2.374188363869189,
                    1.1992712923167739,
                    0.891410880575955,
                    0.42812740536468974,
                    0.5453996635008747,
                    0.25528766989382046,
                    0.24234957069350582,
                    0.31632895842863795,
                    0.3131773701618947,
                    0.3641004016297996,
                    0.16140351415820428,
                    0.29990752482823874,
                    0.21365353015947472,
                    0.4302837552314089,
                    0.3397170608292068,
                    0.3120162586951998,
                    0.35116230242948504,
                    0.38815199629705116,
                    0.3911377114971238,
                    0.4745718640324857,
                    0.41004724109758356,
                    0.5276512453671097,
                    0.4233170864312395,
                    0.3531527792295335,
                    0.2672305306941109,
                    0.4218242288312032,
                    0.44736868109849104,
                    0.3090305434951272,
                    0.4588139226987693,
                    0.4865147248327762,
                    4.885659545882447,
                    3.821766772778271,
                    5.110074550318133,
                    2.413177937374945,
                    2.7958751100536756,
                    2.162888957455347,
                    2.358974711168971,
                    2.0121052494123433,
                    2.0933389131077633,
                    1.0909053634280048,
                    1.8774733326455422,
                    0.8624058097519528,
                    1.1877182130819959,
                    1.5839453236173822,
                    1.3766901919536596,
                    1.8461327554826683,
                    1.1107128388954155,
                    1.6141997949918985,
                    2.277096597769271,
                    2.326708871158047,
                    2.0931511948436987,
                    2.1877671843784343,
                    2.027112708678695,
                    2.299152970453336,
                    2.108826339776883,
                    1.9591010528142856,
                    2.6070116021709864,
                    3.8465240023121434,
                    3.6385204871666126,
                    0.563479827767981,
                    0.41883851363113056,
                    0.3005710170949215,
                    0.21862972215959572,
                    0.1675408176250201,
                    0.14365509602443938,
                    0.05872808588904101,
                    0.1278971546907229,
                    0.13984001549101327,
                    0.015932834688000417,
                    0.05192729015554231,
                    0.11827651682382226,
                    0.0683487237559416,
                    0.19076304695891816,
                    0.12491143949065024,
                    -0.00032272584572818675,
                    0.005151085354404914,
                    0.16206700642488706,
                    0.03932093708856914,
                    0.11147572109032357,
                    0.11877413602383438,
                    0.07747174242283006,
                    0.012449500287915733,
                    0.06187967415578433,
                    0.07266142348937978,
                    0.14614319202449985,
                    0.06370427788916198,
                    0.09638127202328986,
                    0.04512649442204361,
                    1.6045350951499093,
                    0.8140541112363243,
                    1.4239084305415097,
                    1.2292479260300628,
                    0.11374806848200698,
                    0.4342923744229033,
                    -0.4000167777962321,
                    -0.2186306800057838,
                    -0.11978333406032302,
                    -0.9932227446331795,
                    -0.5754836615114487,
                    -0.8846813952949566,
                    -1.1443475181100786,
                    -1.0044322161731976,
                    -0.05911940709860247,
                    -0.7985273524900249,
                    -0.27012124196804216,
                    -0.6269023438908256,
                    -0.06386383173798577,
                    -0.7154898980527932,
                    -0.49212163613083715,
                    -0.47440963851348555,
                    -0.5241467535250927,
                    -0.009437111810131371,
                    -0.048018939693138106,
                    -0.2831390922698999,
                    -0.09091647884485234,
                    0.34072448576215103,
                    0.28663003291402,
                    0.9899075147954721,
                    -0.8500013518809733,
                    -0.40667814972083666,
                    -0.8269162918982802,
                    -1.2682019877494446,
                    -1.4447595938023763,
                    -2.0650316621832396,
                    -2.0833396523378056,
                    -1.4812674693155137,
                    -1.748039728712506,
                    -1.6824822707917158,
                    -1.22516508523054,
                    -2.335686000032498,
                    -1.4603477932183186,
                    -1.3493618099493658,
                    -0.9549619734113193,
                    -1.5021334032073925,
                    -1.4730847593884682,
                    -1.7356956671676673,
                    -1.2206897598937736,
                    -1.3996851552032854,
                    -1.3289625906048086,
                    -1.158402441827169,
                    -1.0395157800236874,
                    -1.2654389747305386,
                    -1.8297585888290602,
                    -1.8457975833192732,
                    -1.2573270767365432,
                    -1.3636061565391489,
                    -0.6466234643593138,
                    -0.4795191336516834,
                    -0.5499667566199696,
                    -0.41384292489736463,
                    -1.1876074641270533,
                    -1.0960404284259149,
                    -1.7849843595007169,
                    -1.0437416218174203,
                    -0.6904950010279912,
                    -1.4084629665997204,
                    -1.3297299271351743,
                    -1.02003456824489,
                    -0.8894074811748163,
                    -0.9163197220797155,
                    -0.923990686863407,
                    -0.9134550283957618,
                    -1.2846023658198311,
                    -0.8521570566736341,
                    -0.8873899671511569,
                    -1.2091183221316777,
                    -0.9619547166505213,
                    -1.3225867965539098,
                    -0.7867181365395916,
                    -0.6032570007031646,
                    -0.4286893557488792,
                    -1.1580021750286396,
                    -1.082031941308019,
                    -0.38366005765656325,
                    -0.891049609977311,
                    -0.5425930765482034,
                    5.853249992360892,
                    5.879931606076229,
                    6.964798480014947,
                    4.6879552852397754,
                    3.799753597120587,
                    3.654113061195697,
                    3.159858704244305,
                    3.7962262929713866,
                    2.874324297914583,
                    2.2518017140157354,
                    1.7681820437370068,
                    2.765532207691445,
                    2.637795155977052,
                    2.9632914702097173,
                    3.3346553161140515,
                    3.3727148084659553,
                    3.3423294974098283,
                    3.163198865369594,
                    3.4664871340269925,
                    4.417422306480141,
                    3.320195115713697,
                    4.188396774982087,
                    4.079638442550925,
                    3.4170176760236397,
                    4.699915711916968,
                    4.0491745418508325,
                    4.6117206348258835,
                    4.493648090750118,
                    4.2814752188390175,
                    -2.8306309721204213,
                    -1.756240622701416,
                    -1.9507838490637786,
                    -1.5671499982854098,
                    -1.3627925242324046,
                    -1.8597961903939058,
                    -2.6742525978852334,
                    -1.3300705020401022,
                    -1.9829012906584385,
                    -0.9572564317531869,
                    -1.0429163341443408,
                    -0.514818409011321,
                    -2.210017055435468,
                    -1.0250180851071076,
                    -1.0557307190913197,
                    -1.0701940789743802,
                    -7.562909699678211e-17,
                    -1.454224048699448,
                    -1.0097293597910173,
                    -0.5320634344360731,
                    -1.5234489986720243,
                    -1.049471396430332,
                    -1.9133207268803485,
                    -0.49686294134143,
                    -0.9871736507672079,
                    -2.047572259592371,
                    -2.4780488029851906,
                    -1.4807875375786452,
                    -1.9065406031370549
                  ],
                  "xaxis": "x",
                  "y": [
                    0.008302982542334556,
                    0.3717181000005927,
                    0.3102104773515091,
                    0.3443095057111575,
                    -0.647166124478096,
                    -0.4809105925244045,
                    0.10533563342058799,
                    0.7793817193487889,
                    0.25001795060228454,
                    -0.2181949426456879,
                    0.42741177696893423,
                    0.8861277260840502,
                    -0.13338401339350264,
                    0.5449161217447303,
                    0.1071459375785738,
                    -0.18776971582218746,
                    0.2651000230689427,
                    0.34465239753672683,
                    0.2930802420124922,
                    0.9182247245233424,
                    0.6108903179767009,
                    0.6304505872570015,
                    0.3980590187695799,
                    0.7434108758860555,
                    0.32786762976253175,
                    0.09021894195279698,
                    0.5162969797284339,
                    0.05111348771219535,
                    0.32962385153082874,
                    0.6204722654112093,
                    0.8920055816536105,
                    0.465966716035227,
                    0.5892540576090334,
                    0.6824194994401495,
                    0.17245254891099332,
                    0.15722731054126535,
                    0.6879917711103392,
                    0.4463664288745904,
                    0.7541230772625276,
                    0.17173870950057257,
                    1.0051228520507047,
                    0.002174700753508442,
                    0.40122411017741105,
                    -0.23140405297753572,
                    0.0004890156529904692,
                    0.07872230851734525,
                    -0.06644195783941804,
                    0.023135881407369444,
                    0.2609810662122236,
                    0.12352537780324822,
                    0.34489932994842143,
                    0.09727675414849253,
                    0.4451864007645913,
                    0.35993377895374085,
                    0.08224819311233636,
                    -0.003521199491416057,
                    0.13801981639482555,
                    -0.09342262610551737,
                    0.6938882175919926,
                    0.6908708221391184,
                    -0.05555543105471882,
                    0.22801680348511352,
                    -0.3524579190470834,
                    -0.3538768283317177,
                    -0.1015415331617835,
                    -0.4271531896420794,
                    0.008454158055748125,
                    -0.12129761857846649,
                    -0.3246786239939027,
                    0.3419057539628984,
                    -0.27287166977842886,
                    -0.4797446036846238,
                    -0.11871854989942973,
                    -0.33943541971378727,
                    -0.4670308341165689,
                    -0.12866380326478347,
                    -0.38015029507002,
                    -0.4497546072199996,
                    -0.14572147783262715,
                    -0.5043416075521969,
                    -0.12776748939197843,
                    -0.3469207383096848,
                    -0.30265529940511954,
                    -0.6096672985460734,
                    -0.8059239589276382,
                    -0.5211794893033663,
                    -0.7001771110800259,
                    7.612157841493464,
                    8.872284547012612,
                    7.0667355846182005,
                    5.426512466606403,
                    3.5899802799415155,
                    3.7624676592382342,
                    2.1093974456248095,
                    3.0156288267433484,
                    1.9423485764752455,
                    2.6355545584996105,
                    1.9405818313301275,
                    2.861254329167453,
                    1.7488255228160894,
                    2.3124054189081438,
                    2.153163675499791,
                    2.3452434281300567,
                    2.1460932344497454,
                    2.6481484212814226,
                    3.136801037066228,
                    2.7119946305182014,
                    2.5718948781304887,
                    3.628030102870211,
                    2.1650378160954724,
                    2.5648221048889615,
                    1.9603779321616706,
                    3.2443566825508543,
                    2.10130959525068,
                    2.5691255159097532,
                    3.1692016150375273,
                    1.0499025779789652,
                    0.7853594251761099,
                    0.38289206450168,
                    0.16583101604805492,
                    0.09724575421027756,
                    0.05616996552721309,
                    0.08104154399585764,
                    -0.06592687422795093,
                    -0.012038454212554445,
                    -0.0757247687762049,
                    0.04184996580284203,
                    0.029037334470510018,
                    -0.007893191134447045,
                    -3.1353912280402544e-16,
                    -0.038794243171247855,
                    0.31656785525196124,
                    0.14284364806945923,
                    0.14095943757941037,
                    -0.029373190721003698,
                    0.1726141738122307,
                    0.1643236476560159,
                    0.268708908804721,
                    -0.020705822466779072,
                    0.010948913766041242,
                    0.009064703275992387,
                    0.17449838430227954,
                    0.13907522708936154,
                    -0.03201108540707208,
                    0.05353207084114479,
                    0.43565336829570533,
                    1.627616582363236,
                    -0.5917839727610082,
                    0.3311387557181071,
                    -0.11434837139032834,
                    -0.5587099856951478,
                    -0.4776015631614519,
                    -1.2859841810691441,
                    -0.8536908124287149,
                    -0.8359871561051008,
                    -1.5718664515946954,
                    -1.9432944767700415,
                    -1.4116285582800199,
                    -2.6806575173708205,
                    -2.817409092830357,
                    -1.6216808086725045,
                    -2.0204504129458103,
                    -1.1827579369864611,
                    -2.0717436208890985,
                    -2.098339021128939,
                    -1.0434642310388151,
                    -2.4436295269565265,
                    -1.9434109820977998,
                    -1.0953028332668528,
                    -1.5654803785357885,
                    -1.6064457707453244,
                    -2.546917761697229,
                    -1.723012581757084,
                    -2.5409938335137734,
                    0.5440820573241252,
                    0.7385970070169555,
                    0.3251718865934058,
                    0.14786150984596808,
                    0.08204897866500241,
                    -0.8081894284584796,
                    -0.06740019473648537,
                    -0.2595821644081488,
                    -0.5258684599458165,
                    -0.24005428870747234,
                    -0.29140987211121405,
                    -0.4499162314640392,
                    0.14535836199771485,
                    -0.3263278540480579,
                    -0.2673643958713635,
                    -0.4879827446288756,
                    -0.560609409672472,
                    -0.5549234096903729,
                    0.2594213237086976,
                    -0.25581724915765996,
                    -0.596648309785223,
                    0.0497219804233301,
                    -0.5353988190154986,
                    -0.08773132166335162,
                    -0.941496508073879,
                    -0.8310572607267326,
                    -0.6181993343076363,
                    -0.6056285114764033,
                    -1.1344894274305697,
                    0.6457115864115782,
                    0.27040666683672,
                    0.17183759607484456,
                    0.5932403249180838,
                    0.19493227329535057,
                    0.6632758874105293,
                    0.20332257548246072,
                    0.7790754134815402,
                    0.43620523880625806,
                    0.7021990371584061,
                    -0.036426061448923935,
                    0.8754337643947904,
                    -0.16233001819829496,
                    0.4883616697473062,
                    0.373924678810041,
                    0.453218877136409,
                    0.3401927433878978,
                    0.4468585599205086,
                    0.3214361847454289,
                    0.869674460456475,
                    0.023474195357948303,
                    0.6960296908262107,
                    0.4463780782539559,
                    0.1343487401315064,
                    0.5670359024127566,
                    0.5565413570151019,
                    -0.22830647028891435,
                    0.032505999754476364,
                    -0.29026794680700013,
                    2.724588861534364,
                    2.025169927628239,
                    0.9726499478869634,
                    1.2390773111798676,
                    0.5799804817607876,
                    0.5505867981160258,
                    0.7186583738283812,
                    0.7114983739661958,
                    0.8271888980551939,
                    0.36668785428726014,
                    0.6813510061254145,
                    0.4853931151603363,
                    0.9775488951610904,
                    0.7717931096477585,
                    0.7088604792801274,
                    0.7977952144104322,
                    0.88183100226661,
                    0.8886141600307859,
                    1.0781657353296976,
                    0.9315741592038992,
                    1.1987552066928229,
                    0.9617215270446803,
                    0.8023173195865495,
                    0.6071131128174908,
                    0.9583299481625923,
                    1.0163636312560964,
                    0.7020773215159516,
                    1.0423657360187701,
                    1.1052983663864009,
                    0.6146343831250681,
                    1.852728641088405,
                    -0.6246299759369175,
                    0.45727952172553343,
                    -0.4879832993997582,
                    -0.9908434727062106,
                    -1.1915954665935389,
                    -1.4810996432408938,
                    -1.6150766022171719,
                    -1.6444241352735305,
                    -0.9324613607577811,
                    -1.4668165805794986,
                    -1.7197605573513177,
                    -1.993881747719304,
                    -1.7487832772999106,
                    -1.5538321670904882,
                    -1.8551203262468945,
                    -1.3223935112745184,
                    -1.5692956759122363,
                    -2.2618555884577467,
                    -1.5930064220204665,
                    -2.299404056565942,
                    -1.8328160875108523,
                    -1.6606645452422562,
                    -1.8533574813639593,
                    -1.3498022491885657,
                    -2.457321890988774,
                    -2.2875114847475193,
                    -2.7356437805167126,
                    1.2801530998629322,
                    0.9515467903984166,
                    0.6828583745174537,
                    0.4966983781006292,
                    0.3806310119136213,
                    0.3263657498002152,
                    0.1334225956192151,
                    0.2905657504892875,
                    0.31769838154599056,
                    0.036197334332695535,
                    0.1179720696008147,
                    0.268708908804721,
                    0.15527943730378158,
                    0.43338890563498866,
                    0.2837825927251116,
                    -0.0007331912722615139,
                    0.011702597962060756,
                    0.36819522267929916,
                    0.08933207015207258,
                    0.2532583827863206,
                    0.26983943509875036,
                    0.1760057526943186,
                    0.028283650274490504,
                    0.1405825954814007,
                    0.1650773318520354,
                    0.3320183812703616,
                    0.1447278585595081,
                    0.21896575186743192,
                    0.10252154358241432,
                    -0.08185578764412352,
                    0.4766226989253338,
                    1.4502416412916843,
                    0.1565736498522155,
                    0.46850477670672597,
                    -0.3452718680155505,
                    -0.29594303693541923,
                    -0.6375250894755761,
                    -0.5548235302494823,
                    -0.5643594501967633,
                    -0.3488624394026824,
                    -0.5762300026669809,
                    -1.0976030807955872,
                    -1.0600646537575502,
                    -0.8983637322585507,
                    -0.8456225204061513,
                    -1.186580067725135,
                    -0.5443069394726346,
                    -1.0643237332869904,
                    -0.6598011944053217,
                    -0.5231530555386557,
                    -0.6930913839141549,
                    -1.0025179644805178,
                    -1.1734434570492216,
                    -1.5661959518060256,
                    -1.1283631259337699,
                    -0.7993594992953068,
                    -0.760709309713292,
                    -1.1593328700059493,
                    -1.7711754444326688,
                    0.6280039598929728,
                    0.05254628803556916,
                    0.110758882459346,
                    -0.22630241299820203,
                    -0.045258770004739955,
                    -0.6870980268759189,
                    -0.6396032530173531,
                    0.5610231535121577,
                    -0.55398937939685,
                    -0.08702316244444121,
                    0.5935883735732151,
                    0.19871230328591244,
                    -0.05232341240018332,
                    0.16088308097185966,
                    0.9864316776630692,
                    0.6636606876828878,
                    0.9222579665158869,
                    -0.09526135948860015,
                    -0.4369479745178455,
                    0.01746013938271017,
                    -0.33005825937443656,
                    0.31892130309783867,
                    0.6340281717651851,
                    -0.15539922626401453,
                    -0.6815460656966725,
                    -0.28126147438185195,
                    -0.7536402143577919,
                    -0.36410674737089715,
                    -0.6473948036811219,
                    0.6115647359733986,
                    0.6049934142305486,
                    0.42627637402924534,
                    -0.06792738869427983,
                    0.3108543481923698,
                    0.19053436032280927,
                    -0.1122510286648849,
                    0.054416303431860054,
                    -0.2950232629726096,
                    0.105034175911626,
                    0.20183755289609806,
                    0.39001180946489555,
                    0.3155553527756165,
                    0.10391080651846539,
                    0.2819709766284069,
                    0.31375135473097965,
                    0.3857861891766148,
                    -0.4262373067229982,
                    -0.11727768786213168,
                    0.14888494483335699,
                    -0.350686053514793,
                    -0.3246905153574137,
                    -0.5027275120857684,
                    -0.2237178850668835,
                    -0.08047458343334205,
                    0.3478087673763887,
                    -0.7038115924152387,
                    0.391161003210206,
                    -0.8975759441080414,
                    -0.021254780917569858,
                    0.4610728435010373,
                    -1.7801982238834357,
                    -1.0045372506376888,
                    -1.4752916290318412,
                    -1.3589455025661892,
                    -1.9422345960977845,
                    -2.7139348950755524,
                    -2.0699221963912025,
                    -1.8510907257540692,
                    -2.186420555669278,
                    -2.1443670497038885,
                    -1.8417050250169629,
                    -2.7088886054539434,
                    -2.6560873097907387,
                    -3.4647336765541095,
                    -1.7506650157844168,
                    -2.8212874239668153,
                    -2.883766833892733,
                    -3.901957348512337,
                    -2.413462067585762,
                    -3.0453680933819554,
                    -2.9872051086803735,
                    -2.163230641998786,
                    -4.312331834074418,
                    -3.3558213567529886,
                    -2.491750867185,
                    -2.9320512583348757,
                    -2.549795369058309,
                    0.184929930763058,
                    -0.9404945971220591,
                    -0.27570810813711016,
                    -1.5451163266910923,
                    0.5204569003075359,
                    1.1263205162956587,
                    0.41506037973042925,
                    0.4395608727149929,
                    0.32826380932640725,
                    0.941523541339638,
                    1.1882438064778473,
                    0.5763135495921899,
                    1.537369917967828,
                    1.1514421056643693,
                    0.33698597888842047,
                    0.26306145745045445,
                    -3.1353912280402544e-16,
                    1.48331476993783,
                    1.1465858015682295,
                    0.6131205186524533,
                    -0.02816064940734644,
                    1.1790738751728116,
                    1.2909775468435807,
                    0.5562132984622907,
                    1.1223299665395285,
                    0.4897600025829365,
                    -0.15314833256301416,
                    0.7939093519150733,
                    1.0608319608846715
                  ],
                  "yaxis": "y"
                }
              ],
              "layout": {
                "coloraxis": {
                  "colorbar": {
                    "title": {
                      "text": "color"
                    }
                  },
                  "colorscale": [
                    [
                      0,
                      "#0d0887"
                    ],
                    [
                      0.1111111111111111,
                      "#46039f"
                    ],
                    [
                      0.2222222222222222,
                      "#7201a8"
                    ],
                    [
                      0.3333333333333333,
                      "#9c179e"
                    ],
                    [
                      0.4444444444444444,
                      "#bd3786"
                    ],
                    [
                      0.5555555555555556,
                      "#d8576b"
                    ],
                    [
                      0.6666666666666666,
                      "#ed7953"
                    ],
                    [
                      0.7777777777777778,
                      "#fb9f3a"
                    ],
                    [
                      0.8888888888888888,
                      "#fdca26"
                    ],
                    [
                      1,
                      "#f0f921"
                    ]
                  ]
                },
                "legend": {
                  "tracegroupgap": 0
                },
                "margin": {
                  "t": 60
                },
                "template": {
                  "data": {
                    "bar": [
                      {
                        "error_x": {
                          "color": "#2a3f5f"
                        },
                        "error_y": {
                          "color": "#2a3f5f"
                        },
                        "marker": {
                          "line": {
                            "color": "#E5ECF6",
                            "width": 0.5
                          }
                        },
                        "type": "bar"
                      }
                    ],
                    "barpolar": [
                      {
                        "marker": {
                          "line": {
                            "color": "#E5ECF6",
                            "width": 0.5
                          }
                        },
                        "type": "barpolar"
                      }
                    ],
                    "carpet": [
                      {
                        "aaxis": {
                          "endlinecolor": "#2a3f5f",
                          "gridcolor": "white",
                          "linecolor": "white",
                          "minorgridcolor": "white",
                          "startlinecolor": "#2a3f5f"
                        },
                        "baxis": {
                          "endlinecolor": "#2a3f5f",
                          "gridcolor": "white",
                          "linecolor": "white",
                          "minorgridcolor": "white",
                          "startlinecolor": "#2a3f5f"
                        },
                        "type": "carpet"
                      }
                    ],
                    "choropleth": [
                      {
                        "colorbar": {
                          "outlinewidth": 0,
                          "ticks": ""
                        },
                        "type": "choropleth"
                      }
                    ],
                    "contour": [
                      {
                        "colorbar": {
                          "outlinewidth": 0,
                          "ticks": ""
                        },
                        "colorscale": [
                          [
                            0,
                            "#0d0887"
                          ],
                          [
                            0.1111111111111111,
                            "#46039f"
                          ],
                          [
                            0.2222222222222222,
                            "#7201a8"
                          ],
                          [
                            0.3333333333333333,
                            "#9c179e"
                          ],
                          [
                            0.4444444444444444,
                            "#bd3786"
                          ],
                          [
                            0.5555555555555556,
                            "#d8576b"
                          ],
                          [
                            0.6666666666666666,
                            "#ed7953"
                          ],
                          [
                            0.7777777777777778,
                            "#fb9f3a"
                          ],
                          [
                            0.8888888888888888,
                            "#fdca26"
                          ],
                          [
                            1,
                            "#f0f921"
                          ]
                        ],
                        "type": "contour"
                      }
                    ],
                    "contourcarpet": [
                      {
                        "colorbar": {
                          "outlinewidth": 0,
                          "ticks": ""
                        },
                        "type": "contourcarpet"
                      }
                    ],
                    "heatmap": [
                      {
                        "colorbar": {
                          "outlinewidth": 0,
                          "ticks": ""
                        },
                        "colorscale": [
                          [
                            0,
                            "#0d0887"
                          ],
                          [
                            0.1111111111111111,
                            "#46039f"
                          ],
                          [
                            0.2222222222222222,
                            "#7201a8"
                          ],
                          [
                            0.3333333333333333,
                            "#9c179e"
                          ],
                          [
                            0.4444444444444444,
                            "#bd3786"
                          ],
                          [
                            0.5555555555555556,
                            "#d8576b"
                          ],
                          [
                            0.6666666666666666,
                            "#ed7953"
                          ],
                          [
                            0.7777777777777778,
                            "#fb9f3a"
                          ],
                          [
                            0.8888888888888888,
                            "#fdca26"
                          ],
                          [
                            1,
                            "#f0f921"
                          ]
                        ],
                        "type": "heatmap"
                      }
                    ],
                    "heatmapgl": [
                      {
                        "colorbar": {
                          "outlinewidth": 0,
                          "ticks": ""
                        },
                        "colorscale": [
                          [
                            0,
                            "#0d0887"
                          ],
                          [
                            0.1111111111111111,
                            "#46039f"
                          ],
                          [
                            0.2222222222222222,
                            "#7201a8"
                          ],
                          [
                            0.3333333333333333,
                            "#9c179e"
                          ],
                          [
                            0.4444444444444444,
                            "#bd3786"
                          ],
                          [
                            0.5555555555555556,
                            "#d8576b"
                          ],
                          [
                            0.6666666666666666,
                            "#ed7953"
                          ],
                          [
                            0.7777777777777778,
                            "#fb9f3a"
                          ],
                          [
                            0.8888888888888888,
                            "#fdca26"
                          ],
                          [
                            1,
                            "#f0f921"
                          ]
                        ],
                        "type": "heatmapgl"
                      }
                    ],
                    "histogram": [
                      {
                        "marker": {
                          "colorbar": {
                            "outlinewidth": 0,
                            "ticks": ""
                          }
                        },
                        "type": "histogram"
                      }
                    ],
                    "histogram2d": [
                      {
                        "colorbar": {
                          "outlinewidth": 0,
                          "ticks": ""
                        },
                        "colorscale": [
                          [
                            0,
                            "#0d0887"
                          ],
                          [
                            0.1111111111111111,
                            "#46039f"
                          ],
                          [
                            0.2222222222222222,
                            "#7201a8"
                          ],
                          [
                            0.3333333333333333,
                            "#9c179e"
                          ],
                          [
                            0.4444444444444444,
                            "#bd3786"
                          ],
                          [
                            0.5555555555555556,
                            "#d8576b"
                          ],
                          [
                            0.6666666666666666,
                            "#ed7953"
                          ],
                          [
                            0.7777777777777778,
                            "#fb9f3a"
                          ],
                          [
                            0.8888888888888888,
                            "#fdca26"
                          ],
                          [
                            1,
                            "#f0f921"
                          ]
                        ],
                        "type": "histogram2d"
                      }
                    ],
                    "histogram2dcontour": [
                      {
                        "colorbar": {
                          "outlinewidth": 0,
                          "ticks": ""
                        },
                        "colorscale": [
                          [
                            0,
                            "#0d0887"
                          ],
                          [
                            0.1111111111111111,
                            "#46039f"
                          ],
                          [
                            0.2222222222222222,
                            "#7201a8"
                          ],
                          [
                            0.3333333333333333,
                            "#9c179e"
                          ],
                          [
                            0.4444444444444444,
                            "#bd3786"
                          ],
                          [
                            0.5555555555555556,
                            "#d8576b"
                          ],
                          [
                            0.6666666666666666,
                            "#ed7953"
                          ],
                          [
                            0.7777777777777778,
                            "#fb9f3a"
                          ],
                          [
                            0.8888888888888888,
                            "#fdca26"
                          ],
                          [
                            1,
                            "#f0f921"
                          ]
                        ],
                        "type": "histogram2dcontour"
                      }
                    ],
                    "mesh3d": [
                      {
                        "colorbar": {
                          "outlinewidth": 0,
                          "ticks": ""
                        },
                        "type": "mesh3d"
                      }
                    ],
                    "parcoords": [
                      {
                        "line": {
                          "colorbar": {
                            "outlinewidth": 0,
                            "ticks": ""
                          }
                        },
                        "type": "parcoords"
                      }
                    ],
                    "pie": [
                      {
                        "automargin": true,
                        "type": "pie"
                      }
                    ],
                    "scatter": [
                      {
                        "marker": {
                          "colorbar": {
                            "outlinewidth": 0,
                            "ticks": ""
                          }
                        },
                        "type": "scatter"
                      }
                    ],
                    "scatter3d": [
                      {
                        "line": {
                          "colorbar": {
                            "outlinewidth": 0,
                            "ticks": ""
                          }
                        },
                        "marker": {
                          "colorbar": {
                            "outlinewidth": 0,
                            "ticks": ""
                          }
                        },
                        "type": "scatter3d"
                      }
                    ],
                    "scattercarpet": [
                      {
                        "marker": {
                          "colorbar": {
                            "outlinewidth": 0,
                            "ticks": ""
                          }
                        },
                        "type": "scattercarpet"
                      }
                    ],
                    "scattergeo": [
                      {
                        "marker": {
                          "colorbar": {
                            "outlinewidth": 0,
                            "ticks": ""
                          }
                        },
                        "type": "scattergeo"
                      }
                    ],
                    "scattergl": [
                      {
                        "marker": {
                          "colorbar": {
                            "outlinewidth": 0,
                            "ticks": ""
                          }
                        },
                        "type": "scattergl"
                      }
                    ],
                    "scattermapbox": [
                      {
                        "marker": {
                          "colorbar": {
                            "outlinewidth": 0,
                            "ticks": ""
                          }
                        },
                        "type": "scattermapbox"
                      }
                    ],
                    "scatterpolar": [
                      {
                        "marker": {
                          "colorbar": {
                            "outlinewidth": 0,
                            "ticks": ""
                          }
                        },
                        "type": "scatterpolar"
                      }
                    ],
                    "scatterpolargl": [
                      {
                        "marker": {
                          "colorbar": {
                            "outlinewidth": 0,
                            "ticks": ""
                          }
                        },
                        "type": "scatterpolargl"
                      }
                    ],
                    "scatterternary": [
                      {
                        "marker": {
                          "colorbar": {
                            "outlinewidth": 0,
                            "ticks": ""
                          }
                        },
                        "type": "scatterternary"
                      }
                    ],
                    "surface": [
                      {
                        "colorbar": {
                          "outlinewidth": 0,
                          "ticks": ""
                        },
                        "colorscale": [
                          [
                            0,
                            "#0d0887"
                          ],
                          [
                            0.1111111111111111,
                            "#46039f"
                          ],
                          [
                            0.2222222222222222,
                            "#7201a8"
                          ],
                          [
                            0.3333333333333333,
                            "#9c179e"
                          ],
                          [
                            0.4444444444444444,
                            "#bd3786"
                          ],
                          [
                            0.5555555555555556,
                            "#d8576b"
                          ],
                          [
                            0.6666666666666666,
                            "#ed7953"
                          ],
                          [
                            0.7777777777777778,
                            "#fb9f3a"
                          ],
                          [
                            0.8888888888888888,
                            "#fdca26"
                          ],
                          [
                            1,
                            "#f0f921"
                          ]
                        ],
                        "type": "surface"
                      }
                    ],
                    "table": [
                      {
                        "cells": {
                          "fill": {
                            "color": "#EBF0F8"
                          },
                          "line": {
                            "color": "white"
                          }
                        },
                        "header": {
                          "fill": {
                            "color": "#C8D4E3"
                          },
                          "line": {
                            "color": "white"
                          }
                        },
                        "type": "table"
                      }
                    ]
                  },
                  "layout": {
                    "annotationdefaults": {
                      "arrowcolor": "#2a3f5f",
                      "arrowhead": 0,
                      "arrowwidth": 1
                    },
                    "coloraxis": {
                      "colorbar": {
                        "outlinewidth": 0,
                        "ticks": ""
                      }
                    },
                    "colorscale": {
                      "diverging": [
                        [
                          0,
                          "#8e0152"
                        ],
                        [
                          0.1,
                          "#c51b7d"
                        ],
                        [
                          0.2,
                          "#de77ae"
                        ],
                        [
                          0.3,
                          "#f1b6da"
                        ],
                        [
                          0.4,
                          "#fde0ef"
                        ],
                        [
                          0.5,
                          "#f7f7f7"
                        ],
                        [
                          0.6,
                          "#e6f5d0"
                        ],
                        [
                          0.7,
                          "#b8e186"
                        ],
                        [
                          0.8,
                          "#7fbc41"
                        ],
                        [
                          0.9,
                          "#4d9221"
                        ],
                        [
                          1,
                          "#276419"
                        ]
                      ],
                      "sequential": [
                        [
                          0,
                          "#0d0887"
                        ],
                        [
                          0.1111111111111111,
                          "#46039f"
                        ],
                        [
                          0.2222222222222222,
                          "#7201a8"
                        ],
                        [
                          0.3333333333333333,
                          "#9c179e"
                        ],
                        [
                          0.4444444444444444,
                          "#bd3786"
                        ],
                        [
                          0.5555555555555556,
                          "#d8576b"
                        ],
                        [
                          0.6666666666666666,
                          "#ed7953"
                        ],
                        [
                          0.7777777777777778,
                          "#fb9f3a"
                        ],
                        [
                          0.8888888888888888,
                          "#fdca26"
                        ],
                        [
                          1,
                          "#f0f921"
                        ]
                      ],
                      "sequentialminus": [
                        [
                          0,
                          "#0d0887"
                        ],
                        [
                          0.1111111111111111,
                          "#46039f"
                        ],
                        [
                          0.2222222222222222,
                          "#7201a8"
                        ],
                        [
                          0.3333333333333333,
                          "#9c179e"
                        ],
                        [
                          0.4444444444444444,
                          "#bd3786"
                        ],
                        [
                          0.5555555555555556,
                          "#d8576b"
                        ],
                        [
                          0.6666666666666666,
                          "#ed7953"
                        ],
                        [
                          0.7777777777777778,
                          "#fb9f3a"
                        ],
                        [
                          0.8888888888888888,
                          "#fdca26"
                        ],
                        [
                          1,
                          "#f0f921"
                        ]
                      ]
                    },
                    "colorway": [
                      "#636efa",
                      "#EF553B",
                      "#00cc96",
                      "#ab63fa",
                      "#FFA15A",
                      "#19d3f3",
                      "#FF6692",
                      "#B6E880",
                      "#FF97FF",
                      "#FECB52"
                    ],
                    "font": {
                      "color": "#2a3f5f"
                    },
                    "geo": {
                      "bgcolor": "white",
                      "lakecolor": "white",
                      "landcolor": "#E5ECF6",
                      "showlakes": true,
                      "showland": true,
                      "subunitcolor": "white"
                    },
                    "hoverlabel": {
                      "align": "left"
                    },
                    "hovermode": "closest",
                    "mapbox": {
                      "style": "light"
                    },
                    "paper_bgcolor": "white",
                    "plot_bgcolor": "#E5ECF6",
                    "polar": {
                      "angularaxis": {
                        "gridcolor": "white",
                        "linecolor": "white",
                        "ticks": ""
                      },
                      "bgcolor": "#E5ECF6",
                      "radialaxis": {
                        "gridcolor": "white",
                        "linecolor": "white",
                        "ticks": ""
                      }
                    },
                    "scene": {
                      "xaxis": {
                        "backgroundcolor": "#E5ECF6",
                        "gridcolor": "white",
                        "gridwidth": 2,
                        "linecolor": "white",
                        "showbackground": true,
                        "ticks": "",
                        "zerolinecolor": "white"
                      },
                      "yaxis": {
                        "backgroundcolor": "#E5ECF6",
                        "gridcolor": "white",
                        "gridwidth": 2,
                        "linecolor": "white",
                        "showbackground": true,
                        "ticks": "",
                        "zerolinecolor": "white"
                      },
                      "zaxis": {
                        "backgroundcolor": "#E5ECF6",
                        "gridcolor": "white",
                        "gridwidth": 2,
                        "linecolor": "white",
                        "showbackground": true,
                        "ticks": "",
                        "zerolinecolor": "white"
                      }
                    },
                    "shapedefaults": {
                      "line": {
                        "color": "#2a3f5f"
                      }
                    },
                    "ternary": {
                      "aaxis": {
                        "gridcolor": "white",
                        "linecolor": "white",
                        "ticks": ""
                      },
                      "baxis": {
                        "gridcolor": "white",
                        "linecolor": "white",
                        "ticks": ""
                      },
                      "bgcolor": "#E5ECF6",
                      "caxis": {
                        "gridcolor": "white",
                        "linecolor": "white",
                        "ticks": ""
                      }
                    },
                    "title": {
                      "x": 0.05
                    },
                    "xaxis": {
                      "automargin": true,
                      "gridcolor": "white",
                      "linecolor": "white",
                      "ticks": "",
                      "title": {
                        "standoff": 15
                      },
                      "zerolinecolor": "white",
                      "zerolinewidth": 2
                    },
                    "yaxis": {
                      "automargin": true,
                      "gridcolor": "white",
                      "linecolor": "white",
                      "ticks": "",
                      "title": {
                        "standoff": 15
                      },
                      "zerolinecolor": "white",
                      "zerolinewidth": 2
                    }
                  }
                },
                "title": {
                  "text": "kmeans on lower dimensional data",
                  "x": 0.5,
                  "xanchor": "center",
                  "y": 0.95,
                  "yanchor": "top"
                },
                "xaxis": {
                  "anchor": "y",
                  "domain": [
                    0,
                    1
                  ],
                  "title": {
                    "text": "PC1"
                  }
                },
                "yaxis": {
                  "anchor": "x",
                  "domain": [
                    0,
                    1
                  ],
                  "title": {
                    "text": "PC2"
                  }
                }
              }
            }
          },
          "metadata": {}
        }
      ]
    },
    {
      "cell_type": "markdown",
      "metadata": {
        "id": "1q6kZV7Is64k"
      },
      "source": [
        "# Task 3: Supervised Learning"
      ]
    },
    {
      "cell_type": "markdown",
      "metadata": {
        "id": "MErQEeWEeczW"
      },
      "source": [
        "## 3.1"
      ]
    },
    {
      "cell_type": "markdown",
      "metadata": {
        "id": "tV2EBZeLeczX"
      },
      "source": [
        "## 3.1.A. Region Split"
      ]
    },
    {
      "cell_type": "code",
      "metadata": {
        "tags": [],
        "id": "GsiQdOeOeczZ",
        "outputId": "88b1e4e4-42c6-46ea-a990-28b69a9821e3",
        "colab": {
          "base_uri": "https://localhost:8080/",
          "height": 207
        }
      },
      "source": [
        "def region_split(df, train_size = 0.8, split_seed = None):\n",
        "    regions = df['sub_region_1'].unique()\n",
        "    if split_seed is None:\n",
        "        np.random.shuffle(regions)\n",
        "    else:\n",
        "        rng = np.random.RandomState(split_seed)\n",
        "        rng.shuffle(regions)\n",
        "    train_ind = int(train_size * len(regions))\n",
        "    train_regions, val_regions = regions[:train_ind], regions[train_ind:]\n",
        "\n",
        "    # create train  split\n",
        "    train_data = df.loc[df['sub_region_1'].isin(train_regions)].drop('date', 1).sample(frac=1)\n",
        "    train_regions = train_data.sub_region_1.tolist()\n",
        "    train_data = train_data.select_dtypes(exclude=object)\n",
        "    X_train, y_train = train_data.drop(\"hospitalized_new\", 1).to_numpy(), train_data[\"hospitalized_new\"].to_numpy()\n",
        "\n",
        "    # create val split\n",
        "    val_data = df.loc[df['sub_region_1'].isin(val_regions)].drop('date', 1).sample(frac=1)\n",
        "    val_regions = val_data.sub_region_1.tolist()\n",
        "    val_data = val_data.select_dtypes(exclude=object)\n",
        "    X_val, y_val = val_data.drop(\"hospitalized_new\", 1).to_numpy(), val_data[\"hospitalized_new\"].to_numpy()\n",
        "    return X_train, y_train, X_val, y_val, train_regions, val_regions\n",
        "\n",
        "X_train, y_train, X_val, y_val, train_regions, val_regions = region_split(df, split_seed=5)\n",
        "print(f\"X_train.shape: {X_train.shape}\")\n",
        "print(f\"y_train.shape: {y_train.shape}\")\n",
        "print(f\"X_val.shape: {X_val.shape}\")\n",
        "print(f\"y_val.shape: {y_val.shape}\")\n",
        "print(f\"set(train_regions): {set(train_regions)}\")\n",
        "print(f\"set(val_regions): {set(val_regions)}\")\n",
        "print(f\"len(train_regions): {len(train_regions)}\")\n",
        "print(f\"len(val_regions): {len(val_regions)}\")\n",
        "print(f\"train_regions[:10]: {train_regions[:10]}\")\n",
        "print(f\"val_regions[:10]: {val_regions[:10]}\")"
      ],
      "execution_count": 13,
      "outputs": [
        {
          "output_type": "stream",
          "name": "stdout",
          "text": [
            "X_train.shape: (349, 9)\ny_train.shape: (349,)\nX_val.shape: (116, 9)\ny_val.shape: (116,)\nset(train_regions): {'Delaware', 'New Mexico', 'Maine', 'Alaska', 'Rhode Island', 'Nebraska', 'Idaho', 'North Dakota', 'District of Columbia', 'New Hampshire', 'Wyoming', 'South Dakota'}\nset(val_regions): {'Hawaii', 'Vermont', 'Montana', 'West Virginia'}\nlen(train_regions): 349\nlen(val_regions): 116\ntrain_regions[:10]: ['New Hampshire', 'South Dakota', 'Nebraska', 'Delaware', 'District of Columbia', 'Maine', 'Idaho', 'Maine', 'New Mexico', 'Alaska']\nval_regions[:10]: ['Montana', 'Hawaii', 'Hawaii', 'West Virginia', 'Vermont', 'Vermont', 'Montana', 'Hawaii', 'West Virginia', 'Montana']\n"
          ]
        }
      ]
    },
    {
      "cell_type": "markdown",
      "metadata": {
        "id": "ca6HKHvFeczf"
      },
      "source": [
        "## 3.1.B. Date Split"
      ]
    },
    {
      "cell_type": "code",
      "metadata": {
        "tags": [],
        "id": "LboUDt6Deczg",
        "outputId": "a33c56a8-d1dd-4230-9e87-70ce0843ddcd",
        "colab": {
          "base_uri": "https://localhost:8080/",
          "height": 173
        }
      },
      "source": [
        "def date_split(df, split_date = None, train_size = 0.8, return_regions=False):\n",
        "    df['date'] = pd.to_datetime(df['date'])\n",
        "    df = df.set_index(df['date'])\n",
        "    df = df.sort_index()\n",
        "\n",
        "    if split_date is None:\n",
        "        num_train = int(train_size * len(df))\n",
        "        split_date = df.iloc[num_train].date\n",
        "\n",
        "    train_date = (df.iloc[0].date, split_date)\n",
        "    val_date = (split_date, df.iloc[-1].date)\n",
        "\n",
        "    # create train  split\n",
        "    train_data = df[:split_date].sample(frac=1)\n",
        "    train_times = train_data.date.astype('str').tolist()\n",
        "    if return_regions:\n",
        "        regions_train = train_data.sub_region_1.to_numpy()\n",
        "    train_data = train_data.select_dtypes(exclude=object).drop(\"date\", 1)\n",
        "    X_train, y_train = train_data.drop(\"hospitalized_new\", 1).to_numpy(), train_data[\"hospitalized_new\"].to_numpy()\n",
        "\n",
        "    # create val split\n",
        "    val_data = df[split_date:].sample(frac=1)\n",
        "    val_times = val_data.date.astype('str').tolist()\n",
        "    if return_regions:\n",
        "        regions_val = val_data.sub_region_1.to_numpy()\n",
        "    val_data = val_data.select_dtypes(exclude=object).drop(\"date\", 1)\n",
        "    X_val, y_val = val_data.drop(\"hospitalized_new\", 1).to_numpy(), val_data[\"hospitalized_new\"].to_numpy()\n",
        "\n",
        "    if return_regions:\n",
        "        return X_train, y_train, X_val, y_val, regions_train, regions_val\n",
        "\n",
        "    return X_train, y_train, X_val, y_val, train_times, val_times\n",
        "\n",
        "X_train, y_train, X_val, y_val, train_times, val_times = date_split(df, split_date=\"2020-08-10\")\n",
        "print(f\"X_train.shape: {X_train.shape}\")\n",
        "print(f\"y_train.shape: {y_train.shape}\")\n",
        "print(f\"X_val.shape: {X_val.shape}\")\n",
        "print(f\"y_val.shape: {y_val.shape}\")\n",
        "print(f\"max(train_times): {max(train_times)}\")\n",
        "print(f\"min(val_times): {min(val_times)}\")\n",
        "print(f\"train_times[:10]: {train_times[:10]}\")\n",
        "print(f\"val_times[:10]: {val_times[:10]}\")"
      ],
      "execution_count": 14,
      "outputs": [
        {
          "output_type": "stream",
          "name": "stdout",
          "text": [
            "X_train.shape: (369, 9)\ny_train.shape: (369,)\nX_val.shape: (112, 9)\ny_val.shape: (112,)\nmax(train_times): 2020-08-10\nmin(val_times): 2020-08-10\ntrain_times[:10]: ['2020-05-11', '2020-07-27', '2020-08-03', '2020-05-18', '2020-03-23', '2020-03-23', '2020-05-11', '2020-05-18', '2020-07-27', '2020-04-27']\nval_times[:10]: ['2020-09-21', '2020-08-31', '2020-09-21', '2020-08-10', '2020-08-31', '2020-08-17', '2020-08-24', '2020-08-31', '2020-09-14', '2020-09-14']\n"
          ]
        }
      ]
    },
    {
      "cell_type": "markdown",
      "metadata": {
        "id": "N-Fg3yuceczl"
      },
      "source": [
        "## 3.2"
      ]
    },
    {
      "cell_type": "markdown",
      "metadata": {
        "id": "8i7i7aQTeczn"
      },
      "source": [
        "\n",
        "## 3.2.A. Find best `k` for KNN"
      ]
    },
    {
      "cell_type": "code",
      "metadata": {
        "id": "RWLSpqNWeczn"
      },
      "source": [
        "knn_time = time.time()\n",
        "k_values = np.arange(1, 40)\n",
        "k_mse = np.zeros_like(k_values).astype(float)\n",
        "for i, k in enumerate(k_values):\n",
        "    N_val = 0\n",
        "    for fold in range(5):\n",
        "        X_train, y_train, X_val, y_val, *_ = region_split(df, split_seed=fold)\n",
        "\n",
        "        # Standardize inputs\n",
        "        scaler = StandardScaler()\n",
        "        scaler.fit(X_train)\n",
        "        X_train_scaled = scaler.transform(X_train)\n",
        "        X_val_scaled = scaler.transform(X_val)\n",
        "\n",
        "        model = KNeighborsRegressor(n_neighbors=k).fit(X_train_scaled, y_train)\n",
        "        y_val_pred = model.predict(X_val_scaled)\n",
        "        N_val += len(y)\n",
        "        k_mse[i] += np.sum((y_val - y_val_pred) ** 2)\n",
        "    k_mse[i] /= N_val\n"
      ],
      "execution_count": 15,
      "outputs": []
    },
    {
      "cell_type": "code",
      "metadata": {
        "tags": [],
        "id": "4mZrCWOYecz5",
        "outputId": "16c9c14e-a28a-42f5-de20-24776d1563c3",
        "colab": {
          "base_uri": "https://localhost:8080/",
          "height": 51
        }
      },
      "source": [
        "best_k = k_values[np.argmin(k_mse)]\n",
        "print(f\"Achieved min mse of {np.min(k_mse)} with k={best_k}.\")\n",
        "print(f\"Knn training time: {time.time() - knn_time}\")"
      ],
      "execution_count": 16,
      "outputs": [
        {
          "output_type": "stream",
          "name": "stdout",
          "text": [
            "Achieved min mse of 1698.5094593787337 with k=12.\nKnn training time: 1.827117681503296\n"
          ]
        }
      ]
    },
    {
      "cell_type": "code",
      "metadata": {
        "id": "Sxl2MmCjecz_",
        "outputId": "38c58b94-9ded-4483-9f6d-98788370cc80",
        "colab": {
          "base_uri": "https://localhost:8080/",
          "height": 542
        }
      },
      "source": [
        "k_mse_pd = pd.DataFrame(data=np.vstack([k_values, k_mse]).T, index=np.arange(k_values.shape[0]), columns=['k', 'mse'])\n",
        "fig = px.line(k_mse_pd, x=\"k\", y=\"mse\", title='KNN validation MSE (region split)')\n",
        "fig.show()"
      ],
      "execution_count": 17,
      "outputs": [
        {
          "output_type": "display_data",
          "data": {
            "application/vnd.plotly.v1+json": {
              "config": {
                "plotlyServerURL": "https://plot.ly"
              },
              "data": [
                {
                  "hovertemplate": "k=%{x}<br>mse=%{y}<extra></extra>",
                  "legendgroup": "",
                  "line": {
                    "color": "#636efa",
                    "dash": "solid"
                  },
                  "mode": "lines",
                  "name": "",
                  "orientation": "v",
                  "showlegend": false,
                  "type": "scatter",
                  "x": [
                    1,
                    2,
                    3,
                    4,
                    5,
                    6,
                    7,
                    8,
                    9,
                    10,
                    11,
                    12,
                    13,
                    14,
                    15,
                    16,
                    17,
                    18,
                    19,
                    20,
                    21,
                    22,
                    23,
                    24,
                    25,
                    26,
                    27,
                    28,
                    29,
                    30,
                    31,
                    32,
                    33,
                    34,
                    35,
                    36,
                    37,
                    38,
                    39
                  ],
                  "xaxis": "x",
                  "y": [
                    2007.2486021505376,
                    1965.2,
                    1922.556750298686,
                    1866.6507526881721,
                    1820.7711311827957,
                    1731.9256869772996,
                    1718.3405749396532,
                    1731.3905309139784,
                    1718.8577087481747,
                    1702.8303053763439,
                    1713.4665600284368,
                    1698.5094593787337,
                    1712.7062238340652,
                    1709.4286614000437,
                    1699.3890236559141,
                    1706.3801192876344,
                    1709.3758693306545,
                    1704.5479304393998,
                    1721.9354957853038,
                    1716.6384193548388,
                    1723.3393421598032,
                    1718.0338647471788,
                    1720.621812712157,
                    1722.4210222520908,
                    1724.2214620215054,
                    1721.2690697970347,
                    1723.433828635485,
                    1725.9505826201448,
                    1737.461673123394,
                    1742.1395421744323,
                    1747.3115585243866,
                    1756.6953570228495,
                    1765.1833687806711,
                    1768.5541957807793,
                    1775.204085143735,
                    1776.104428846409,
                    1776.5424036067454,
                    1778.4677863163854,
                    1788.6071260418655
                  ],
                  "yaxis": "y"
                }
              ],
              "layout": {
                "legend": {
                  "tracegroupgap": 0
                },
                "template": {
                  "data": {
                    "bar": [
                      {
                        "error_x": {
                          "color": "#2a3f5f"
                        },
                        "error_y": {
                          "color": "#2a3f5f"
                        },
                        "marker": {
                          "line": {
                            "color": "#E5ECF6",
                            "width": 0.5
                          }
                        },
                        "type": "bar"
                      }
                    ],
                    "barpolar": [
                      {
                        "marker": {
                          "line": {
                            "color": "#E5ECF6",
                            "width": 0.5
                          }
                        },
                        "type": "barpolar"
                      }
                    ],
                    "carpet": [
                      {
                        "aaxis": {
                          "endlinecolor": "#2a3f5f",
                          "gridcolor": "white",
                          "linecolor": "white",
                          "minorgridcolor": "white",
                          "startlinecolor": "#2a3f5f"
                        },
                        "baxis": {
                          "endlinecolor": "#2a3f5f",
                          "gridcolor": "white",
                          "linecolor": "white",
                          "minorgridcolor": "white",
                          "startlinecolor": "#2a3f5f"
                        },
                        "type": "carpet"
                      }
                    ],
                    "choropleth": [
                      {
                        "colorbar": {
                          "outlinewidth": 0,
                          "ticks": ""
                        },
                        "type": "choropleth"
                      }
                    ],
                    "contour": [
                      {
                        "colorbar": {
                          "outlinewidth": 0,
                          "ticks": ""
                        },
                        "colorscale": [
                          [
                            0,
                            "#0d0887"
                          ],
                          [
                            0.1111111111111111,
                            "#46039f"
                          ],
                          [
                            0.2222222222222222,
                            "#7201a8"
                          ],
                          [
                            0.3333333333333333,
                            "#9c179e"
                          ],
                          [
                            0.4444444444444444,
                            "#bd3786"
                          ],
                          [
                            0.5555555555555556,
                            "#d8576b"
                          ],
                          [
                            0.6666666666666666,
                            "#ed7953"
                          ],
                          [
                            0.7777777777777778,
                            "#fb9f3a"
                          ],
                          [
                            0.8888888888888888,
                            "#fdca26"
                          ],
                          [
                            1,
                            "#f0f921"
                          ]
                        ],
                        "type": "contour"
                      }
                    ],
                    "contourcarpet": [
                      {
                        "colorbar": {
                          "outlinewidth": 0,
                          "ticks": ""
                        },
                        "type": "contourcarpet"
                      }
                    ],
                    "heatmap": [
                      {
                        "colorbar": {
                          "outlinewidth": 0,
                          "ticks": ""
                        },
                        "colorscale": [
                          [
                            0,
                            "#0d0887"
                          ],
                          [
                            0.1111111111111111,
                            "#46039f"
                          ],
                          [
                            0.2222222222222222,
                            "#7201a8"
                          ],
                          [
                            0.3333333333333333,
                            "#9c179e"
                          ],
                          [
                            0.4444444444444444,
                            "#bd3786"
                          ],
                          [
                            0.5555555555555556,
                            "#d8576b"
                          ],
                          [
                            0.6666666666666666,
                            "#ed7953"
                          ],
                          [
                            0.7777777777777778,
                            "#fb9f3a"
                          ],
                          [
                            0.8888888888888888,
                            "#fdca26"
                          ],
                          [
                            1,
                            "#f0f921"
                          ]
                        ],
                        "type": "heatmap"
                      }
                    ],
                    "heatmapgl": [
                      {
                        "colorbar": {
                          "outlinewidth": 0,
                          "ticks": ""
                        },
                        "colorscale": [
                          [
                            0,
                            "#0d0887"
                          ],
                          [
                            0.1111111111111111,
                            "#46039f"
                          ],
                          [
                            0.2222222222222222,
                            "#7201a8"
                          ],
                          [
                            0.3333333333333333,
                            "#9c179e"
                          ],
                          [
                            0.4444444444444444,
                            "#bd3786"
                          ],
                          [
                            0.5555555555555556,
                            "#d8576b"
                          ],
                          [
                            0.6666666666666666,
                            "#ed7953"
                          ],
                          [
                            0.7777777777777778,
                            "#fb9f3a"
                          ],
                          [
                            0.8888888888888888,
                            "#fdca26"
                          ],
                          [
                            1,
                            "#f0f921"
                          ]
                        ],
                        "type": "heatmapgl"
                      }
                    ],
                    "histogram": [
                      {
                        "marker": {
                          "colorbar": {
                            "outlinewidth": 0,
                            "ticks": ""
                          }
                        },
                        "type": "histogram"
                      }
                    ],
                    "histogram2d": [
                      {
                        "colorbar": {
                          "outlinewidth": 0,
                          "ticks": ""
                        },
                        "colorscale": [
                          [
                            0,
                            "#0d0887"
                          ],
                          [
                            0.1111111111111111,
                            "#46039f"
                          ],
                          [
                            0.2222222222222222,
                            "#7201a8"
                          ],
                          [
                            0.3333333333333333,
                            "#9c179e"
                          ],
                          [
                            0.4444444444444444,
                            "#bd3786"
                          ],
                          [
                            0.5555555555555556,
                            "#d8576b"
                          ],
                          [
                            0.6666666666666666,
                            "#ed7953"
                          ],
                          [
                            0.7777777777777778,
                            "#fb9f3a"
                          ],
                          [
                            0.8888888888888888,
                            "#fdca26"
                          ],
                          [
                            1,
                            "#f0f921"
                          ]
                        ],
                        "type": "histogram2d"
                      }
                    ],
                    "histogram2dcontour": [
                      {
                        "colorbar": {
                          "outlinewidth": 0,
                          "ticks": ""
                        },
                        "colorscale": [
                          [
                            0,
                            "#0d0887"
                          ],
                          [
                            0.1111111111111111,
                            "#46039f"
                          ],
                          [
                            0.2222222222222222,
                            "#7201a8"
                          ],
                          [
                            0.3333333333333333,
                            "#9c179e"
                          ],
                          [
                            0.4444444444444444,
                            "#bd3786"
                          ],
                          [
                            0.5555555555555556,
                            "#d8576b"
                          ],
                          [
                            0.6666666666666666,
                            "#ed7953"
                          ],
                          [
                            0.7777777777777778,
                            "#fb9f3a"
                          ],
                          [
                            0.8888888888888888,
                            "#fdca26"
                          ],
                          [
                            1,
                            "#f0f921"
                          ]
                        ],
                        "type": "histogram2dcontour"
                      }
                    ],
                    "mesh3d": [
                      {
                        "colorbar": {
                          "outlinewidth": 0,
                          "ticks": ""
                        },
                        "type": "mesh3d"
                      }
                    ],
                    "parcoords": [
                      {
                        "line": {
                          "colorbar": {
                            "outlinewidth": 0,
                            "ticks": ""
                          }
                        },
                        "type": "parcoords"
                      }
                    ],
                    "pie": [
                      {
                        "automargin": true,
                        "type": "pie"
                      }
                    ],
                    "scatter": [
                      {
                        "marker": {
                          "colorbar": {
                            "outlinewidth": 0,
                            "ticks": ""
                          }
                        },
                        "type": "scatter"
                      }
                    ],
                    "scatter3d": [
                      {
                        "line": {
                          "colorbar": {
                            "outlinewidth": 0,
                            "ticks": ""
                          }
                        },
                        "marker": {
                          "colorbar": {
                            "outlinewidth": 0,
                            "ticks": ""
                          }
                        },
                        "type": "scatter3d"
                      }
                    ],
                    "scattercarpet": [
                      {
                        "marker": {
                          "colorbar": {
                            "outlinewidth": 0,
                            "ticks": ""
                          }
                        },
                        "type": "scattercarpet"
                      }
                    ],
                    "scattergeo": [
                      {
                        "marker": {
                          "colorbar": {
                            "outlinewidth": 0,
                            "ticks": ""
                          }
                        },
                        "type": "scattergeo"
                      }
                    ],
                    "scattergl": [
                      {
                        "marker": {
                          "colorbar": {
                            "outlinewidth": 0,
                            "ticks": ""
                          }
                        },
                        "type": "scattergl"
                      }
                    ],
                    "scattermapbox": [
                      {
                        "marker": {
                          "colorbar": {
                            "outlinewidth": 0,
                            "ticks": ""
                          }
                        },
                        "type": "scattermapbox"
                      }
                    ],
                    "scatterpolar": [
                      {
                        "marker": {
                          "colorbar": {
                            "outlinewidth": 0,
                            "ticks": ""
                          }
                        },
                        "type": "scatterpolar"
                      }
                    ],
                    "scatterpolargl": [
                      {
                        "marker": {
                          "colorbar": {
                            "outlinewidth": 0,
                            "ticks": ""
                          }
                        },
                        "type": "scatterpolargl"
                      }
                    ],
                    "scatterternary": [
                      {
                        "marker": {
                          "colorbar": {
                            "outlinewidth": 0,
                            "ticks": ""
                          }
                        },
                        "type": "scatterternary"
                      }
                    ],
                    "surface": [
                      {
                        "colorbar": {
                          "outlinewidth": 0,
                          "ticks": ""
                        },
                        "colorscale": [
                          [
                            0,
                            "#0d0887"
                          ],
                          [
                            0.1111111111111111,
                            "#46039f"
                          ],
                          [
                            0.2222222222222222,
                            "#7201a8"
                          ],
                          [
                            0.3333333333333333,
                            "#9c179e"
                          ],
                          [
                            0.4444444444444444,
                            "#bd3786"
                          ],
                          [
                            0.5555555555555556,
                            "#d8576b"
                          ],
                          [
                            0.6666666666666666,
                            "#ed7953"
                          ],
                          [
                            0.7777777777777778,
                            "#fb9f3a"
                          ],
                          [
                            0.8888888888888888,
                            "#fdca26"
                          ],
                          [
                            1,
                            "#f0f921"
                          ]
                        ],
                        "type": "surface"
                      }
                    ],
                    "table": [
                      {
                        "cells": {
                          "fill": {
                            "color": "#EBF0F8"
                          },
                          "line": {
                            "color": "white"
                          }
                        },
                        "header": {
                          "fill": {
                            "color": "#C8D4E3"
                          },
                          "line": {
                            "color": "white"
                          }
                        },
                        "type": "table"
                      }
                    ]
                  },
                  "layout": {
                    "annotationdefaults": {
                      "arrowcolor": "#2a3f5f",
                      "arrowhead": 0,
                      "arrowwidth": 1
                    },
                    "coloraxis": {
                      "colorbar": {
                        "outlinewidth": 0,
                        "ticks": ""
                      }
                    },
                    "colorscale": {
                      "diverging": [
                        [
                          0,
                          "#8e0152"
                        ],
                        [
                          0.1,
                          "#c51b7d"
                        ],
                        [
                          0.2,
                          "#de77ae"
                        ],
                        [
                          0.3,
                          "#f1b6da"
                        ],
                        [
                          0.4,
                          "#fde0ef"
                        ],
                        [
                          0.5,
                          "#f7f7f7"
                        ],
                        [
                          0.6,
                          "#e6f5d0"
                        ],
                        [
                          0.7,
                          "#b8e186"
                        ],
                        [
                          0.8,
                          "#7fbc41"
                        ],
                        [
                          0.9,
                          "#4d9221"
                        ],
                        [
                          1,
                          "#276419"
                        ]
                      ],
                      "sequential": [
                        [
                          0,
                          "#0d0887"
                        ],
                        [
                          0.1111111111111111,
                          "#46039f"
                        ],
                        [
                          0.2222222222222222,
                          "#7201a8"
                        ],
                        [
                          0.3333333333333333,
                          "#9c179e"
                        ],
                        [
                          0.4444444444444444,
                          "#bd3786"
                        ],
                        [
                          0.5555555555555556,
                          "#d8576b"
                        ],
                        [
                          0.6666666666666666,
                          "#ed7953"
                        ],
                        [
                          0.7777777777777778,
                          "#fb9f3a"
                        ],
                        [
                          0.8888888888888888,
                          "#fdca26"
                        ],
                        [
                          1,
                          "#f0f921"
                        ]
                      ],
                      "sequentialminus": [
                        [
                          0,
                          "#0d0887"
                        ],
                        [
                          0.1111111111111111,
                          "#46039f"
                        ],
                        [
                          0.2222222222222222,
                          "#7201a8"
                        ],
                        [
                          0.3333333333333333,
                          "#9c179e"
                        ],
                        [
                          0.4444444444444444,
                          "#bd3786"
                        ],
                        [
                          0.5555555555555556,
                          "#d8576b"
                        ],
                        [
                          0.6666666666666666,
                          "#ed7953"
                        ],
                        [
                          0.7777777777777778,
                          "#fb9f3a"
                        ],
                        [
                          0.8888888888888888,
                          "#fdca26"
                        ],
                        [
                          1,
                          "#f0f921"
                        ]
                      ]
                    },
                    "colorway": [
                      "#636efa",
                      "#EF553B",
                      "#00cc96",
                      "#ab63fa",
                      "#FFA15A",
                      "#19d3f3",
                      "#FF6692",
                      "#B6E880",
                      "#FF97FF",
                      "#FECB52"
                    ],
                    "font": {
                      "color": "#2a3f5f"
                    },
                    "geo": {
                      "bgcolor": "white",
                      "lakecolor": "white",
                      "landcolor": "#E5ECF6",
                      "showlakes": true,
                      "showland": true,
                      "subunitcolor": "white"
                    },
                    "hoverlabel": {
                      "align": "left"
                    },
                    "hovermode": "closest",
                    "mapbox": {
                      "style": "light"
                    },
                    "paper_bgcolor": "white",
                    "plot_bgcolor": "#E5ECF6",
                    "polar": {
                      "angularaxis": {
                        "gridcolor": "white",
                        "linecolor": "white",
                        "ticks": ""
                      },
                      "bgcolor": "#E5ECF6",
                      "radialaxis": {
                        "gridcolor": "white",
                        "linecolor": "white",
                        "ticks": ""
                      }
                    },
                    "scene": {
                      "xaxis": {
                        "backgroundcolor": "#E5ECF6",
                        "gridcolor": "white",
                        "gridwidth": 2,
                        "linecolor": "white",
                        "showbackground": true,
                        "ticks": "",
                        "zerolinecolor": "white"
                      },
                      "yaxis": {
                        "backgroundcolor": "#E5ECF6",
                        "gridcolor": "white",
                        "gridwidth": 2,
                        "linecolor": "white",
                        "showbackground": true,
                        "ticks": "",
                        "zerolinecolor": "white"
                      },
                      "zaxis": {
                        "backgroundcolor": "#E5ECF6",
                        "gridcolor": "white",
                        "gridwidth": 2,
                        "linecolor": "white",
                        "showbackground": true,
                        "ticks": "",
                        "zerolinecolor": "white"
                      }
                    },
                    "shapedefaults": {
                      "line": {
                        "color": "#2a3f5f"
                      }
                    },
                    "ternary": {
                      "aaxis": {
                        "gridcolor": "white",
                        "linecolor": "white",
                        "ticks": ""
                      },
                      "baxis": {
                        "gridcolor": "white",
                        "linecolor": "white",
                        "ticks": ""
                      },
                      "bgcolor": "#E5ECF6",
                      "caxis": {
                        "gridcolor": "white",
                        "linecolor": "white",
                        "ticks": ""
                      }
                    },
                    "title": {
                      "x": 0.05
                    },
                    "xaxis": {
                      "automargin": true,
                      "gridcolor": "white",
                      "linecolor": "white",
                      "ticks": "",
                      "title": {
                        "standoff": 15
                      },
                      "zerolinecolor": "white",
                      "zerolinewidth": 2
                    },
                    "yaxis": {
                      "automargin": true,
                      "gridcolor": "white",
                      "linecolor": "white",
                      "ticks": "",
                      "title": {
                        "standoff": 15
                      },
                      "zerolinecolor": "white",
                      "zerolinewidth": 2
                    }
                  }
                },
                "title": {
                  "text": "KNN validation MSE (region split)"
                },
                "xaxis": {
                  "anchor": "y",
                  "domain": [
                    0,
                    1
                  ],
                  "title": {
                    "text": "k"
                  }
                },
                "yaxis": {
                  "anchor": "x",
                  "domain": [
                    0,
                    1
                  ],
                  "title": {
                    "text": "mse"
                  }
                }
              }
            }
          },
          "metadata": {}
        }
      ]
    },
    {
      "cell_type": "markdown",
      "metadata": {
        "id": "epLEY6gHec0E"
      },
      "source": [
        "## 3.2.B. Find Best `max_depth` for DT"
      ]
    },
    {
      "cell_type": "code",
      "metadata": {
        "id": "pdvVHSd-ec0F"
      },
      "source": [
        "dt_time = time.time()\n",
        "d_values = np.arange(2, 10)\n",
        "d_mse = np.zeros_like(d_values).astype(float)\n",
        "for i, d in enumerate(d_values):\n",
        "    N_val = 0\n",
        "    for fold in range(5):\n",
        "        X_train, y_train, X_val, y_val, *_ = region_split(df, split_seed=fold)\n",
        "\n",
        "        # Standardize inputs\n",
        "        scaler = StandardScaler()\n",
        "        scaler.fit(X_train)\n",
        "        X_train_scaled = scaler.transform(X_train)\n",
        "        X_val_scaled = scaler.transform(X_val)\n",
        "\n",
        "        model = DecisionTreeRegressor(max_depth=d).fit(X_train_scaled, y_train)\n",
        "        y_val_pred = model.predict(X_val_scaled)\n",
        "        N_val += len(y)\n",
        "        d_mse[i] += np.sum((y_val - y_val_pred) ** 2)\n",
        "    d_mse[i] /= N_val"
      ],
      "execution_count": 18,
      "outputs": []
    },
    {
      "cell_type": "code",
      "metadata": {
        "tags": [],
        "id": "cAwRuLnKec0K",
        "outputId": "3a68c95b-364d-41da-c896-44949514aa86",
        "colab": {
          "base_uri": "https://localhost:8080/",
          "height": 51
        }
      },
      "source": [
        "best_depth = d_values[np.argmin(d_mse)]\n",
        "print(f\"Achieved min mse of {np.min(d_mse)} with max_depth={best_depth}.\")\n",
        "print(f\"DT training time: {time.time() - dt_time}\")"
      ],
      "execution_count": 19,
      "outputs": [
        {
          "output_type": "stream",
          "name": "stdout",
          "text": [
            "Achieved min mse of 1916.7671204984922 with max_depth=5.\nDT training time: 0.36003613471984863\n"
          ]
        }
      ]
    },
    {
      "cell_type": "code",
      "metadata": {
        "id": "dBl3mNjXec0S",
        "outputId": "b1633655-76d2-4a96-bfe4-898d79b0011d",
        "colab": {
          "base_uri": "https://localhost:8080/",
          "height": 542
        }
      },
      "source": [
        "d_mse_pd = pd.DataFrame(data=np.vstack([d_values, d_mse]).T, index=np.arange(d_values.shape[0]), columns=['max_depth', 'mse'])\n",
        "fig = px.line(d_mse_pd, x=\"max_depth\", y=\"mse\", title='DT validation MSE (region split)')\n",
        "fig.show()"
      ],
      "execution_count": 20,
      "outputs": [
        {
          "output_type": "display_data",
          "data": {
            "application/vnd.plotly.v1+json": {
              "config": {
                "plotlyServerURL": "https://plot.ly"
              },
              "data": [
                {
                  "hovertemplate": "max_depth=%{x}<br>mse=%{y}<extra></extra>",
                  "legendgroup": "",
                  "line": {
                    "color": "#636efa",
                    "dash": "solid"
                  },
                  "mode": "lines",
                  "name": "",
                  "orientation": "v",
                  "showlegend": false,
                  "type": "scatter",
                  "x": [
                    2,
                    3,
                    4,
                    5,
                    6,
                    7,
                    8,
                    9
                  ],
                  "xaxis": "x",
                  "y": [
                    1954.8754643331988,
                    1951.8222338828725,
                    1965.6032597020862,
                    1916.7671204984922,
                    2007.7852289935886,
                    2132.5965853132375,
                    2033.2427156775232,
                    2023.4141392950105
                  ],
                  "yaxis": "y"
                }
              ],
              "layout": {
                "legend": {
                  "tracegroupgap": 0
                },
                "template": {
                  "data": {
                    "bar": [
                      {
                        "error_x": {
                          "color": "#2a3f5f"
                        },
                        "error_y": {
                          "color": "#2a3f5f"
                        },
                        "marker": {
                          "line": {
                            "color": "#E5ECF6",
                            "width": 0.5
                          }
                        },
                        "type": "bar"
                      }
                    ],
                    "barpolar": [
                      {
                        "marker": {
                          "line": {
                            "color": "#E5ECF6",
                            "width": 0.5
                          }
                        },
                        "type": "barpolar"
                      }
                    ],
                    "carpet": [
                      {
                        "aaxis": {
                          "endlinecolor": "#2a3f5f",
                          "gridcolor": "white",
                          "linecolor": "white",
                          "minorgridcolor": "white",
                          "startlinecolor": "#2a3f5f"
                        },
                        "baxis": {
                          "endlinecolor": "#2a3f5f",
                          "gridcolor": "white",
                          "linecolor": "white",
                          "minorgridcolor": "white",
                          "startlinecolor": "#2a3f5f"
                        },
                        "type": "carpet"
                      }
                    ],
                    "choropleth": [
                      {
                        "colorbar": {
                          "outlinewidth": 0,
                          "ticks": ""
                        },
                        "type": "choropleth"
                      }
                    ],
                    "contour": [
                      {
                        "colorbar": {
                          "outlinewidth": 0,
                          "ticks": ""
                        },
                        "colorscale": [
                          [
                            0,
                            "#0d0887"
                          ],
                          [
                            0.1111111111111111,
                            "#46039f"
                          ],
                          [
                            0.2222222222222222,
                            "#7201a8"
                          ],
                          [
                            0.3333333333333333,
                            "#9c179e"
                          ],
                          [
                            0.4444444444444444,
                            "#bd3786"
                          ],
                          [
                            0.5555555555555556,
                            "#d8576b"
                          ],
                          [
                            0.6666666666666666,
                            "#ed7953"
                          ],
                          [
                            0.7777777777777778,
                            "#fb9f3a"
                          ],
                          [
                            0.8888888888888888,
                            "#fdca26"
                          ],
                          [
                            1,
                            "#f0f921"
                          ]
                        ],
                        "type": "contour"
                      }
                    ],
                    "contourcarpet": [
                      {
                        "colorbar": {
                          "outlinewidth": 0,
                          "ticks": ""
                        },
                        "type": "contourcarpet"
                      }
                    ],
                    "heatmap": [
                      {
                        "colorbar": {
                          "outlinewidth": 0,
                          "ticks": ""
                        },
                        "colorscale": [
                          [
                            0,
                            "#0d0887"
                          ],
                          [
                            0.1111111111111111,
                            "#46039f"
                          ],
                          [
                            0.2222222222222222,
                            "#7201a8"
                          ],
                          [
                            0.3333333333333333,
                            "#9c179e"
                          ],
                          [
                            0.4444444444444444,
                            "#bd3786"
                          ],
                          [
                            0.5555555555555556,
                            "#d8576b"
                          ],
                          [
                            0.6666666666666666,
                            "#ed7953"
                          ],
                          [
                            0.7777777777777778,
                            "#fb9f3a"
                          ],
                          [
                            0.8888888888888888,
                            "#fdca26"
                          ],
                          [
                            1,
                            "#f0f921"
                          ]
                        ],
                        "type": "heatmap"
                      }
                    ],
                    "heatmapgl": [
                      {
                        "colorbar": {
                          "outlinewidth": 0,
                          "ticks": ""
                        },
                        "colorscale": [
                          [
                            0,
                            "#0d0887"
                          ],
                          [
                            0.1111111111111111,
                            "#46039f"
                          ],
                          [
                            0.2222222222222222,
                            "#7201a8"
                          ],
                          [
                            0.3333333333333333,
                            "#9c179e"
                          ],
                          [
                            0.4444444444444444,
                            "#bd3786"
                          ],
                          [
                            0.5555555555555556,
                            "#d8576b"
                          ],
                          [
                            0.6666666666666666,
                            "#ed7953"
                          ],
                          [
                            0.7777777777777778,
                            "#fb9f3a"
                          ],
                          [
                            0.8888888888888888,
                            "#fdca26"
                          ],
                          [
                            1,
                            "#f0f921"
                          ]
                        ],
                        "type": "heatmapgl"
                      }
                    ],
                    "histogram": [
                      {
                        "marker": {
                          "colorbar": {
                            "outlinewidth": 0,
                            "ticks": ""
                          }
                        },
                        "type": "histogram"
                      }
                    ],
                    "histogram2d": [
                      {
                        "colorbar": {
                          "outlinewidth": 0,
                          "ticks": ""
                        },
                        "colorscale": [
                          [
                            0,
                            "#0d0887"
                          ],
                          [
                            0.1111111111111111,
                            "#46039f"
                          ],
                          [
                            0.2222222222222222,
                            "#7201a8"
                          ],
                          [
                            0.3333333333333333,
                            "#9c179e"
                          ],
                          [
                            0.4444444444444444,
                            "#bd3786"
                          ],
                          [
                            0.5555555555555556,
                            "#d8576b"
                          ],
                          [
                            0.6666666666666666,
                            "#ed7953"
                          ],
                          [
                            0.7777777777777778,
                            "#fb9f3a"
                          ],
                          [
                            0.8888888888888888,
                            "#fdca26"
                          ],
                          [
                            1,
                            "#f0f921"
                          ]
                        ],
                        "type": "histogram2d"
                      }
                    ],
                    "histogram2dcontour": [
                      {
                        "colorbar": {
                          "outlinewidth": 0,
                          "ticks": ""
                        },
                        "colorscale": [
                          [
                            0,
                            "#0d0887"
                          ],
                          [
                            0.1111111111111111,
                            "#46039f"
                          ],
                          [
                            0.2222222222222222,
                            "#7201a8"
                          ],
                          [
                            0.3333333333333333,
                            "#9c179e"
                          ],
                          [
                            0.4444444444444444,
                            "#bd3786"
                          ],
                          [
                            0.5555555555555556,
                            "#d8576b"
                          ],
                          [
                            0.6666666666666666,
                            "#ed7953"
                          ],
                          [
                            0.7777777777777778,
                            "#fb9f3a"
                          ],
                          [
                            0.8888888888888888,
                            "#fdca26"
                          ],
                          [
                            1,
                            "#f0f921"
                          ]
                        ],
                        "type": "histogram2dcontour"
                      }
                    ],
                    "mesh3d": [
                      {
                        "colorbar": {
                          "outlinewidth": 0,
                          "ticks": ""
                        },
                        "type": "mesh3d"
                      }
                    ],
                    "parcoords": [
                      {
                        "line": {
                          "colorbar": {
                            "outlinewidth": 0,
                            "ticks": ""
                          }
                        },
                        "type": "parcoords"
                      }
                    ],
                    "pie": [
                      {
                        "automargin": true,
                        "type": "pie"
                      }
                    ],
                    "scatter": [
                      {
                        "marker": {
                          "colorbar": {
                            "outlinewidth": 0,
                            "ticks": ""
                          }
                        },
                        "type": "scatter"
                      }
                    ],
                    "scatter3d": [
                      {
                        "line": {
                          "colorbar": {
                            "outlinewidth": 0,
                            "ticks": ""
                          }
                        },
                        "marker": {
                          "colorbar": {
                            "outlinewidth": 0,
                            "ticks": ""
                          }
                        },
                        "type": "scatter3d"
                      }
                    ],
                    "scattercarpet": [
                      {
                        "marker": {
                          "colorbar": {
                            "outlinewidth": 0,
                            "ticks": ""
                          }
                        },
                        "type": "scattercarpet"
                      }
                    ],
                    "scattergeo": [
                      {
                        "marker": {
                          "colorbar": {
                            "outlinewidth": 0,
                            "ticks": ""
                          }
                        },
                        "type": "scattergeo"
                      }
                    ],
                    "scattergl": [
                      {
                        "marker": {
                          "colorbar": {
                            "outlinewidth": 0,
                            "ticks": ""
                          }
                        },
                        "type": "scattergl"
                      }
                    ],
                    "scattermapbox": [
                      {
                        "marker": {
                          "colorbar": {
                            "outlinewidth": 0,
                            "ticks": ""
                          }
                        },
                        "type": "scattermapbox"
                      }
                    ],
                    "scatterpolar": [
                      {
                        "marker": {
                          "colorbar": {
                            "outlinewidth": 0,
                            "ticks": ""
                          }
                        },
                        "type": "scatterpolar"
                      }
                    ],
                    "scatterpolargl": [
                      {
                        "marker": {
                          "colorbar": {
                            "outlinewidth": 0,
                            "ticks": ""
                          }
                        },
                        "type": "scatterpolargl"
                      }
                    ],
                    "scatterternary": [
                      {
                        "marker": {
                          "colorbar": {
                            "outlinewidth": 0,
                            "ticks": ""
                          }
                        },
                        "type": "scatterternary"
                      }
                    ],
                    "surface": [
                      {
                        "colorbar": {
                          "outlinewidth": 0,
                          "ticks": ""
                        },
                        "colorscale": [
                          [
                            0,
                            "#0d0887"
                          ],
                          [
                            0.1111111111111111,
                            "#46039f"
                          ],
                          [
                            0.2222222222222222,
                            "#7201a8"
                          ],
                          [
                            0.3333333333333333,
                            "#9c179e"
                          ],
                          [
                            0.4444444444444444,
                            "#bd3786"
                          ],
                          [
                            0.5555555555555556,
                            "#d8576b"
                          ],
                          [
                            0.6666666666666666,
                            "#ed7953"
                          ],
                          [
                            0.7777777777777778,
                            "#fb9f3a"
                          ],
                          [
                            0.8888888888888888,
                            "#fdca26"
                          ],
                          [
                            1,
                            "#f0f921"
                          ]
                        ],
                        "type": "surface"
                      }
                    ],
                    "table": [
                      {
                        "cells": {
                          "fill": {
                            "color": "#EBF0F8"
                          },
                          "line": {
                            "color": "white"
                          }
                        },
                        "header": {
                          "fill": {
                            "color": "#C8D4E3"
                          },
                          "line": {
                            "color": "white"
                          }
                        },
                        "type": "table"
                      }
                    ]
                  },
                  "layout": {
                    "annotationdefaults": {
                      "arrowcolor": "#2a3f5f",
                      "arrowhead": 0,
                      "arrowwidth": 1
                    },
                    "coloraxis": {
                      "colorbar": {
                        "outlinewidth": 0,
                        "ticks": ""
                      }
                    },
                    "colorscale": {
                      "diverging": [
                        [
                          0,
                          "#8e0152"
                        ],
                        [
                          0.1,
                          "#c51b7d"
                        ],
                        [
                          0.2,
                          "#de77ae"
                        ],
                        [
                          0.3,
                          "#f1b6da"
                        ],
                        [
                          0.4,
                          "#fde0ef"
                        ],
                        [
                          0.5,
                          "#f7f7f7"
                        ],
                        [
                          0.6,
                          "#e6f5d0"
                        ],
                        [
                          0.7,
                          "#b8e186"
                        ],
                        [
                          0.8,
                          "#7fbc41"
                        ],
                        [
                          0.9,
                          "#4d9221"
                        ],
                        [
                          1,
                          "#276419"
                        ]
                      ],
                      "sequential": [
                        [
                          0,
                          "#0d0887"
                        ],
                        [
                          0.1111111111111111,
                          "#46039f"
                        ],
                        [
                          0.2222222222222222,
                          "#7201a8"
                        ],
                        [
                          0.3333333333333333,
                          "#9c179e"
                        ],
                        [
                          0.4444444444444444,
                          "#bd3786"
                        ],
                        [
                          0.5555555555555556,
                          "#d8576b"
                        ],
                        [
                          0.6666666666666666,
                          "#ed7953"
                        ],
                        [
                          0.7777777777777778,
                          "#fb9f3a"
                        ],
                        [
                          0.8888888888888888,
                          "#fdca26"
                        ],
                        [
                          1,
                          "#f0f921"
                        ]
                      ],
                      "sequentialminus": [
                        [
                          0,
                          "#0d0887"
                        ],
                        [
                          0.1111111111111111,
                          "#46039f"
                        ],
                        [
                          0.2222222222222222,
                          "#7201a8"
                        ],
                        [
                          0.3333333333333333,
                          "#9c179e"
                        ],
                        [
                          0.4444444444444444,
                          "#bd3786"
                        ],
                        [
                          0.5555555555555556,
                          "#d8576b"
                        ],
                        [
                          0.6666666666666666,
                          "#ed7953"
                        ],
                        [
                          0.7777777777777778,
                          "#fb9f3a"
                        ],
                        [
                          0.8888888888888888,
                          "#fdca26"
                        ],
                        [
                          1,
                          "#f0f921"
                        ]
                      ]
                    },
                    "colorway": [
                      "#636efa",
                      "#EF553B",
                      "#00cc96",
                      "#ab63fa",
                      "#FFA15A",
                      "#19d3f3",
                      "#FF6692",
                      "#B6E880",
                      "#FF97FF",
                      "#FECB52"
                    ],
                    "font": {
                      "color": "#2a3f5f"
                    },
                    "geo": {
                      "bgcolor": "white",
                      "lakecolor": "white",
                      "landcolor": "#E5ECF6",
                      "showlakes": true,
                      "showland": true,
                      "subunitcolor": "white"
                    },
                    "hoverlabel": {
                      "align": "left"
                    },
                    "hovermode": "closest",
                    "mapbox": {
                      "style": "light"
                    },
                    "paper_bgcolor": "white",
                    "plot_bgcolor": "#E5ECF6",
                    "polar": {
                      "angularaxis": {
                        "gridcolor": "white",
                        "linecolor": "white",
                        "ticks": ""
                      },
                      "bgcolor": "#E5ECF6",
                      "radialaxis": {
                        "gridcolor": "white",
                        "linecolor": "white",
                        "ticks": ""
                      }
                    },
                    "scene": {
                      "xaxis": {
                        "backgroundcolor": "#E5ECF6",
                        "gridcolor": "white",
                        "gridwidth": 2,
                        "linecolor": "white",
                        "showbackground": true,
                        "ticks": "",
                        "zerolinecolor": "white"
                      },
                      "yaxis": {
                        "backgroundcolor": "#E5ECF6",
                        "gridcolor": "white",
                        "gridwidth": 2,
                        "linecolor": "white",
                        "showbackground": true,
                        "ticks": "",
                        "zerolinecolor": "white"
                      },
                      "zaxis": {
                        "backgroundcolor": "#E5ECF6",
                        "gridcolor": "white",
                        "gridwidth": 2,
                        "linecolor": "white",
                        "showbackground": true,
                        "ticks": "",
                        "zerolinecolor": "white"
                      }
                    },
                    "shapedefaults": {
                      "line": {
                        "color": "#2a3f5f"
                      }
                    },
                    "ternary": {
                      "aaxis": {
                        "gridcolor": "white",
                        "linecolor": "white",
                        "ticks": ""
                      },
                      "baxis": {
                        "gridcolor": "white",
                        "linecolor": "white",
                        "ticks": ""
                      },
                      "bgcolor": "#E5ECF6",
                      "caxis": {
                        "gridcolor": "white",
                        "linecolor": "white",
                        "ticks": ""
                      }
                    },
                    "title": {
                      "x": 0.05
                    },
                    "xaxis": {
                      "automargin": true,
                      "gridcolor": "white",
                      "linecolor": "white",
                      "ticks": "",
                      "title": {
                        "standoff": 15
                      },
                      "zerolinecolor": "white",
                      "zerolinewidth": 2
                    },
                    "yaxis": {
                      "automargin": true,
                      "gridcolor": "white",
                      "linecolor": "white",
                      "ticks": "",
                      "title": {
                        "standoff": 15
                      },
                      "zerolinecolor": "white",
                      "zerolinewidth": 2
                    }
                  }
                },
                "title": {
                  "text": "DT validation MSE (region split)"
                },
                "xaxis": {
                  "anchor": "y",
                  "domain": [
                    0,
                    1
                  ],
                  "title": {
                    "text": "max_depth"
                  }
                },
                "yaxis": {
                  "anchor": "x",
                  "domain": [
                    0,
                    1
                  ],
                  "title": {
                    "text": "mse"
                  }
                }
              }
            }
          },
          "metadata": {}
        }
      ]
    },
    {
      "cell_type": "markdown",
      "metadata": {
        "id": "8GO3dsljec0X"
      },
      "source": [
        "## 3.2.C. Region split training"
      ]
    },
    {
      "cell_type": "code",
      "metadata": {
        "tags": [],
        "id": "lbR7QV0wec0Y",
        "outputId": "e5175ea7-da15-4653-b0b7-1d033deb8b07",
        "colab": {
          "base_uri": "https://localhost:8080/",
          "height": 68
        }
      },
      "source": [
        "N_val = 0\n",
        "DT_mse = 0\n",
        "KNN_mse = 0\n",
        "for fold in range(5):\n",
        "    X_train, y_train, X_val, y_val, *_ = region_split(df, split_seed=fold + 10)\n",
        "\n",
        "    # Standardize inputs\n",
        "    scaler = StandardScaler()\n",
        "    scaler.fit(X_train)\n",
        "    X_train_scaled = scaler.transform(X_train)\n",
        "    X_val_scaled = scaler.transform(X_val)\n",
        "\n",
        "    # DT\n",
        "    DT_model = DecisionTreeRegressor(max_depth=best_depth).fit(X_train_scaled, y_train)\n",
        "    y_val_pred = DT_model.predict(X_val_scaled)\n",
        "    N_val += len(y)\n",
        "    DT_mse += np.sum((y_val - y_val_pred) ** 2)\n",
        "\n",
        "    # KNN\n",
        "    KNN_model = KNeighborsRegressor(n_neighbors=best_k).fit(X_train_scaled, y_train)\n",
        "    y_val_pred = KNN_model.predict(X_val_scaled)\n",
        "    N_val += len(y)\n",
        "    KNN_mse += np.sum((y_val - y_val_pred) ** 2)\n",
        "\n",
        "DT_mse /= N_val\n",
        "KNN_mse /= N_val\n",
        "print(\"Region split\")\n",
        "print(f\"Decision Tree validation MSE: {DT_mse}\")\n",
        "print(f\"KNN validation MSE: {KNN_mse}\")"
      ],
      "execution_count": 21,
      "outputs": [
        {
          "output_type": "stream",
          "name": "stdout",
          "text": [
            "Region split\nDecision Tree validation MSE: 736.9606494224337\nKNN validation MSE: 639.5121296296295\n"
          ]
        }
      ]
    },
    {
      "cell_type": "markdown",
      "metadata": {
        "id": "QK1Qx1r6ec0d"
      },
      "source": [
        "## 3.2.D. Date split training"
      ]
    },
    {
      "cell_type": "code",
      "metadata": {
        "tags": [],
        "id": "qsPlkuNYec0d",
        "outputId": "06d42873-8739-4cc0-b05c-6ff92220b763",
        "colab": {
          "base_uri": "https://localhost:8080/",
          "height": 68
        }
      },
      "source": [
        "N_val = 0\n",
        "DT_mse = 0\n",
        "KNN_mse = 0\n",
        "for fold in range(5):\n",
        "    X_train, y_train, X_val, y_val, *_ = date_split(df, split_date=\"2020-08-10\")\n",
        "\n",
        "    # Standardize inputs\n",
        "    scaler = StandardScaler()\n",
        "    scaler.fit(X_train)\n",
        "    X_train_scaled = scaler.transform(X_train)\n",
        "    X_val_scaled = scaler.transform(X_val)\n",
        "\n",
        "    # DT\n",
        "    DT_model = DecisionTreeRegressor(max_depth=best_depth).fit(X_train_scaled, y_train)\n",
        "    y_val_pred = DT_model.predict(X_val_scaled)\n",
        "    N_val += len(y)\n",
        "    DT_mse += np.sum((y_val - y_val_pred) ** 2)\n",
        "\n",
        "    # KNN\n",
        "    KNN_model = KNeighborsRegressor(n_neighbors=best_k).fit(X_train_scaled, y_train)\n",
        "    y_val_pred = KNN_model.predict(X_val_scaled)\n",
        "    N_val += len(y)\n",
        "    KNN_mse += np.sum((y_val - y_val_pred) ** 2)\n",
        "\n",
        "DT_mse /= N_val\n",
        "KNN_mse /= N_val\n",
        "print(\"Date split\")\n",
        "print(f\"Decision Tree validation MSE: {DT_mse}\")\n",
        "print(f\"KNN validation MSE: {KNN_mse}\")"
      ],
      "execution_count": 22,
      "outputs": [
        {
          "output_type": "stream",
          "name": "stdout",
          "text": [
            "Date split\nDecision Tree validation MSE: 286.16754194014663\nKNN validation MSE: 140.29374253285542\n"
          ]
        }
      ]
    },
    {
      "cell_type": "markdown",
      "metadata": {
        "id": "Mx0HVFr6ec0i"
      },
      "source": [
        "## 3.3"
      ]
    },
    {
      "cell_type": "markdown",
      "metadata": {
        "id": "WcK2uIimec0i"
      },
      "source": [
        "### 3.3.1 Train a model for each cluster"
      ]
    },
    {
      "cell_type": "code",
      "metadata": {
        "tags": [],
        "id": "e9Vs9ivMec0j"
      },
      "source": [
        "N_train = 0\n",
        "N_val = 0\n",
        "DT_mse_train = 0\n",
        "DT_mse_val = 0\n",
        "for fold in range(5):\n",
        "    X_train, y_train, X_val, y_val, *_ = date_split(df, split_date=\"2020-08-10\")\n",
        "\n",
        "    # Standardize inputs\n",
        "    scaler = StandardScaler()\n",
        "    scaler.fit(X_train)\n",
        "    X_train_scaled = scaler.transform(X_train)\n",
        "    X_val_scaled = scaler.transform(X_val)\n",
        "\n",
        "    train_clusters = kmeans.predict(X_train_scaled)\n",
        "    val_clusters = kmeans.predict(X_val_scaled)\n",
        "    for i in range(kmeans.n_clusters):\n",
        "        X_train_i = X_train_scaled[train_clusters == i]\n",
        "        y_train_i = y_train[train_clusters == i]\n",
        "        X_val_i = X_val_scaled[val_clusters == i]\n",
        "        y_val_i = y_val[val_clusters == i]\n",
        "        N_train += len(y_train_i)\n",
        "        N_val += len(y_val_i)\n",
        "        DT_model = DecisionTreeRegressor(max_depth=best_depth).fit(X_train_i, y_train_i)\n",
        "        DT_mse_train += np.sum((y_train_i - DT_model.predict(X_train_i)) ** 2)\n",
        "        if len(X_val_i) != 0:\n",
        "            DT_mse_val += np.sum((y_val_i - DT_model.predict(X_val_i)) ** 2)\n",
        "\n",
        "DT_mse_train /= N_train\n",
        "DT_mse_val /= N_val"
      ],
      "execution_count": 23,
      "outputs": []
    },
    {
      "cell_type": "code",
      "metadata": {
        "tags": [],
        "id": "BQgLpvczec0n",
        "outputId": "1ce5353d-45e0-40e7-9f59-b4d670e61477",
        "colab": {
          "base_uri": "https://localhost:8080/",
          "height": 51
        }
      },
      "source": [
        "print(\"15 models (1 for each kmeans cluster) results:\")\n",
        "print(f\"DT mse: train {DT_mse_train}, val {DT_mse_val}\")"
      ],
      "execution_count": 24,
      "outputs": [
        {
          "output_type": "stream",
          "name": "stdout",
          "text": [
            "15 models (1 for each kmeans cluster) results:\nDT mse: train 356.4233922972982, val 1894.2287743706704\n"
          ]
        }
      ]
    },
    {
      "cell_type": "markdown",
      "metadata": {
        "id": "OZr0mg3Yec0r"
      },
      "source": [
        "### 3.3.2 Train a model for each region"
      ]
    },
    {
      "cell_type": "code",
      "metadata": {
        "tags": [],
        "id": "SItOU4k2ec0s"
      },
      "source": [
        "N_train = 0\n",
        "N_val = 0\n",
        "DT_mse_train = 0\n",
        "DT_mse_val = 0\n",
        "for fold in range(5):\n",
        "    X_train, y_train, X_val, y_val, regions_train, regions_val = date_split(df, split_date=\"2020-08-10\", return_regions=True)\n",
        "\n",
        "    # Standardize inputs\n",
        "    scaler = StandardScaler()\n",
        "    scaler.fit(X_train)\n",
        "    X_train_scaled = scaler.transform(X_train)\n",
        "    X_val_scaled = scaler.transform(X_val)\n",
        "\n",
        "    for region in set(regions_train):\n",
        "        X_train_i = X_train_scaled[regions_train == region]\n",
        "        y_train_i = y_train[regions_train == region]\n",
        "        X_val_i = X_val_scaled[regions_val == region]\n",
        "        y_val_i = y_val[regions_val == region]\n",
        "        N_train += len(y_train_i)\n",
        "        N_val += len(y_val_i)\n",
        "        DT_model = DecisionTreeRegressor(max_depth=best_depth).fit(X_train_i, y_train_i)\n",
        "        DT_mse_train += np.sum((y_train_i - DT_model.predict(X_train_i)) ** 2)\n",
        "        if len(X_val_i) != 0:\n",
        "            DT_mse_val += np.sum((y_val_i - DT_model.predict(X_val_i)) ** 2)\n",
        "\n",
        "DT_mse_train /= N_train\n",
        "DT_mse_val /= N_val"
      ],
      "execution_count": 25,
      "outputs": []
    },
    {
      "cell_type": "code",
      "metadata": {
        "tags": [],
        "id": "UUp8Ofr7ec0u",
        "outputId": "8cdeb512-1106-4920-e051-f676eb575534",
        "colab": {
          "base_uri": "https://localhost:8080/",
          "height": 51
        }
      },
      "source": [
        "print(\"15 models (1 for each region) results:\")\n",
        "print(f\"DT mse: train {DT_mse_train}, val {DT_mse_val}\")"
      ],
      "execution_count": 26,
      "outputs": [
        {
          "output_type": "stream",
          "name": "stdout",
          "text": [
            "15 models (1 for each region) results:\nDT mse: train 97.56623757904244, val 1949.5263523065473\n"
          ]
        }
      ]
    },
    {
      "cell_type": "markdown",
      "metadata": {
        "id": "gRVTKcAjec0x"
      },
      "source": [
        "## BONUS\n",
        "\n",
        "Compare classifications on 5 features, where the 5 features are created/extracted using the following 3 different schemes:\n",
        "\n",
        "1. Use the top 5 principal component features\n",
        "2. Use the top 5 features with the highest (absolute) correlation with hospitalization\n",
        "3. Use the features corresponding to the 5 largest (absolute) weights of a linear regression model trained on the data"
      ]
    },
    {
      "cell_type": "code",
      "metadata": {
        "id": "gLKFJWHSs64v",
        "outputId": "1ffe78ce-2752-4857-adc2-1af6c2661627",
        "colab": {
          "base_uri": "https://localhost:8080/",
          "height": 136
        }
      },
      "source": [
        "# do PCA and use top 5 features\n",
        "# correlation between hospitalization and each region and keep top 5 features\n",
        "# linear regression and only keep top 5 features\n",
        "pca = PCA(n_components=5)\n",
        "pca.fit(X_scaled)\n",
        "X_pca = pca.transform(X_scaled)\n",
        "\n",
        "corr = df.corr().drop('hospitalized_new')\n",
        "symptopms = corr.nlargest(5, 'hospitalized_new').index\n",
        "print(symptopms)\n",
        "\n",
        "y =  df['hospitalized_new'].to_numpy()\n",
        "reg = LinearRegression()\n",
        "reg.fit(X, y)\n",
        "inds = np.argsort(reg.coef_)\n",
        "print(symcols[inds[:5]])\n",
        "#print(inds)\n",
        "#print(searchdf.iloc[inds])\n",
        "searchdf = df.select_dtypes(exclude=object).drop(\"hospitalized_new\", 1)"
      ],
      "execution_count": 27,
      "outputs": [
        {
          "output_type": "stream",
          "name": "stdout",
          "text": [
            "Index(['symptom:Aphonia', 'symptom:Rectal pain', 'symptom:Angular cheilitis',\n       'symptom:Ventricular fibrillation', 'symptom:Crackles'],\n      dtype='object')\nIndex(['symptom:Laryngitis', 'symptom:Dysautonomia',\n       'symptom:Ventricular fibrillation', 'symptom:Hemolysis',\n       'symptom:Shallow breathing'],\n      dtype='object')\n"
          ]
        }
      ]
    }
  ]
}