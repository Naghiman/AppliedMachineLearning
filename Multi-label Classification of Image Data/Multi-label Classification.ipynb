{
 "cells": [
  {
   "cell_type": "code",
   "execution_count": 19,
   "metadata": {
    "pycharm": {
     "name": "#%%\\ Import libraries and dataset\n"
    }
   },
   "outputs": [
    {
     "name": "stdout",
     "output_type": "stream",
     "text": [
      "Keys: <KeysViewHDF5 ['test_dataset', 'train_dataset', 'train_labels']>\n"
     ]
    }
   ],
   "source": [
    "import h5py as h5py\n",
    "import torch\n",
    "from torch.nn.parameter import Parameter\n",
    "import torch.nn as nn\n",
    "import torch.nn.functional as F\n",
    "\n",
    "filename = 'MNIST_synthetic.h5'\n",
    "f = h5py.File(filename, 'r')\n",
    "\n",
    "train_dataset = f['train_dataset'][...]\n",
    "train_labels = f['train_labels'][...]\n",
    "test_dataset = f['test_dataset'][...]\n",
    "f.close()\n"
   ]
  },
  {
   "cell_type": "code",
   "execution_count": null,
   "metadata": {
    "pycharm": {
     "name": "#%%\n"
    }
   },
   "outputs": [],
   "source": [
    "# NOT DONE\n",
    "\n",
    "# Each layer in NN has 2 primary components : transformation and collection of weights\n",
    "# transformation represented as code\n",
    "# collection of weights represented as data\n",
    "# pytorch layers are defined by classes\n",
    "# Every pytorch nn.Module has a forward method that needs to be implemented\n",
    "# When we're building layers, we need to implement forward. Forward is the transformation\n",
    "# pytorch neural network\n",
    "\n",
    "# CNN requires linear and convolution layers\n",
    "class Network(nn.Module):\n",
    "    def __init__(self):\n",
    "        super(Network, self).__init__()\n",
    "        # in_channels 3 because our data is RGB\n",
    "        # if we decide to pre process our data to grayscale then it would be 1\n",
    "\n",
    "        # kernel_size being 3 means that we're doing 3x3 square convolution\n",
    "        self.conv1 = nn.Conv2d(in_channels=3, out_channels=6, kernel_size=3) # image dimension is 3xNxN\n",
    "\n",
    "        # second convolutional layer, i.e. the output of the first layer will be the input of this layer\n",
    "        self.conv2 = nn.Conv2d(in_channels=6, out_channels=16, kernel_size=3)\n",
    "\n",
    "        # now that we've done some convolution, we want to flatten the output\n",
    "        # and use it as input for linear layers\n",
    "\n",
    "        # after we run our image through the first 2 convolutional layers\n",
    "        # we get another 3D object that's 16 * x * x\n",
    "\n",
    "        x = 1\n",
    "        self.fc1 = nn.Linear(in_features=16 * x * x , out_features=120)\n",
    "        self.fc2 = nn.Linear(in_features=120, out_features=84)\n",
    "\n",
    "        # output layer\n",
    "        self.fc3 = nn.Linear(in_features=84, out_features=11) # 11 because we have 11 labels\n",
    "\n",
    "    # Takes in tensor t and transform it using layer, new tensor is then returned\n",
    "    def forward(self, x):\n",
    "        # Picking our activation function for our cnn :\n",
    "        # We decided to use ReLu instead of a sigmoid function.\n",
    "        # Training a neural network is computationally expensive, ReLu is less expensive to compute\n",
    "        # because it does not need to compute exponential operations like Sigmoid.\n",
    "        # From stackoverflow:\n",
    "        # The biggest advantage of ReLu is indeed non-saturation of its gradient,\n",
    "        # which greatly accelerates the convergence of stochastic gradient descent compared to the sigmoid / tanh functions\n",
    "        # http://www.cs.toronto.edu/~fritz/absps/imagenet.pdf\n",
    "\n",
    "        # max pooling over a (2,2) window (window of 4 elements)\n",
    "        x = F.max_pool2d(F.relu(self.conv1(x)), 2)\n",
    "        x = F.max_pool2d(F.relu(self.conv2(x)), 2)\n",
    "\n",
    "        # before we can pass it into the fully connected layer, i.e. fc1,f2,fc3\n",
    "        # we need to flatten it down to a single tensor\n",
    "        x = x.view(-1, self.num_flat_features(x))\n",
    "\n",
    "        # We run it through our linear layers now\n",
    "        x = F.relu(self.fc1(x))\n",
    "        x = F.relu(self.fc2(x))\n",
    "        x = self.fc3(x)\n",
    "\n",
    "        return x\n",
    "\n",
    "    def num_flat_features(self, x):\n",
    "        \"\"\"\n",
    "        Helper function\n",
    "        :param x:\n",
    "        :return: the number of flat features that we have\n",
    "        \"\"\"\n",
    "        size = x.size()[1:] # all dimensions except the batch dimension\n",
    "        num_features = 1\n",
    "        for s in size:\n",
    "            num_features *= s\n",
    "        return num_features\n"
   ]
  },
  {
   "cell_type": "code",
   "execution_count": null,
   "metadata": {
    "pycharm": {
     "name": "#%%\n"
    }
   },
   "outputs": [],
   "source": [
    "network = Network()\n",
    "print(network)"
   ]
  },
  {
   "cell_type": "code",
   "execution_count": null,
   "metadata": {
    "pycharm": {
     "name": "#%%\n"
    }
   },
   "outputs": [],
   "source": [
    "# For building CNN layers, we have the following hyperparameters :\n",
    "# Kernel size : Sets the size of the filter inside the layer. Kernel = Filter\n",
    "# Out channels : Sets the number of filters. One filter produces one output channel.\n",
    "# Out features : Sets the size of the output tensor\n",
    "# Inside a convolutional layer, the input channels are paired with a convolutional filter\n",
    "# to perform the convolutional operation. The filter convolves the input channel and\n",
    "# the result of this operation is an output channel."
   ]
  },
  {
   "cell_type": "code",
   "execution_count": null,
   "metadata": {},
   "outputs": [],
   "source": []
  }
 ],
 "metadata": {
  "kernelspec": {
   "display_name": "Python 3",
   "language": "python",
   "name": "python3"
  },
  "language_info": {
   "codemirror_mode": {
    "name": "ipython",
    "version": 3
   },
   "file_extension": ".py",
   "mimetype": "text/x-python",
   "name": "python",
   "nbconvert_exporter": "python",
   "pygments_lexer": "ipython3",
   "version": "3.8.5"
  }
 },
 "nbformat": 4,
 "nbformat_minor": 4
}