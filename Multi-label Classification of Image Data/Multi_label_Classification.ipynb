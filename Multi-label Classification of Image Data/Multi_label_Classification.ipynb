{
  "nbformat": 4,
  "nbformat_minor": 0,
  "metadata": {
    "kernelspec": {
      "name": "python3",
      "display_name": "Python 3.7.9 64-bit ('gslam': conda)",
      "metadata": {
        "interpreter": {
          "hash": "5a8b39fc58e129ad5f6236c870fcff6a8b090d25630df0dc548c9f475ad5aebe"
        }
      }
    },
    "language_info": {
      "codemirror_mode": {
        "name": "ipython",
        "version": 3
      },
      "file_extension": ".py",
      "mimetype": "text/x-python",
      "name": "python",
      "nbconvert_exporter": "python",
      "pygments_lexer": "ipython3",
      "version": "3.7.9-final"
    },
    "colab": {
      "name": "Multi_label_Classification.ipynb",
      "provenance": [],
      "collapsed_sections": [],
      "toc_visible": true
    },
    "accelerator": "GPU"
  },
  "cells": [
    {
      "cell_type": "markdown",
      "metadata": {
        "pycharm": {
          "name": "#%% md\n"
        },
        "id": "-CvB4mbKEWdl"
      },
      "source": [
        "# Import Libraries\n"
      ]
    },
    {
      "cell_type": "code",
      "metadata": {
        "pycharm": {
          "name": "#%%\\ Import libraries and dataset\n"
        },
        "id": "bucawo7xEWdl"
      },
      "source": [
        "import h5py as h5py\n",
        "import torch\n",
        "import numpy as np\n",
        "from torch.nn.parameter import Parameter\n",
        "from torch.utils.data import TensorDataset, DataLoader\n",
        "from torch.utils.data.sampler import SubsetRandomSampler\n",
        "import torch.nn as nn\n",
        "import torch.nn.functional as F\n",
        "import torch.optim as optim\n",
        "import torchvision\n",
        "import torchvision.transforms as transforms\n",
        "import matplotlib.pyplot as plt\n",
        "import os\n",
        "import csv\n",
        "import pandas as pd\n",
        "from google.colab import files\n",
        "\n",
        "%matplotlib inline"
      ],
      "execution_count": 3,
      "outputs": []
    },
    {
      "cell_type": "markdown",
      "metadata": {
        "id": "UYkNFleLEWdl"
      },
      "source": [
        "# Dataset"
      ]
    },
    {
      "cell_type": "markdown",
      "metadata": {
        "id": "NkLb-NP_EWdl"
      },
      "source": [
        "## Load Dataset"
      ]
    },
    {
      "cell_type": "code",
      "metadata": {
        "id": "7fiZhAxeEWdl",
        "colab": {
          "base_uri": "https://localhost:8080/"
        },
        "outputId": "422c73bc-f18b-49c1-d9a2-8551d389444f"
      },
      "source": [
        "# Download the dataset\n",
        "if not os.path.isfile('MNIST_synthetic.zip'):\n",
        "    ! gdown https://drive.google.com/uc?id=1LcKqf1d7bctw5lx0YZf31kCUF0zEYOsi\n",
        "    ! unzip MNIST_synthetic.zip\n",
        "    print('Downloaded and unzipped')\n",
        "else:\n",
        "    print('Already Downloaded!')"
      ],
      "execution_count": 4,
      "outputs": [
        {
          "output_type": "stream",
          "text": [
            "Downloading...\n",
            "From: https://drive.google.com/uc?id=1LcKqf1d7bctw5lx0YZf31kCUF0zEYOsi\n",
            "To: /content/MNIST_synthetic.zip\n",
            "15.9MB [00:00, 96.9MB/s]\n",
            "Archive:  MNIST_synthetic.zip\n",
            "  inflating: MNIST_synthetic.h5      \n",
            "Downloaded and unzipped\n"
          ],
          "name": "stdout"
        }
      ]
    },
    {
      "cell_type": "code",
      "metadata": {
        "colab": {
          "base_uri": "https://localhost:8080/"
        },
        "id": "UXUw-5ViEWdl",
        "outputId": "d0b6bee0-1322-4726-8209-bf18dfdb9271"
      },
      "source": [
        "train_split = 0.8\n",
        "torch.random.seed = 0\n",
        "\n",
        "f = h5py.File('MNIST_synthetic.h5', 'r')\n",
        "X_all = torch.tensor(f['train_dataset'][...]).permute(0, 3, 1, 2).contiguous()\n",
        "y_all = torch.tensor(f['train_labels'][...])\n",
        "randinds = torch.randperm(len(X_all))\n",
        "split_ind = int(train_split * len(X_all))\n",
        "\n",
        "X_train = X_all[randinds[:split_ind]]\n",
        "y_train = y_all[randinds[:split_ind]]\n",
        "X_val = X_all[randinds[split_ind:]]\n",
        "y_val = y_all[randinds[split_ind:]]\n",
        "X_test = torch.tensor(f['test_dataset'][...]).permute(0, 3, 1, 2).contiguous()\n",
        "\n",
        "print(f'X_train.shape: {X_train.shape}, dtype {X_train.dtype}')\n",
        "print(f'y_train.shape: {y_train.shape}, dtype {y_train.dtype}')\n",
        "print('---')\n",
        "print(f'X_val.shape: {X_val.shape}, dtype {X_val.dtype}')\n",
        "print(f'y_val.shape: {y_val.shape}, dtype {y_val.dtype}')\n",
        "print('---')\n",
        "print(f'X_test.shape: {X_test.shape}, dtype {X_test.dtype}')"
      ],
      "execution_count": 5,
      "outputs": [
        {
          "output_type": "stream",
          "text": [
            "X_train.shape: torch.Size([44800, 1, 64, 64]), dtype torch.uint8\n",
            "y_train.shape: torch.Size([44800, 5]), dtype torch.int32\n",
            "---\n",
            "X_val.shape: torch.Size([11200, 1, 64, 64]), dtype torch.uint8\n",
            "y_val.shape: torch.Size([11200, 5]), dtype torch.int32\n",
            "---\n",
            "X_test.shape: torch.Size([14000, 1, 64, 64]), dtype torch.uint8\n"
          ],
          "name": "stdout"
        }
      ]
    },
    {
      "cell_type": "markdown",
      "metadata": {
        "pycharm": {
          "name": "#%% md\n"
        },
        "id": "AyAaK2d4EWdm"
      },
      "source": [
        "## Preprocess Data\n"
      ]
    },
    {
      "cell_type": "code",
      "metadata": {
        "pycharm": {
          "name": "#%%\n"
        },
        "id": "kAbENzYAEWdm"
      },
      "source": [
        "def scale(tensor):\n",
        "    \"\"\"\n",
        "    [0, 255] -> [-1, 1]\n",
        "    \"\"\"\n",
        "    return (tensor.to(torch.float32) * 2 / 255) - 1\n",
        "\n",
        "def descale(tensor):\n",
        "    \"\"\"\n",
        "    [-1, 1] -> [0, 255]\n",
        "    \"\"\"\n",
        "    return ((tensor + 1) * 255 / 2).to(torch.uint8)\n",
        "\n",
        "def visualize_tensor(tensor):\n",
        "    \"\"\"\n",
        "    visualize a tensor. Must be in range [-1, 1] or [0, 255].\n",
        "    \"\"\"\n",
        "    if tensor.dtype == torch.float32:\n",
        "        tensor = descale(tensor)\n",
        "    array = tensor.squeeze().numpy()\n",
        "    plt.imshow(array, cmap='Greys_r')\n",
        "    plt.show()\n"
      ],
      "execution_count": 6,
      "outputs": []
    },
    {
      "cell_type": "code",
      "metadata": {
        "id": "0K8buaplEWdm",
        "colab": {
          "base_uri": "https://localhost:8080/"
        },
        "outputId": "ebcb5096-fb90-4f84-e820-3df663bd5af8"
      },
      "source": [
        "digit_size = 12  # 64 // 5\n",
        "crop_h_start = (64 // 2) - (digit_size // 2)\n",
        "crop_h_end = crop_h_start + digit_size +1  # +1 is safety margin\n",
        "crop_w_start = 2\n",
        "crop_w_end = -2\n",
        "\n",
        "def split_digits(tensor, num_digits, digit_size=digit_size):\n",
        "    \"\"\"\n",
        "    splits a single image of `num_digits` digits to multiple images\n",
        "    \"\"\"\n",
        "    start_index = (5 - num_digits) * digit_size // 2\n",
        "    end_index = start_index + (num_digits * digit_size)\n",
        "    tensor = tensor[..., start_index: end_index]\n",
        "    return torch.stack(torch.chunk(tensor, num_digits, dim=2))\n",
        "\n",
        "# remove padding and rescale\n",
        "X_train_processed = scale(X_train[..., crop_h_start: crop_h_end, crop_w_start: crop_w_end])\n",
        "y_train_processed = y_train.to(torch.int64)\n",
        "X_val_processed = scale(X_val[..., crop_h_start: crop_h_end, crop_w_start: crop_w_end])\n",
        "y_val_processed = y_val.to(torch.int64)\n",
        "X_test_processed = scale(X_test[..., crop_h_start: crop_h_end, crop_w_start: crop_w_end])\n",
        "\n",
        "X_train1 = X_train_processed\n",
        "y_train1 = (y_train_processed != 10).sum(axis=1) - 1\n",
        "X_val1 = X_val_processed\n",
        "y_val1 = (y_val_processed != 10).sum(axis=1) - 1\n",
        "\n",
        "print(f'X_train1.shape: {X_train1.shape}, dtype {X_train1.dtype}')\n",
        "print(f'y_train1.shape: {y_train1.shape}, dtype {y_train1.dtype}')\n",
        "print('---')\n",
        "print(f'X_val1.shape: {X_val1.shape}, dtype {X_val1.dtype}')\n",
        "print(f'y_val1.shape: {y_val1.shape}, dtype {y_val1.dtype}')"
      ],
      "execution_count": 7,
      "outputs": [
        {
          "output_type": "stream",
          "text": [
            "X_train1.shape: torch.Size([44800, 1, 13, 60]), dtype torch.float32\n",
            "y_train1.shape: torch.Size([44800]), dtype torch.int64\n",
            "---\n",
            "X_val1.shape: torch.Size([11200, 1, 13, 60]), dtype torch.float32\n",
            "y_val1.shape: torch.Size([11200]), dtype torch.int64\n"
          ],
          "name": "stdout"
        }
      ]
    },
    {
      "cell_type": "code",
      "metadata": {
        "colab": {
          "base_uri": "https://localhost:8080/"
        },
        "id": "Hfljs4rxwbK6",
        "outputId": "1b48c789-1b1b-46fa-be7a-02a4950bc541"
      },
      "source": [
        "X_train2 = []\n",
        "for i in range(len(X_train1)):\n",
        "    X_train2.append(split_digits(X_train1[i], y_train1[i] + 1))\n",
        "X_train2 = torch.cat(X_train2, 0)\n",
        "y_train2 = y_train[y_train != 10].to(torch.long)\n",
        "X_val2 = []\n",
        "for i in range(len(X_val1)):\n",
        "    X_val2.append(split_digits(X_val1[i], y_val1[i] + 1))\n",
        "X_val2 = torch.cat(X_val2, 0)\n",
        "y_val2 = y_val[y_val != 10].to(torch.long)\n",
        "\n",
        "print(f'X_train2.shape: {X_train2.shape}, dtype {X_train2.dtype}')\n",
        "print(f'y_train2.shape: {y_train2.shape}, dtype {y_train2.dtype}')\n",
        "print('---')\n",
        "print(f'X_val2.shape: {X_val2.shape}, dtype {X_val2.dtype}')\n",
        "print(f'y_val2.shape: {y_val2.shape}, dtype {y_val2.dtype}')"
      ],
      "execution_count": 8,
      "outputs": [
        {
          "output_type": "stream",
          "text": [
            "X_train2.shape: torch.Size([134333, 1, 13, 12]), dtype torch.float32\n",
            "y_train2.shape: torch.Size([134333]), dtype torch.int64\n",
            "---\n",
            "X_val2.shape: torch.Size([33553, 1, 13, 12]), dtype torch.float32\n",
            "y_val2.shape: torch.Size([33553]), dtype torch.int64\n"
          ],
          "name": "stdout"
        }
      ]
    },
    {
      "cell_type": "code",
      "metadata": {
        "colab": {
          "base_uri": "https://localhost:8080/",
          "height": 367
        },
        "id": "qrsyN4WeyHzG",
        "outputId": "da20abbc-7350-46dd-9402-1af3390b28e2"
      },
      "source": [
        "print(X_train2.shape)\n",
        "print(y_train2.shape)\n",
        "print('------\\n')\n",
        "print('Preprocessed X_train2')\n",
        "ind = np.random.choice(len(y_train2))\n",
        "print(f'Label: {y_train2[ind]}')\n",
        "visualize_tensor(X_train2[ind])"
      ],
      "execution_count": 9,
      "outputs": [
        {
          "output_type": "stream",
          "text": [
            "torch.Size([134333, 1, 13, 12])\n",
            "torch.Size([134333])\n",
            "------\n",
            "\n",
            "Preprocessed X_train2\n",
            "Label: 9\n"
          ],
          "name": "stdout"
        },
        {
          "output_type": "display_data",
          "data": {
            "image/png": "[encoded data removed]",
            "text/plain": [
              "<Figure size 432x288 with 1 Axes>"
            ]
          },
          "metadata": {
            "tags": [],
            "needs_background": "light"
          }
        }
      ]
    },
    {
      "cell_type": "code",
      "metadata": {
        "id": "ZrgTdzPREWdm",
        "colab": {
          "base_uri": "https://localhost:8080/",
          "height": 1000
        },
        "outputId": "e0d3821f-978a-4215-d90b-4331340fdaec"
      },
      "source": [
        "print('Raw X_train')\n",
        "visualize_tensor(X_train[102])\n",
        "print('------\\n')\n",
        "print('Preprocessed X_train1')\n",
        "ind = np.random.choice(len(y_train1))\n",
        "print(f'Label+1: {y_train1[ind] + 1}')\n",
        "visualize_tensor(X_train1[ind])\n",
        "print('Splitted')\n",
        "splitted_digits = split_digits(X_train1[ind], y_train1[ind] + 1)\n",
        "for digit in splitted_digits:\n",
        "    visualize_tensor(digit)\n",
        "print('Preprocessed X_val1')\n",
        "ind = np.random.choice(len(y_val1))\n",
        "print(f'Label+1: {y_val1[ind] + 1}')\n",
        "visualize_tensor(X_val1[ind])\n",
        "print('Splitted')\n",
        "splitted_digits = split_digits(X_val1[ind], y_val1[ind] + 1)\n",
        "for digit in splitted_digits:\n",
        "    visualize_tensor(digit)"
      ],
      "execution_count": 10,
      "outputs": [
        {
          "output_type": "stream",
          "text": [
            "Raw X_train\n"
          ],
          "name": "stdout"
        },
        {
          "output_type": "display_data",
          "data": {
            "image/png": "[encoded data removed]",
            "text/plain": [
              "<Figure size 432x288 with 1 Axes>"
            ]
          },
          "metadata": {
            "tags": [],
            "needs_background": "light"
          }
        },
        {
          "output_type": "stream",
          "text": [
            "------\n",
            "\n",
            "Preprocessed X_train1\n",
            "Label+1: 3\n"
          ],
          "name": "stdout"
        },
        {
          "output_type": "display_data",
          "data": {
            "image/png": "[encoded data removed]",
            "text/plain": [
              "<Figure size 432x288 with 1 Axes>"
            ]
          },
          "metadata": {
            "tags": [],
            "needs_background": "light"
          }
        },
        {
          "output_type": "stream",
          "text": [
            "Splitted\n"
          ],
          "name": "stdout"
        },
        {
          "output_type": "display_data",
          "data": {
            "image/png": "[encoded data removed]",
            "text/plain": [
              "<Figure size 432x288 with 1 Axes>"
            ]
          },
          "metadata": {
            "tags": [],
            "needs_background": "light"
          }
        },
        {
          "output_type": "display_data",
          "data": {
            "image/png": "[encoded data removed]",
            "text/plain": [
              "<Figure size 432x288 with 1 Axes>"
            ]
          },
          "metadata": {
            "tags": [],
            "needs_background": "light"
          }
        },
        {
          "output_type": "display_data",
          "data": {
            "image/png": "[encoded data removed]",
            "text/plain": [
              "<Figure size 432x288 with 1 Axes>"
            ]
          },
          "metadata": {
            "tags": [],
            "needs_background": "light"
          }
        },
        {
          "output_type": "stream",
          "text": [
            "Preprocessed X_val1\n",
            "Label+1: 4\n"
          ],
          "name": "stdout"
        },
        {
          "output_type": "display_data",
          "data": {
            "image/png": "[encoded data removed]",
            "text/plain": [
              "<Figure size 432x288 with 1 Axes>"
            ]
          },
          "metadata": {
            "tags": [],
            "needs_background": "light"
          }
        },
        {
          "output_type": "stream",
          "text": [
            "Splitted\n"
          ],
          "name": "stdout"
        },
        {
          "output_type": "display_data",
          "data": {
            "image/png": "[encoded data removed]",
            "text/plain": [
              "<Figure size 432x288 with 1 Axes>"
            ]
          },
          "metadata": {
            "tags": [],
            "needs_background": "light"
          }
        },
        {
          "output_type": "display_data",
          "data": {
            "image/png": "[encoded data removed]",
            "text/plain": [
              "<Figure size 432x288 with 1 Axes>"
            ]
          },
          "metadata": {
            "tags": [],
            "needs_background": "light"
          }
        },
        {
          "output_type": "display_data",
          "data": {
            "image/png": "[encoded data removed]",
            "text/plain": [
              "<Figure size 432x288 with 1 Axes>"
            ]
          },
          "metadata": {
            "tags": [],
            "needs_background": "light"
          }
        },
        {
          "output_type": "display_data",
          "data": {
            "image/png": "[encoded data removed]",
            "text/plain": [
              "<Figure size 432x288 with 1 Axes>"
            ]
          },
          "metadata": {
            "tags": [],
            "needs_background": "light"
          }
        }
      ]
    },
    {
      "cell_type": "markdown",
      "metadata": {
        "pycharm": {
          "name": "#%% md\n"
        },
        "id": "noSaJ75dEWdm"
      },
      "source": [
        "# Convolutional neural networks :\n"
      ]
    },
    {
      "cell_type": "code",
      "metadata": {
        "id": "1wft2vjE8b4r"
      },
      "source": [
        "device = torch.device(\"cuda\") if torch.cuda.is_available() else torch.device(\"cpu\")\n",
        "\n",
        "def train_model(model, train_loader, val_loader, iter_range=1000, device=device, print_freq=100):\n",
        "    model.train()\n",
        "    model.to(device)\n",
        "    running_loss = 0\n",
        "    num_samples = 0\n",
        "    num_correct = 0\n",
        "    train_iter = iter(train_loader)\n",
        "    for i in range(iter_range):\n",
        "        try:\n",
        "            inputs, labels = next(train_iter) \n",
        "        except StopIteration:\n",
        "            train_iter = iter(train_loader)\n",
        "            inputs, labels = next(train_iter) \n",
        "        inputs = inputs.to(device)\n",
        "        labels = labels.to(device)\n",
        "\n",
        "        # zero the parameter gradients\n",
        "        optimizer.zero_grad()\n",
        "\n",
        "        # forward + backward + optimize\n",
        "        outputs = model(inputs)\n",
        "        loss = criterion(outputs, labels)\n",
        "        loss.backward() # computing gradients wrt model's weights\n",
        "        optimizer.step() # update using learning rate\n",
        "\n",
        "        # statistics\n",
        "        running_loss += loss.item() * len(inputs)\n",
        "        num_correct += (outputs.argmax(-1) == labels).sum().float().item()\n",
        "        num_samples += len(inputs)\n",
        "        if i % print_freq == print_freq - 1:\n",
        "            model.eval()\n",
        "            val_running_loss = 0\n",
        "            val_correct = 0\n",
        "            num_val = 0\n",
        "            for inputs, labels in val_loader:\n",
        "                inputs = inputs.to(device)\n",
        "                labels = labels.to(device)\n",
        "                outputs = model(inputs)\n",
        "                loss = criterion(outputs, labels)\n",
        "                val_running_loss += loss.item() * len(inputs)\n",
        "                val_correct += (outputs.argmax(-1) == labels).sum().float()\n",
        "                num_val += len(inputs)\n",
        "            msg = f'iteration {i + 1}, train: loss {running_loss / num_samples:.4f}, '\n",
        "            msg += f'acc {num_correct / num_samples:.4f}; '\n",
        "            msg += f'val: loss {val_running_loss / num_val:.4f}, val acc {val_correct / num_val:.4f}'\n",
        "            print(msg)\n",
        "            running_loss = 0\n",
        "            num_correct = 0\n",
        "            num_samples = 0\n",
        "            model.train()\n",
        "        if i >= iter_range:\n",
        "            break\n",
        "    print('Done')"
      ],
      "execution_count": 11,
      "outputs": []
    },
    {
      "cell_type": "markdown",
      "metadata": {
        "id": "SCkhnJLS_eet"
      },
      "source": [
        "#Predict number of digits in each sample"
      ]
    },
    {
      "cell_type": "code",
      "metadata": {
        "id": "KSxk2hV2EWdm",
        "colab": {
          "base_uri": "https://localhost:8080/"
        },
        "outputId": "71e9e061-ba48-41e3-a602-57da0393320d"
      },
      "source": [
        "# STEP 1\n",
        "# Train a NN to predict num_digits in each sample.\n",
        "# This model should have accuracy very close to 100% (>99% on validation)\n",
        "\n",
        "mlp_size = [512, 128, 5]\n",
        "model1 = torch.nn.Sequential(\n",
        "    torch.nn.Conv2d(1, 64, kernel_size=3, padding=1),\n",
        "    torch.nn.BatchNorm2d(64),\n",
        "    torch.nn.ReLU(),\n",
        "    torch.nn.MaxPool2d(kernel_size=2, stride=2),\n",
        "    torch.nn.Conv2d(64, 64, kernel_size=3, padding=1),\n",
        "    torch.nn.BatchNorm2d(64),\n",
        "    torch.nn.ReLU(),\n",
        "    torch.nn.MaxPool2d(kernel_size=2, stride=2),\n",
        "    torch.nn.Conv2d(in_channels=64,\n",
        "                    out_channels=64,\n",
        "                    kernel_size=3,\n",
        "                    padding=0),\n",
        "    torch.nn.BatchNorm2d(64),\n",
        "    torch.nn.ReLU(),\n",
        "    torch.nn.Flatten(),\n",
        "    torch.nn.Linear(832, mlp_size[1]),\n",
        "    torch.nn.BatchNorm1d(mlp_size[1]),\n",
        "    torch.nn.ReLU(),\n",
        "    torch.nn.Linear(mlp_size[1], mlp_size[2]),\n",
        ")\n",
        "\n",
        "criterion = nn.CrossEntropyLoss()\n",
        "optimizer = optim.Adam(model1.parameters())  # converges faster and less sensitive to lr, generalizes (typiaclly) worse\n",
        "\n",
        "batch_size = 4\n",
        "train1_dataset = TensorDataset(X_train1, y_train1)\n",
        "val1_dataset = TensorDataset(X_val1, y_val1)\n",
        "train1_loader = torch.utils.data.DataLoader(train1_dataset, batch_size=batch_size)\n",
        "val1_loader = torch.utils.data.DataLoader(val1_dataset, batch_size=batch_size)\n",
        "train_model(model1, train1_loader, val1_loader)\n",
        "\n",
        "def predict_num_digits(tensor):\n",
        "    assert tensor.shape[-3:] == (1, 13, 60), \"incorrect tensor size\"\n",
        "    model1.eval()\n",
        "    if tensor.ndim == 3:\n",
        "        predictions = model1(tensor.unsqueeze(0).to(device)).argmax(-1).squeeze()\n",
        "    else:\n",
        "        predictions = model1(tensor.to(device)).argmax(-1)\n",
        "    model1.train()\n",
        "    return predictions + 1"
      ],
      "execution_count": 12,
      "outputs": [
        {
          "output_type": "stream",
          "text": [
            "iteration 100, train: loss 0.4526, acc 0.9075; val: loss 0.0526, val acc 0.9999\n",
            "iteration 200, train: loss 0.1881, acc 0.9650; val: loss 0.0109, val acc 1.0000\n",
            "iteration 300, train: loss 0.1109, acc 0.9925; val: loss 0.0067, val acc 1.0000\n",
            "iteration 400, train: loss 0.0896, acc 0.9875; val: loss 0.0059, val acc 1.0000\n",
            "iteration 500, train: loss 0.1077, acc 0.9775; val: loss 0.0047, val acc 1.0000\n",
            "iteration 600, train: loss 0.0573, acc 0.9950; val: loss 0.0026, val acc 1.0000\n",
            "iteration 700, train: loss 0.0790, acc 0.9825; val: loss 0.0040, val acc 1.0000\n",
            "iteration 800, train: loss 0.0704, acc 0.9850; val: loss 0.0020, val acc 1.0000\n",
            "iteration 900, train: loss 0.1940, acc 0.9500; val: loss 0.0022, val acc 1.0000\n",
            "iteration 1000, train: loss 0.0956, acc 0.9825; val: loss 0.0027, val acc 1.0000\n",
            "Done\n"
          ],
          "name": "stdout"
        }
      ]
    },
    {
      "cell_type": "code",
      "metadata": {
        "id": "VoZf00Nej1Ut",
        "colab": {
          "base_uri": "https://localhost:8080/",
          "height": 1000
        },
        "outputId": "1825f1e0-cd9a-4648-e608-56d21fe82f6e"
      },
      "source": [
        "print('Preprocessed X_test_processed')\n",
        "print(X_test_processed.shape)\n",
        "ind = np.random.choice(len(X_test_processed))\n",
        "visualize_tensor(X_test_processed[ind])\n",
        "print(predict_num_digits(X_test_processed[ind]))\n",
        "print('Splitted')\n",
        "model1.eval()\n",
        "splitted_digits = split_digits(X_test_processed[ind], predict_num_digits(X_test_processed[ind]))\n",
        "for digit in splitted_digits:\n",
        "    visualize_tensor(digit)"
      ],
      "execution_count": 13,
      "outputs": [
        {
          "output_type": "stream",
          "text": [
            "Preprocessed X_test_processed\n",
            "torch.Size([14000, 1, 13, 60])\n"
          ],
          "name": "stdout"
        },
        {
          "output_type": "display_data",
          "data": {
            "image/png": "[encoded data removed]",
            "text/plain": [
              "<Figure size 432x288 with 1 Axes>"
            ]
          },
          "metadata": {
            "tags": [],
            "needs_background": "light"
          }
        },
        {
          "output_type": "stream",
          "text": [
            "tensor(4, device='cuda:0')\n",
            "Splitted\n"
          ],
          "name": "stdout"
        },
        {
          "output_type": "display_data",
          "data": {
            "image/png": "[encoded data removed]",
            "text/plain": [
              "<Figure size 432x288 with 1 Axes>"
            ]
          },
          "metadata": {
            "tags": [],
            "needs_background": "light"
          }
        },
        {
          "output_type": "display_data",
          "data": {
            "image/png": "[encoded data removed]",
            "text/plain": [
              "<Figure size 432x288 with 1 Axes>"
            ]
          },
          "metadata": {
            "tags": [],
            "needs_background": "light"
          }
        },
        {
          "output_type": "display_data",
          "data": {
            "image/png": "[encoded data removed]",
            "text/plain": [
              "<Figure size 432x288 with 1 Axes>"
            ]
          },
          "metadata": {
            "tags": [],
            "needs_background": "light"
          }
        },
        {
          "output_type": "display_data",
          "data": {
            "image/png": "[encoded data removed]",
            "text/plain": [
              "<Figure size 432x288 with 1 Axes>"
            ]
          },
          "metadata": {
            "tags": [],
            "needs_background": "light"
          }
        }
      ]
    },
    {
      "cell_type": "markdown",
      "metadata": {
        "id": "IV8E-3P-_mMN"
      },
      "source": [
        "#Predit Digits"
      ]
    },
    {
      "cell_type": "code",
      "metadata": {
        "colab": {
          "base_uri": "https://localhost:8080/"
        },
        "id": "1Gf4IowLAu8-",
        "outputId": "ba2164e2-839f-47a0-a86f-32baa33517f5"
      },
      "source": [
        "# STEP 2\n",
        "# Train a NN to predict each 12x12 digit in digits_train_dataset\n",
        "mlp_size = [256, 256, 128, 128, 10]\n",
        "model2 = torch.nn.Sequential(\n",
        "    # torchvision.transforms.RandomAffine(degrees=10, translate=(0.1, 0.1), scale=(0.95, 1.05)),\n",
        "    torch.nn.Conv2d(1, 64, kernel_size=3, padding=1),\n",
        "    torch.nn.BatchNorm2d(64),\n",
        "    torch.nn.ReLU(),\n",
        "    torch.nn.Conv2d(64, 128, kernel_size=3, padding=1),\n",
        "    torch.nn.BatchNorm2d(128),\n",
        "    torch.nn.ReLU(),\n",
        "    torch.nn.MaxPool2d(kernel_size=2, stride=2),\n",
        "    torch.nn.Conv2d(128, 256, kernel_size=3, padding=1),\n",
        "    torch.nn.BatchNorm2d(256),\n",
        "    torch.nn.ReLU(),\n",
        "    torch.nn.Conv2d(256, 256, kernel_size=3, padding=1),\n",
        "    torch.nn.BatchNorm2d(256),\n",
        "    torch.nn.ReLU(),\n",
        "    torch.nn.MaxPool2d(kernel_size=2, stride=2),\n",
        "    torch.nn.Conv2d(in_channels=256,\n",
        "                    out_channels=256,\n",
        "                    kernel_size=3,\n",
        "                    padding=0),\n",
        "    torch.nn.ReLU(),\n",
        "    torch.nn.Flatten(),\n",
        "    torch.nn.Linear(256, mlp_size[1]),\n",
        "    torch.nn.BatchNorm1d(256),\n",
        "    torch.nn.ReLU(),\n",
        "    torch.nn.Linear(mlp_size[1], mlp_size[2]),\n",
        "    torch.nn.BatchNorm1d(mlp_size[2]),\n",
        "    torch.nn.ReLU(),\n",
        "    torch.nn.Linear(mlp_size[2], mlp_size[3]),\n",
        ")\n",
        "\n",
        "criterion = nn.CrossEntropyLoss()\n",
        "optimizer = optim.Adam(model2.parameters())  # converges faster and less sensitive to lr, generalizes (typiaclly) worse\n",
        "\n",
        "batch_size = 32\n",
        "train2_dataset = TensorDataset(X_train2, y_train2)\n",
        "val2_dataset = TensorDataset(X_val2, y_val2)\n",
        "train2_loader = torch.utils.data.DataLoader(train2_dataset, batch_size=batch_size)\n",
        "val2_loader = torch.utils.data.DataLoader(val2_dataset, batch_size=batch_size)\n",
        "train_model(model2, train2_loader, val2_loader, iter_range=100000, print_freq=5000)"
      ],
      "execution_count": 14,
      "outputs": [
        {
          "output_type": "stream",
          "text": [
            "iteration 5000, train: loss 0.0859, acc 0.9779; val: loss 0.0585, val acc 0.9806\n",
            "iteration 10000, train: loss 0.0293, acc 0.9909; val: loss 0.0235, val acc 0.9923\n",
            "iteration 15000, train: loss 0.0177, acc 0.9944; val: loss 0.0144, val acc 0.9955\n",
            "iteration 20000, train: loss 0.0113, acc 0.9962; val: loss 0.0118, val acc 0.9964\n",
            "iteration 25000, train: loss 0.0091, acc 0.9971; val: loss 0.0094, val acc 0.9971\n",
            "iteration 30000, train: loss 0.0064, acc 0.9979; val: loss 0.0090, val acc 0.9976\n",
            "iteration 35000, train: loss 0.0056, acc 0.9982; val: loss 0.0090, val acc 0.9977\n",
            "iteration 40000, train: loss 0.0047, acc 0.9985; val: loss 0.0068, val acc 0.9979\n",
            "iteration 45000, train: loss 0.0039, acc 0.9987; val: loss 0.0075, val acc 0.9983\n",
            "iteration 50000, train: loss 0.0040, acc 0.9987; val: loss 0.0077, val acc 0.9979\n",
            "iteration 55000, train: loss 0.0029, acc 0.9991; val: loss 0.0065, val acc 0.9985\n",
            "iteration 60000, train: loss 0.0031, acc 0.9991; val: loss 0.0118, val acc 0.9978\n",
            "iteration 65000, train: loss 0.0029, acc 0.9991; val: loss 0.0079, val acc 0.9982\n",
            "iteration 70000, train: loss 0.0027, acc 0.9993; val: loss 0.0057, val acc 0.9985\n",
            "iteration 75000, train: loss 0.0021, acc 0.9993; val: loss 0.0060, val acc 0.9985\n",
            "iteration 80000, train: loss 0.0023, acc 0.9993; val: loss 0.0091, val acc 0.9978\n",
            "iteration 85000, train: loss 0.0020, acc 0.9994; val: loss 0.0063, val acc 0.9988\n",
            "iteration 90000, train: loss 0.0020, acc 0.9994; val: loss 0.0088, val acc 0.9975\n",
            "iteration 95000, train: loss 0.0015, acc 0.9995; val: loss 0.0056, val acc 0.9990\n",
            "iteration 100000, train: loss 0.0019, acc 0.9994; val: loss 0.0049, val acc 0.9991\n",
            "Done\n"
          ],
          "name": "stdout"
        }
      ]
    },
    {
      "cell_type": "markdown",
      "metadata": {
        "id": "0qyeV87w_5fF"
      },
      "source": [
        "#Predict number of digits in test set"
      ]
    },
    {
      "cell_type": "code",
      "metadata": {
        "id": "N5SZRocX0Hz5"
      },
      "source": [
        "# STEP 3\n",
        "# Make num_digits prediction for X_test based on model in STEP1\n",
        "# use `split_digits()` function with predicted number of digits\n",
        "# make a prediction for each digit independently\n",
        "# concatenate the independent predictions from e.g. 2, 3 to correct format e.g. [2, 3, 10, 10, 10]\n",
        "\n",
        "def predict(data, device=device, write_to_csv=True):\n",
        "    model2.eval()\n",
        "    predictions = []\n",
        "    if torch.is_tensor(data):\n",
        "        tensor = data.to(device)\n",
        "        num_digits = predict_num_digits(tensor)\n",
        "        for tensor_i, num_digits_i in zip(tensor, num_digits):\n",
        "            X = split_digits(tensor_i, num_digits_i)\n",
        "            y = model2(X).argmax(1).tolist()\n",
        "            while len(y) != 5:\n",
        "                y.append(10)\n",
        "            predictions.append(np.asarray(y))\n",
        "    else:\n",
        "        num_correct = 0\n",
        "        num_val = 0\n",
        "        for i, (inputs, *_) in enumerate(data):\n",
        "            tensor = inputs.to(device)\n",
        "            num_digits = predict_num_digits(tensor)\n",
        "            for tensor_i, num_digits_i in zip(tensor, num_digits):\n",
        "                X = split_digits(tensor_i, num_digits_i)\n",
        "                y = model2(X).argmax(1).tolist()\n",
        "                while len(y) != 5:\n",
        "                    y.append(10)\n",
        "                predictions.append(np.asarray(y))\n",
        "\n",
        "    if write_to_csv:\n",
        "      # label stores our predictions\n",
        "      labels = []\n",
        "      for p in predictions:\n",
        "        temp_str = ''\n",
        "        for i in p:\n",
        "          temp_str += str(i)\n",
        "        labels.append(temp_str)\n",
        "      \n",
        "      # write to csv\n",
        "      df = pd.DataFrame(enumerate(labels), columns=['Id', 'Label'])\n",
        "      df['Label'] = df['Label'].astype('str')\n",
        "      #df['Label'] = df['Label'].apply('{}'.format)\n",
        "      #df['Label'] = df['Label'].apply(lambda x: '{0:0>15}'.format(x))\n",
        "      df.to_csv('predictions.csv', index=False)\n",
        "      files.download('predictions.csv')\n",
        "\n",
        "\n",
        "    return torch.tensor(predictions).cpu()"
      ],
      "execution_count": 98,
      "outputs": []
    },
    {
      "cell_type": "code",
      "metadata": {
        "id": "57bKVG9qDLi8",
        "colab": {
          "base_uri": "https://localhost:8080/"
        },
        "outputId": "39eebe81-0aa4-423f-beb5-040894a2a31b"
      },
      "source": [
        "print(f'label: \\n{y_train[:4].numpy()}')\n",
        "print()\n",
        "print(f'predict: \\n{predict(X_train1[:4], write_to_csv=False).numpy()}')"
      ],
      "execution_count": 99,
      "outputs": [
        {
          "output_type": "stream",
          "text": [
            "label: \n",
            "[[ 7  9 10 10 10]\n",
            " [ 5 10 10 10 10]\n",
            " [ 8  3  7  8 10]\n",
            " [ 1  9 10 10 10]]\n",
            "\n",
            "predict: \n",
            "[[ 7  9 10 10 10]\n",
            " [ 5 10 10 10 10]\n",
            " [ 8  3  7  8 10]\n",
            " [ 1  9 10 10 10]]\n"
          ],
          "name": "stdout"
        }
      ]
    },
    {
      "cell_type": "code",
      "metadata": {
        "id": "M5IwRM53QS-9",
        "colab": {
          "base_uri": "https://localhost:8080/"
        },
        "outputId": "00beffdd-607d-4c9a-f4fd-b68accc4d271"
      },
      "source": [
        "def accuracy(pred, gt):\n",
        "    return torch.mean((pred == gt).sum(1).eq(5).float()).item()\n",
        "train_acc = accuracy(predict(train1_loader, write_to_csv=False), y_train)\n",
        "val_acc = accuracy(predict(val1_loader, write_to_csv=False), y_val)\n",
        "print(f'final accuracy: train {train_acc}, val {val_acc}')"
      ],
      "execution_count": 100,
      "outputs": [
        {
          "output_type": "stream",
          "text": [
            "final accuracy: train 0.9997321367263794, val 0.9973214268684387\n"
          ],
          "name": "stdout"
        }
      ]
    },
    {
      "cell_type": "markdown",
      "metadata": {
        "id": "WYYwxMm2AD68"
      },
      "source": [
        "#Convert Prediction into Kaggle format"
      ]
    },
    {
      "cell_type": "code",
      "metadata": {
        "id": "Fm7BCUfLWLMf",
        "colab": {
          "base_uri": "https://localhost:8080/",
          "height": 136
        },
        "outputId": "fc639fe0-7fc0-40f1-b130-14e3d612941a"
      },
      "source": [
        "predict(X_test_processed)"
      ],
      "execution_count": 101,
      "outputs": [
        {
          "output_type": "display_data",
          "data": {
            "application/javascript": [
              "\n",
              "    async function download(id, filename, size) {\n",
              "      if (!google.colab.kernel.accessAllowed) {\n",
              "        return;\n",
              "      }\n",
              "      const div = document.createElement('div');\n",
              "      const label = document.createElement('label');\n",
              "      label.textContent = `Downloading \"${filename}\": `;\n",
              "      div.appendChild(label);\n",
              "      const progress = document.createElement('progress');\n",
              "      progress.max = size;\n",
              "      div.appendChild(progress);\n",
              "      document.body.appendChild(div);\n",
              "\n",
              "      const buffers = [];\n",
              "      let downloaded = 0;\n",
              "\n",
              "      const channel = await google.colab.kernel.comms.open(id);\n",
              "      // Send a message to notify the kernel that we're ready.\n",
              "      channel.send({})\n",
              "\n",
              "      for await (const message of channel.messages) {\n",
              "        // Send a message to notify the kernel that we're ready.\n",
              "        channel.send({})\n",
              "        if (message.buffers) {\n",
              "          for (const buffer of message.buffers) {\n",
              "            buffers.push(buffer);\n",
              "            downloaded += buffer.byteLength;\n",
              "            progress.value = downloaded;\n",
              "          }\n",
              "        }\n",
              "      }\n",
              "      const blob = new Blob(buffers, {type: 'application/binary'});\n",
              "      const a = document.createElement('a');\n",
              "      a.href = window.URL.createObjectURL(blob);\n",
              "      a.download = filename;\n",
              "      div.appendChild(a);\n",
              "      a.click();\n",
              "      div.remove();\n",
              "    }\n",
              "  "
            ],
            "text/plain": [
              "<IPython.core.display.Javascript object>"
            ]
          },
          "metadata": {
            "tags": []
          }
        },
        {
          "output_type": "display_data",
          "data": {
            "application/javascript": [
              "download(\"download_f1009e3a-08e7-4e75-914d-65c13ba8ebab\", \"predictions.csv\", 184785)"
            ],
            "text/plain": [
              "<IPython.core.display.Javascript object>"
            ]
          },
          "metadata": {
            "tags": []
          }
        },
        {
          "output_type": "execute_result",
          "data": {
            "text/plain": [
              "tensor([[ 9, 10, 10, 10, 10],\n",
              "        [ 0,  1,  7,  3, 10],\n",
              "        [ 1,  4,  0,  8,  3],\n",
              "        ...,\n",
              "        [ 3, 10, 10, 10, 10],\n",
              "        [ 4,  1,  9,  7, 10],\n",
              "        [ 5,  8,  3,  0,  9]])"
            ]
          },
          "metadata": {
            "tags": []
          },
          "execution_count": 101
        }
      ]
    },
    {
      "cell_type": "code",
      "metadata": {
        "id": "fnbBIqJuWLZN"
      },
      "source": [
        ""
      ],
      "execution_count": 101,
      "outputs": []
    },
    {
      "cell_type": "code",
      "metadata": {
        "id": "W1EsGc0tWLiV"
      },
      "source": [
        ""
      ],
      "execution_count": 101,
      "outputs": []
    }
  ]
}